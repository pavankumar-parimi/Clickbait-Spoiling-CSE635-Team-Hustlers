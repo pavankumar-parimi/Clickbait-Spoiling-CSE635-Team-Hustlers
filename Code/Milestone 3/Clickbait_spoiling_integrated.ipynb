{
  "nbformat": 4,
  "nbformat_minor": 0,
  "metadata": {
    "colab": {
      "provenance": [],
      "collapsed_sections": [
        "Y3qI4jojTzHp",
        "rBdcIOvcS3B0",
        "ErKdNx-_Zeck",
        "qNj0k11lS6IP",
        "naphO68uTCQC",
        "wUZzyTeAgd00",
        "-_VTFFPb67kA",
        "CgLA4uAT-w60",
        "iPo4mGbfTWl2",
        "g_CepvWhbUYt"
      ],
      "machine_shape": "hm",
      "gpuType": "A100"
    },
    "kernelspec": {
      "name": "python3",
      "display_name": "Python 3"
    },
    "language_info": {
      "name": "python"
    },
    "accelerator": "GPU",
    "gpuClass": "standard",
    "widgets": {
      "application/vnd.jupyter.widget-state+json": {
        "80273e79ff5c4d5f80bdbbe0ad23a262": {
          "model_module": "@jupyter-widgets/controls",
          "model_name": "HBoxModel",
          "model_module_version": "1.5.0",
          "state": {
            "_dom_classes": [],
            "_model_module": "@jupyter-widgets/controls",
            "_model_module_version": "1.5.0",
            "_model_name": "HBoxModel",
            "_view_count": null,
            "_view_module": "@jupyter-widgets/controls",
            "_view_module_version": "1.5.0",
            "_view_name": "HBoxView",
            "box_style": "",
            "children": [
              "IPY_MODEL_8e30125d8ee34d09928a08f7cec76668",
              "IPY_MODEL_74ba4786189b401ea57f94ec96177cb3",
              "IPY_MODEL_12bc47d4a48d4013a128ce50a2ff7165"
            ],
            "layout": "IPY_MODEL_e850b17734b143f4b3e8f549edb08ab2"
          }
        },
        "8e30125d8ee34d09928a08f7cec76668": {
          "model_module": "@jupyter-widgets/controls",
          "model_name": "HTMLModel",
          "model_module_version": "1.5.0",
          "state": {
            "_dom_classes": [],
            "_model_module": "@jupyter-widgets/controls",
            "_model_module_version": "1.5.0",
            "_model_name": "HTMLModel",
            "_view_count": null,
            "_view_module": "@jupyter-widgets/controls",
            "_view_module_version": "1.5.0",
            "_view_name": "HTMLView",
            "description": "",
            "description_tooltip": null,
            "layout": "IPY_MODEL_a82bd614c6694e64bf590cd08974557d",
            "placeholder": "​",
            "style": "IPY_MODEL_e65a14302e2d45f293074a03ec0cdf4f",
            "value": "Downloading (…)olve/main/vocab.json: 100%"
          }
        },
        "74ba4786189b401ea57f94ec96177cb3": {
          "model_module": "@jupyter-widgets/controls",
          "model_name": "FloatProgressModel",
          "model_module_version": "1.5.0",
          "state": {
            "_dom_classes": [],
            "_model_module": "@jupyter-widgets/controls",
            "_model_module_version": "1.5.0",
            "_model_name": "FloatProgressModel",
            "_view_count": null,
            "_view_module": "@jupyter-widgets/controls",
            "_view_module_version": "1.5.0",
            "_view_name": "ProgressView",
            "bar_style": "success",
            "description": "",
            "description_tooltip": null,
            "layout": "IPY_MODEL_94fb5f344a654c5bab5cefd1456f62d9",
            "max": 898823,
            "min": 0,
            "orientation": "horizontal",
            "style": "IPY_MODEL_2296478ba35a4074a971bbe50c35d667",
            "value": 898823
          }
        },
        "12bc47d4a48d4013a128ce50a2ff7165": {
          "model_module": "@jupyter-widgets/controls",
          "model_name": "HTMLModel",
          "model_module_version": "1.5.0",
          "state": {
            "_dom_classes": [],
            "_model_module": "@jupyter-widgets/controls",
            "_model_module_version": "1.5.0",
            "_model_name": "HTMLModel",
            "_view_count": null,
            "_view_module": "@jupyter-widgets/controls",
            "_view_module_version": "1.5.0",
            "_view_name": "HTMLView",
            "description": "",
            "description_tooltip": null,
            "layout": "IPY_MODEL_711c37bc346f4e14bbd7b7bb8d865629",
            "placeholder": "​",
            "style": "IPY_MODEL_91139b6596094a5dac8352d2b7416902",
            "value": " 899k/899k [00:00&lt;00:00, 4.62MB/s]"
          }
        },
        "e850b17734b143f4b3e8f549edb08ab2": {
          "model_module": "@jupyter-widgets/base",
          "model_name": "LayoutModel",
          "model_module_version": "1.2.0",
          "state": {
            "_model_module": "@jupyter-widgets/base",
            "_model_module_version": "1.2.0",
            "_model_name": "LayoutModel",
            "_view_count": null,
            "_view_module": "@jupyter-widgets/base",
            "_view_module_version": "1.2.0",
            "_view_name": "LayoutView",
            "align_content": null,
            "align_items": null,
            "align_self": null,
            "border": null,
            "bottom": null,
            "display": null,
            "flex": null,
            "flex_flow": null,
            "grid_area": null,
            "grid_auto_columns": null,
            "grid_auto_flow": null,
            "grid_auto_rows": null,
            "grid_column": null,
            "grid_gap": null,
            "grid_row": null,
            "grid_template_areas": null,
            "grid_template_columns": null,
            "grid_template_rows": null,
            "height": null,
            "justify_content": null,
            "justify_items": null,
            "left": null,
            "margin": null,
            "max_height": null,
            "max_width": null,
            "min_height": null,
            "min_width": null,
            "object_fit": null,
            "object_position": null,
            "order": null,
            "overflow": null,
            "overflow_x": null,
            "overflow_y": null,
            "padding": null,
            "right": null,
            "top": null,
            "visibility": null,
            "width": null
          }
        },
        "a82bd614c6694e64bf590cd08974557d": {
          "model_module": "@jupyter-widgets/base",
          "model_name": "LayoutModel",
          "model_module_version": "1.2.0",
          "state": {
            "_model_module": "@jupyter-widgets/base",
            "_model_module_version": "1.2.0",
            "_model_name": "LayoutModel",
            "_view_count": null,
            "_view_module": "@jupyter-widgets/base",
            "_view_module_version": "1.2.0",
            "_view_name": "LayoutView",
            "align_content": null,
            "align_items": null,
            "align_self": null,
            "border": null,
            "bottom": null,
            "display": null,
            "flex": null,
            "flex_flow": null,
            "grid_area": null,
            "grid_auto_columns": null,
            "grid_auto_flow": null,
            "grid_auto_rows": null,
            "grid_column": null,
            "grid_gap": null,
            "grid_row": null,
            "grid_template_areas": null,
            "grid_template_columns": null,
            "grid_template_rows": null,
            "height": null,
            "justify_content": null,
            "justify_items": null,
            "left": null,
            "margin": null,
            "max_height": null,
            "max_width": null,
            "min_height": null,
            "min_width": null,
            "object_fit": null,
            "object_position": null,
            "order": null,
            "overflow": null,
            "overflow_x": null,
            "overflow_y": null,
            "padding": null,
            "right": null,
            "top": null,
            "visibility": null,
            "width": null
          }
        },
        "e65a14302e2d45f293074a03ec0cdf4f": {
          "model_module": "@jupyter-widgets/controls",
          "model_name": "DescriptionStyleModel",
          "model_module_version": "1.5.0",
          "state": {
            "_model_module": "@jupyter-widgets/controls",
            "_model_module_version": "1.5.0",
            "_model_name": "DescriptionStyleModel",
            "_view_count": null,
            "_view_module": "@jupyter-widgets/base",
            "_view_module_version": "1.2.0",
            "_view_name": "StyleView",
            "description_width": ""
          }
        },
        "94fb5f344a654c5bab5cefd1456f62d9": {
          "model_module": "@jupyter-widgets/base",
          "model_name": "LayoutModel",
          "model_module_version": "1.2.0",
          "state": {
            "_model_module": "@jupyter-widgets/base",
            "_model_module_version": "1.2.0",
            "_model_name": "LayoutModel",
            "_view_count": null,
            "_view_module": "@jupyter-widgets/base",
            "_view_module_version": "1.2.0",
            "_view_name": "LayoutView",
            "align_content": null,
            "align_items": null,
            "align_self": null,
            "border": null,
            "bottom": null,
            "display": null,
            "flex": null,
            "flex_flow": null,
            "grid_area": null,
            "grid_auto_columns": null,
            "grid_auto_flow": null,
            "grid_auto_rows": null,
            "grid_column": null,
            "grid_gap": null,
            "grid_row": null,
            "grid_template_areas": null,
            "grid_template_columns": null,
            "grid_template_rows": null,
            "height": null,
            "justify_content": null,
            "justify_items": null,
            "left": null,
            "margin": null,
            "max_height": null,
            "max_width": null,
            "min_height": null,
            "min_width": null,
            "object_fit": null,
            "object_position": null,
            "order": null,
            "overflow": null,
            "overflow_x": null,
            "overflow_y": null,
            "padding": null,
            "right": null,
            "top": null,
            "visibility": null,
            "width": null
          }
        },
        "2296478ba35a4074a971bbe50c35d667": {
          "model_module": "@jupyter-widgets/controls",
          "model_name": "ProgressStyleModel",
          "model_module_version": "1.5.0",
          "state": {
            "_model_module": "@jupyter-widgets/controls",
            "_model_module_version": "1.5.0",
            "_model_name": "ProgressStyleModel",
            "_view_count": null,
            "_view_module": "@jupyter-widgets/base",
            "_view_module_version": "1.2.0",
            "_view_name": "StyleView",
            "bar_color": null,
            "description_width": ""
          }
        },
        "711c37bc346f4e14bbd7b7bb8d865629": {
          "model_module": "@jupyter-widgets/base",
          "model_name": "LayoutModel",
          "model_module_version": "1.2.0",
          "state": {
            "_model_module": "@jupyter-widgets/base",
            "_model_module_version": "1.2.0",
            "_model_name": "LayoutModel",
            "_view_count": null,
            "_view_module": "@jupyter-widgets/base",
            "_view_module_version": "1.2.0",
            "_view_name": "LayoutView",
            "align_content": null,
            "align_items": null,
            "align_self": null,
            "border": null,
            "bottom": null,
            "display": null,
            "flex": null,
            "flex_flow": null,
            "grid_area": null,
            "grid_auto_columns": null,
            "grid_auto_flow": null,
            "grid_auto_rows": null,
            "grid_column": null,
            "grid_gap": null,
            "grid_row": null,
            "grid_template_areas": null,
            "grid_template_columns": null,
            "grid_template_rows": null,
            "height": null,
            "justify_content": null,
            "justify_items": null,
            "left": null,
            "margin": null,
            "max_height": null,
            "max_width": null,
            "min_height": null,
            "min_width": null,
            "object_fit": null,
            "object_position": null,
            "order": null,
            "overflow": null,
            "overflow_x": null,
            "overflow_y": null,
            "padding": null,
            "right": null,
            "top": null,
            "visibility": null,
            "width": null
          }
        },
        "91139b6596094a5dac8352d2b7416902": {
          "model_module": "@jupyter-widgets/controls",
          "model_name": "DescriptionStyleModel",
          "model_module_version": "1.5.0",
          "state": {
            "_model_module": "@jupyter-widgets/controls",
            "_model_module_version": "1.5.0",
            "_model_name": "DescriptionStyleModel",
            "_view_count": null,
            "_view_module": "@jupyter-widgets/base",
            "_view_module_version": "1.2.0",
            "_view_name": "StyleView",
            "description_width": ""
          }
        },
        "e8c180efae0a4e5caa137ea6ecd33345": {
          "model_module": "@jupyter-widgets/controls",
          "model_name": "HBoxModel",
          "model_module_version": "1.5.0",
          "state": {
            "_dom_classes": [],
            "_model_module": "@jupyter-widgets/controls",
            "_model_module_version": "1.5.0",
            "_model_name": "HBoxModel",
            "_view_count": null,
            "_view_module": "@jupyter-widgets/controls",
            "_view_module_version": "1.5.0",
            "_view_name": "HBoxView",
            "box_style": "",
            "children": [
              "IPY_MODEL_b8541b3a63bf4e8f9ee3e8b7476786e9",
              "IPY_MODEL_7f0b0e988a774071a019f0332f488bda",
              "IPY_MODEL_20b1ae7d3b584fc889c1cece9369952e"
            ],
            "layout": "IPY_MODEL_dff4a2b7a55d43d9aa39838c1f309303"
          }
        },
        "b8541b3a63bf4e8f9ee3e8b7476786e9": {
          "model_module": "@jupyter-widgets/controls",
          "model_name": "HTMLModel",
          "model_module_version": "1.5.0",
          "state": {
            "_dom_classes": [],
            "_model_module": "@jupyter-widgets/controls",
            "_model_module_version": "1.5.0",
            "_model_name": "HTMLModel",
            "_view_count": null,
            "_view_module": "@jupyter-widgets/controls",
            "_view_module_version": "1.5.0",
            "_view_name": "HTMLView",
            "description": "",
            "description_tooltip": null,
            "layout": "IPY_MODEL_83d44a89c41b4008a6189c4b29dd1ab4",
            "placeholder": "​",
            "style": "IPY_MODEL_93498caa7bcc4981885cd8eae74d1ce9",
            "value": "Downloading (…)olve/main/merges.txt: 100%"
          }
        },
        "7f0b0e988a774071a019f0332f488bda": {
          "model_module": "@jupyter-widgets/controls",
          "model_name": "FloatProgressModel",
          "model_module_version": "1.5.0",
          "state": {
            "_dom_classes": [],
            "_model_module": "@jupyter-widgets/controls",
            "_model_module_version": "1.5.0",
            "_model_name": "FloatProgressModel",
            "_view_count": null,
            "_view_module": "@jupyter-widgets/controls",
            "_view_module_version": "1.5.0",
            "_view_name": "ProgressView",
            "bar_style": "success",
            "description": "",
            "description_tooltip": null,
            "layout": "IPY_MODEL_2920b5a041514822b2eaa92bcabc0e3c",
            "max": 456318,
            "min": 0,
            "orientation": "horizontal",
            "style": "IPY_MODEL_28efa9d2daaa4e889808896e377fa23a",
            "value": 456318
          }
        },
        "20b1ae7d3b584fc889c1cece9369952e": {
          "model_module": "@jupyter-widgets/controls",
          "model_name": "HTMLModel",
          "model_module_version": "1.5.0",
          "state": {
            "_dom_classes": [],
            "_model_module": "@jupyter-widgets/controls",
            "_model_module_version": "1.5.0",
            "_model_name": "HTMLModel",
            "_view_count": null,
            "_view_module": "@jupyter-widgets/controls",
            "_view_module_version": "1.5.0",
            "_view_name": "HTMLView",
            "description": "",
            "description_tooltip": null,
            "layout": "IPY_MODEL_fa08f80bf6cb452ab853bbc7b4fba643",
            "placeholder": "​",
            "style": "IPY_MODEL_0c4acf5a2d1a4efa8599ef34367d9730",
            "value": " 456k/456k [00:00&lt;00:00, 3.51MB/s]"
          }
        },
        "dff4a2b7a55d43d9aa39838c1f309303": {
          "model_module": "@jupyter-widgets/base",
          "model_name": "LayoutModel",
          "model_module_version": "1.2.0",
          "state": {
            "_model_module": "@jupyter-widgets/base",
            "_model_module_version": "1.2.0",
            "_model_name": "LayoutModel",
            "_view_count": null,
            "_view_module": "@jupyter-widgets/base",
            "_view_module_version": "1.2.0",
            "_view_name": "LayoutView",
            "align_content": null,
            "align_items": null,
            "align_self": null,
            "border": null,
            "bottom": null,
            "display": null,
            "flex": null,
            "flex_flow": null,
            "grid_area": null,
            "grid_auto_columns": null,
            "grid_auto_flow": null,
            "grid_auto_rows": null,
            "grid_column": null,
            "grid_gap": null,
            "grid_row": null,
            "grid_template_areas": null,
            "grid_template_columns": null,
            "grid_template_rows": null,
            "height": null,
            "justify_content": null,
            "justify_items": null,
            "left": null,
            "margin": null,
            "max_height": null,
            "max_width": null,
            "min_height": null,
            "min_width": null,
            "object_fit": null,
            "object_position": null,
            "order": null,
            "overflow": null,
            "overflow_x": null,
            "overflow_y": null,
            "padding": null,
            "right": null,
            "top": null,
            "visibility": null,
            "width": null
          }
        },
        "83d44a89c41b4008a6189c4b29dd1ab4": {
          "model_module": "@jupyter-widgets/base",
          "model_name": "LayoutModel",
          "model_module_version": "1.2.0",
          "state": {
            "_model_module": "@jupyter-widgets/base",
            "_model_module_version": "1.2.0",
            "_model_name": "LayoutModel",
            "_view_count": null,
            "_view_module": "@jupyter-widgets/base",
            "_view_module_version": "1.2.0",
            "_view_name": "LayoutView",
            "align_content": null,
            "align_items": null,
            "align_self": null,
            "border": null,
            "bottom": null,
            "display": null,
            "flex": null,
            "flex_flow": null,
            "grid_area": null,
            "grid_auto_columns": null,
            "grid_auto_flow": null,
            "grid_auto_rows": null,
            "grid_column": null,
            "grid_gap": null,
            "grid_row": null,
            "grid_template_areas": null,
            "grid_template_columns": null,
            "grid_template_rows": null,
            "height": null,
            "justify_content": null,
            "justify_items": null,
            "left": null,
            "margin": null,
            "max_height": null,
            "max_width": null,
            "min_height": null,
            "min_width": null,
            "object_fit": null,
            "object_position": null,
            "order": null,
            "overflow": null,
            "overflow_x": null,
            "overflow_y": null,
            "padding": null,
            "right": null,
            "top": null,
            "visibility": null,
            "width": null
          }
        },
        "93498caa7bcc4981885cd8eae74d1ce9": {
          "model_module": "@jupyter-widgets/controls",
          "model_name": "DescriptionStyleModel",
          "model_module_version": "1.5.0",
          "state": {
            "_model_module": "@jupyter-widgets/controls",
            "_model_module_version": "1.5.0",
            "_model_name": "DescriptionStyleModel",
            "_view_count": null,
            "_view_module": "@jupyter-widgets/base",
            "_view_module_version": "1.2.0",
            "_view_name": "StyleView",
            "description_width": ""
          }
        },
        "2920b5a041514822b2eaa92bcabc0e3c": {
          "model_module": "@jupyter-widgets/base",
          "model_name": "LayoutModel",
          "model_module_version": "1.2.0",
          "state": {
            "_model_module": "@jupyter-widgets/base",
            "_model_module_version": "1.2.0",
            "_model_name": "LayoutModel",
            "_view_count": null,
            "_view_module": "@jupyter-widgets/base",
            "_view_module_version": "1.2.0",
            "_view_name": "LayoutView",
            "align_content": null,
            "align_items": null,
            "align_self": null,
            "border": null,
            "bottom": null,
            "display": null,
            "flex": null,
            "flex_flow": null,
            "grid_area": null,
            "grid_auto_columns": null,
            "grid_auto_flow": null,
            "grid_auto_rows": null,
            "grid_column": null,
            "grid_gap": null,
            "grid_row": null,
            "grid_template_areas": null,
            "grid_template_columns": null,
            "grid_template_rows": null,
            "height": null,
            "justify_content": null,
            "justify_items": null,
            "left": null,
            "margin": null,
            "max_height": null,
            "max_width": null,
            "min_height": null,
            "min_width": null,
            "object_fit": null,
            "object_position": null,
            "order": null,
            "overflow": null,
            "overflow_x": null,
            "overflow_y": null,
            "padding": null,
            "right": null,
            "top": null,
            "visibility": null,
            "width": null
          }
        },
        "28efa9d2daaa4e889808896e377fa23a": {
          "model_module": "@jupyter-widgets/controls",
          "model_name": "ProgressStyleModel",
          "model_module_version": "1.5.0",
          "state": {
            "_model_module": "@jupyter-widgets/controls",
            "_model_module_version": "1.5.0",
            "_model_name": "ProgressStyleModel",
            "_view_count": null,
            "_view_module": "@jupyter-widgets/base",
            "_view_module_version": "1.2.0",
            "_view_name": "StyleView",
            "bar_color": null,
            "description_width": ""
          }
        },
        "fa08f80bf6cb452ab853bbc7b4fba643": {
          "model_module": "@jupyter-widgets/base",
          "model_name": "LayoutModel",
          "model_module_version": "1.2.0",
          "state": {
            "_model_module": "@jupyter-widgets/base",
            "_model_module_version": "1.2.0",
            "_model_name": "LayoutModel",
            "_view_count": null,
            "_view_module": "@jupyter-widgets/base",
            "_view_module_version": "1.2.0",
            "_view_name": "LayoutView",
            "align_content": null,
            "align_items": null,
            "align_self": null,
            "border": null,
            "bottom": null,
            "display": null,
            "flex": null,
            "flex_flow": null,
            "grid_area": null,
            "grid_auto_columns": null,
            "grid_auto_flow": null,
            "grid_auto_rows": null,
            "grid_column": null,
            "grid_gap": null,
            "grid_row": null,
            "grid_template_areas": null,
            "grid_template_columns": null,
            "grid_template_rows": null,
            "height": null,
            "justify_content": null,
            "justify_items": null,
            "left": null,
            "margin": null,
            "max_height": null,
            "max_width": null,
            "min_height": null,
            "min_width": null,
            "object_fit": null,
            "object_position": null,
            "order": null,
            "overflow": null,
            "overflow_x": null,
            "overflow_y": null,
            "padding": null,
            "right": null,
            "top": null,
            "visibility": null,
            "width": null
          }
        },
        "0c4acf5a2d1a4efa8599ef34367d9730": {
          "model_module": "@jupyter-widgets/controls",
          "model_name": "DescriptionStyleModel",
          "model_module_version": "1.5.0",
          "state": {
            "_model_module": "@jupyter-widgets/controls",
            "_model_module_version": "1.5.0",
            "_model_name": "DescriptionStyleModel",
            "_view_count": null,
            "_view_module": "@jupyter-widgets/base",
            "_view_module_version": "1.2.0",
            "_view_name": "StyleView",
            "description_width": ""
          }
        },
        "3ba499c3bc0946dfb915a6a4f3470def": {
          "model_module": "@jupyter-widgets/controls",
          "model_name": "HBoxModel",
          "model_module_version": "1.5.0",
          "state": {
            "_dom_classes": [],
            "_model_module": "@jupyter-widgets/controls",
            "_model_module_version": "1.5.0",
            "_model_name": "HBoxModel",
            "_view_count": null,
            "_view_module": "@jupyter-widgets/controls",
            "_view_module_version": "1.5.0",
            "_view_name": "HBoxView",
            "box_style": "",
            "children": [
              "IPY_MODEL_35b324ef4f2c41569412ef4d26e3a66c",
              "IPY_MODEL_9f8a288770654d68878293ddfb1ba799",
              "IPY_MODEL_43c8e21f16f546b2b3272873dc622766"
            ],
            "layout": "IPY_MODEL_2998fa7df723425c8f98aa66e9828a24"
          }
        },
        "35b324ef4f2c41569412ef4d26e3a66c": {
          "model_module": "@jupyter-widgets/controls",
          "model_name": "HTMLModel",
          "model_module_version": "1.5.0",
          "state": {
            "_dom_classes": [],
            "_model_module": "@jupyter-widgets/controls",
            "_model_module_version": "1.5.0",
            "_model_name": "HTMLModel",
            "_view_count": null,
            "_view_module": "@jupyter-widgets/controls",
            "_view_module_version": "1.5.0",
            "_view_name": "HTMLView",
            "description": "",
            "description_tooltip": null,
            "layout": "IPY_MODEL_56926e1578e545d9982c9147a0091aeb",
            "placeholder": "​",
            "style": "IPY_MODEL_5d99c73ffda64e7a8978c7c2b8eff4ce",
            "value": "Downloading (…)lve/main/config.json: 100%"
          }
        },
        "9f8a288770654d68878293ddfb1ba799": {
          "model_module": "@jupyter-widgets/controls",
          "model_name": "FloatProgressModel",
          "model_module_version": "1.5.0",
          "state": {
            "_dom_classes": [],
            "_model_module": "@jupyter-widgets/controls",
            "_model_module_version": "1.5.0",
            "_model_name": "FloatProgressModel",
            "_view_count": null,
            "_view_module": "@jupyter-widgets/controls",
            "_view_module_version": "1.5.0",
            "_view_name": "ProgressView",
            "bar_style": "success",
            "description": "",
            "description_tooltip": null,
            "layout": "IPY_MODEL_1b9aefb3433e47cabc79128b53966ce9",
            "max": 481,
            "min": 0,
            "orientation": "horizontal",
            "style": "IPY_MODEL_6a0a860ac13d4f81a4594df05ad91774",
            "value": 481
          }
        },
        "43c8e21f16f546b2b3272873dc622766": {
          "model_module": "@jupyter-widgets/controls",
          "model_name": "HTMLModel",
          "model_module_version": "1.5.0",
          "state": {
            "_dom_classes": [],
            "_model_module": "@jupyter-widgets/controls",
            "_model_module_version": "1.5.0",
            "_model_name": "HTMLModel",
            "_view_count": null,
            "_view_module": "@jupyter-widgets/controls",
            "_view_module_version": "1.5.0",
            "_view_name": "HTMLView",
            "description": "",
            "description_tooltip": null,
            "layout": "IPY_MODEL_a0a0fb24a20f458db4d80bcb8079c366",
            "placeholder": "​",
            "style": "IPY_MODEL_0fda4c557aed44b49e527e38fdf85d32",
            "value": " 481/481 [00:00&lt;00:00, 44.0kB/s]"
          }
        },
        "2998fa7df723425c8f98aa66e9828a24": {
          "model_module": "@jupyter-widgets/base",
          "model_name": "LayoutModel",
          "model_module_version": "1.2.0",
          "state": {
            "_model_module": "@jupyter-widgets/base",
            "_model_module_version": "1.2.0",
            "_model_name": "LayoutModel",
            "_view_count": null,
            "_view_module": "@jupyter-widgets/base",
            "_view_module_version": "1.2.0",
            "_view_name": "LayoutView",
            "align_content": null,
            "align_items": null,
            "align_self": null,
            "border": null,
            "bottom": null,
            "display": null,
            "flex": null,
            "flex_flow": null,
            "grid_area": null,
            "grid_auto_columns": null,
            "grid_auto_flow": null,
            "grid_auto_rows": null,
            "grid_column": null,
            "grid_gap": null,
            "grid_row": null,
            "grid_template_areas": null,
            "grid_template_columns": null,
            "grid_template_rows": null,
            "height": null,
            "justify_content": null,
            "justify_items": null,
            "left": null,
            "margin": null,
            "max_height": null,
            "max_width": null,
            "min_height": null,
            "min_width": null,
            "object_fit": null,
            "object_position": null,
            "order": null,
            "overflow": null,
            "overflow_x": null,
            "overflow_y": null,
            "padding": null,
            "right": null,
            "top": null,
            "visibility": null,
            "width": null
          }
        },
        "56926e1578e545d9982c9147a0091aeb": {
          "model_module": "@jupyter-widgets/base",
          "model_name": "LayoutModel",
          "model_module_version": "1.2.0",
          "state": {
            "_model_module": "@jupyter-widgets/base",
            "_model_module_version": "1.2.0",
            "_model_name": "LayoutModel",
            "_view_count": null,
            "_view_module": "@jupyter-widgets/base",
            "_view_module_version": "1.2.0",
            "_view_name": "LayoutView",
            "align_content": null,
            "align_items": null,
            "align_self": null,
            "border": null,
            "bottom": null,
            "display": null,
            "flex": null,
            "flex_flow": null,
            "grid_area": null,
            "grid_auto_columns": null,
            "grid_auto_flow": null,
            "grid_auto_rows": null,
            "grid_column": null,
            "grid_gap": null,
            "grid_row": null,
            "grid_template_areas": null,
            "grid_template_columns": null,
            "grid_template_rows": null,
            "height": null,
            "justify_content": null,
            "justify_items": null,
            "left": null,
            "margin": null,
            "max_height": null,
            "max_width": null,
            "min_height": null,
            "min_width": null,
            "object_fit": null,
            "object_position": null,
            "order": null,
            "overflow": null,
            "overflow_x": null,
            "overflow_y": null,
            "padding": null,
            "right": null,
            "top": null,
            "visibility": null,
            "width": null
          }
        },
        "5d99c73ffda64e7a8978c7c2b8eff4ce": {
          "model_module": "@jupyter-widgets/controls",
          "model_name": "DescriptionStyleModel",
          "model_module_version": "1.5.0",
          "state": {
            "_model_module": "@jupyter-widgets/controls",
            "_model_module_version": "1.5.0",
            "_model_name": "DescriptionStyleModel",
            "_view_count": null,
            "_view_module": "@jupyter-widgets/base",
            "_view_module_version": "1.2.0",
            "_view_name": "StyleView",
            "description_width": ""
          }
        },
        "1b9aefb3433e47cabc79128b53966ce9": {
          "model_module": "@jupyter-widgets/base",
          "model_name": "LayoutModel",
          "model_module_version": "1.2.0",
          "state": {
            "_model_module": "@jupyter-widgets/base",
            "_model_module_version": "1.2.0",
            "_model_name": "LayoutModel",
            "_view_count": null,
            "_view_module": "@jupyter-widgets/base",
            "_view_module_version": "1.2.0",
            "_view_name": "LayoutView",
            "align_content": null,
            "align_items": null,
            "align_self": null,
            "border": null,
            "bottom": null,
            "display": null,
            "flex": null,
            "flex_flow": null,
            "grid_area": null,
            "grid_auto_columns": null,
            "grid_auto_flow": null,
            "grid_auto_rows": null,
            "grid_column": null,
            "grid_gap": null,
            "grid_row": null,
            "grid_template_areas": null,
            "grid_template_columns": null,
            "grid_template_rows": null,
            "height": null,
            "justify_content": null,
            "justify_items": null,
            "left": null,
            "margin": null,
            "max_height": null,
            "max_width": null,
            "min_height": null,
            "min_width": null,
            "object_fit": null,
            "object_position": null,
            "order": null,
            "overflow": null,
            "overflow_x": null,
            "overflow_y": null,
            "padding": null,
            "right": null,
            "top": null,
            "visibility": null,
            "width": null
          }
        },
        "6a0a860ac13d4f81a4594df05ad91774": {
          "model_module": "@jupyter-widgets/controls",
          "model_name": "ProgressStyleModel",
          "model_module_version": "1.5.0",
          "state": {
            "_model_module": "@jupyter-widgets/controls",
            "_model_module_version": "1.5.0",
            "_model_name": "ProgressStyleModel",
            "_view_count": null,
            "_view_module": "@jupyter-widgets/base",
            "_view_module_version": "1.2.0",
            "_view_name": "StyleView",
            "bar_color": null,
            "description_width": ""
          }
        },
        "a0a0fb24a20f458db4d80bcb8079c366": {
          "model_module": "@jupyter-widgets/base",
          "model_name": "LayoutModel",
          "model_module_version": "1.2.0",
          "state": {
            "_model_module": "@jupyter-widgets/base",
            "_model_module_version": "1.2.0",
            "_model_name": "LayoutModel",
            "_view_count": null,
            "_view_module": "@jupyter-widgets/base",
            "_view_module_version": "1.2.0",
            "_view_name": "LayoutView",
            "align_content": null,
            "align_items": null,
            "align_self": null,
            "border": null,
            "bottom": null,
            "display": null,
            "flex": null,
            "flex_flow": null,
            "grid_area": null,
            "grid_auto_columns": null,
            "grid_auto_flow": null,
            "grid_auto_rows": null,
            "grid_column": null,
            "grid_gap": null,
            "grid_row": null,
            "grid_template_areas": null,
            "grid_template_columns": null,
            "grid_template_rows": null,
            "height": null,
            "justify_content": null,
            "justify_items": null,
            "left": null,
            "margin": null,
            "max_height": null,
            "max_width": null,
            "min_height": null,
            "min_width": null,
            "object_fit": null,
            "object_position": null,
            "order": null,
            "overflow": null,
            "overflow_x": null,
            "overflow_y": null,
            "padding": null,
            "right": null,
            "top": null,
            "visibility": null,
            "width": null
          }
        },
        "0fda4c557aed44b49e527e38fdf85d32": {
          "model_module": "@jupyter-widgets/controls",
          "model_name": "DescriptionStyleModel",
          "model_module_version": "1.5.0",
          "state": {
            "_model_module": "@jupyter-widgets/controls",
            "_model_module_version": "1.5.0",
            "_model_name": "DescriptionStyleModel",
            "_view_count": null,
            "_view_module": "@jupyter-widgets/base",
            "_view_module_version": "1.2.0",
            "_view_name": "StyleView",
            "description_width": ""
          }
        },
        "e3f6d8c2f8a74290a654e6245abebb56": {
          "model_module": "@jupyter-widgets/controls",
          "model_name": "HBoxModel",
          "model_module_version": "1.5.0",
          "state": {
            "_dom_classes": [],
            "_model_module": "@jupyter-widgets/controls",
            "_model_module_version": "1.5.0",
            "_model_name": "HBoxModel",
            "_view_count": null,
            "_view_module": "@jupyter-widgets/controls",
            "_view_module_version": "1.5.0",
            "_view_name": "HBoxView",
            "box_style": "",
            "children": [
              "IPY_MODEL_91acee90caf34c3ebea1af627ae40fe6",
              "IPY_MODEL_c542a105e5af4727838b049d4f6226bc",
              "IPY_MODEL_0cf48a8a041c4c619215130d96f52b59"
            ],
            "layout": "IPY_MODEL_565cfb303d1943218f4b37e9c55554cf"
          }
        },
        "91acee90caf34c3ebea1af627ae40fe6": {
          "model_module": "@jupyter-widgets/controls",
          "model_name": "HTMLModel",
          "model_module_version": "1.5.0",
          "state": {
            "_dom_classes": [],
            "_model_module": "@jupyter-widgets/controls",
            "_model_module_version": "1.5.0",
            "_model_name": "HTMLModel",
            "_view_count": null,
            "_view_module": "@jupyter-widgets/controls",
            "_view_module_version": "1.5.0",
            "_view_name": "HTMLView",
            "description": "",
            "description_tooltip": null,
            "layout": "IPY_MODEL_b085b2d338ea4af6a7f92434784bd9a2",
            "placeholder": "​",
            "style": "IPY_MODEL_1087e7a53b10479981dad47522643518",
            "value": "Downloading pytorch_model.bin: 100%"
          }
        },
        "c542a105e5af4727838b049d4f6226bc": {
          "model_module": "@jupyter-widgets/controls",
          "model_name": "FloatProgressModel",
          "model_module_version": "1.5.0",
          "state": {
            "_dom_classes": [],
            "_model_module": "@jupyter-widgets/controls",
            "_model_module_version": "1.5.0",
            "_model_name": "FloatProgressModel",
            "_view_count": null,
            "_view_module": "@jupyter-widgets/controls",
            "_view_module_version": "1.5.0",
            "_view_name": "ProgressView",
            "bar_style": "success",
            "description": "",
            "description_tooltip": null,
            "layout": "IPY_MODEL_bc06e1d73d8d4529b90da0294fdca2a5",
            "max": 501200538,
            "min": 0,
            "orientation": "horizontal",
            "style": "IPY_MODEL_3835372b5d814536b02a6c3c7b96486c",
            "value": 501200538
          }
        },
        "0cf48a8a041c4c619215130d96f52b59": {
          "model_module": "@jupyter-widgets/controls",
          "model_name": "HTMLModel",
          "model_module_version": "1.5.0",
          "state": {
            "_dom_classes": [],
            "_model_module": "@jupyter-widgets/controls",
            "_model_module_version": "1.5.0",
            "_model_name": "HTMLModel",
            "_view_count": null,
            "_view_module": "@jupyter-widgets/controls",
            "_view_module_version": "1.5.0",
            "_view_name": "HTMLView",
            "description": "",
            "description_tooltip": null,
            "layout": "IPY_MODEL_99e82bedbb0e408bb4aea75f8ae18afe",
            "placeholder": "​",
            "style": "IPY_MODEL_1e698a817f0c4e1f832ed915bbd5be79",
            "value": " 501M/501M [00:06&lt;00:00, 85.4MB/s]"
          }
        },
        "565cfb303d1943218f4b37e9c55554cf": {
          "model_module": "@jupyter-widgets/base",
          "model_name": "LayoutModel",
          "model_module_version": "1.2.0",
          "state": {
            "_model_module": "@jupyter-widgets/base",
            "_model_module_version": "1.2.0",
            "_model_name": "LayoutModel",
            "_view_count": null,
            "_view_module": "@jupyter-widgets/base",
            "_view_module_version": "1.2.0",
            "_view_name": "LayoutView",
            "align_content": null,
            "align_items": null,
            "align_self": null,
            "border": null,
            "bottom": null,
            "display": null,
            "flex": null,
            "flex_flow": null,
            "grid_area": null,
            "grid_auto_columns": null,
            "grid_auto_flow": null,
            "grid_auto_rows": null,
            "grid_column": null,
            "grid_gap": null,
            "grid_row": null,
            "grid_template_areas": null,
            "grid_template_columns": null,
            "grid_template_rows": null,
            "height": null,
            "justify_content": null,
            "justify_items": null,
            "left": null,
            "margin": null,
            "max_height": null,
            "max_width": null,
            "min_height": null,
            "min_width": null,
            "object_fit": null,
            "object_position": null,
            "order": null,
            "overflow": null,
            "overflow_x": null,
            "overflow_y": null,
            "padding": null,
            "right": null,
            "top": null,
            "visibility": null,
            "width": null
          }
        },
        "b085b2d338ea4af6a7f92434784bd9a2": {
          "model_module": "@jupyter-widgets/base",
          "model_name": "LayoutModel",
          "model_module_version": "1.2.0",
          "state": {
            "_model_module": "@jupyter-widgets/base",
            "_model_module_version": "1.2.0",
            "_model_name": "LayoutModel",
            "_view_count": null,
            "_view_module": "@jupyter-widgets/base",
            "_view_module_version": "1.2.0",
            "_view_name": "LayoutView",
            "align_content": null,
            "align_items": null,
            "align_self": null,
            "border": null,
            "bottom": null,
            "display": null,
            "flex": null,
            "flex_flow": null,
            "grid_area": null,
            "grid_auto_columns": null,
            "grid_auto_flow": null,
            "grid_auto_rows": null,
            "grid_column": null,
            "grid_gap": null,
            "grid_row": null,
            "grid_template_areas": null,
            "grid_template_columns": null,
            "grid_template_rows": null,
            "height": null,
            "justify_content": null,
            "justify_items": null,
            "left": null,
            "margin": null,
            "max_height": null,
            "max_width": null,
            "min_height": null,
            "min_width": null,
            "object_fit": null,
            "object_position": null,
            "order": null,
            "overflow": null,
            "overflow_x": null,
            "overflow_y": null,
            "padding": null,
            "right": null,
            "top": null,
            "visibility": null,
            "width": null
          }
        },
        "1087e7a53b10479981dad47522643518": {
          "model_module": "@jupyter-widgets/controls",
          "model_name": "DescriptionStyleModel",
          "model_module_version": "1.5.0",
          "state": {
            "_model_module": "@jupyter-widgets/controls",
            "_model_module_version": "1.5.0",
            "_model_name": "DescriptionStyleModel",
            "_view_count": null,
            "_view_module": "@jupyter-widgets/base",
            "_view_module_version": "1.2.0",
            "_view_name": "StyleView",
            "description_width": ""
          }
        },
        "bc06e1d73d8d4529b90da0294fdca2a5": {
          "model_module": "@jupyter-widgets/base",
          "model_name": "LayoutModel",
          "model_module_version": "1.2.0",
          "state": {
            "_model_module": "@jupyter-widgets/base",
            "_model_module_version": "1.2.0",
            "_model_name": "LayoutModel",
            "_view_count": null,
            "_view_module": "@jupyter-widgets/base",
            "_view_module_version": "1.2.0",
            "_view_name": "LayoutView",
            "align_content": null,
            "align_items": null,
            "align_self": null,
            "border": null,
            "bottom": null,
            "display": null,
            "flex": null,
            "flex_flow": null,
            "grid_area": null,
            "grid_auto_columns": null,
            "grid_auto_flow": null,
            "grid_auto_rows": null,
            "grid_column": null,
            "grid_gap": null,
            "grid_row": null,
            "grid_template_areas": null,
            "grid_template_columns": null,
            "grid_template_rows": null,
            "height": null,
            "justify_content": null,
            "justify_items": null,
            "left": null,
            "margin": null,
            "max_height": null,
            "max_width": null,
            "min_height": null,
            "min_width": null,
            "object_fit": null,
            "object_position": null,
            "order": null,
            "overflow": null,
            "overflow_x": null,
            "overflow_y": null,
            "padding": null,
            "right": null,
            "top": null,
            "visibility": null,
            "width": null
          }
        },
        "3835372b5d814536b02a6c3c7b96486c": {
          "model_module": "@jupyter-widgets/controls",
          "model_name": "ProgressStyleModel",
          "model_module_version": "1.5.0",
          "state": {
            "_model_module": "@jupyter-widgets/controls",
            "_model_module_version": "1.5.0",
            "_model_name": "ProgressStyleModel",
            "_view_count": null,
            "_view_module": "@jupyter-widgets/base",
            "_view_module_version": "1.2.0",
            "_view_name": "StyleView",
            "bar_color": null,
            "description_width": ""
          }
        },
        "99e82bedbb0e408bb4aea75f8ae18afe": {
          "model_module": "@jupyter-widgets/base",
          "model_name": "LayoutModel",
          "model_module_version": "1.2.0",
          "state": {
            "_model_module": "@jupyter-widgets/base",
            "_model_module_version": "1.2.0",
            "_model_name": "LayoutModel",
            "_view_count": null,
            "_view_module": "@jupyter-widgets/base",
            "_view_module_version": "1.2.0",
            "_view_name": "LayoutView",
            "align_content": null,
            "align_items": null,
            "align_self": null,
            "border": null,
            "bottom": null,
            "display": null,
            "flex": null,
            "flex_flow": null,
            "grid_area": null,
            "grid_auto_columns": null,
            "grid_auto_flow": null,
            "grid_auto_rows": null,
            "grid_column": null,
            "grid_gap": null,
            "grid_row": null,
            "grid_template_areas": null,
            "grid_template_columns": null,
            "grid_template_rows": null,
            "height": null,
            "justify_content": null,
            "justify_items": null,
            "left": null,
            "margin": null,
            "max_height": null,
            "max_width": null,
            "min_height": null,
            "min_width": null,
            "object_fit": null,
            "object_position": null,
            "order": null,
            "overflow": null,
            "overflow_x": null,
            "overflow_y": null,
            "padding": null,
            "right": null,
            "top": null,
            "visibility": null,
            "width": null
          }
        },
        "1e698a817f0c4e1f832ed915bbd5be79": {
          "model_module": "@jupyter-widgets/controls",
          "model_name": "DescriptionStyleModel",
          "model_module_version": "1.5.0",
          "state": {
            "_model_module": "@jupyter-widgets/controls",
            "_model_module_version": "1.5.0",
            "_model_name": "DescriptionStyleModel",
            "_view_count": null,
            "_view_module": "@jupyter-widgets/base",
            "_view_module_version": "1.2.0",
            "_view_name": "StyleView",
            "description_width": ""
          }
        },
        "b98cc2053e264cfebe9a366526a06602": {
          "model_module": "@jupyter-widgets/controls",
          "model_name": "HBoxModel",
          "model_module_version": "1.5.0",
          "state": {
            "_dom_classes": [],
            "_model_module": "@jupyter-widgets/controls",
            "_model_module_version": "1.5.0",
            "_model_name": "HBoxModel",
            "_view_count": null,
            "_view_module": "@jupyter-widgets/controls",
            "_view_module_version": "1.5.0",
            "_view_name": "HBoxView",
            "box_style": "",
            "children": [
              "IPY_MODEL_770ec17b1eb2475e84bb3fefe3e9fa80",
              "IPY_MODEL_9c4f3ce0e15a46079cff57a87ff9af11",
              "IPY_MODEL_56205266a9c64e16a97ebb13f62d2874"
            ],
            "layout": "IPY_MODEL_12b08f34e5dd4d93a7a2547a15e92077"
          }
        },
        "770ec17b1eb2475e84bb3fefe3e9fa80": {
          "model_module": "@jupyter-widgets/controls",
          "model_name": "HTMLModel",
          "model_module_version": "1.5.0",
          "state": {
            "_dom_classes": [],
            "_model_module": "@jupyter-widgets/controls",
            "_model_module_version": "1.5.0",
            "_model_name": "HTMLModel",
            "_view_count": null,
            "_view_module": "@jupyter-widgets/controls",
            "_view_module_version": "1.5.0",
            "_view_name": "HTMLView",
            "description": "",
            "description_tooltip": null,
            "layout": "IPY_MODEL_455ffa09948b4aafae6443adee266893",
            "placeholder": "​",
            "style": "IPY_MODEL_c3cbafdb12064435861481243520308b",
            "value": "Downloading (…)ve/main/spiece.model: 100%"
          }
        },
        "9c4f3ce0e15a46079cff57a87ff9af11": {
          "model_module": "@jupyter-widgets/controls",
          "model_name": "FloatProgressModel",
          "model_module_version": "1.5.0",
          "state": {
            "_dom_classes": [],
            "_model_module": "@jupyter-widgets/controls",
            "_model_module_version": "1.5.0",
            "_model_name": "FloatProgressModel",
            "_view_count": null,
            "_view_module": "@jupyter-widgets/controls",
            "_view_module_version": "1.5.0",
            "_view_name": "ProgressView",
            "bar_style": "success",
            "description": "",
            "description_tooltip": null,
            "layout": "IPY_MODEL_a4b25b5986944a12904c2daa2e38b5c8",
            "max": 791656,
            "min": 0,
            "orientation": "horizontal",
            "style": "IPY_MODEL_89b0a85e3cfd4573bc3f071315a739e2",
            "value": 791656
          }
        },
        "56205266a9c64e16a97ebb13f62d2874": {
          "model_module": "@jupyter-widgets/controls",
          "model_name": "HTMLModel",
          "model_module_version": "1.5.0",
          "state": {
            "_dom_classes": [],
            "_model_module": "@jupyter-widgets/controls",
            "_model_module_version": "1.5.0",
            "_model_name": "HTMLModel",
            "_view_count": null,
            "_view_module": "@jupyter-widgets/controls",
            "_view_module_version": "1.5.0",
            "_view_name": "HTMLView",
            "description": "",
            "description_tooltip": null,
            "layout": "IPY_MODEL_2830eb63999a48cbb9fa82afcf9e3da2",
            "placeholder": "​",
            "style": "IPY_MODEL_d526f7b525f34e16aeeb056ee987e1d9",
            "value": " 792k/792k [00:00&lt;00:00, 10.8MB/s]"
          }
        },
        "12b08f34e5dd4d93a7a2547a15e92077": {
          "model_module": "@jupyter-widgets/base",
          "model_name": "LayoutModel",
          "model_module_version": "1.2.0",
          "state": {
            "_model_module": "@jupyter-widgets/base",
            "_model_module_version": "1.2.0",
            "_model_name": "LayoutModel",
            "_view_count": null,
            "_view_module": "@jupyter-widgets/base",
            "_view_module_version": "1.2.0",
            "_view_name": "LayoutView",
            "align_content": null,
            "align_items": null,
            "align_self": null,
            "border": null,
            "bottom": null,
            "display": null,
            "flex": null,
            "flex_flow": null,
            "grid_area": null,
            "grid_auto_columns": null,
            "grid_auto_flow": null,
            "grid_auto_rows": null,
            "grid_column": null,
            "grid_gap": null,
            "grid_row": null,
            "grid_template_areas": null,
            "grid_template_columns": null,
            "grid_template_rows": null,
            "height": null,
            "justify_content": null,
            "justify_items": null,
            "left": null,
            "margin": null,
            "max_height": null,
            "max_width": null,
            "min_height": null,
            "min_width": null,
            "object_fit": null,
            "object_position": null,
            "order": null,
            "overflow": null,
            "overflow_x": null,
            "overflow_y": null,
            "padding": null,
            "right": null,
            "top": null,
            "visibility": null,
            "width": null
          }
        },
        "455ffa09948b4aafae6443adee266893": {
          "model_module": "@jupyter-widgets/base",
          "model_name": "LayoutModel",
          "model_module_version": "1.2.0",
          "state": {
            "_model_module": "@jupyter-widgets/base",
            "_model_module_version": "1.2.0",
            "_model_name": "LayoutModel",
            "_view_count": null,
            "_view_module": "@jupyter-widgets/base",
            "_view_module_version": "1.2.0",
            "_view_name": "LayoutView",
            "align_content": null,
            "align_items": null,
            "align_self": null,
            "border": null,
            "bottom": null,
            "display": null,
            "flex": null,
            "flex_flow": null,
            "grid_area": null,
            "grid_auto_columns": null,
            "grid_auto_flow": null,
            "grid_auto_rows": null,
            "grid_column": null,
            "grid_gap": null,
            "grid_row": null,
            "grid_template_areas": null,
            "grid_template_columns": null,
            "grid_template_rows": null,
            "height": null,
            "justify_content": null,
            "justify_items": null,
            "left": null,
            "margin": null,
            "max_height": null,
            "max_width": null,
            "min_height": null,
            "min_width": null,
            "object_fit": null,
            "object_position": null,
            "order": null,
            "overflow": null,
            "overflow_x": null,
            "overflow_y": null,
            "padding": null,
            "right": null,
            "top": null,
            "visibility": null,
            "width": null
          }
        },
        "c3cbafdb12064435861481243520308b": {
          "model_module": "@jupyter-widgets/controls",
          "model_name": "DescriptionStyleModel",
          "model_module_version": "1.5.0",
          "state": {
            "_model_module": "@jupyter-widgets/controls",
            "_model_module_version": "1.5.0",
            "_model_name": "DescriptionStyleModel",
            "_view_count": null,
            "_view_module": "@jupyter-widgets/base",
            "_view_module_version": "1.2.0",
            "_view_name": "StyleView",
            "description_width": ""
          }
        },
        "a4b25b5986944a12904c2daa2e38b5c8": {
          "model_module": "@jupyter-widgets/base",
          "model_name": "LayoutModel",
          "model_module_version": "1.2.0",
          "state": {
            "_model_module": "@jupyter-widgets/base",
            "_model_module_version": "1.2.0",
            "_model_name": "LayoutModel",
            "_view_count": null,
            "_view_module": "@jupyter-widgets/base",
            "_view_module_version": "1.2.0",
            "_view_name": "LayoutView",
            "align_content": null,
            "align_items": null,
            "align_self": null,
            "border": null,
            "bottom": null,
            "display": null,
            "flex": null,
            "flex_flow": null,
            "grid_area": null,
            "grid_auto_columns": null,
            "grid_auto_flow": null,
            "grid_auto_rows": null,
            "grid_column": null,
            "grid_gap": null,
            "grid_row": null,
            "grid_template_areas": null,
            "grid_template_columns": null,
            "grid_template_rows": null,
            "height": null,
            "justify_content": null,
            "justify_items": null,
            "left": null,
            "margin": null,
            "max_height": null,
            "max_width": null,
            "min_height": null,
            "min_width": null,
            "object_fit": null,
            "object_position": null,
            "order": null,
            "overflow": null,
            "overflow_x": null,
            "overflow_y": null,
            "padding": null,
            "right": null,
            "top": null,
            "visibility": null,
            "width": null
          }
        },
        "89b0a85e3cfd4573bc3f071315a739e2": {
          "model_module": "@jupyter-widgets/controls",
          "model_name": "ProgressStyleModel",
          "model_module_version": "1.5.0",
          "state": {
            "_model_module": "@jupyter-widgets/controls",
            "_model_module_version": "1.5.0",
            "_model_name": "ProgressStyleModel",
            "_view_count": null,
            "_view_module": "@jupyter-widgets/base",
            "_view_module_version": "1.2.0",
            "_view_name": "StyleView",
            "bar_color": null,
            "description_width": ""
          }
        },
        "2830eb63999a48cbb9fa82afcf9e3da2": {
          "model_module": "@jupyter-widgets/base",
          "model_name": "LayoutModel",
          "model_module_version": "1.2.0",
          "state": {
            "_model_module": "@jupyter-widgets/base",
            "_model_module_version": "1.2.0",
            "_model_name": "LayoutModel",
            "_view_count": null,
            "_view_module": "@jupyter-widgets/base",
            "_view_module_version": "1.2.0",
            "_view_name": "LayoutView",
            "align_content": null,
            "align_items": null,
            "align_self": null,
            "border": null,
            "bottom": null,
            "display": null,
            "flex": null,
            "flex_flow": null,
            "grid_area": null,
            "grid_auto_columns": null,
            "grid_auto_flow": null,
            "grid_auto_rows": null,
            "grid_column": null,
            "grid_gap": null,
            "grid_row": null,
            "grid_template_areas": null,
            "grid_template_columns": null,
            "grid_template_rows": null,
            "height": null,
            "justify_content": null,
            "justify_items": null,
            "left": null,
            "margin": null,
            "max_height": null,
            "max_width": null,
            "min_height": null,
            "min_width": null,
            "object_fit": null,
            "object_position": null,
            "order": null,
            "overflow": null,
            "overflow_x": null,
            "overflow_y": null,
            "padding": null,
            "right": null,
            "top": null,
            "visibility": null,
            "width": null
          }
        },
        "d526f7b525f34e16aeeb056ee987e1d9": {
          "model_module": "@jupyter-widgets/controls",
          "model_name": "DescriptionStyleModel",
          "model_module_version": "1.5.0",
          "state": {
            "_model_module": "@jupyter-widgets/controls",
            "_model_module_version": "1.5.0",
            "_model_name": "DescriptionStyleModel",
            "_view_count": null,
            "_view_module": "@jupyter-widgets/base",
            "_view_module_version": "1.2.0",
            "_view_name": "StyleView",
            "description_width": ""
          }
        },
        "93a4753c51f44a208cb2e96822dc705c": {
          "model_module": "@jupyter-widgets/controls",
          "model_name": "HBoxModel",
          "model_module_version": "1.5.0",
          "state": {
            "_dom_classes": [],
            "_model_module": "@jupyter-widgets/controls",
            "_model_module_version": "1.5.0",
            "_model_name": "HBoxModel",
            "_view_count": null,
            "_view_module": "@jupyter-widgets/controls",
            "_view_module_version": "1.5.0",
            "_view_name": "HBoxView",
            "box_style": "",
            "children": [
              "IPY_MODEL_2bbdbb81768546919a4fe476f804b3b9",
              "IPY_MODEL_98e34b98b4a64b2aa545ba312b9471b0",
              "IPY_MODEL_f044b4b398834acca25829c2d2ba7ad9"
            ],
            "layout": "IPY_MODEL_941f2abdc08f4630a4110e8668ea37c7"
          }
        },
        "2bbdbb81768546919a4fe476f804b3b9": {
          "model_module": "@jupyter-widgets/controls",
          "model_name": "HTMLModel",
          "model_module_version": "1.5.0",
          "state": {
            "_dom_classes": [],
            "_model_module": "@jupyter-widgets/controls",
            "_model_module_version": "1.5.0",
            "_model_name": "HTMLModel",
            "_view_count": null,
            "_view_module": "@jupyter-widgets/controls",
            "_view_module_version": "1.5.0",
            "_view_name": "HTMLView",
            "description": "",
            "description_tooltip": null,
            "layout": "IPY_MODEL_1e5f2524cd8841c086205dd4ad60099e",
            "placeholder": "​",
            "style": "IPY_MODEL_6abff637d8754276aca30a5843237be4",
            "value": "Downloading (…)/main/tokenizer.json: 100%"
          }
        },
        "98e34b98b4a64b2aa545ba312b9471b0": {
          "model_module": "@jupyter-widgets/controls",
          "model_name": "FloatProgressModel",
          "model_module_version": "1.5.0",
          "state": {
            "_dom_classes": [],
            "_model_module": "@jupyter-widgets/controls",
            "_model_module_version": "1.5.0",
            "_model_name": "FloatProgressModel",
            "_view_count": null,
            "_view_module": "@jupyter-widgets/controls",
            "_view_module_version": "1.5.0",
            "_view_name": "ProgressView",
            "bar_style": "success",
            "description": "",
            "description_tooltip": null,
            "layout": "IPY_MODEL_64e7d5d2d66642ebb2279140a0f0b2c7",
            "max": 1389353,
            "min": 0,
            "orientation": "horizontal",
            "style": "IPY_MODEL_d9008cdcf9f5433da58fd2aeeda94b65",
            "value": 1389353
          }
        },
        "f044b4b398834acca25829c2d2ba7ad9": {
          "model_module": "@jupyter-widgets/controls",
          "model_name": "HTMLModel",
          "model_module_version": "1.5.0",
          "state": {
            "_dom_classes": [],
            "_model_module": "@jupyter-widgets/controls",
            "_model_module_version": "1.5.0",
            "_model_name": "HTMLModel",
            "_view_count": null,
            "_view_module": "@jupyter-widgets/controls",
            "_view_module_version": "1.5.0",
            "_view_name": "HTMLView",
            "description": "",
            "description_tooltip": null,
            "layout": "IPY_MODEL_0d0ae390c81b47268c09988e64084a56",
            "placeholder": "​",
            "style": "IPY_MODEL_c38870ce9a8b409cbe3563214fdf44cc",
            "value": " 1.39M/1.39M [00:00&lt;00:00, 11.6MB/s]"
          }
        },
        "941f2abdc08f4630a4110e8668ea37c7": {
          "model_module": "@jupyter-widgets/base",
          "model_name": "LayoutModel",
          "model_module_version": "1.2.0",
          "state": {
            "_model_module": "@jupyter-widgets/base",
            "_model_module_version": "1.2.0",
            "_model_name": "LayoutModel",
            "_view_count": null,
            "_view_module": "@jupyter-widgets/base",
            "_view_module_version": "1.2.0",
            "_view_name": "LayoutView",
            "align_content": null,
            "align_items": null,
            "align_self": null,
            "border": null,
            "bottom": null,
            "display": null,
            "flex": null,
            "flex_flow": null,
            "grid_area": null,
            "grid_auto_columns": null,
            "grid_auto_flow": null,
            "grid_auto_rows": null,
            "grid_column": null,
            "grid_gap": null,
            "grid_row": null,
            "grid_template_areas": null,
            "grid_template_columns": null,
            "grid_template_rows": null,
            "height": null,
            "justify_content": null,
            "justify_items": null,
            "left": null,
            "margin": null,
            "max_height": null,
            "max_width": null,
            "min_height": null,
            "min_width": null,
            "object_fit": null,
            "object_position": null,
            "order": null,
            "overflow": null,
            "overflow_x": null,
            "overflow_y": null,
            "padding": null,
            "right": null,
            "top": null,
            "visibility": null,
            "width": null
          }
        },
        "1e5f2524cd8841c086205dd4ad60099e": {
          "model_module": "@jupyter-widgets/base",
          "model_name": "LayoutModel",
          "model_module_version": "1.2.0",
          "state": {
            "_model_module": "@jupyter-widgets/base",
            "_model_module_version": "1.2.0",
            "_model_name": "LayoutModel",
            "_view_count": null,
            "_view_module": "@jupyter-widgets/base",
            "_view_module_version": "1.2.0",
            "_view_name": "LayoutView",
            "align_content": null,
            "align_items": null,
            "align_self": null,
            "border": null,
            "bottom": null,
            "display": null,
            "flex": null,
            "flex_flow": null,
            "grid_area": null,
            "grid_auto_columns": null,
            "grid_auto_flow": null,
            "grid_auto_rows": null,
            "grid_column": null,
            "grid_gap": null,
            "grid_row": null,
            "grid_template_areas": null,
            "grid_template_columns": null,
            "grid_template_rows": null,
            "height": null,
            "justify_content": null,
            "justify_items": null,
            "left": null,
            "margin": null,
            "max_height": null,
            "max_width": null,
            "min_height": null,
            "min_width": null,
            "object_fit": null,
            "object_position": null,
            "order": null,
            "overflow": null,
            "overflow_x": null,
            "overflow_y": null,
            "padding": null,
            "right": null,
            "top": null,
            "visibility": null,
            "width": null
          }
        },
        "6abff637d8754276aca30a5843237be4": {
          "model_module": "@jupyter-widgets/controls",
          "model_name": "DescriptionStyleModel",
          "model_module_version": "1.5.0",
          "state": {
            "_model_module": "@jupyter-widgets/controls",
            "_model_module_version": "1.5.0",
            "_model_name": "DescriptionStyleModel",
            "_view_count": null,
            "_view_module": "@jupyter-widgets/base",
            "_view_module_version": "1.2.0",
            "_view_name": "StyleView",
            "description_width": ""
          }
        },
        "64e7d5d2d66642ebb2279140a0f0b2c7": {
          "model_module": "@jupyter-widgets/base",
          "model_name": "LayoutModel",
          "model_module_version": "1.2.0",
          "state": {
            "_model_module": "@jupyter-widgets/base",
            "_model_module_version": "1.2.0",
            "_model_name": "LayoutModel",
            "_view_count": null,
            "_view_module": "@jupyter-widgets/base",
            "_view_module_version": "1.2.0",
            "_view_name": "LayoutView",
            "align_content": null,
            "align_items": null,
            "align_self": null,
            "border": null,
            "bottom": null,
            "display": null,
            "flex": null,
            "flex_flow": null,
            "grid_area": null,
            "grid_auto_columns": null,
            "grid_auto_flow": null,
            "grid_auto_rows": null,
            "grid_column": null,
            "grid_gap": null,
            "grid_row": null,
            "grid_template_areas": null,
            "grid_template_columns": null,
            "grid_template_rows": null,
            "height": null,
            "justify_content": null,
            "justify_items": null,
            "left": null,
            "margin": null,
            "max_height": null,
            "max_width": null,
            "min_height": null,
            "min_width": null,
            "object_fit": null,
            "object_position": null,
            "order": null,
            "overflow": null,
            "overflow_x": null,
            "overflow_y": null,
            "padding": null,
            "right": null,
            "top": null,
            "visibility": null,
            "width": null
          }
        },
        "d9008cdcf9f5433da58fd2aeeda94b65": {
          "model_module": "@jupyter-widgets/controls",
          "model_name": "ProgressStyleModel",
          "model_module_version": "1.5.0",
          "state": {
            "_model_module": "@jupyter-widgets/controls",
            "_model_module_version": "1.5.0",
            "_model_name": "ProgressStyleModel",
            "_view_count": null,
            "_view_module": "@jupyter-widgets/base",
            "_view_module_version": "1.2.0",
            "_view_name": "StyleView",
            "bar_color": null,
            "description_width": ""
          }
        },
        "0d0ae390c81b47268c09988e64084a56": {
          "model_module": "@jupyter-widgets/base",
          "model_name": "LayoutModel",
          "model_module_version": "1.2.0",
          "state": {
            "_model_module": "@jupyter-widgets/base",
            "_model_module_version": "1.2.0",
            "_model_name": "LayoutModel",
            "_view_count": null,
            "_view_module": "@jupyter-widgets/base",
            "_view_module_version": "1.2.0",
            "_view_name": "LayoutView",
            "align_content": null,
            "align_items": null,
            "align_self": null,
            "border": null,
            "bottom": null,
            "display": null,
            "flex": null,
            "flex_flow": null,
            "grid_area": null,
            "grid_auto_columns": null,
            "grid_auto_flow": null,
            "grid_auto_rows": null,
            "grid_column": null,
            "grid_gap": null,
            "grid_row": null,
            "grid_template_areas": null,
            "grid_template_columns": null,
            "grid_template_rows": null,
            "height": null,
            "justify_content": null,
            "justify_items": null,
            "left": null,
            "margin": null,
            "max_height": null,
            "max_width": null,
            "min_height": null,
            "min_width": null,
            "object_fit": null,
            "object_position": null,
            "order": null,
            "overflow": null,
            "overflow_x": null,
            "overflow_y": null,
            "padding": null,
            "right": null,
            "top": null,
            "visibility": null,
            "width": null
          }
        },
        "c38870ce9a8b409cbe3563214fdf44cc": {
          "model_module": "@jupyter-widgets/controls",
          "model_name": "DescriptionStyleModel",
          "model_module_version": "1.5.0",
          "state": {
            "_model_module": "@jupyter-widgets/controls",
            "_model_module_version": "1.5.0",
            "_model_name": "DescriptionStyleModel",
            "_view_count": null,
            "_view_module": "@jupyter-widgets/base",
            "_view_module_version": "1.2.0",
            "_view_name": "StyleView",
            "description_width": ""
          }
        },
        "c219640a47f2453cbea06f0e77b7bfad": {
          "model_module": "@jupyter-widgets/controls",
          "model_name": "HBoxModel",
          "model_module_version": "1.5.0",
          "state": {
            "_dom_classes": [],
            "_model_module": "@jupyter-widgets/controls",
            "_model_module_version": "1.5.0",
            "_model_name": "HBoxModel",
            "_view_count": null,
            "_view_module": "@jupyter-widgets/controls",
            "_view_module_version": "1.5.0",
            "_view_name": "HBoxView",
            "box_style": "",
            "children": [
              "IPY_MODEL_5e99a8dc5a174716b6bc9c507db074c9",
              "IPY_MODEL_1f5b242dcf0e4be68b263ef41c9b5925",
              "IPY_MODEL_1f0249923443485ea45e83e54775b0ae"
            ],
            "layout": "IPY_MODEL_4cf71e8338b34c5882cfbc9354719c9c"
          }
        },
        "5e99a8dc5a174716b6bc9c507db074c9": {
          "model_module": "@jupyter-widgets/controls",
          "model_name": "HTMLModel",
          "model_module_version": "1.5.0",
          "state": {
            "_dom_classes": [],
            "_model_module": "@jupyter-widgets/controls",
            "_model_module_version": "1.5.0",
            "_model_name": "HTMLModel",
            "_view_count": null,
            "_view_module": "@jupyter-widgets/controls",
            "_view_module_version": "1.5.0",
            "_view_name": "HTMLView",
            "description": "",
            "description_tooltip": null,
            "layout": "IPY_MODEL_3fa67d951c074a18b3ce213dec3163b7",
            "placeholder": "​",
            "style": "IPY_MODEL_65aa6d5f52644bfc896922c84534c221",
            "value": "Downloading (…)lve/main/config.json: 100%"
          }
        },
        "1f5b242dcf0e4be68b263ef41c9b5925": {
          "model_module": "@jupyter-widgets/controls",
          "model_name": "FloatProgressModel",
          "model_module_version": "1.5.0",
          "state": {
            "_dom_classes": [],
            "_model_module": "@jupyter-widgets/controls",
            "_model_module_version": "1.5.0",
            "_model_name": "FloatProgressModel",
            "_view_count": null,
            "_view_module": "@jupyter-widgets/controls",
            "_view_module_version": "1.5.0",
            "_view_name": "ProgressView",
            "bar_style": "success",
            "description": "",
            "description_tooltip": null,
            "layout": "IPY_MODEL_7db8422139be405ca7ee7611b83ac3cf",
            "max": 1208,
            "min": 0,
            "orientation": "horizontal",
            "style": "IPY_MODEL_7281db4a31ad4ae794b6c66918ecfad7",
            "value": 1208
          }
        },
        "1f0249923443485ea45e83e54775b0ae": {
          "model_module": "@jupyter-widgets/controls",
          "model_name": "HTMLModel",
          "model_module_version": "1.5.0",
          "state": {
            "_dom_classes": [],
            "_model_module": "@jupyter-widgets/controls",
            "_model_module_version": "1.5.0",
            "_model_name": "HTMLModel",
            "_view_count": null,
            "_view_module": "@jupyter-widgets/controls",
            "_view_module_version": "1.5.0",
            "_view_name": "HTMLView",
            "description": "",
            "description_tooltip": null,
            "layout": "IPY_MODEL_96cc1cef3941494982ef507927cf95eb",
            "placeholder": "​",
            "style": "IPY_MODEL_fb23ac5886654d5dafb4afaff8d19c77",
            "value": " 1.21k/1.21k [00:00&lt;00:00, 113kB/s]"
          }
        },
        "4cf71e8338b34c5882cfbc9354719c9c": {
          "model_module": "@jupyter-widgets/base",
          "model_name": "LayoutModel",
          "model_module_version": "1.2.0",
          "state": {
            "_model_module": "@jupyter-widgets/base",
            "_model_module_version": "1.2.0",
            "_model_name": "LayoutModel",
            "_view_count": null,
            "_view_module": "@jupyter-widgets/base",
            "_view_module_version": "1.2.0",
            "_view_name": "LayoutView",
            "align_content": null,
            "align_items": null,
            "align_self": null,
            "border": null,
            "bottom": null,
            "display": null,
            "flex": null,
            "flex_flow": null,
            "grid_area": null,
            "grid_auto_columns": null,
            "grid_auto_flow": null,
            "grid_auto_rows": null,
            "grid_column": null,
            "grid_gap": null,
            "grid_row": null,
            "grid_template_areas": null,
            "grid_template_columns": null,
            "grid_template_rows": null,
            "height": null,
            "justify_content": null,
            "justify_items": null,
            "left": null,
            "margin": null,
            "max_height": null,
            "max_width": null,
            "min_height": null,
            "min_width": null,
            "object_fit": null,
            "object_position": null,
            "order": null,
            "overflow": null,
            "overflow_x": null,
            "overflow_y": null,
            "padding": null,
            "right": null,
            "top": null,
            "visibility": null,
            "width": null
          }
        },
        "3fa67d951c074a18b3ce213dec3163b7": {
          "model_module": "@jupyter-widgets/base",
          "model_name": "LayoutModel",
          "model_module_version": "1.2.0",
          "state": {
            "_model_module": "@jupyter-widgets/base",
            "_model_module_version": "1.2.0",
            "_model_name": "LayoutModel",
            "_view_count": null,
            "_view_module": "@jupyter-widgets/base",
            "_view_module_version": "1.2.0",
            "_view_name": "LayoutView",
            "align_content": null,
            "align_items": null,
            "align_self": null,
            "border": null,
            "bottom": null,
            "display": null,
            "flex": null,
            "flex_flow": null,
            "grid_area": null,
            "grid_auto_columns": null,
            "grid_auto_flow": null,
            "grid_auto_rows": null,
            "grid_column": null,
            "grid_gap": null,
            "grid_row": null,
            "grid_template_areas": null,
            "grid_template_columns": null,
            "grid_template_rows": null,
            "height": null,
            "justify_content": null,
            "justify_items": null,
            "left": null,
            "margin": null,
            "max_height": null,
            "max_width": null,
            "min_height": null,
            "min_width": null,
            "object_fit": null,
            "object_position": null,
            "order": null,
            "overflow": null,
            "overflow_x": null,
            "overflow_y": null,
            "padding": null,
            "right": null,
            "top": null,
            "visibility": null,
            "width": null
          }
        },
        "65aa6d5f52644bfc896922c84534c221": {
          "model_module": "@jupyter-widgets/controls",
          "model_name": "DescriptionStyleModel",
          "model_module_version": "1.5.0",
          "state": {
            "_model_module": "@jupyter-widgets/controls",
            "_model_module_version": "1.5.0",
            "_model_name": "DescriptionStyleModel",
            "_view_count": null,
            "_view_module": "@jupyter-widgets/base",
            "_view_module_version": "1.2.0",
            "_view_name": "StyleView",
            "description_width": ""
          }
        },
        "7db8422139be405ca7ee7611b83ac3cf": {
          "model_module": "@jupyter-widgets/base",
          "model_name": "LayoutModel",
          "model_module_version": "1.2.0",
          "state": {
            "_model_module": "@jupyter-widgets/base",
            "_model_module_version": "1.2.0",
            "_model_name": "LayoutModel",
            "_view_count": null,
            "_view_module": "@jupyter-widgets/base",
            "_view_module_version": "1.2.0",
            "_view_name": "LayoutView",
            "align_content": null,
            "align_items": null,
            "align_self": null,
            "border": null,
            "bottom": null,
            "display": null,
            "flex": null,
            "flex_flow": null,
            "grid_area": null,
            "grid_auto_columns": null,
            "grid_auto_flow": null,
            "grid_auto_rows": null,
            "grid_column": null,
            "grid_gap": null,
            "grid_row": null,
            "grid_template_areas": null,
            "grid_template_columns": null,
            "grid_template_rows": null,
            "height": null,
            "justify_content": null,
            "justify_items": null,
            "left": null,
            "margin": null,
            "max_height": null,
            "max_width": null,
            "min_height": null,
            "min_width": null,
            "object_fit": null,
            "object_position": null,
            "order": null,
            "overflow": null,
            "overflow_x": null,
            "overflow_y": null,
            "padding": null,
            "right": null,
            "top": null,
            "visibility": null,
            "width": null
          }
        },
        "7281db4a31ad4ae794b6c66918ecfad7": {
          "model_module": "@jupyter-widgets/controls",
          "model_name": "ProgressStyleModel",
          "model_module_version": "1.5.0",
          "state": {
            "_model_module": "@jupyter-widgets/controls",
            "_model_module_version": "1.5.0",
            "_model_name": "ProgressStyleModel",
            "_view_count": null,
            "_view_module": "@jupyter-widgets/base",
            "_view_module_version": "1.2.0",
            "_view_name": "StyleView",
            "bar_color": null,
            "description_width": ""
          }
        },
        "96cc1cef3941494982ef507927cf95eb": {
          "model_module": "@jupyter-widgets/base",
          "model_name": "LayoutModel",
          "model_module_version": "1.2.0",
          "state": {
            "_model_module": "@jupyter-widgets/base",
            "_model_module_version": "1.2.0",
            "_model_name": "LayoutModel",
            "_view_count": null,
            "_view_module": "@jupyter-widgets/base",
            "_view_module_version": "1.2.0",
            "_view_name": "LayoutView",
            "align_content": null,
            "align_items": null,
            "align_self": null,
            "border": null,
            "bottom": null,
            "display": null,
            "flex": null,
            "flex_flow": null,
            "grid_area": null,
            "grid_auto_columns": null,
            "grid_auto_flow": null,
            "grid_auto_rows": null,
            "grid_column": null,
            "grid_gap": null,
            "grid_row": null,
            "grid_template_areas": null,
            "grid_template_columns": null,
            "grid_template_rows": null,
            "height": null,
            "justify_content": null,
            "justify_items": null,
            "left": null,
            "margin": null,
            "max_height": null,
            "max_width": null,
            "min_height": null,
            "min_width": null,
            "object_fit": null,
            "object_position": null,
            "order": null,
            "overflow": null,
            "overflow_x": null,
            "overflow_y": null,
            "padding": null,
            "right": null,
            "top": null,
            "visibility": null,
            "width": null
          }
        },
        "fb23ac5886654d5dafb4afaff8d19c77": {
          "model_module": "@jupyter-widgets/controls",
          "model_name": "DescriptionStyleModel",
          "model_module_version": "1.5.0",
          "state": {
            "_model_module": "@jupyter-widgets/controls",
            "_model_module_version": "1.5.0",
            "_model_name": "DescriptionStyleModel",
            "_view_count": null,
            "_view_module": "@jupyter-widgets/base",
            "_view_module_version": "1.2.0",
            "_view_name": "StyleView",
            "description_width": ""
          }
        },
        "ff2d054f78944f12a2da83b996833663": {
          "model_module": "@jupyter-widgets/controls",
          "model_name": "HBoxModel",
          "model_module_version": "1.5.0",
          "state": {
            "_dom_classes": [],
            "_model_module": "@jupyter-widgets/controls",
            "_model_module_version": "1.5.0",
            "_model_name": "HBoxModel",
            "_view_count": null,
            "_view_module": "@jupyter-widgets/controls",
            "_view_module_version": "1.5.0",
            "_view_name": "HBoxView",
            "box_style": "",
            "children": [
              "IPY_MODEL_08b69fc455ee4a7088d1dcf322f9fe61",
              "IPY_MODEL_ac1d414b91f7481bb951dd2115572ddd",
              "IPY_MODEL_e66217d754454122b2835dbc6bad9bcc"
            ],
            "layout": "IPY_MODEL_8615a0093dfb453e913b099b8c9109d9"
          }
        },
        "08b69fc455ee4a7088d1dcf322f9fe61": {
          "model_module": "@jupyter-widgets/controls",
          "model_name": "HTMLModel",
          "model_module_version": "1.5.0",
          "state": {
            "_dom_classes": [],
            "_model_module": "@jupyter-widgets/controls",
            "_model_module_version": "1.5.0",
            "_model_name": "HTMLModel",
            "_view_count": null,
            "_view_module": "@jupyter-widgets/controls",
            "_view_module_version": "1.5.0",
            "_view_name": "HTMLView",
            "description": "",
            "description_tooltip": null,
            "layout": "IPY_MODEL_5e64317426bd42278648a968eb6db128",
            "placeholder": "​",
            "style": "IPY_MODEL_fee5eeff1a714351a1be103f43c5eaed",
            "value": "Epoch 0: 100%"
          }
        },
        "ac1d414b91f7481bb951dd2115572ddd": {
          "model_module": "@jupyter-widgets/controls",
          "model_name": "FloatProgressModel",
          "model_module_version": "1.5.0",
          "state": {
            "_dom_classes": [],
            "_model_module": "@jupyter-widgets/controls",
            "_model_module_version": "1.5.0",
            "_model_name": "FloatProgressModel",
            "_view_count": null,
            "_view_module": "@jupyter-widgets/controls",
            "_view_module_version": "1.5.0",
            "_view_name": "ProgressView",
            "bar_style": "success",
            "description": "",
            "description_tooltip": null,
            "layout": "IPY_MODEL_9c407de7ed2f4f09896dc635e7184a20",
            "max": 280,
            "min": 0,
            "orientation": "horizontal",
            "style": "IPY_MODEL_927d543915734c7987fe15a650c3e60d",
            "value": 280
          }
        },
        "e66217d754454122b2835dbc6bad9bcc": {
          "model_module": "@jupyter-widgets/controls",
          "model_name": "HTMLModel",
          "model_module_version": "1.5.0",
          "state": {
            "_dom_classes": [],
            "_model_module": "@jupyter-widgets/controls",
            "_model_module_version": "1.5.0",
            "_model_name": "HTMLModel",
            "_view_count": null,
            "_view_module": "@jupyter-widgets/controls",
            "_view_module_version": "1.5.0",
            "_view_name": "HTMLView",
            "description": "",
            "description_tooltip": null,
            "layout": "IPY_MODEL_f79cb4ed502e4edf851d63695ce64f98",
            "placeholder": "​",
            "style": "IPY_MODEL_16c009a351c64eb8be28db570fe1a666",
            "value": " 280/280 [00:53&lt;00:00,  5.26it/s, loss=0.965, v_num=2]"
          }
        },
        "8615a0093dfb453e913b099b8c9109d9": {
          "model_module": "@jupyter-widgets/base",
          "model_name": "LayoutModel",
          "model_module_version": "1.2.0",
          "state": {
            "_model_module": "@jupyter-widgets/base",
            "_model_module_version": "1.2.0",
            "_model_name": "LayoutModel",
            "_view_count": null,
            "_view_module": "@jupyter-widgets/base",
            "_view_module_version": "1.2.0",
            "_view_name": "LayoutView",
            "align_content": null,
            "align_items": null,
            "align_self": null,
            "border": null,
            "bottom": null,
            "display": "inline-flex",
            "flex": null,
            "flex_flow": "row wrap",
            "grid_area": null,
            "grid_auto_columns": null,
            "grid_auto_flow": null,
            "grid_auto_rows": null,
            "grid_column": null,
            "grid_gap": null,
            "grid_row": null,
            "grid_template_areas": null,
            "grid_template_columns": null,
            "grid_template_rows": null,
            "height": null,
            "justify_content": null,
            "justify_items": null,
            "left": null,
            "margin": null,
            "max_height": null,
            "max_width": null,
            "min_height": null,
            "min_width": null,
            "object_fit": null,
            "object_position": null,
            "order": null,
            "overflow": null,
            "overflow_x": null,
            "overflow_y": null,
            "padding": null,
            "right": null,
            "top": null,
            "visibility": null,
            "width": "100%"
          }
        },
        "5e64317426bd42278648a968eb6db128": {
          "model_module": "@jupyter-widgets/base",
          "model_name": "LayoutModel",
          "model_module_version": "1.2.0",
          "state": {
            "_model_module": "@jupyter-widgets/base",
            "_model_module_version": "1.2.0",
            "_model_name": "LayoutModel",
            "_view_count": null,
            "_view_module": "@jupyter-widgets/base",
            "_view_module_version": "1.2.0",
            "_view_name": "LayoutView",
            "align_content": null,
            "align_items": null,
            "align_self": null,
            "border": null,
            "bottom": null,
            "display": null,
            "flex": null,
            "flex_flow": null,
            "grid_area": null,
            "grid_auto_columns": null,
            "grid_auto_flow": null,
            "grid_auto_rows": null,
            "grid_column": null,
            "grid_gap": null,
            "grid_row": null,
            "grid_template_areas": null,
            "grid_template_columns": null,
            "grid_template_rows": null,
            "height": null,
            "justify_content": null,
            "justify_items": null,
            "left": null,
            "margin": null,
            "max_height": null,
            "max_width": null,
            "min_height": null,
            "min_width": null,
            "object_fit": null,
            "object_position": null,
            "order": null,
            "overflow": null,
            "overflow_x": null,
            "overflow_y": null,
            "padding": null,
            "right": null,
            "top": null,
            "visibility": null,
            "width": null
          }
        },
        "fee5eeff1a714351a1be103f43c5eaed": {
          "model_module": "@jupyter-widgets/controls",
          "model_name": "DescriptionStyleModel",
          "model_module_version": "1.5.0",
          "state": {
            "_model_module": "@jupyter-widgets/controls",
            "_model_module_version": "1.5.0",
            "_model_name": "DescriptionStyleModel",
            "_view_count": null,
            "_view_module": "@jupyter-widgets/base",
            "_view_module_version": "1.2.0",
            "_view_name": "StyleView",
            "description_width": ""
          }
        },
        "9c407de7ed2f4f09896dc635e7184a20": {
          "model_module": "@jupyter-widgets/base",
          "model_name": "LayoutModel",
          "model_module_version": "1.2.0",
          "state": {
            "_model_module": "@jupyter-widgets/base",
            "_model_module_version": "1.2.0",
            "_model_name": "LayoutModel",
            "_view_count": null,
            "_view_module": "@jupyter-widgets/base",
            "_view_module_version": "1.2.0",
            "_view_name": "LayoutView",
            "align_content": null,
            "align_items": null,
            "align_self": null,
            "border": null,
            "bottom": null,
            "display": null,
            "flex": "2",
            "flex_flow": null,
            "grid_area": null,
            "grid_auto_columns": null,
            "grid_auto_flow": null,
            "grid_auto_rows": null,
            "grid_column": null,
            "grid_gap": null,
            "grid_row": null,
            "grid_template_areas": null,
            "grid_template_columns": null,
            "grid_template_rows": null,
            "height": null,
            "justify_content": null,
            "justify_items": null,
            "left": null,
            "margin": null,
            "max_height": null,
            "max_width": null,
            "min_height": null,
            "min_width": null,
            "object_fit": null,
            "object_position": null,
            "order": null,
            "overflow": null,
            "overflow_x": null,
            "overflow_y": null,
            "padding": null,
            "right": null,
            "top": null,
            "visibility": null,
            "width": null
          }
        },
        "927d543915734c7987fe15a650c3e60d": {
          "model_module": "@jupyter-widgets/controls",
          "model_name": "ProgressStyleModel",
          "model_module_version": "1.5.0",
          "state": {
            "_model_module": "@jupyter-widgets/controls",
            "_model_module_version": "1.5.0",
            "_model_name": "ProgressStyleModel",
            "_view_count": null,
            "_view_module": "@jupyter-widgets/base",
            "_view_module_version": "1.2.0",
            "_view_name": "StyleView",
            "bar_color": null,
            "description_width": ""
          }
        },
        "f79cb4ed502e4edf851d63695ce64f98": {
          "model_module": "@jupyter-widgets/base",
          "model_name": "LayoutModel",
          "model_module_version": "1.2.0",
          "state": {
            "_model_module": "@jupyter-widgets/base",
            "_model_module_version": "1.2.0",
            "_model_name": "LayoutModel",
            "_view_count": null,
            "_view_module": "@jupyter-widgets/base",
            "_view_module_version": "1.2.0",
            "_view_name": "LayoutView",
            "align_content": null,
            "align_items": null,
            "align_self": null,
            "border": null,
            "bottom": null,
            "display": null,
            "flex": null,
            "flex_flow": null,
            "grid_area": null,
            "grid_auto_columns": null,
            "grid_auto_flow": null,
            "grid_auto_rows": null,
            "grid_column": null,
            "grid_gap": null,
            "grid_row": null,
            "grid_template_areas": null,
            "grid_template_columns": null,
            "grid_template_rows": null,
            "height": null,
            "justify_content": null,
            "justify_items": null,
            "left": null,
            "margin": null,
            "max_height": null,
            "max_width": null,
            "min_height": null,
            "min_width": null,
            "object_fit": null,
            "object_position": null,
            "order": null,
            "overflow": null,
            "overflow_x": null,
            "overflow_y": null,
            "padding": null,
            "right": null,
            "top": null,
            "visibility": null,
            "width": null
          }
        },
        "16c009a351c64eb8be28db570fe1a666": {
          "model_module": "@jupyter-widgets/controls",
          "model_name": "DescriptionStyleModel",
          "model_module_version": "1.5.0",
          "state": {
            "_model_module": "@jupyter-widgets/controls",
            "_model_module_version": "1.5.0",
            "_model_name": "DescriptionStyleModel",
            "_view_count": null,
            "_view_module": "@jupyter-widgets/base",
            "_view_module_version": "1.2.0",
            "_view_name": "StyleView",
            "description_width": ""
          }
        },
        "491d5222c9604553bd693139621dec5d": {
          "model_module": "@jupyter-widgets/controls",
          "model_name": "HBoxModel",
          "model_module_version": "1.5.0",
          "state": {
            "_dom_classes": [],
            "_model_module": "@jupyter-widgets/controls",
            "_model_module_version": "1.5.0",
            "_model_name": "HBoxModel",
            "_view_count": null,
            "_view_module": "@jupyter-widgets/controls",
            "_view_module_version": "1.5.0",
            "_view_name": "HBoxView",
            "box_style": "",
            "children": [
              "IPY_MODEL_12a23f60ff524776809300ce2df60d87",
              "IPY_MODEL_b5db1a23a906452db76f133dcabb5afd",
              "IPY_MODEL_3307eaf860084173b6d42624763fa792"
            ],
            "layout": "IPY_MODEL_45c3a7fd65f04619ac8bbc64619fd5b2"
          }
        },
        "12a23f60ff524776809300ce2df60d87": {
          "model_module": "@jupyter-widgets/controls",
          "model_name": "HTMLModel",
          "model_module_version": "1.5.0",
          "state": {
            "_dom_classes": [],
            "_model_module": "@jupyter-widgets/controls",
            "_model_module_version": "1.5.0",
            "_model_name": "HTMLModel",
            "_view_count": null,
            "_view_module": "@jupyter-widgets/controls",
            "_view_module_version": "1.5.0",
            "_view_name": "HTMLView",
            "description": "",
            "description_tooltip": null,
            "layout": "IPY_MODEL_bd6f75ad65114b429fedc24a37471ea5",
            "placeholder": "​",
            "style": "IPY_MODEL_9f026890c4e549f3aa828381f94fbba4",
            "value": "Downloading builder script: "
          }
        },
        "b5db1a23a906452db76f133dcabb5afd": {
          "model_module": "@jupyter-widgets/controls",
          "model_name": "FloatProgressModel",
          "model_module_version": "1.5.0",
          "state": {
            "_dom_classes": [],
            "_model_module": "@jupyter-widgets/controls",
            "_model_module_version": "1.5.0",
            "_model_name": "FloatProgressModel",
            "_view_count": null,
            "_view_module": "@jupyter-widgets/controls",
            "_view_module_version": "1.5.0",
            "_view_name": "ProgressView",
            "bar_style": "success",
            "description": "",
            "description_tooltip": null,
            "layout": "IPY_MODEL_0efbd1d940774669836535ec168f23bb",
            "max": 1715,
            "min": 0,
            "orientation": "horizontal",
            "style": "IPY_MODEL_06499933922f4929963a56d586265d45",
            "value": 1715
          }
        },
        "3307eaf860084173b6d42624763fa792": {
          "model_module": "@jupyter-widgets/controls",
          "model_name": "HTMLModel",
          "model_module_version": "1.5.0",
          "state": {
            "_dom_classes": [],
            "_model_module": "@jupyter-widgets/controls",
            "_model_module_version": "1.5.0",
            "_model_name": "HTMLModel",
            "_view_count": null,
            "_view_module": "@jupyter-widgets/controls",
            "_view_module_version": "1.5.0",
            "_view_name": "HTMLView",
            "description": "",
            "description_tooltip": null,
            "layout": "IPY_MODEL_cd328ca52f0a441ba35aa09044734ac8",
            "placeholder": "​",
            "style": "IPY_MODEL_8ed049a8f7164d6692c245960782e43d",
            "value": " 4.50k/? [00:00&lt;00:00, 325kB/s]"
          }
        },
        "45c3a7fd65f04619ac8bbc64619fd5b2": {
          "model_module": "@jupyter-widgets/base",
          "model_name": "LayoutModel",
          "model_module_version": "1.2.0",
          "state": {
            "_model_module": "@jupyter-widgets/base",
            "_model_module_version": "1.2.0",
            "_model_name": "LayoutModel",
            "_view_count": null,
            "_view_module": "@jupyter-widgets/base",
            "_view_module_version": "1.2.0",
            "_view_name": "LayoutView",
            "align_content": null,
            "align_items": null,
            "align_self": null,
            "border": null,
            "bottom": null,
            "display": null,
            "flex": null,
            "flex_flow": null,
            "grid_area": null,
            "grid_auto_columns": null,
            "grid_auto_flow": null,
            "grid_auto_rows": null,
            "grid_column": null,
            "grid_gap": null,
            "grid_row": null,
            "grid_template_areas": null,
            "grid_template_columns": null,
            "grid_template_rows": null,
            "height": null,
            "justify_content": null,
            "justify_items": null,
            "left": null,
            "margin": null,
            "max_height": null,
            "max_width": null,
            "min_height": null,
            "min_width": null,
            "object_fit": null,
            "object_position": null,
            "order": null,
            "overflow": null,
            "overflow_x": null,
            "overflow_y": null,
            "padding": null,
            "right": null,
            "top": null,
            "visibility": null,
            "width": null
          }
        },
        "bd6f75ad65114b429fedc24a37471ea5": {
          "model_module": "@jupyter-widgets/base",
          "model_name": "LayoutModel",
          "model_module_version": "1.2.0",
          "state": {
            "_model_module": "@jupyter-widgets/base",
            "_model_module_version": "1.2.0",
            "_model_name": "LayoutModel",
            "_view_count": null,
            "_view_module": "@jupyter-widgets/base",
            "_view_module_version": "1.2.0",
            "_view_name": "LayoutView",
            "align_content": null,
            "align_items": null,
            "align_self": null,
            "border": null,
            "bottom": null,
            "display": null,
            "flex": null,
            "flex_flow": null,
            "grid_area": null,
            "grid_auto_columns": null,
            "grid_auto_flow": null,
            "grid_auto_rows": null,
            "grid_column": null,
            "grid_gap": null,
            "grid_row": null,
            "grid_template_areas": null,
            "grid_template_columns": null,
            "grid_template_rows": null,
            "height": null,
            "justify_content": null,
            "justify_items": null,
            "left": null,
            "margin": null,
            "max_height": null,
            "max_width": null,
            "min_height": null,
            "min_width": null,
            "object_fit": null,
            "object_position": null,
            "order": null,
            "overflow": null,
            "overflow_x": null,
            "overflow_y": null,
            "padding": null,
            "right": null,
            "top": null,
            "visibility": null,
            "width": null
          }
        },
        "9f026890c4e549f3aa828381f94fbba4": {
          "model_module": "@jupyter-widgets/controls",
          "model_name": "DescriptionStyleModel",
          "model_module_version": "1.5.0",
          "state": {
            "_model_module": "@jupyter-widgets/controls",
            "_model_module_version": "1.5.0",
            "_model_name": "DescriptionStyleModel",
            "_view_count": null,
            "_view_module": "@jupyter-widgets/base",
            "_view_module_version": "1.2.0",
            "_view_name": "StyleView",
            "description_width": ""
          }
        },
        "0efbd1d940774669836535ec168f23bb": {
          "model_module": "@jupyter-widgets/base",
          "model_name": "LayoutModel",
          "model_module_version": "1.2.0",
          "state": {
            "_model_module": "@jupyter-widgets/base",
            "_model_module_version": "1.2.0",
            "_model_name": "LayoutModel",
            "_view_count": null,
            "_view_module": "@jupyter-widgets/base",
            "_view_module_version": "1.2.0",
            "_view_name": "LayoutView",
            "align_content": null,
            "align_items": null,
            "align_self": null,
            "border": null,
            "bottom": null,
            "display": null,
            "flex": null,
            "flex_flow": null,
            "grid_area": null,
            "grid_auto_columns": null,
            "grid_auto_flow": null,
            "grid_auto_rows": null,
            "grid_column": null,
            "grid_gap": null,
            "grid_row": null,
            "grid_template_areas": null,
            "grid_template_columns": null,
            "grid_template_rows": null,
            "height": null,
            "justify_content": null,
            "justify_items": null,
            "left": null,
            "margin": null,
            "max_height": null,
            "max_width": null,
            "min_height": null,
            "min_width": null,
            "object_fit": null,
            "object_position": null,
            "order": null,
            "overflow": null,
            "overflow_x": null,
            "overflow_y": null,
            "padding": null,
            "right": null,
            "top": null,
            "visibility": null,
            "width": null
          }
        },
        "06499933922f4929963a56d586265d45": {
          "model_module": "@jupyter-widgets/controls",
          "model_name": "ProgressStyleModel",
          "model_module_version": "1.5.0",
          "state": {
            "_model_module": "@jupyter-widgets/controls",
            "_model_module_version": "1.5.0",
            "_model_name": "ProgressStyleModel",
            "_view_count": null,
            "_view_module": "@jupyter-widgets/base",
            "_view_module_version": "1.2.0",
            "_view_name": "StyleView",
            "bar_color": null,
            "description_width": ""
          }
        },
        "cd328ca52f0a441ba35aa09044734ac8": {
          "model_module": "@jupyter-widgets/base",
          "model_name": "LayoutModel",
          "model_module_version": "1.2.0",
          "state": {
            "_model_module": "@jupyter-widgets/base",
            "_model_module_version": "1.2.0",
            "_model_name": "LayoutModel",
            "_view_count": null,
            "_view_module": "@jupyter-widgets/base",
            "_view_module_version": "1.2.0",
            "_view_name": "LayoutView",
            "align_content": null,
            "align_items": null,
            "align_self": null,
            "border": null,
            "bottom": null,
            "display": null,
            "flex": null,
            "flex_flow": null,
            "grid_area": null,
            "grid_auto_columns": null,
            "grid_auto_flow": null,
            "grid_auto_rows": null,
            "grid_column": null,
            "grid_gap": null,
            "grid_row": null,
            "grid_template_areas": null,
            "grid_template_columns": null,
            "grid_template_rows": null,
            "height": null,
            "justify_content": null,
            "justify_items": null,
            "left": null,
            "margin": null,
            "max_height": null,
            "max_width": null,
            "min_height": null,
            "min_width": null,
            "object_fit": null,
            "object_position": null,
            "order": null,
            "overflow": null,
            "overflow_x": null,
            "overflow_y": null,
            "padding": null,
            "right": null,
            "top": null,
            "visibility": null,
            "width": null
          }
        },
        "8ed049a8f7164d6692c245960782e43d": {
          "model_module": "@jupyter-widgets/controls",
          "model_name": "DescriptionStyleModel",
          "model_module_version": "1.5.0",
          "state": {
            "_model_module": "@jupyter-widgets/controls",
            "_model_module_version": "1.5.0",
            "_model_name": "DescriptionStyleModel",
            "_view_count": null,
            "_view_module": "@jupyter-widgets/base",
            "_view_module_version": "1.2.0",
            "_view_name": "StyleView",
            "description_width": ""
          }
        },
        "84c57473f5d94a9f9d8fdb63db595939": {
          "model_module": "@jupyter-widgets/controls",
          "model_name": "HBoxModel",
          "model_module_version": "1.5.0",
          "state": {
            "_dom_classes": [],
            "_model_module": "@jupyter-widgets/controls",
            "_model_module_version": "1.5.0",
            "_model_name": "HBoxModel",
            "_view_count": null,
            "_view_module": "@jupyter-widgets/controls",
            "_view_module_version": "1.5.0",
            "_view_name": "HBoxView",
            "box_style": "",
            "children": [
              "IPY_MODEL_3240049c0d014bd2bf234d37337032c0",
              "IPY_MODEL_5a945b9d447144318104c8eb270029d5",
              "IPY_MODEL_21c16653e7524f51b536150cc6f9f361"
            ],
            "layout": "IPY_MODEL_cb32eea1351c4777b156961354083d82"
          }
        },
        "3240049c0d014bd2bf234d37337032c0": {
          "model_module": "@jupyter-widgets/controls",
          "model_name": "HTMLModel",
          "model_module_version": "1.5.0",
          "state": {
            "_dom_classes": [],
            "_model_module": "@jupyter-widgets/controls",
            "_model_module_version": "1.5.0",
            "_model_name": "HTMLModel",
            "_view_count": null,
            "_view_module": "@jupyter-widgets/controls",
            "_view_module_version": "1.5.0",
            "_view_name": "HTMLView",
            "description": "",
            "description_tooltip": null,
            "layout": "IPY_MODEL_5e47fd7afb874888b3999610ac67593e",
            "placeholder": "​",
            "style": "IPY_MODEL_251c1a439a394c9aa89aaf90f813ab17",
            "value": "Downloading extra modules: "
          }
        },
        "5a945b9d447144318104c8eb270029d5": {
          "model_module": "@jupyter-widgets/controls",
          "model_name": "FloatProgressModel",
          "model_module_version": "1.5.0",
          "state": {
            "_dom_classes": [],
            "_model_module": "@jupyter-widgets/controls",
            "_model_module_version": "1.5.0",
            "_model_name": "FloatProgressModel",
            "_view_count": null,
            "_view_module": "@jupyter-widgets/controls",
            "_view_module_version": "1.5.0",
            "_view_name": "ProgressView",
            "bar_style": "success",
            "description": "",
            "description_tooltip": null,
            "layout": "IPY_MODEL_6336083544c44337982ba87b12487464",
            "max": 1109,
            "min": 0,
            "orientation": "horizontal",
            "style": "IPY_MODEL_87d16c3952dc41c581c27d605e632034",
            "value": 1109
          }
        },
        "21c16653e7524f51b536150cc6f9f361": {
          "model_module": "@jupyter-widgets/controls",
          "model_name": "HTMLModel",
          "model_module_version": "1.5.0",
          "state": {
            "_dom_classes": [],
            "_model_module": "@jupyter-widgets/controls",
            "_model_module_version": "1.5.0",
            "_model_name": "HTMLModel",
            "_view_count": null,
            "_view_module": "@jupyter-widgets/controls",
            "_view_module_version": "1.5.0",
            "_view_name": "HTMLView",
            "description": "",
            "description_tooltip": null,
            "layout": "IPY_MODEL_7b9fcfd7229e41e8a026a327b87722ea",
            "placeholder": "​",
            "style": "IPY_MODEL_1e8c42b69399493ea47d82d785714d7f",
            "value": " 3.30k/? [00:00&lt;00:00, 241kB/s]"
          }
        },
        "cb32eea1351c4777b156961354083d82": {
          "model_module": "@jupyter-widgets/base",
          "model_name": "LayoutModel",
          "model_module_version": "1.2.0",
          "state": {
            "_model_module": "@jupyter-widgets/base",
            "_model_module_version": "1.2.0",
            "_model_name": "LayoutModel",
            "_view_count": null,
            "_view_module": "@jupyter-widgets/base",
            "_view_module_version": "1.2.0",
            "_view_name": "LayoutView",
            "align_content": null,
            "align_items": null,
            "align_self": null,
            "border": null,
            "bottom": null,
            "display": null,
            "flex": null,
            "flex_flow": null,
            "grid_area": null,
            "grid_auto_columns": null,
            "grid_auto_flow": null,
            "grid_auto_rows": null,
            "grid_column": null,
            "grid_gap": null,
            "grid_row": null,
            "grid_template_areas": null,
            "grid_template_columns": null,
            "grid_template_rows": null,
            "height": null,
            "justify_content": null,
            "justify_items": null,
            "left": null,
            "margin": null,
            "max_height": null,
            "max_width": null,
            "min_height": null,
            "min_width": null,
            "object_fit": null,
            "object_position": null,
            "order": null,
            "overflow": null,
            "overflow_x": null,
            "overflow_y": null,
            "padding": null,
            "right": null,
            "top": null,
            "visibility": null,
            "width": null
          }
        },
        "5e47fd7afb874888b3999610ac67593e": {
          "model_module": "@jupyter-widgets/base",
          "model_name": "LayoutModel",
          "model_module_version": "1.2.0",
          "state": {
            "_model_module": "@jupyter-widgets/base",
            "_model_module_version": "1.2.0",
            "_model_name": "LayoutModel",
            "_view_count": null,
            "_view_module": "@jupyter-widgets/base",
            "_view_module_version": "1.2.0",
            "_view_name": "LayoutView",
            "align_content": null,
            "align_items": null,
            "align_self": null,
            "border": null,
            "bottom": null,
            "display": null,
            "flex": null,
            "flex_flow": null,
            "grid_area": null,
            "grid_auto_columns": null,
            "grid_auto_flow": null,
            "grid_auto_rows": null,
            "grid_column": null,
            "grid_gap": null,
            "grid_row": null,
            "grid_template_areas": null,
            "grid_template_columns": null,
            "grid_template_rows": null,
            "height": null,
            "justify_content": null,
            "justify_items": null,
            "left": null,
            "margin": null,
            "max_height": null,
            "max_width": null,
            "min_height": null,
            "min_width": null,
            "object_fit": null,
            "object_position": null,
            "order": null,
            "overflow": null,
            "overflow_x": null,
            "overflow_y": null,
            "padding": null,
            "right": null,
            "top": null,
            "visibility": null,
            "width": null
          }
        },
        "251c1a439a394c9aa89aaf90f813ab17": {
          "model_module": "@jupyter-widgets/controls",
          "model_name": "DescriptionStyleModel",
          "model_module_version": "1.5.0",
          "state": {
            "_model_module": "@jupyter-widgets/controls",
            "_model_module_version": "1.5.0",
            "_model_name": "DescriptionStyleModel",
            "_view_count": null,
            "_view_module": "@jupyter-widgets/base",
            "_view_module_version": "1.2.0",
            "_view_name": "StyleView",
            "description_width": ""
          }
        },
        "6336083544c44337982ba87b12487464": {
          "model_module": "@jupyter-widgets/base",
          "model_name": "LayoutModel",
          "model_module_version": "1.2.0",
          "state": {
            "_model_module": "@jupyter-widgets/base",
            "_model_module_version": "1.2.0",
            "_model_name": "LayoutModel",
            "_view_count": null,
            "_view_module": "@jupyter-widgets/base",
            "_view_module_version": "1.2.0",
            "_view_name": "LayoutView",
            "align_content": null,
            "align_items": null,
            "align_self": null,
            "border": null,
            "bottom": null,
            "display": null,
            "flex": null,
            "flex_flow": null,
            "grid_area": null,
            "grid_auto_columns": null,
            "grid_auto_flow": null,
            "grid_auto_rows": null,
            "grid_column": null,
            "grid_gap": null,
            "grid_row": null,
            "grid_template_areas": null,
            "grid_template_columns": null,
            "grid_template_rows": null,
            "height": null,
            "justify_content": null,
            "justify_items": null,
            "left": null,
            "margin": null,
            "max_height": null,
            "max_width": null,
            "min_height": null,
            "min_width": null,
            "object_fit": null,
            "object_position": null,
            "order": null,
            "overflow": null,
            "overflow_x": null,
            "overflow_y": null,
            "padding": null,
            "right": null,
            "top": null,
            "visibility": null,
            "width": null
          }
        },
        "87d16c3952dc41c581c27d605e632034": {
          "model_module": "@jupyter-widgets/controls",
          "model_name": "ProgressStyleModel",
          "model_module_version": "1.5.0",
          "state": {
            "_model_module": "@jupyter-widgets/controls",
            "_model_module_version": "1.5.0",
            "_model_name": "ProgressStyleModel",
            "_view_count": null,
            "_view_module": "@jupyter-widgets/base",
            "_view_module_version": "1.2.0",
            "_view_name": "StyleView",
            "bar_color": null,
            "description_width": ""
          }
        },
        "7b9fcfd7229e41e8a026a327b87722ea": {
          "model_module": "@jupyter-widgets/base",
          "model_name": "LayoutModel",
          "model_module_version": "1.2.0",
          "state": {
            "_model_module": "@jupyter-widgets/base",
            "_model_module_version": "1.2.0",
            "_model_name": "LayoutModel",
            "_view_count": null,
            "_view_module": "@jupyter-widgets/base",
            "_view_module_version": "1.2.0",
            "_view_name": "LayoutView",
            "align_content": null,
            "align_items": null,
            "align_self": null,
            "border": null,
            "bottom": null,
            "display": null,
            "flex": null,
            "flex_flow": null,
            "grid_area": null,
            "grid_auto_columns": null,
            "grid_auto_flow": null,
            "grid_auto_rows": null,
            "grid_column": null,
            "grid_gap": null,
            "grid_row": null,
            "grid_template_areas": null,
            "grid_template_columns": null,
            "grid_template_rows": null,
            "height": null,
            "justify_content": null,
            "justify_items": null,
            "left": null,
            "margin": null,
            "max_height": null,
            "max_width": null,
            "min_height": null,
            "min_width": null,
            "object_fit": null,
            "object_position": null,
            "order": null,
            "overflow": null,
            "overflow_x": null,
            "overflow_y": null,
            "padding": null,
            "right": null,
            "top": null,
            "visibility": null,
            "width": null
          }
        },
        "1e8c42b69399493ea47d82d785714d7f": {
          "model_module": "@jupyter-widgets/controls",
          "model_name": "DescriptionStyleModel",
          "model_module_version": "1.5.0",
          "state": {
            "_model_module": "@jupyter-widgets/controls",
            "_model_module_version": "1.5.0",
            "_model_name": "DescriptionStyleModel",
            "_view_count": null,
            "_view_module": "@jupyter-widgets/base",
            "_view_module_version": "1.2.0",
            "_view_name": "StyleView",
            "description_width": ""
          }
        },
        "c596f3d2cbc949e29dab361eef872c97": {
          "model_module": "@jupyter-widgets/controls",
          "model_name": "HBoxModel",
          "model_module_version": "1.5.0",
          "state": {
            "_dom_classes": [],
            "_model_module": "@jupyter-widgets/controls",
            "_model_module_version": "1.5.0",
            "_model_name": "HBoxModel",
            "_view_count": null,
            "_view_module": "@jupyter-widgets/controls",
            "_view_module_version": "1.5.0",
            "_view_name": "HBoxView",
            "box_style": "",
            "children": [
              "IPY_MODEL_9ebdac6b6c024cb2a90a7bd56b70f8ec",
              "IPY_MODEL_89198b9a3f4e4475b10ca8c1c38bffb9",
              "IPY_MODEL_d7713ff2cd41483594315fe227432304"
            ],
            "layout": "IPY_MODEL_a9eb83ffe490436594b709dec1893521"
          }
        },
        "9ebdac6b6c024cb2a90a7bd56b70f8ec": {
          "model_module": "@jupyter-widgets/controls",
          "model_name": "HTMLModel",
          "model_module_version": "1.5.0",
          "state": {
            "_dom_classes": [],
            "_model_module": "@jupyter-widgets/controls",
            "_model_module_version": "1.5.0",
            "_model_name": "HTMLModel",
            "_view_count": null,
            "_view_module": "@jupyter-widgets/controls",
            "_view_module_version": "1.5.0",
            "_view_name": "HTMLView",
            "description": "",
            "description_tooltip": null,
            "layout": "IPY_MODEL_fd04d53788544875aadece39e83fe7fe",
            "placeholder": "​",
            "style": "IPY_MODEL_3b84c4e0d0924dc398ab835a765911d8",
            "value": "Downloading builder script: 100%"
          }
        },
        "89198b9a3f4e4475b10ca8c1c38bffb9": {
          "model_module": "@jupyter-widgets/controls",
          "model_name": "FloatProgressModel",
          "model_module_version": "1.5.0",
          "state": {
            "_dom_classes": [],
            "_model_module": "@jupyter-widgets/controls",
            "_model_module_version": "1.5.0",
            "_model_name": "FloatProgressModel",
            "_view_count": null,
            "_view_module": "@jupyter-widgets/controls",
            "_view_module_version": "1.5.0",
            "_view_name": "ProgressView",
            "bar_style": "success",
            "description": "",
            "description_tooltip": null,
            "layout": "IPY_MODEL_453ddea498be407fa64a4502a8bfb1a2",
            "max": 5937,
            "min": 0,
            "orientation": "horizontal",
            "style": "IPY_MODEL_f7d43675ee554df9ae53dc8e8af7ea57",
            "value": 5937
          }
        },
        "d7713ff2cd41483594315fe227432304": {
          "model_module": "@jupyter-widgets/controls",
          "model_name": "HTMLModel",
          "model_module_version": "1.5.0",
          "state": {
            "_dom_classes": [],
            "_model_module": "@jupyter-widgets/controls",
            "_model_module_version": "1.5.0",
            "_model_name": "HTMLModel",
            "_view_count": null,
            "_view_module": "@jupyter-widgets/controls",
            "_view_module_version": "1.5.0",
            "_view_name": "HTMLView",
            "description": "",
            "description_tooltip": null,
            "layout": "IPY_MODEL_b64a450c0c5e4663a61a67ffab6eab9d",
            "placeholder": "​",
            "style": "IPY_MODEL_8ee2e680f68146a8872a402a469b71c0",
            "value": " 5.94k/5.94k [00:00&lt;00:00, 441kB/s]"
          }
        },
        "a9eb83ffe490436594b709dec1893521": {
          "model_module": "@jupyter-widgets/base",
          "model_name": "LayoutModel",
          "model_module_version": "1.2.0",
          "state": {
            "_model_module": "@jupyter-widgets/base",
            "_model_module_version": "1.2.0",
            "_model_name": "LayoutModel",
            "_view_count": null,
            "_view_module": "@jupyter-widgets/base",
            "_view_module_version": "1.2.0",
            "_view_name": "LayoutView",
            "align_content": null,
            "align_items": null,
            "align_self": null,
            "border": null,
            "bottom": null,
            "display": null,
            "flex": null,
            "flex_flow": null,
            "grid_area": null,
            "grid_auto_columns": null,
            "grid_auto_flow": null,
            "grid_auto_rows": null,
            "grid_column": null,
            "grid_gap": null,
            "grid_row": null,
            "grid_template_areas": null,
            "grid_template_columns": null,
            "grid_template_rows": null,
            "height": null,
            "justify_content": null,
            "justify_items": null,
            "left": null,
            "margin": null,
            "max_height": null,
            "max_width": null,
            "min_height": null,
            "min_width": null,
            "object_fit": null,
            "object_position": null,
            "order": null,
            "overflow": null,
            "overflow_x": null,
            "overflow_y": null,
            "padding": null,
            "right": null,
            "top": null,
            "visibility": null,
            "width": null
          }
        },
        "fd04d53788544875aadece39e83fe7fe": {
          "model_module": "@jupyter-widgets/base",
          "model_name": "LayoutModel",
          "model_module_version": "1.2.0",
          "state": {
            "_model_module": "@jupyter-widgets/base",
            "_model_module_version": "1.2.0",
            "_model_name": "LayoutModel",
            "_view_count": null,
            "_view_module": "@jupyter-widgets/base",
            "_view_module_version": "1.2.0",
            "_view_name": "LayoutView",
            "align_content": null,
            "align_items": null,
            "align_self": null,
            "border": null,
            "bottom": null,
            "display": null,
            "flex": null,
            "flex_flow": null,
            "grid_area": null,
            "grid_auto_columns": null,
            "grid_auto_flow": null,
            "grid_auto_rows": null,
            "grid_column": null,
            "grid_gap": null,
            "grid_row": null,
            "grid_template_areas": null,
            "grid_template_columns": null,
            "grid_template_rows": null,
            "height": null,
            "justify_content": null,
            "justify_items": null,
            "left": null,
            "margin": null,
            "max_height": null,
            "max_width": null,
            "min_height": null,
            "min_width": null,
            "object_fit": null,
            "object_position": null,
            "order": null,
            "overflow": null,
            "overflow_x": null,
            "overflow_y": null,
            "padding": null,
            "right": null,
            "top": null,
            "visibility": null,
            "width": null
          }
        },
        "3b84c4e0d0924dc398ab835a765911d8": {
          "model_module": "@jupyter-widgets/controls",
          "model_name": "DescriptionStyleModel",
          "model_module_version": "1.5.0",
          "state": {
            "_model_module": "@jupyter-widgets/controls",
            "_model_module_version": "1.5.0",
            "_model_name": "DescriptionStyleModel",
            "_view_count": null,
            "_view_module": "@jupyter-widgets/base",
            "_view_module_version": "1.2.0",
            "_view_name": "StyleView",
            "description_width": ""
          }
        },
        "453ddea498be407fa64a4502a8bfb1a2": {
          "model_module": "@jupyter-widgets/base",
          "model_name": "LayoutModel",
          "model_module_version": "1.2.0",
          "state": {
            "_model_module": "@jupyter-widgets/base",
            "_model_module_version": "1.2.0",
            "_model_name": "LayoutModel",
            "_view_count": null,
            "_view_module": "@jupyter-widgets/base",
            "_view_module_version": "1.2.0",
            "_view_name": "LayoutView",
            "align_content": null,
            "align_items": null,
            "align_self": null,
            "border": null,
            "bottom": null,
            "display": null,
            "flex": null,
            "flex_flow": null,
            "grid_area": null,
            "grid_auto_columns": null,
            "grid_auto_flow": null,
            "grid_auto_rows": null,
            "grid_column": null,
            "grid_gap": null,
            "grid_row": null,
            "grid_template_areas": null,
            "grid_template_columns": null,
            "grid_template_rows": null,
            "height": null,
            "justify_content": null,
            "justify_items": null,
            "left": null,
            "margin": null,
            "max_height": null,
            "max_width": null,
            "min_height": null,
            "min_width": null,
            "object_fit": null,
            "object_position": null,
            "order": null,
            "overflow": null,
            "overflow_x": null,
            "overflow_y": null,
            "padding": null,
            "right": null,
            "top": null,
            "visibility": null,
            "width": null
          }
        },
        "f7d43675ee554df9ae53dc8e8af7ea57": {
          "model_module": "@jupyter-widgets/controls",
          "model_name": "ProgressStyleModel",
          "model_module_version": "1.5.0",
          "state": {
            "_model_module": "@jupyter-widgets/controls",
            "_model_module_version": "1.5.0",
            "_model_name": "ProgressStyleModel",
            "_view_count": null,
            "_view_module": "@jupyter-widgets/base",
            "_view_module_version": "1.2.0",
            "_view_name": "StyleView",
            "bar_color": null,
            "description_width": ""
          }
        },
        "b64a450c0c5e4663a61a67ffab6eab9d": {
          "model_module": "@jupyter-widgets/base",
          "model_name": "LayoutModel",
          "model_module_version": "1.2.0",
          "state": {
            "_model_module": "@jupyter-widgets/base",
            "_model_module_version": "1.2.0",
            "_model_name": "LayoutModel",
            "_view_count": null,
            "_view_module": "@jupyter-widgets/base",
            "_view_module_version": "1.2.0",
            "_view_name": "LayoutView",
            "align_content": null,
            "align_items": null,
            "align_self": null,
            "border": null,
            "bottom": null,
            "display": null,
            "flex": null,
            "flex_flow": null,
            "grid_area": null,
            "grid_auto_columns": null,
            "grid_auto_flow": null,
            "grid_auto_rows": null,
            "grid_column": null,
            "grid_gap": null,
            "grid_row": null,
            "grid_template_areas": null,
            "grid_template_columns": null,
            "grid_template_rows": null,
            "height": null,
            "justify_content": null,
            "justify_items": null,
            "left": null,
            "margin": null,
            "max_height": null,
            "max_width": null,
            "min_height": null,
            "min_width": null,
            "object_fit": null,
            "object_position": null,
            "order": null,
            "overflow": null,
            "overflow_x": null,
            "overflow_y": null,
            "padding": null,
            "right": null,
            "top": null,
            "visibility": null,
            "width": null
          }
        },
        "8ee2e680f68146a8872a402a469b71c0": {
          "model_module": "@jupyter-widgets/controls",
          "model_name": "DescriptionStyleModel",
          "model_module_version": "1.5.0",
          "state": {
            "_model_module": "@jupyter-widgets/controls",
            "_model_module_version": "1.5.0",
            "_model_name": "DescriptionStyleModel",
            "_view_count": null,
            "_view_module": "@jupyter-widgets/base",
            "_view_module_version": "1.2.0",
            "_view_name": "StyleView",
            "description_width": ""
          }
        },
        "8ff87b97d9f642e383c2af9813b024f1": {
          "model_module": "@jupyter-widgets/controls",
          "model_name": "HBoxModel",
          "model_module_version": "1.5.0",
          "state": {
            "_dom_classes": [],
            "_model_module": "@jupyter-widgets/controls",
            "_model_module_version": "1.5.0",
            "_model_name": "HBoxModel",
            "_view_count": null,
            "_view_module": "@jupyter-widgets/controls",
            "_view_module_version": "1.5.0",
            "_view_name": "HBoxView",
            "box_style": "",
            "children": [
              "IPY_MODEL_6ed4e1ba113046cda8b5394e78b7f44c",
              "IPY_MODEL_a2d67b0477a04589b3eb33855599c747",
              "IPY_MODEL_36989b1bcfec47adabfe23787dc4e490"
            ],
            "layout": "IPY_MODEL_43744ee1fabe4b14ada769005e774adf"
          }
        },
        "6ed4e1ba113046cda8b5394e78b7f44c": {
          "model_module": "@jupyter-widgets/controls",
          "model_name": "HTMLModel",
          "model_module_version": "1.5.0",
          "state": {
            "_dom_classes": [],
            "_model_module": "@jupyter-widgets/controls",
            "_model_module_version": "1.5.0",
            "_model_name": "HTMLModel",
            "_view_count": null,
            "_view_module": "@jupyter-widgets/controls",
            "_view_module_version": "1.5.0",
            "_view_name": "HTMLView",
            "description": "",
            "description_tooltip": null,
            "layout": "IPY_MODEL_22910168ccb9483fa77a1a9eea497088",
            "placeholder": "​",
            "style": "IPY_MODEL_f7a8906665fd49568b9f7b28dc1db814",
            "value": "Downloading extra modules: "
          }
        },
        "a2d67b0477a04589b3eb33855599c747": {
          "model_module": "@jupyter-widgets/controls",
          "model_name": "FloatProgressModel",
          "model_module_version": "1.5.0",
          "state": {
            "_dom_classes": [],
            "_model_module": "@jupyter-widgets/controls",
            "_model_module_version": "1.5.0",
            "_model_name": "FloatProgressModel",
            "_view_count": null,
            "_view_module": "@jupyter-widgets/controls",
            "_view_module_version": "1.5.0",
            "_view_name": "ProgressView",
            "bar_style": "success",
            "description": "",
            "description_tooltip": null,
            "layout": "IPY_MODEL_1c3a4073b8414bc9aa5cbde63bef93bb",
            "max": 1554,
            "min": 0,
            "orientation": "horizontal",
            "style": "IPY_MODEL_c265db00209b41dfbfff04ef3de421a4",
            "value": 1554
          }
        },
        "36989b1bcfec47adabfe23787dc4e490": {
          "model_module": "@jupyter-widgets/controls",
          "model_name": "HTMLModel",
          "model_module_version": "1.5.0",
          "state": {
            "_dom_classes": [],
            "_model_module": "@jupyter-widgets/controls",
            "_model_module_version": "1.5.0",
            "_model_name": "HTMLModel",
            "_view_count": null,
            "_view_module": "@jupyter-widgets/controls",
            "_view_module_version": "1.5.0",
            "_view_name": "HTMLView",
            "description": "",
            "description_tooltip": null,
            "layout": "IPY_MODEL_490da808ddcc4f8e852de0e208b64cbe",
            "placeholder": "​",
            "style": "IPY_MODEL_7044b84df17841c18a09c4da2af83bd6",
            "value": " 4.07k/? [00:00&lt;00:00, 281kB/s]"
          }
        },
        "43744ee1fabe4b14ada769005e774adf": {
          "model_module": "@jupyter-widgets/base",
          "model_name": "LayoutModel",
          "model_module_version": "1.2.0",
          "state": {
            "_model_module": "@jupyter-widgets/base",
            "_model_module_version": "1.2.0",
            "_model_name": "LayoutModel",
            "_view_count": null,
            "_view_module": "@jupyter-widgets/base",
            "_view_module_version": "1.2.0",
            "_view_name": "LayoutView",
            "align_content": null,
            "align_items": null,
            "align_self": null,
            "border": null,
            "bottom": null,
            "display": null,
            "flex": null,
            "flex_flow": null,
            "grid_area": null,
            "grid_auto_columns": null,
            "grid_auto_flow": null,
            "grid_auto_rows": null,
            "grid_column": null,
            "grid_gap": null,
            "grid_row": null,
            "grid_template_areas": null,
            "grid_template_columns": null,
            "grid_template_rows": null,
            "height": null,
            "justify_content": null,
            "justify_items": null,
            "left": null,
            "margin": null,
            "max_height": null,
            "max_width": null,
            "min_height": null,
            "min_width": null,
            "object_fit": null,
            "object_position": null,
            "order": null,
            "overflow": null,
            "overflow_x": null,
            "overflow_y": null,
            "padding": null,
            "right": null,
            "top": null,
            "visibility": null,
            "width": null
          }
        },
        "22910168ccb9483fa77a1a9eea497088": {
          "model_module": "@jupyter-widgets/base",
          "model_name": "LayoutModel",
          "model_module_version": "1.2.0",
          "state": {
            "_model_module": "@jupyter-widgets/base",
            "_model_module_version": "1.2.0",
            "_model_name": "LayoutModel",
            "_view_count": null,
            "_view_module": "@jupyter-widgets/base",
            "_view_module_version": "1.2.0",
            "_view_name": "LayoutView",
            "align_content": null,
            "align_items": null,
            "align_self": null,
            "border": null,
            "bottom": null,
            "display": null,
            "flex": null,
            "flex_flow": null,
            "grid_area": null,
            "grid_auto_columns": null,
            "grid_auto_flow": null,
            "grid_auto_rows": null,
            "grid_column": null,
            "grid_gap": null,
            "grid_row": null,
            "grid_template_areas": null,
            "grid_template_columns": null,
            "grid_template_rows": null,
            "height": null,
            "justify_content": null,
            "justify_items": null,
            "left": null,
            "margin": null,
            "max_height": null,
            "max_width": null,
            "min_height": null,
            "min_width": null,
            "object_fit": null,
            "object_position": null,
            "order": null,
            "overflow": null,
            "overflow_x": null,
            "overflow_y": null,
            "padding": null,
            "right": null,
            "top": null,
            "visibility": null,
            "width": null
          }
        },
        "f7a8906665fd49568b9f7b28dc1db814": {
          "model_module": "@jupyter-widgets/controls",
          "model_name": "DescriptionStyleModel",
          "model_module_version": "1.5.0",
          "state": {
            "_model_module": "@jupyter-widgets/controls",
            "_model_module_version": "1.5.0",
            "_model_name": "DescriptionStyleModel",
            "_view_count": null,
            "_view_module": "@jupyter-widgets/base",
            "_view_module_version": "1.2.0",
            "_view_name": "StyleView",
            "description_width": ""
          }
        },
        "1c3a4073b8414bc9aa5cbde63bef93bb": {
          "model_module": "@jupyter-widgets/base",
          "model_name": "LayoutModel",
          "model_module_version": "1.2.0",
          "state": {
            "_model_module": "@jupyter-widgets/base",
            "_model_module_version": "1.2.0",
            "_model_name": "LayoutModel",
            "_view_count": null,
            "_view_module": "@jupyter-widgets/base",
            "_view_module_version": "1.2.0",
            "_view_name": "LayoutView",
            "align_content": null,
            "align_items": null,
            "align_self": null,
            "border": null,
            "bottom": null,
            "display": null,
            "flex": null,
            "flex_flow": null,
            "grid_area": null,
            "grid_auto_columns": null,
            "grid_auto_flow": null,
            "grid_auto_rows": null,
            "grid_column": null,
            "grid_gap": null,
            "grid_row": null,
            "grid_template_areas": null,
            "grid_template_columns": null,
            "grid_template_rows": null,
            "height": null,
            "justify_content": null,
            "justify_items": null,
            "left": null,
            "margin": null,
            "max_height": null,
            "max_width": null,
            "min_height": null,
            "min_width": null,
            "object_fit": null,
            "object_position": null,
            "order": null,
            "overflow": null,
            "overflow_x": null,
            "overflow_y": null,
            "padding": null,
            "right": null,
            "top": null,
            "visibility": null,
            "width": null
          }
        },
        "c265db00209b41dfbfff04ef3de421a4": {
          "model_module": "@jupyter-widgets/controls",
          "model_name": "ProgressStyleModel",
          "model_module_version": "1.5.0",
          "state": {
            "_model_module": "@jupyter-widgets/controls",
            "_model_module_version": "1.5.0",
            "_model_name": "ProgressStyleModel",
            "_view_count": null,
            "_view_module": "@jupyter-widgets/base",
            "_view_module_version": "1.2.0",
            "_view_name": "StyleView",
            "bar_color": null,
            "description_width": ""
          }
        },
        "490da808ddcc4f8e852de0e208b64cbe": {
          "model_module": "@jupyter-widgets/base",
          "model_name": "LayoutModel",
          "model_module_version": "1.2.0",
          "state": {
            "_model_module": "@jupyter-widgets/base",
            "_model_module_version": "1.2.0",
            "_model_name": "LayoutModel",
            "_view_count": null,
            "_view_module": "@jupyter-widgets/base",
            "_view_module_version": "1.2.0",
            "_view_name": "LayoutView",
            "align_content": null,
            "align_items": null,
            "align_self": null,
            "border": null,
            "bottom": null,
            "display": null,
            "flex": null,
            "flex_flow": null,
            "grid_area": null,
            "grid_auto_columns": null,
            "grid_auto_flow": null,
            "grid_auto_rows": null,
            "grid_column": null,
            "grid_gap": null,
            "grid_row": null,
            "grid_template_areas": null,
            "grid_template_columns": null,
            "grid_template_rows": null,
            "height": null,
            "justify_content": null,
            "justify_items": null,
            "left": null,
            "margin": null,
            "max_height": null,
            "max_width": null,
            "min_height": null,
            "min_width": null,
            "object_fit": null,
            "object_position": null,
            "order": null,
            "overflow": null,
            "overflow_x": null,
            "overflow_y": null,
            "padding": null,
            "right": null,
            "top": null,
            "visibility": null,
            "width": null
          }
        },
        "7044b84df17841c18a09c4da2af83bd6": {
          "model_module": "@jupyter-widgets/controls",
          "model_name": "DescriptionStyleModel",
          "model_module_version": "1.5.0",
          "state": {
            "_model_module": "@jupyter-widgets/controls",
            "_model_module_version": "1.5.0",
            "_model_name": "DescriptionStyleModel",
            "_view_count": null,
            "_view_module": "@jupyter-widgets/base",
            "_view_module_version": "1.2.0",
            "_view_name": "StyleView",
            "description_width": ""
          }
        },
        "a6d40d202fdc4a91bb2a56f2adc038bd": {
          "model_module": "@jupyter-widgets/controls",
          "model_name": "HBoxModel",
          "model_module_version": "1.5.0",
          "state": {
            "_dom_classes": [],
            "_model_module": "@jupyter-widgets/controls",
            "_model_module_version": "1.5.0",
            "_model_name": "HBoxModel",
            "_view_count": null,
            "_view_module": "@jupyter-widgets/controls",
            "_view_module_version": "1.5.0",
            "_view_name": "HBoxView",
            "box_style": "",
            "children": [
              "IPY_MODEL_7db8bd6394f14126b3ee57cd4179fb3d",
              "IPY_MODEL_1991ac4883f14a82b7970f8a2110ab6d",
              "IPY_MODEL_4037bcc1093845e9b04fd2bbea14e6ec"
            ],
            "layout": "IPY_MODEL_8b4c3e9526ba4c4386c8c1e2aeb8820b"
          }
        },
        "7db8bd6394f14126b3ee57cd4179fb3d": {
          "model_module": "@jupyter-widgets/controls",
          "model_name": "HTMLModel",
          "model_module_version": "1.5.0",
          "state": {
            "_dom_classes": [],
            "_model_module": "@jupyter-widgets/controls",
            "_model_module_version": "1.5.0",
            "_model_name": "HTMLModel",
            "_view_count": null,
            "_view_module": "@jupyter-widgets/controls",
            "_view_module_version": "1.5.0",
            "_view_name": "HTMLView",
            "description": "",
            "description_tooltip": null,
            "layout": "IPY_MODEL_eade391e5c1a42f28be0d853e1187ac3",
            "placeholder": "​",
            "style": "IPY_MODEL_cf922746723a4d5b8f95b3175b420db5",
            "value": "Downloading extra modules: 100%"
          }
        },
        "1991ac4883f14a82b7970f8a2110ab6d": {
          "model_module": "@jupyter-widgets/controls",
          "model_name": "FloatProgressModel",
          "model_module_version": "1.5.0",
          "state": {
            "_dom_classes": [],
            "_model_module": "@jupyter-widgets/controls",
            "_model_module_version": "1.5.0",
            "_model_name": "FloatProgressModel",
            "_view_count": null,
            "_view_module": "@jupyter-widgets/controls",
            "_view_module_version": "1.5.0",
            "_view_name": "ProgressView",
            "bar_style": "success",
            "description": "",
            "description_tooltip": null,
            "layout": "IPY_MODEL_dec55773e7374405b8307cea5b40da77",
            "max": 3344,
            "min": 0,
            "orientation": "horizontal",
            "style": "IPY_MODEL_7ca637eeaafe455db61e31452add9aaf",
            "value": 3344
          }
        },
        "4037bcc1093845e9b04fd2bbea14e6ec": {
          "model_module": "@jupyter-widgets/controls",
          "model_name": "HTMLModel",
          "model_module_version": "1.5.0",
          "state": {
            "_dom_classes": [],
            "_model_module": "@jupyter-widgets/controls",
            "_model_module_version": "1.5.0",
            "_model_name": "HTMLModel",
            "_view_count": null,
            "_view_module": "@jupyter-widgets/controls",
            "_view_module_version": "1.5.0",
            "_view_name": "HTMLView",
            "description": "",
            "description_tooltip": null,
            "layout": "IPY_MODEL_13ae832a44f7492486c7bf1c1991f763",
            "placeholder": "​",
            "style": "IPY_MODEL_1296e6d0a2b148a9a4d1b9338610b31f",
            "value": " 3.34k/3.34k [00:00&lt;00:00, 276kB/s]"
          }
        },
        "8b4c3e9526ba4c4386c8c1e2aeb8820b": {
          "model_module": "@jupyter-widgets/base",
          "model_name": "LayoutModel",
          "model_module_version": "1.2.0",
          "state": {
            "_model_module": "@jupyter-widgets/base",
            "_model_module_version": "1.2.0",
            "_model_name": "LayoutModel",
            "_view_count": null,
            "_view_module": "@jupyter-widgets/base",
            "_view_module_version": "1.2.0",
            "_view_name": "LayoutView",
            "align_content": null,
            "align_items": null,
            "align_self": null,
            "border": null,
            "bottom": null,
            "display": null,
            "flex": null,
            "flex_flow": null,
            "grid_area": null,
            "grid_auto_columns": null,
            "grid_auto_flow": null,
            "grid_auto_rows": null,
            "grid_column": null,
            "grid_gap": null,
            "grid_row": null,
            "grid_template_areas": null,
            "grid_template_columns": null,
            "grid_template_rows": null,
            "height": null,
            "justify_content": null,
            "justify_items": null,
            "left": null,
            "margin": null,
            "max_height": null,
            "max_width": null,
            "min_height": null,
            "min_width": null,
            "object_fit": null,
            "object_position": null,
            "order": null,
            "overflow": null,
            "overflow_x": null,
            "overflow_y": null,
            "padding": null,
            "right": null,
            "top": null,
            "visibility": null,
            "width": null
          }
        },
        "eade391e5c1a42f28be0d853e1187ac3": {
          "model_module": "@jupyter-widgets/base",
          "model_name": "LayoutModel",
          "model_module_version": "1.2.0",
          "state": {
            "_model_module": "@jupyter-widgets/base",
            "_model_module_version": "1.2.0",
            "_model_name": "LayoutModel",
            "_view_count": null,
            "_view_module": "@jupyter-widgets/base",
            "_view_module_version": "1.2.0",
            "_view_name": "LayoutView",
            "align_content": null,
            "align_items": null,
            "align_self": null,
            "border": null,
            "bottom": null,
            "display": null,
            "flex": null,
            "flex_flow": null,
            "grid_area": null,
            "grid_auto_columns": null,
            "grid_auto_flow": null,
            "grid_auto_rows": null,
            "grid_column": null,
            "grid_gap": null,
            "grid_row": null,
            "grid_template_areas": null,
            "grid_template_columns": null,
            "grid_template_rows": null,
            "height": null,
            "justify_content": null,
            "justify_items": null,
            "left": null,
            "margin": null,
            "max_height": null,
            "max_width": null,
            "min_height": null,
            "min_width": null,
            "object_fit": null,
            "object_position": null,
            "order": null,
            "overflow": null,
            "overflow_x": null,
            "overflow_y": null,
            "padding": null,
            "right": null,
            "top": null,
            "visibility": null,
            "width": null
          }
        },
        "cf922746723a4d5b8f95b3175b420db5": {
          "model_module": "@jupyter-widgets/controls",
          "model_name": "DescriptionStyleModel",
          "model_module_version": "1.5.0",
          "state": {
            "_model_module": "@jupyter-widgets/controls",
            "_model_module_version": "1.5.0",
            "_model_name": "DescriptionStyleModel",
            "_view_count": null,
            "_view_module": "@jupyter-widgets/base",
            "_view_module_version": "1.2.0",
            "_view_name": "StyleView",
            "description_width": ""
          }
        },
        "dec55773e7374405b8307cea5b40da77": {
          "model_module": "@jupyter-widgets/base",
          "model_name": "LayoutModel",
          "model_module_version": "1.2.0",
          "state": {
            "_model_module": "@jupyter-widgets/base",
            "_model_module_version": "1.2.0",
            "_model_name": "LayoutModel",
            "_view_count": null,
            "_view_module": "@jupyter-widgets/base",
            "_view_module_version": "1.2.0",
            "_view_name": "LayoutView",
            "align_content": null,
            "align_items": null,
            "align_self": null,
            "border": null,
            "bottom": null,
            "display": null,
            "flex": null,
            "flex_flow": null,
            "grid_area": null,
            "grid_auto_columns": null,
            "grid_auto_flow": null,
            "grid_auto_rows": null,
            "grid_column": null,
            "grid_gap": null,
            "grid_row": null,
            "grid_template_areas": null,
            "grid_template_columns": null,
            "grid_template_rows": null,
            "height": null,
            "justify_content": null,
            "justify_items": null,
            "left": null,
            "margin": null,
            "max_height": null,
            "max_width": null,
            "min_height": null,
            "min_width": null,
            "object_fit": null,
            "object_position": null,
            "order": null,
            "overflow": null,
            "overflow_x": null,
            "overflow_y": null,
            "padding": null,
            "right": null,
            "top": null,
            "visibility": null,
            "width": null
          }
        },
        "7ca637eeaafe455db61e31452add9aaf": {
          "model_module": "@jupyter-widgets/controls",
          "model_name": "ProgressStyleModel",
          "model_module_version": "1.5.0",
          "state": {
            "_model_module": "@jupyter-widgets/controls",
            "_model_module_version": "1.5.0",
            "_model_name": "ProgressStyleModel",
            "_view_count": null,
            "_view_module": "@jupyter-widgets/base",
            "_view_module_version": "1.2.0",
            "_view_name": "StyleView",
            "bar_color": null,
            "description_width": ""
          }
        },
        "13ae832a44f7492486c7bf1c1991f763": {
          "model_module": "@jupyter-widgets/base",
          "model_name": "LayoutModel",
          "model_module_version": "1.2.0",
          "state": {
            "_model_module": "@jupyter-widgets/base",
            "_model_module_version": "1.2.0",
            "_model_name": "LayoutModel",
            "_view_count": null,
            "_view_module": "@jupyter-widgets/base",
            "_view_module_version": "1.2.0",
            "_view_name": "LayoutView",
            "align_content": null,
            "align_items": null,
            "align_self": null,
            "border": null,
            "bottom": null,
            "display": null,
            "flex": null,
            "flex_flow": null,
            "grid_area": null,
            "grid_auto_columns": null,
            "grid_auto_flow": null,
            "grid_auto_rows": null,
            "grid_column": null,
            "grid_gap": null,
            "grid_row": null,
            "grid_template_areas": null,
            "grid_template_columns": null,
            "grid_template_rows": null,
            "height": null,
            "justify_content": null,
            "justify_items": null,
            "left": null,
            "margin": null,
            "max_height": null,
            "max_width": null,
            "min_height": null,
            "min_width": null,
            "object_fit": null,
            "object_position": null,
            "order": null,
            "overflow": null,
            "overflow_x": null,
            "overflow_y": null,
            "padding": null,
            "right": null,
            "top": null,
            "visibility": null,
            "width": null
          }
        },
        "1296e6d0a2b148a9a4d1b9338610b31f": {
          "model_module": "@jupyter-widgets/controls",
          "model_name": "DescriptionStyleModel",
          "model_module_version": "1.5.0",
          "state": {
            "_model_module": "@jupyter-widgets/controls",
            "_model_module_version": "1.5.0",
            "_model_name": "DescriptionStyleModel",
            "_view_count": null,
            "_view_module": "@jupyter-widgets/base",
            "_view_module_version": "1.2.0",
            "_view_name": "StyleView",
            "description_width": ""
          }
        },
        "fee655b23ac54f7c8876928fde9a21e6": {
          "model_module": "@jupyter-widgets/controls",
          "model_name": "HBoxModel",
          "model_module_version": "1.5.0",
          "state": {
            "_dom_classes": [],
            "_model_module": "@jupyter-widgets/controls",
            "_model_module_version": "1.5.0",
            "_model_name": "HBoxModel",
            "_view_count": null,
            "_view_module": "@jupyter-widgets/controls",
            "_view_module_version": "1.5.0",
            "_view_name": "HBoxView",
            "box_style": "",
            "children": [
              "IPY_MODEL_555161d238394b43bedd6ca6b26deed1",
              "IPY_MODEL_7fe33fb279dc40af8c6866d8312969a8",
              "IPY_MODEL_f4de25ad47d6470b8971717e5573b95b"
            ],
            "layout": "IPY_MODEL_5de8214aa8244318b47afa52630394a9"
          }
        },
        "555161d238394b43bedd6ca6b26deed1": {
          "model_module": "@jupyter-widgets/controls",
          "model_name": "HTMLModel",
          "model_module_version": "1.5.0",
          "state": {
            "_dom_classes": [],
            "_model_module": "@jupyter-widgets/controls",
            "_model_module_version": "1.5.0",
            "_model_name": "HTMLModel",
            "_view_count": null,
            "_view_module": "@jupyter-widgets/controls",
            "_view_module_version": "1.5.0",
            "_view_name": "HTMLView",
            "description": "",
            "description_tooltip": null,
            "layout": "IPY_MODEL_bfac084743cc4350bdecaee3dee77a10",
            "placeholder": "​",
            "style": "IPY_MODEL_99518930328a44fea19c963af22d4bde",
            "value": "Downloading builder script: 100%"
          }
        },
        "7fe33fb279dc40af8c6866d8312969a8": {
          "model_module": "@jupyter-widgets/controls",
          "model_name": "FloatProgressModel",
          "model_module_version": "1.5.0",
          "state": {
            "_dom_classes": [],
            "_model_module": "@jupyter-widgets/controls",
            "_model_module_version": "1.5.0",
            "_model_name": "FloatProgressModel",
            "_view_count": null,
            "_view_module": "@jupyter-widgets/controls",
            "_view_module_version": "1.5.0",
            "_view_name": "ProgressView",
            "bar_style": "success",
            "description": "",
            "description_tooltip": null,
            "layout": "IPY_MODEL_dc084d50ac424db58390dbf8f2b36e0b",
            "max": 6809,
            "min": 0,
            "orientation": "horizontal",
            "style": "IPY_MODEL_a589e037d42441e7b1816741d8332e67",
            "value": 6809
          }
        },
        "f4de25ad47d6470b8971717e5573b95b": {
          "model_module": "@jupyter-widgets/controls",
          "model_name": "HTMLModel",
          "model_module_version": "1.5.0",
          "state": {
            "_dom_classes": [],
            "_model_module": "@jupyter-widgets/controls",
            "_model_module_version": "1.5.0",
            "_model_name": "HTMLModel",
            "_view_count": null,
            "_view_module": "@jupyter-widgets/controls",
            "_view_module_version": "1.5.0",
            "_view_name": "HTMLView",
            "description": "",
            "description_tooltip": null,
            "layout": "IPY_MODEL_7d3d1877bfc34a3d954a96382adeda2c",
            "placeholder": "​",
            "style": "IPY_MODEL_2daaa9b8f6db49469dca174f429bd6b3",
            "value": " 6.81k/6.81k [00:00&lt;00:00, 529kB/s]"
          }
        },
        "5de8214aa8244318b47afa52630394a9": {
          "model_module": "@jupyter-widgets/base",
          "model_name": "LayoutModel",
          "model_module_version": "1.2.0",
          "state": {
            "_model_module": "@jupyter-widgets/base",
            "_model_module_version": "1.2.0",
            "_model_name": "LayoutModel",
            "_view_count": null,
            "_view_module": "@jupyter-widgets/base",
            "_view_module_version": "1.2.0",
            "_view_name": "LayoutView",
            "align_content": null,
            "align_items": null,
            "align_self": null,
            "border": null,
            "bottom": null,
            "display": null,
            "flex": null,
            "flex_flow": null,
            "grid_area": null,
            "grid_auto_columns": null,
            "grid_auto_flow": null,
            "grid_auto_rows": null,
            "grid_column": null,
            "grid_gap": null,
            "grid_row": null,
            "grid_template_areas": null,
            "grid_template_columns": null,
            "grid_template_rows": null,
            "height": null,
            "justify_content": null,
            "justify_items": null,
            "left": null,
            "margin": null,
            "max_height": null,
            "max_width": null,
            "min_height": null,
            "min_width": null,
            "object_fit": null,
            "object_position": null,
            "order": null,
            "overflow": null,
            "overflow_x": null,
            "overflow_y": null,
            "padding": null,
            "right": null,
            "top": null,
            "visibility": null,
            "width": null
          }
        },
        "bfac084743cc4350bdecaee3dee77a10": {
          "model_module": "@jupyter-widgets/base",
          "model_name": "LayoutModel",
          "model_module_version": "1.2.0",
          "state": {
            "_model_module": "@jupyter-widgets/base",
            "_model_module_version": "1.2.0",
            "_model_name": "LayoutModel",
            "_view_count": null,
            "_view_module": "@jupyter-widgets/base",
            "_view_module_version": "1.2.0",
            "_view_name": "LayoutView",
            "align_content": null,
            "align_items": null,
            "align_self": null,
            "border": null,
            "bottom": null,
            "display": null,
            "flex": null,
            "flex_flow": null,
            "grid_area": null,
            "grid_auto_columns": null,
            "grid_auto_flow": null,
            "grid_auto_rows": null,
            "grid_column": null,
            "grid_gap": null,
            "grid_row": null,
            "grid_template_areas": null,
            "grid_template_columns": null,
            "grid_template_rows": null,
            "height": null,
            "justify_content": null,
            "justify_items": null,
            "left": null,
            "margin": null,
            "max_height": null,
            "max_width": null,
            "min_height": null,
            "min_width": null,
            "object_fit": null,
            "object_position": null,
            "order": null,
            "overflow": null,
            "overflow_x": null,
            "overflow_y": null,
            "padding": null,
            "right": null,
            "top": null,
            "visibility": null,
            "width": null
          }
        },
        "99518930328a44fea19c963af22d4bde": {
          "model_module": "@jupyter-widgets/controls",
          "model_name": "DescriptionStyleModel",
          "model_module_version": "1.5.0",
          "state": {
            "_model_module": "@jupyter-widgets/controls",
            "_model_module_version": "1.5.0",
            "_model_name": "DescriptionStyleModel",
            "_view_count": null,
            "_view_module": "@jupyter-widgets/base",
            "_view_module_version": "1.2.0",
            "_view_name": "StyleView",
            "description_width": ""
          }
        },
        "dc084d50ac424db58390dbf8f2b36e0b": {
          "model_module": "@jupyter-widgets/base",
          "model_name": "LayoutModel",
          "model_module_version": "1.2.0",
          "state": {
            "_model_module": "@jupyter-widgets/base",
            "_model_module_version": "1.2.0",
            "_model_name": "LayoutModel",
            "_view_count": null,
            "_view_module": "@jupyter-widgets/base",
            "_view_module_version": "1.2.0",
            "_view_name": "LayoutView",
            "align_content": null,
            "align_items": null,
            "align_self": null,
            "border": null,
            "bottom": null,
            "display": null,
            "flex": null,
            "flex_flow": null,
            "grid_area": null,
            "grid_auto_columns": null,
            "grid_auto_flow": null,
            "grid_auto_rows": null,
            "grid_column": null,
            "grid_gap": null,
            "grid_row": null,
            "grid_template_areas": null,
            "grid_template_columns": null,
            "grid_template_rows": null,
            "height": null,
            "justify_content": null,
            "justify_items": null,
            "left": null,
            "margin": null,
            "max_height": null,
            "max_width": null,
            "min_height": null,
            "min_width": null,
            "object_fit": null,
            "object_position": null,
            "order": null,
            "overflow": null,
            "overflow_x": null,
            "overflow_y": null,
            "padding": null,
            "right": null,
            "top": null,
            "visibility": null,
            "width": null
          }
        },
        "a589e037d42441e7b1816741d8332e67": {
          "model_module": "@jupyter-widgets/controls",
          "model_name": "ProgressStyleModel",
          "model_module_version": "1.5.0",
          "state": {
            "_model_module": "@jupyter-widgets/controls",
            "_model_module_version": "1.5.0",
            "_model_name": "ProgressStyleModel",
            "_view_count": null,
            "_view_module": "@jupyter-widgets/base",
            "_view_module_version": "1.2.0",
            "_view_name": "StyleView",
            "bar_color": null,
            "description_width": ""
          }
        },
        "7d3d1877bfc34a3d954a96382adeda2c": {
          "model_module": "@jupyter-widgets/base",
          "model_name": "LayoutModel",
          "model_module_version": "1.2.0",
          "state": {
            "_model_module": "@jupyter-widgets/base",
            "_model_module_version": "1.2.0",
            "_model_name": "LayoutModel",
            "_view_count": null,
            "_view_module": "@jupyter-widgets/base",
            "_view_module_version": "1.2.0",
            "_view_name": "LayoutView",
            "align_content": null,
            "align_items": null,
            "align_self": null,
            "border": null,
            "bottom": null,
            "display": null,
            "flex": null,
            "flex_flow": null,
            "grid_area": null,
            "grid_auto_columns": null,
            "grid_auto_flow": null,
            "grid_auto_rows": null,
            "grid_column": null,
            "grid_gap": null,
            "grid_row": null,
            "grid_template_areas": null,
            "grid_template_columns": null,
            "grid_template_rows": null,
            "height": null,
            "justify_content": null,
            "justify_items": null,
            "left": null,
            "margin": null,
            "max_height": null,
            "max_width": null,
            "min_height": null,
            "min_width": null,
            "object_fit": null,
            "object_position": null,
            "order": null,
            "overflow": null,
            "overflow_x": null,
            "overflow_y": null,
            "padding": null,
            "right": null,
            "top": null,
            "visibility": null,
            "width": null
          }
        },
        "2daaa9b8f6db49469dca174f429bd6b3": {
          "model_module": "@jupyter-widgets/controls",
          "model_name": "DescriptionStyleModel",
          "model_module_version": "1.5.0",
          "state": {
            "_model_module": "@jupyter-widgets/controls",
            "_model_module_version": "1.5.0",
            "_model_name": "DescriptionStyleModel",
            "_view_count": null,
            "_view_module": "@jupyter-widgets/base",
            "_view_module_version": "1.2.0",
            "_view_name": "StyleView",
            "description_width": ""
          }
        },
        "accab1135c4448a4a3eb750c1b81ebd5": {
          "model_module": "@jupyter-widgets/controls",
          "model_name": "HBoxModel",
          "model_module_version": "1.5.0",
          "state": {
            "_dom_classes": [],
            "_model_module": "@jupyter-widgets/controls",
            "_model_module_version": "1.5.0",
            "_model_name": "HBoxModel",
            "_view_count": null,
            "_view_module": "@jupyter-widgets/controls",
            "_view_module_version": "1.5.0",
            "_view_name": "HBoxView",
            "box_style": "",
            "children": [
              "IPY_MODEL_7c560187e5c14c42af72f25aaa6680d6",
              "IPY_MODEL_f785b3092bac4469bd306c6fbfefab56",
              "IPY_MODEL_39ced7a7a22443c3ba1fa15165be5270"
            ],
            "layout": "IPY_MODEL_4dbd388fae7c4129a2db9f25a1af7b69"
          }
        },
        "7c560187e5c14c42af72f25aaa6680d6": {
          "model_module": "@jupyter-widgets/controls",
          "model_name": "HTMLModel",
          "model_module_version": "1.5.0",
          "state": {
            "_dom_classes": [],
            "_model_module": "@jupyter-widgets/controls",
            "_model_module_version": "1.5.0",
            "_model_name": "HTMLModel",
            "_view_count": null,
            "_view_module": "@jupyter-widgets/controls",
            "_view_module_version": "1.5.0",
            "_view_name": "HTMLView",
            "description": "",
            "description_tooltip": null,
            "layout": "IPY_MODEL_12366d421e68450f87ce4a36f2394795",
            "placeholder": "​",
            "style": "IPY_MODEL_4f84aaf9697344dcaf03510a97e24864",
            "value": "Downloading builder script: 100%"
          }
        },
        "f785b3092bac4469bd306c6fbfefab56": {
          "model_module": "@jupyter-widgets/controls",
          "model_name": "FloatProgressModel",
          "model_module_version": "1.5.0",
          "state": {
            "_dom_classes": [],
            "_model_module": "@jupyter-widgets/controls",
            "_model_module_version": "1.5.0",
            "_model_name": "FloatProgressModel",
            "_view_count": null,
            "_view_module": "@jupyter-widgets/controls",
            "_view_module_version": "1.5.0",
            "_view_name": "ProgressView",
            "bar_style": "success",
            "description": "",
            "description_tooltip": null,
            "layout": "IPY_MODEL_81ffbd24f4b14ec7a84cb81fef145e6f",
            "max": 7950,
            "min": 0,
            "orientation": "horizontal",
            "style": "IPY_MODEL_a5bca642fa0a41f8918482c48a6e9c17",
            "value": 7950
          }
        },
        "39ced7a7a22443c3ba1fa15165be5270": {
          "model_module": "@jupyter-widgets/controls",
          "model_name": "HTMLModel",
          "model_module_version": "1.5.0",
          "state": {
            "_dom_classes": [],
            "_model_module": "@jupyter-widgets/controls",
            "_model_module_version": "1.5.0",
            "_model_name": "HTMLModel",
            "_view_count": null,
            "_view_module": "@jupyter-widgets/controls",
            "_view_module_version": "1.5.0",
            "_view_name": "HTMLView",
            "description": "",
            "description_tooltip": null,
            "layout": "IPY_MODEL_6227f27492684bee921313ba42937add",
            "placeholder": "​",
            "style": "IPY_MODEL_af6162554d9d47a485094110a91cb8cb",
            "value": " 7.95k/7.95k [00:00&lt;00:00, 576kB/s]"
          }
        },
        "4dbd388fae7c4129a2db9f25a1af7b69": {
          "model_module": "@jupyter-widgets/base",
          "model_name": "LayoutModel",
          "model_module_version": "1.2.0",
          "state": {
            "_model_module": "@jupyter-widgets/base",
            "_model_module_version": "1.2.0",
            "_model_name": "LayoutModel",
            "_view_count": null,
            "_view_module": "@jupyter-widgets/base",
            "_view_module_version": "1.2.0",
            "_view_name": "LayoutView",
            "align_content": null,
            "align_items": null,
            "align_self": null,
            "border": null,
            "bottom": null,
            "display": null,
            "flex": null,
            "flex_flow": null,
            "grid_area": null,
            "grid_auto_columns": null,
            "grid_auto_flow": null,
            "grid_auto_rows": null,
            "grid_column": null,
            "grid_gap": null,
            "grid_row": null,
            "grid_template_areas": null,
            "grid_template_columns": null,
            "grid_template_rows": null,
            "height": null,
            "justify_content": null,
            "justify_items": null,
            "left": null,
            "margin": null,
            "max_height": null,
            "max_width": null,
            "min_height": null,
            "min_width": null,
            "object_fit": null,
            "object_position": null,
            "order": null,
            "overflow": null,
            "overflow_x": null,
            "overflow_y": null,
            "padding": null,
            "right": null,
            "top": null,
            "visibility": null,
            "width": null
          }
        },
        "12366d421e68450f87ce4a36f2394795": {
          "model_module": "@jupyter-widgets/base",
          "model_name": "LayoutModel",
          "model_module_version": "1.2.0",
          "state": {
            "_model_module": "@jupyter-widgets/base",
            "_model_module_version": "1.2.0",
            "_model_name": "LayoutModel",
            "_view_count": null,
            "_view_module": "@jupyter-widgets/base",
            "_view_module_version": "1.2.0",
            "_view_name": "LayoutView",
            "align_content": null,
            "align_items": null,
            "align_self": null,
            "border": null,
            "bottom": null,
            "display": null,
            "flex": null,
            "flex_flow": null,
            "grid_area": null,
            "grid_auto_columns": null,
            "grid_auto_flow": null,
            "grid_auto_rows": null,
            "grid_column": null,
            "grid_gap": null,
            "grid_row": null,
            "grid_template_areas": null,
            "grid_template_columns": null,
            "grid_template_rows": null,
            "height": null,
            "justify_content": null,
            "justify_items": null,
            "left": null,
            "margin": null,
            "max_height": null,
            "max_width": null,
            "min_height": null,
            "min_width": null,
            "object_fit": null,
            "object_position": null,
            "order": null,
            "overflow": null,
            "overflow_x": null,
            "overflow_y": null,
            "padding": null,
            "right": null,
            "top": null,
            "visibility": null,
            "width": null
          }
        },
        "4f84aaf9697344dcaf03510a97e24864": {
          "model_module": "@jupyter-widgets/controls",
          "model_name": "DescriptionStyleModel",
          "model_module_version": "1.5.0",
          "state": {
            "_model_module": "@jupyter-widgets/controls",
            "_model_module_version": "1.5.0",
            "_model_name": "DescriptionStyleModel",
            "_view_count": null,
            "_view_module": "@jupyter-widgets/base",
            "_view_module_version": "1.2.0",
            "_view_name": "StyleView",
            "description_width": ""
          }
        },
        "81ffbd24f4b14ec7a84cb81fef145e6f": {
          "model_module": "@jupyter-widgets/base",
          "model_name": "LayoutModel",
          "model_module_version": "1.2.0",
          "state": {
            "_model_module": "@jupyter-widgets/base",
            "_model_module_version": "1.2.0",
            "_model_name": "LayoutModel",
            "_view_count": null,
            "_view_module": "@jupyter-widgets/base",
            "_view_module_version": "1.2.0",
            "_view_name": "LayoutView",
            "align_content": null,
            "align_items": null,
            "align_self": null,
            "border": null,
            "bottom": null,
            "display": null,
            "flex": null,
            "flex_flow": null,
            "grid_area": null,
            "grid_auto_columns": null,
            "grid_auto_flow": null,
            "grid_auto_rows": null,
            "grid_column": null,
            "grid_gap": null,
            "grid_row": null,
            "grid_template_areas": null,
            "grid_template_columns": null,
            "grid_template_rows": null,
            "height": null,
            "justify_content": null,
            "justify_items": null,
            "left": null,
            "margin": null,
            "max_height": null,
            "max_width": null,
            "min_height": null,
            "min_width": null,
            "object_fit": null,
            "object_position": null,
            "order": null,
            "overflow": null,
            "overflow_x": null,
            "overflow_y": null,
            "padding": null,
            "right": null,
            "top": null,
            "visibility": null,
            "width": null
          }
        },
        "a5bca642fa0a41f8918482c48a6e9c17": {
          "model_module": "@jupyter-widgets/controls",
          "model_name": "ProgressStyleModel",
          "model_module_version": "1.5.0",
          "state": {
            "_model_module": "@jupyter-widgets/controls",
            "_model_module_version": "1.5.0",
            "_model_name": "ProgressStyleModel",
            "_view_count": null,
            "_view_module": "@jupyter-widgets/base",
            "_view_module_version": "1.2.0",
            "_view_name": "StyleView",
            "bar_color": null,
            "description_width": ""
          }
        },
        "6227f27492684bee921313ba42937add": {
          "model_module": "@jupyter-widgets/base",
          "model_name": "LayoutModel",
          "model_module_version": "1.2.0",
          "state": {
            "_model_module": "@jupyter-widgets/base",
            "_model_module_version": "1.2.0",
            "_model_name": "LayoutModel",
            "_view_count": null,
            "_view_module": "@jupyter-widgets/base",
            "_view_module_version": "1.2.0",
            "_view_name": "LayoutView",
            "align_content": null,
            "align_items": null,
            "align_self": null,
            "border": null,
            "bottom": null,
            "display": null,
            "flex": null,
            "flex_flow": null,
            "grid_area": null,
            "grid_auto_columns": null,
            "grid_auto_flow": null,
            "grid_auto_rows": null,
            "grid_column": null,
            "grid_gap": null,
            "grid_row": null,
            "grid_template_areas": null,
            "grid_template_columns": null,
            "grid_template_rows": null,
            "height": null,
            "justify_content": null,
            "justify_items": null,
            "left": null,
            "margin": null,
            "max_height": null,
            "max_width": null,
            "min_height": null,
            "min_width": null,
            "object_fit": null,
            "object_position": null,
            "order": null,
            "overflow": null,
            "overflow_x": null,
            "overflow_y": null,
            "padding": null,
            "right": null,
            "top": null,
            "visibility": null,
            "width": null
          }
        },
        "af6162554d9d47a485094110a91cb8cb": {
          "model_module": "@jupyter-widgets/controls",
          "model_name": "DescriptionStyleModel",
          "model_module_version": "1.5.0",
          "state": {
            "_model_module": "@jupyter-widgets/controls",
            "_model_module_version": "1.5.0",
            "_model_name": "DescriptionStyleModel",
            "_view_count": null,
            "_view_module": "@jupyter-widgets/base",
            "_view_module_version": "1.2.0",
            "_view_name": "StyleView",
            "description_width": ""
          }
        },
        "4180ce3ea43243e29bc2bb1ba8dc389f": {
          "model_module": "@jupyter-widgets/controls",
          "model_name": "HBoxModel",
          "model_module_version": "1.5.0",
          "state": {
            "_dom_classes": [],
            "_model_module": "@jupyter-widgets/controls",
            "_model_module_version": "1.5.0",
            "_model_name": "HBoxModel",
            "_view_count": null,
            "_view_module": "@jupyter-widgets/controls",
            "_view_module_version": "1.5.0",
            "_view_name": "HBoxView",
            "box_style": "",
            "children": [
              "IPY_MODEL_0d5cdab33f6147f4be63537a7cc6ab9e",
              "IPY_MODEL_50addffe23cb4851a37828820ef3bfa3",
              "IPY_MODEL_6f885c8c82144440b82b5097efe38f9b"
            ],
            "layout": "IPY_MODEL_f288bb26dfcf425ca1bf19856edf33c3"
          }
        },
        "0d5cdab33f6147f4be63537a7cc6ab9e": {
          "model_module": "@jupyter-widgets/controls",
          "model_name": "HTMLModel",
          "model_module_version": "1.5.0",
          "state": {
            "_dom_classes": [],
            "_model_module": "@jupyter-widgets/controls",
            "_model_module_version": "1.5.0",
            "_model_name": "HTMLModel",
            "_view_count": null,
            "_view_module": "@jupyter-widgets/controls",
            "_view_module_version": "1.5.0",
            "_view_name": "HTMLView",
            "description": "",
            "description_tooltip": null,
            "layout": "IPY_MODEL_0fac887366674d48ad0c215d0cb1c6bf",
            "placeholder": "​",
            "style": "IPY_MODEL_768d06f6a5d74628af2957d1005ac777",
            "value": "Downloading (…)lve/main/config.json: 100%"
          }
        },
        "50addffe23cb4851a37828820ef3bfa3": {
          "model_module": "@jupyter-widgets/controls",
          "model_name": "FloatProgressModel",
          "model_module_version": "1.5.0",
          "state": {
            "_dom_classes": [],
            "_model_module": "@jupyter-widgets/controls",
            "_model_module_version": "1.5.0",
            "_model_name": "FloatProgressModel",
            "_view_count": null,
            "_view_module": "@jupyter-widgets/controls",
            "_view_module_version": "1.5.0",
            "_view_name": "ProgressView",
            "bar_style": "success",
            "description": "",
            "description_tooltip": null,
            "layout": "IPY_MODEL_7a4f31417e5946558b044b967696c1fe",
            "max": 482,
            "min": 0,
            "orientation": "horizontal",
            "style": "IPY_MODEL_27de3eb1e641477490a8c5667f960db2",
            "value": 482
          }
        },
        "6f885c8c82144440b82b5097efe38f9b": {
          "model_module": "@jupyter-widgets/controls",
          "model_name": "HTMLModel",
          "model_module_version": "1.5.0",
          "state": {
            "_dom_classes": [],
            "_model_module": "@jupyter-widgets/controls",
            "_model_module_version": "1.5.0",
            "_model_name": "HTMLModel",
            "_view_count": null,
            "_view_module": "@jupyter-widgets/controls",
            "_view_module_version": "1.5.0",
            "_view_name": "HTMLView",
            "description": "",
            "description_tooltip": null,
            "layout": "IPY_MODEL_9f1a750e3d7a42a493c27de93b7c3838",
            "placeholder": "​",
            "style": "IPY_MODEL_d6500e5b722842f9b900abff0697c33a",
            "value": " 482/482 [00:00&lt;00:00, 37.0kB/s]"
          }
        },
        "f288bb26dfcf425ca1bf19856edf33c3": {
          "model_module": "@jupyter-widgets/base",
          "model_name": "LayoutModel",
          "model_module_version": "1.2.0",
          "state": {
            "_model_module": "@jupyter-widgets/base",
            "_model_module_version": "1.2.0",
            "_model_name": "LayoutModel",
            "_view_count": null,
            "_view_module": "@jupyter-widgets/base",
            "_view_module_version": "1.2.0",
            "_view_name": "LayoutView",
            "align_content": null,
            "align_items": null,
            "align_self": null,
            "border": null,
            "bottom": null,
            "display": null,
            "flex": null,
            "flex_flow": null,
            "grid_area": null,
            "grid_auto_columns": null,
            "grid_auto_flow": null,
            "grid_auto_rows": null,
            "grid_column": null,
            "grid_gap": null,
            "grid_row": null,
            "grid_template_areas": null,
            "grid_template_columns": null,
            "grid_template_rows": null,
            "height": null,
            "justify_content": null,
            "justify_items": null,
            "left": null,
            "margin": null,
            "max_height": null,
            "max_width": null,
            "min_height": null,
            "min_width": null,
            "object_fit": null,
            "object_position": null,
            "order": null,
            "overflow": null,
            "overflow_x": null,
            "overflow_y": null,
            "padding": null,
            "right": null,
            "top": null,
            "visibility": null,
            "width": null
          }
        },
        "0fac887366674d48ad0c215d0cb1c6bf": {
          "model_module": "@jupyter-widgets/base",
          "model_name": "LayoutModel",
          "model_module_version": "1.2.0",
          "state": {
            "_model_module": "@jupyter-widgets/base",
            "_model_module_version": "1.2.0",
            "_model_name": "LayoutModel",
            "_view_count": null,
            "_view_module": "@jupyter-widgets/base",
            "_view_module_version": "1.2.0",
            "_view_name": "LayoutView",
            "align_content": null,
            "align_items": null,
            "align_self": null,
            "border": null,
            "bottom": null,
            "display": null,
            "flex": null,
            "flex_flow": null,
            "grid_area": null,
            "grid_auto_columns": null,
            "grid_auto_flow": null,
            "grid_auto_rows": null,
            "grid_column": null,
            "grid_gap": null,
            "grid_row": null,
            "grid_template_areas": null,
            "grid_template_columns": null,
            "grid_template_rows": null,
            "height": null,
            "justify_content": null,
            "justify_items": null,
            "left": null,
            "margin": null,
            "max_height": null,
            "max_width": null,
            "min_height": null,
            "min_width": null,
            "object_fit": null,
            "object_position": null,
            "order": null,
            "overflow": null,
            "overflow_x": null,
            "overflow_y": null,
            "padding": null,
            "right": null,
            "top": null,
            "visibility": null,
            "width": null
          }
        },
        "768d06f6a5d74628af2957d1005ac777": {
          "model_module": "@jupyter-widgets/controls",
          "model_name": "DescriptionStyleModel",
          "model_module_version": "1.5.0",
          "state": {
            "_model_module": "@jupyter-widgets/controls",
            "_model_module_version": "1.5.0",
            "_model_name": "DescriptionStyleModel",
            "_view_count": null,
            "_view_module": "@jupyter-widgets/base",
            "_view_module_version": "1.2.0",
            "_view_name": "StyleView",
            "description_width": ""
          }
        },
        "7a4f31417e5946558b044b967696c1fe": {
          "model_module": "@jupyter-widgets/base",
          "model_name": "LayoutModel",
          "model_module_version": "1.2.0",
          "state": {
            "_model_module": "@jupyter-widgets/base",
            "_model_module_version": "1.2.0",
            "_model_name": "LayoutModel",
            "_view_count": null,
            "_view_module": "@jupyter-widgets/base",
            "_view_module_version": "1.2.0",
            "_view_name": "LayoutView",
            "align_content": null,
            "align_items": null,
            "align_self": null,
            "border": null,
            "bottom": null,
            "display": null,
            "flex": null,
            "flex_flow": null,
            "grid_area": null,
            "grid_auto_columns": null,
            "grid_auto_flow": null,
            "grid_auto_rows": null,
            "grid_column": null,
            "grid_gap": null,
            "grid_row": null,
            "grid_template_areas": null,
            "grid_template_columns": null,
            "grid_template_rows": null,
            "height": null,
            "justify_content": null,
            "justify_items": null,
            "left": null,
            "margin": null,
            "max_height": null,
            "max_width": null,
            "min_height": null,
            "min_width": null,
            "object_fit": null,
            "object_position": null,
            "order": null,
            "overflow": null,
            "overflow_x": null,
            "overflow_y": null,
            "padding": null,
            "right": null,
            "top": null,
            "visibility": null,
            "width": null
          }
        },
        "27de3eb1e641477490a8c5667f960db2": {
          "model_module": "@jupyter-widgets/controls",
          "model_name": "ProgressStyleModel",
          "model_module_version": "1.5.0",
          "state": {
            "_model_module": "@jupyter-widgets/controls",
            "_model_module_version": "1.5.0",
            "_model_name": "ProgressStyleModel",
            "_view_count": null,
            "_view_module": "@jupyter-widgets/base",
            "_view_module_version": "1.2.0",
            "_view_name": "StyleView",
            "bar_color": null,
            "description_width": ""
          }
        },
        "9f1a750e3d7a42a493c27de93b7c3838": {
          "model_module": "@jupyter-widgets/base",
          "model_name": "LayoutModel",
          "model_module_version": "1.2.0",
          "state": {
            "_model_module": "@jupyter-widgets/base",
            "_model_module_version": "1.2.0",
            "_model_name": "LayoutModel",
            "_view_count": null,
            "_view_module": "@jupyter-widgets/base",
            "_view_module_version": "1.2.0",
            "_view_name": "LayoutView",
            "align_content": null,
            "align_items": null,
            "align_self": null,
            "border": null,
            "bottom": null,
            "display": null,
            "flex": null,
            "flex_flow": null,
            "grid_area": null,
            "grid_auto_columns": null,
            "grid_auto_flow": null,
            "grid_auto_rows": null,
            "grid_column": null,
            "grid_gap": null,
            "grid_row": null,
            "grid_template_areas": null,
            "grid_template_columns": null,
            "grid_template_rows": null,
            "height": null,
            "justify_content": null,
            "justify_items": null,
            "left": null,
            "margin": null,
            "max_height": null,
            "max_width": null,
            "min_height": null,
            "min_width": null,
            "object_fit": null,
            "object_position": null,
            "order": null,
            "overflow": null,
            "overflow_x": null,
            "overflow_y": null,
            "padding": null,
            "right": null,
            "top": null,
            "visibility": null,
            "width": null
          }
        },
        "d6500e5b722842f9b900abff0697c33a": {
          "model_module": "@jupyter-widgets/controls",
          "model_name": "DescriptionStyleModel",
          "model_module_version": "1.5.0",
          "state": {
            "_model_module": "@jupyter-widgets/controls",
            "_model_module_version": "1.5.0",
            "_model_name": "DescriptionStyleModel",
            "_view_count": null,
            "_view_module": "@jupyter-widgets/base",
            "_view_module_version": "1.2.0",
            "_view_name": "StyleView",
            "description_width": ""
          }
        },
        "cf860f4f37f54e4a8ea482d6e26618af": {
          "model_module": "@jupyter-widgets/controls",
          "model_name": "HBoxModel",
          "model_module_version": "1.5.0",
          "state": {
            "_dom_classes": [],
            "_model_module": "@jupyter-widgets/controls",
            "_model_module_version": "1.5.0",
            "_model_name": "HBoxModel",
            "_view_count": null,
            "_view_module": "@jupyter-widgets/controls",
            "_view_module_version": "1.5.0",
            "_view_name": "HBoxView",
            "box_style": "",
            "children": [
              "IPY_MODEL_e0176dcede024c129537e18791570838",
              "IPY_MODEL_ac9fc9be1afd4fcb9813fce6dff5a35c",
              "IPY_MODEL_00f2bffe35d1459ca41830e5e0109ec4"
            ],
            "layout": "IPY_MODEL_9e3205a25d1943678b7686a147f0df56"
          }
        },
        "e0176dcede024c129537e18791570838": {
          "model_module": "@jupyter-widgets/controls",
          "model_name": "HTMLModel",
          "model_module_version": "1.5.0",
          "state": {
            "_dom_classes": [],
            "_model_module": "@jupyter-widgets/controls",
            "_model_module_version": "1.5.0",
            "_model_name": "HTMLModel",
            "_view_count": null,
            "_view_module": "@jupyter-widgets/controls",
            "_view_module_version": "1.5.0",
            "_view_name": "HTMLView",
            "description": "",
            "description_tooltip": null,
            "layout": "IPY_MODEL_4bea50c845184d608f5ba71084615807",
            "placeholder": "​",
            "style": "IPY_MODEL_9bd7db5cd0934ea5b7aa59c360b3b694",
            "value": "Downloading (…)olve/main/vocab.json: 100%"
          }
        },
        "ac9fc9be1afd4fcb9813fce6dff5a35c": {
          "model_module": "@jupyter-widgets/controls",
          "model_name": "FloatProgressModel",
          "model_module_version": "1.5.0",
          "state": {
            "_dom_classes": [],
            "_model_module": "@jupyter-widgets/controls",
            "_model_module_version": "1.5.0",
            "_model_name": "FloatProgressModel",
            "_view_count": null,
            "_view_module": "@jupyter-widgets/controls",
            "_view_module_version": "1.5.0",
            "_view_name": "ProgressView",
            "bar_style": "success",
            "description": "",
            "description_tooltip": null,
            "layout": "IPY_MODEL_01367e9e63bf42d89f36fd8c0a5c0acc",
            "max": 898823,
            "min": 0,
            "orientation": "horizontal",
            "style": "IPY_MODEL_ac3c7e533b214c7eb623433e42aa0245",
            "value": 898823
          }
        },
        "00f2bffe35d1459ca41830e5e0109ec4": {
          "model_module": "@jupyter-widgets/controls",
          "model_name": "HTMLModel",
          "model_module_version": "1.5.0",
          "state": {
            "_dom_classes": [],
            "_model_module": "@jupyter-widgets/controls",
            "_model_module_version": "1.5.0",
            "_model_name": "HTMLModel",
            "_view_count": null,
            "_view_module": "@jupyter-widgets/controls",
            "_view_module_version": "1.5.0",
            "_view_name": "HTMLView",
            "description": "",
            "description_tooltip": null,
            "layout": "IPY_MODEL_a82cf3f895994b54b0728de6afaa0b51",
            "placeholder": "​",
            "style": "IPY_MODEL_1254d181a2f64caab65eafa4899dc3a9",
            "value": " 899k/899k [00:00&lt;00:00, 12.5MB/s]"
          }
        },
        "9e3205a25d1943678b7686a147f0df56": {
          "model_module": "@jupyter-widgets/base",
          "model_name": "LayoutModel",
          "model_module_version": "1.2.0",
          "state": {
            "_model_module": "@jupyter-widgets/base",
            "_model_module_version": "1.2.0",
            "_model_name": "LayoutModel",
            "_view_count": null,
            "_view_module": "@jupyter-widgets/base",
            "_view_module_version": "1.2.0",
            "_view_name": "LayoutView",
            "align_content": null,
            "align_items": null,
            "align_self": null,
            "border": null,
            "bottom": null,
            "display": null,
            "flex": null,
            "flex_flow": null,
            "grid_area": null,
            "grid_auto_columns": null,
            "grid_auto_flow": null,
            "grid_auto_rows": null,
            "grid_column": null,
            "grid_gap": null,
            "grid_row": null,
            "grid_template_areas": null,
            "grid_template_columns": null,
            "grid_template_rows": null,
            "height": null,
            "justify_content": null,
            "justify_items": null,
            "left": null,
            "margin": null,
            "max_height": null,
            "max_width": null,
            "min_height": null,
            "min_width": null,
            "object_fit": null,
            "object_position": null,
            "order": null,
            "overflow": null,
            "overflow_x": null,
            "overflow_y": null,
            "padding": null,
            "right": null,
            "top": null,
            "visibility": null,
            "width": null
          }
        },
        "4bea50c845184d608f5ba71084615807": {
          "model_module": "@jupyter-widgets/base",
          "model_name": "LayoutModel",
          "model_module_version": "1.2.0",
          "state": {
            "_model_module": "@jupyter-widgets/base",
            "_model_module_version": "1.2.0",
            "_model_name": "LayoutModel",
            "_view_count": null,
            "_view_module": "@jupyter-widgets/base",
            "_view_module_version": "1.2.0",
            "_view_name": "LayoutView",
            "align_content": null,
            "align_items": null,
            "align_self": null,
            "border": null,
            "bottom": null,
            "display": null,
            "flex": null,
            "flex_flow": null,
            "grid_area": null,
            "grid_auto_columns": null,
            "grid_auto_flow": null,
            "grid_auto_rows": null,
            "grid_column": null,
            "grid_gap": null,
            "grid_row": null,
            "grid_template_areas": null,
            "grid_template_columns": null,
            "grid_template_rows": null,
            "height": null,
            "justify_content": null,
            "justify_items": null,
            "left": null,
            "margin": null,
            "max_height": null,
            "max_width": null,
            "min_height": null,
            "min_width": null,
            "object_fit": null,
            "object_position": null,
            "order": null,
            "overflow": null,
            "overflow_x": null,
            "overflow_y": null,
            "padding": null,
            "right": null,
            "top": null,
            "visibility": null,
            "width": null
          }
        },
        "9bd7db5cd0934ea5b7aa59c360b3b694": {
          "model_module": "@jupyter-widgets/controls",
          "model_name": "DescriptionStyleModel",
          "model_module_version": "1.5.0",
          "state": {
            "_model_module": "@jupyter-widgets/controls",
            "_model_module_version": "1.5.0",
            "_model_name": "DescriptionStyleModel",
            "_view_count": null,
            "_view_module": "@jupyter-widgets/base",
            "_view_module_version": "1.2.0",
            "_view_name": "StyleView",
            "description_width": ""
          }
        },
        "01367e9e63bf42d89f36fd8c0a5c0acc": {
          "model_module": "@jupyter-widgets/base",
          "model_name": "LayoutModel",
          "model_module_version": "1.2.0",
          "state": {
            "_model_module": "@jupyter-widgets/base",
            "_model_module_version": "1.2.0",
            "_model_name": "LayoutModel",
            "_view_count": null,
            "_view_module": "@jupyter-widgets/base",
            "_view_module_version": "1.2.0",
            "_view_name": "LayoutView",
            "align_content": null,
            "align_items": null,
            "align_self": null,
            "border": null,
            "bottom": null,
            "display": null,
            "flex": null,
            "flex_flow": null,
            "grid_area": null,
            "grid_auto_columns": null,
            "grid_auto_flow": null,
            "grid_auto_rows": null,
            "grid_column": null,
            "grid_gap": null,
            "grid_row": null,
            "grid_template_areas": null,
            "grid_template_columns": null,
            "grid_template_rows": null,
            "height": null,
            "justify_content": null,
            "justify_items": null,
            "left": null,
            "margin": null,
            "max_height": null,
            "max_width": null,
            "min_height": null,
            "min_width": null,
            "object_fit": null,
            "object_position": null,
            "order": null,
            "overflow": null,
            "overflow_x": null,
            "overflow_y": null,
            "padding": null,
            "right": null,
            "top": null,
            "visibility": null,
            "width": null
          }
        },
        "ac3c7e533b214c7eb623433e42aa0245": {
          "model_module": "@jupyter-widgets/controls",
          "model_name": "ProgressStyleModel",
          "model_module_version": "1.5.0",
          "state": {
            "_model_module": "@jupyter-widgets/controls",
            "_model_module_version": "1.5.0",
            "_model_name": "ProgressStyleModel",
            "_view_count": null,
            "_view_module": "@jupyter-widgets/base",
            "_view_module_version": "1.2.0",
            "_view_name": "StyleView",
            "bar_color": null,
            "description_width": ""
          }
        },
        "a82cf3f895994b54b0728de6afaa0b51": {
          "model_module": "@jupyter-widgets/base",
          "model_name": "LayoutModel",
          "model_module_version": "1.2.0",
          "state": {
            "_model_module": "@jupyter-widgets/base",
            "_model_module_version": "1.2.0",
            "_model_name": "LayoutModel",
            "_view_count": null,
            "_view_module": "@jupyter-widgets/base",
            "_view_module_version": "1.2.0",
            "_view_name": "LayoutView",
            "align_content": null,
            "align_items": null,
            "align_self": null,
            "border": null,
            "bottom": null,
            "display": null,
            "flex": null,
            "flex_flow": null,
            "grid_area": null,
            "grid_auto_columns": null,
            "grid_auto_flow": null,
            "grid_auto_rows": null,
            "grid_column": null,
            "grid_gap": null,
            "grid_row": null,
            "grid_template_areas": null,
            "grid_template_columns": null,
            "grid_template_rows": null,
            "height": null,
            "justify_content": null,
            "justify_items": null,
            "left": null,
            "margin": null,
            "max_height": null,
            "max_width": null,
            "min_height": null,
            "min_width": null,
            "object_fit": null,
            "object_position": null,
            "order": null,
            "overflow": null,
            "overflow_x": null,
            "overflow_y": null,
            "padding": null,
            "right": null,
            "top": null,
            "visibility": null,
            "width": null
          }
        },
        "1254d181a2f64caab65eafa4899dc3a9": {
          "model_module": "@jupyter-widgets/controls",
          "model_name": "DescriptionStyleModel",
          "model_module_version": "1.5.0",
          "state": {
            "_model_module": "@jupyter-widgets/controls",
            "_model_module_version": "1.5.0",
            "_model_name": "DescriptionStyleModel",
            "_view_count": null,
            "_view_module": "@jupyter-widgets/base",
            "_view_module_version": "1.2.0",
            "_view_name": "StyleView",
            "description_width": ""
          }
        },
        "cbf3e430ddea4a1a874a0ce5cdef1691": {
          "model_module": "@jupyter-widgets/controls",
          "model_name": "HBoxModel",
          "model_module_version": "1.5.0",
          "state": {
            "_dom_classes": [],
            "_model_module": "@jupyter-widgets/controls",
            "_model_module_version": "1.5.0",
            "_model_name": "HBoxModel",
            "_view_count": null,
            "_view_module": "@jupyter-widgets/controls",
            "_view_module_version": "1.5.0",
            "_view_name": "HBoxView",
            "box_style": "",
            "children": [
              "IPY_MODEL_861b05ab99ca4e01a5ae803bf6e5fba7",
              "IPY_MODEL_a499ac6b51404c3c8a2c35922d384770",
              "IPY_MODEL_f8f188b5508f47f3a6678f502d763637"
            ],
            "layout": "IPY_MODEL_c246deffe9ef4dcbb58a6409695fe0d1"
          }
        },
        "861b05ab99ca4e01a5ae803bf6e5fba7": {
          "model_module": "@jupyter-widgets/controls",
          "model_name": "HTMLModel",
          "model_module_version": "1.5.0",
          "state": {
            "_dom_classes": [],
            "_model_module": "@jupyter-widgets/controls",
            "_model_module_version": "1.5.0",
            "_model_name": "HTMLModel",
            "_view_count": null,
            "_view_module": "@jupyter-widgets/controls",
            "_view_module_version": "1.5.0",
            "_view_name": "HTMLView",
            "description": "",
            "description_tooltip": null,
            "layout": "IPY_MODEL_ba5de2b959f444bdb3d3a4e6d6c787b0",
            "placeholder": "​",
            "style": "IPY_MODEL_de3ebde591894d81937bb9c5a41662c3",
            "value": "Downloading (…)olve/main/merges.txt: 100%"
          }
        },
        "a499ac6b51404c3c8a2c35922d384770": {
          "model_module": "@jupyter-widgets/controls",
          "model_name": "FloatProgressModel",
          "model_module_version": "1.5.0",
          "state": {
            "_dom_classes": [],
            "_model_module": "@jupyter-widgets/controls",
            "_model_module_version": "1.5.0",
            "_model_name": "FloatProgressModel",
            "_view_count": null,
            "_view_module": "@jupyter-widgets/controls",
            "_view_module_version": "1.5.0",
            "_view_name": "ProgressView",
            "bar_style": "success",
            "description": "",
            "description_tooltip": null,
            "layout": "IPY_MODEL_8d1cc9817fae4f4681cb38badaf22e98",
            "max": 456318,
            "min": 0,
            "orientation": "horizontal",
            "style": "IPY_MODEL_b310456bc90c4dd49b8786d875ae9d0e",
            "value": 456318
          }
        },
        "f8f188b5508f47f3a6678f502d763637": {
          "model_module": "@jupyter-widgets/controls",
          "model_name": "HTMLModel",
          "model_module_version": "1.5.0",
          "state": {
            "_dom_classes": [],
            "_model_module": "@jupyter-widgets/controls",
            "_model_module_version": "1.5.0",
            "_model_name": "HTMLModel",
            "_view_count": null,
            "_view_module": "@jupyter-widgets/controls",
            "_view_module_version": "1.5.0",
            "_view_name": "HTMLView",
            "description": "",
            "description_tooltip": null,
            "layout": "IPY_MODEL_2c104db72ab04060aff2feeb203f190f",
            "placeholder": "​",
            "style": "IPY_MODEL_3d3842fd0cba4409b29970caa284e3a3",
            "value": " 456k/456k [00:00&lt;00:00, 6.28MB/s]"
          }
        },
        "c246deffe9ef4dcbb58a6409695fe0d1": {
          "model_module": "@jupyter-widgets/base",
          "model_name": "LayoutModel",
          "model_module_version": "1.2.0",
          "state": {
            "_model_module": "@jupyter-widgets/base",
            "_model_module_version": "1.2.0",
            "_model_name": "LayoutModel",
            "_view_count": null,
            "_view_module": "@jupyter-widgets/base",
            "_view_module_version": "1.2.0",
            "_view_name": "LayoutView",
            "align_content": null,
            "align_items": null,
            "align_self": null,
            "border": null,
            "bottom": null,
            "display": null,
            "flex": null,
            "flex_flow": null,
            "grid_area": null,
            "grid_auto_columns": null,
            "grid_auto_flow": null,
            "grid_auto_rows": null,
            "grid_column": null,
            "grid_gap": null,
            "grid_row": null,
            "grid_template_areas": null,
            "grid_template_columns": null,
            "grid_template_rows": null,
            "height": null,
            "justify_content": null,
            "justify_items": null,
            "left": null,
            "margin": null,
            "max_height": null,
            "max_width": null,
            "min_height": null,
            "min_width": null,
            "object_fit": null,
            "object_position": null,
            "order": null,
            "overflow": null,
            "overflow_x": null,
            "overflow_y": null,
            "padding": null,
            "right": null,
            "top": null,
            "visibility": null,
            "width": null
          }
        },
        "ba5de2b959f444bdb3d3a4e6d6c787b0": {
          "model_module": "@jupyter-widgets/base",
          "model_name": "LayoutModel",
          "model_module_version": "1.2.0",
          "state": {
            "_model_module": "@jupyter-widgets/base",
            "_model_module_version": "1.2.0",
            "_model_name": "LayoutModel",
            "_view_count": null,
            "_view_module": "@jupyter-widgets/base",
            "_view_module_version": "1.2.0",
            "_view_name": "LayoutView",
            "align_content": null,
            "align_items": null,
            "align_self": null,
            "border": null,
            "bottom": null,
            "display": null,
            "flex": null,
            "flex_flow": null,
            "grid_area": null,
            "grid_auto_columns": null,
            "grid_auto_flow": null,
            "grid_auto_rows": null,
            "grid_column": null,
            "grid_gap": null,
            "grid_row": null,
            "grid_template_areas": null,
            "grid_template_columns": null,
            "grid_template_rows": null,
            "height": null,
            "justify_content": null,
            "justify_items": null,
            "left": null,
            "margin": null,
            "max_height": null,
            "max_width": null,
            "min_height": null,
            "min_width": null,
            "object_fit": null,
            "object_position": null,
            "order": null,
            "overflow": null,
            "overflow_x": null,
            "overflow_y": null,
            "padding": null,
            "right": null,
            "top": null,
            "visibility": null,
            "width": null
          }
        },
        "de3ebde591894d81937bb9c5a41662c3": {
          "model_module": "@jupyter-widgets/controls",
          "model_name": "DescriptionStyleModel",
          "model_module_version": "1.5.0",
          "state": {
            "_model_module": "@jupyter-widgets/controls",
            "_model_module_version": "1.5.0",
            "_model_name": "DescriptionStyleModel",
            "_view_count": null,
            "_view_module": "@jupyter-widgets/base",
            "_view_module_version": "1.2.0",
            "_view_name": "StyleView",
            "description_width": ""
          }
        },
        "8d1cc9817fae4f4681cb38badaf22e98": {
          "model_module": "@jupyter-widgets/base",
          "model_name": "LayoutModel",
          "model_module_version": "1.2.0",
          "state": {
            "_model_module": "@jupyter-widgets/base",
            "_model_module_version": "1.2.0",
            "_model_name": "LayoutModel",
            "_view_count": null,
            "_view_module": "@jupyter-widgets/base",
            "_view_module_version": "1.2.0",
            "_view_name": "LayoutView",
            "align_content": null,
            "align_items": null,
            "align_self": null,
            "border": null,
            "bottom": null,
            "display": null,
            "flex": null,
            "flex_flow": null,
            "grid_area": null,
            "grid_auto_columns": null,
            "grid_auto_flow": null,
            "grid_auto_rows": null,
            "grid_column": null,
            "grid_gap": null,
            "grid_row": null,
            "grid_template_areas": null,
            "grid_template_columns": null,
            "grid_template_rows": null,
            "height": null,
            "justify_content": null,
            "justify_items": null,
            "left": null,
            "margin": null,
            "max_height": null,
            "max_width": null,
            "min_height": null,
            "min_width": null,
            "object_fit": null,
            "object_position": null,
            "order": null,
            "overflow": null,
            "overflow_x": null,
            "overflow_y": null,
            "padding": null,
            "right": null,
            "top": null,
            "visibility": null,
            "width": null
          }
        },
        "b310456bc90c4dd49b8786d875ae9d0e": {
          "model_module": "@jupyter-widgets/controls",
          "model_name": "ProgressStyleModel",
          "model_module_version": "1.5.0",
          "state": {
            "_model_module": "@jupyter-widgets/controls",
            "_model_module_version": "1.5.0",
            "_model_name": "ProgressStyleModel",
            "_view_count": null,
            "_view_module": "@jupyter-widgets/base",
            "_view_module_version": "1.2.0",
            "_view_name": "StyleView",
            "bar_color": null,
            "description_width": ""
          }
        },
        "2c104db72ab04060aff2feeb203f190f": {
          "model_module": "@jupyter-widgets/base",
          "model_name": "LayoutModel",
          "model_module_version": "1.2.0",
          "state": {
            "_model_module": "@jupyter-widgets/base",
            "_model_module_version": "1.2.0",
            "_model_name": "LayoutModel",
            "_view_count": null,
            "_view_module": "@jupyter-widgets/base",
            "_view_module_version": "1.2.0",
            "_view_name": "LayoutView",
            "align_content": null,
            "align_items": null,
            "align_self": null,
            "border": null,
            "bottom": null,
            "display": null,
            "flex": null,
            "flex_flow": null,
            "grid_area": null,
            "grid_auto_columns": null,
            "grid_auto_flow": null,
            "grid_auto_rows": null,
            "grid_column": null,
            "grid_gap": null,
            "grid_row": null,
            "grid_template_areas": null,
            "grid_template_columns": null,
            "grid_template_rows": null,
            "height": null,
            "justify_content": null,
            "justify_items": null,
            "left": null,
            "margin": null,
            "max_height": null,
            "max_width": null,
            "min_height": null,
            "min_width": null,
            "object_fit": null,
            "object_position": null,
            "order": null,
            "overflow": null,
            "overflow_x": null,
            "overflow_y": null,
            "padding": null,
            "right": null,
            "top": null,
            "visibility": null,
            "width": null
          }
        },
        "3d3842fd0cba4409b29970caa284e3a3": {
          "model_module": "@jupyter-widgets/controls",
          "model_name": "DescriptionStyleModel",
          "model_module_version": "1.5.0",
          "state": {
            "_model_module": "@jupyter-widgets/controls",
            "_model_module_version": "1.5.0",
            "_model_name": "DescriptionStyleModel",
            "_view_count": null,
            "_view_module": "@jupyter-widgets/base",
            "_view_module_version": "1.2.0",
            "_view_name": "StyleView",
            "description_width": ""
          }
        },
        "a96b81f9dcb64337a30818ae65762a8c": {
          "model_module": "@jupyter-widgets/controls",
          "model_name": "HBoxModel",
          "model_module_version": "1.5.0",
          "state": {
            "_dom_classes": [],
            "_model_module": "@jupyter-widgets/controls",
            "_model_module_version": "1.5.0",
            "_model_name": "HBoxModel",
            "_view_count": null,
            "_view_module": "@jupyter-widgets/controls",
            "_view_module_version": "1.5.0",
            "_view_name": "HBoxView",
            "box_style": "",
            "children": [
              "IPY_MODEL_123347f28b2046678fd2792b64c6eb63",
              "IPY_MODEL_25daef769ec64cae8ead1f4f86c44c2c",
              "IPY_MODEL_fe8bf173580b45458e5732c3464efd5e"
            ],
            "layout": "IPY_MODEL_ecbcd30d232f43dbbb282f350480f4c4"
          }
        },
        "123347f28b2046678fd2792b64c6eb63": {
          "model_module": "@jupyter-widgets/controls",
          "model_name": "HTMLModel",
          "model_module_version": "1.5.0",
          "state": {
            "_dom_classes": [],
            "_model_module": "@jupyter-widgets/controls",
            "_model_module_version": "1.5.0",
            "_model_name": "HTMLModel",
            "_view_count": null,
            "_view_module": "@jupyter-widgets/controls",
            "_view_module_version": "1.5.0",
            "_view_name": "HTMLView",
            "description": "",
            "description_tooltip": null,
            "layout": "IPY_MODEL_74577438679f4e28bda0b75f8f834a31",
            "placeholder": "​",
            "style": "IPY_MODEL_802e272c77d24fad8064e67587a07c59",
            "value": "Downloading pytorch_model.bin: 100%"
          }
        },
        "25daef769ec64cae8ead1f4f86c44c2c": {
          "model_module": "@jupyter-widgets/controls",
          "model_name": "FloatProgressModel",
          "model_module_version": "1.5.0",
          "state": {
            "_dom_classes": [],
            "_model_module": "@jupyter-widgets/controls",
            "_model_module_version": "1.5.0",
            "_model_name": "FloatProgressModel",
            "_view_count": null,
            "_view_module": "@jupyter-widgets/controls",
            "_view_module_version": "1.5.0",
            "_view_name": "ProgressView",
            "bar_style": "success",
            "description": "",
            "description_tooltip": null,
            "layout": "IPY_MODEL_765c3d1457774d0f8896a7144cff4d77",
            "max": 1425941629,
            "min": 0,
            "orientation": "horizontal",
            "style": "IPY_MODEL_19ada900601f4447b94c91dcdae83f65",
            "value": 1425941629
          }
        },
        "fe8bf173580b45458e5732c3464efd5e": {
          "model_module": "@jupyter-widgets/controls",
          "model_name": "HTMLModel",
          "model_module_version": "1.5.0",
          "state": {
            "_dom_classes": [],
            "_model_module": "@jupyter-widgets/controls",
            "_model_module_version": "1.5.0",
            "_model_name": "HTMLModel",
            "_view_count": null,
            "_view_module": "@jupyter-widgets/controls",
            "_view_module_version": "1.5.0",
            "_view_name": "HTMLView",
            "description": "",
            "description_tooltip": null,
            "layout": "IPY_MODEL_0a7343b377474a999c9166fd7c0bd232",
            "placeholder": "​",
            "style": "IPY_MODEL_c689bd1c01104bd7a88b91f644bad67c",
            "value": " 1.43G/1.43G [00:06&lt;00:00, 206MB/s]"
          }
        },
        "ecbcd30d232f43dbbb282f350480f4c4": {
          "model_module": "@jupyter-widgets/base",
          "model_name": "LayoutModel",
          "model_module_version": "1.2.0",
          "state": {
            "_model_module": "@jupyter-widgets/base",
            "_model_module_version": "1.2.0",
            "_model_name": "LayoutModel",
            "_view_count": null,
            "_view_module": "@jupyter-widgets/base",
            "_view_module_version": "1.2.0",
            "_view_name": "LayoutView",
            "align_content": null,
            "align_items": null,
            "align_self": null,
            "border": null,
            "bottom": null,
            "display": null,
            "flex": null,
            "flex_flow": null,
            "grid_area": null,
            "grid_auto_columns": null,
            "grid_auto_flow": null,
            "grid_auto_rows": null,
            "grid_column": null,
            "grid_gap": null,
            "grid_row": null,
            "grid_template_areas": null,
            "grid_template_columns": null,
            "grid_template_rows": null,
            "height": null,
            "justify_content": null,
            "justify_items": null,
            "left": null,
            "margin": null,
            "max_height": null,
            "max_width": null,
            "min_height": null,
            "min_width": null,
            "object_fit": null,
            "object_position": null,
            "order": null,
            "overflow": null,
            "overflow_x": null,
            "overflow_y": null,
            "padding": null,
            "right": null,
            "top": null,
            "visibility": null,
            "width": null
          }
        },
        "74577438679f4e28bda0b75f8f834a31": {
          "model_module": "@jupyter-widgets/base",
          "model_name": "LayoutModel",
          "model_module_version": "1.2.0",
          "state": {
            "_model_module": "@jupyter-widgets/base",
            "_model_module_version": "1.2.0",
            "_model_name": "LayoutModel",
            "_view_count": null,
            "_view_module": "@jupyter-widgets/base",
            "_view_module_version": "1.2.0",
            "_view_name": "LayoutView",
            "align_content": null,
            "align_items": null,
            "align_self": null,
            "border": null,
            "bottom": null,
            "display": null,
            "flex": null,
            "flex_flow": null,
            "grid_area": null,
            "grid_auto_columns": null,
            "grid_auto_flow": null,
            "grid_auto_rows": null,
            "grid_column": null,
            "grid_gap": null,
            "grid_row": null,
            "grid_template_areas": null,
            "grid_template_columns": null,
            "grid_template_rows": null,
            "height": null,
            "justify_content": null,
            "justify_items": null,
            "left": null,
            "margin": null,
            "max_height": null,
            "max_width": null,
            "min_height": null,
            "min_width": null,
            "object_fit": null,
            "object_position": null,
            "order": null,
            "overflow": null,
            "overflow_x": null,
            "overflow_y": null,
            "padding": null,
            "right": null,
            "top": null,
            "visibility": null,
            "width": null
          }
        },
        "802e272c77d24fad8064e67587a07c59": {
          "model_module": "@jupyter-widgets/controls",
          "model_name": "DescriptionStyleModel",
          "model_module_version": "1.5.0",
          "state": {
            "_model_module": "@jupyter-widgets/controls",
            "_model_module_version": "1.5.0",
            "_model_name": "DescriptionStyleModel",
            "_view_count": null,
            "_view_module": "@jupyter-widgets/base",
            "_view_module_version": "1.2.0",
            "_view_name": "StyleView",
            "description_width": ""
          }
        },
        "765c3d1457774d0f8896a7144cff4d77": {
          "model_module": "@jupyter-widgets/base",
          "model_name": "LayoutModel",
          "model_module_version": "1.2.0",
          "state": {
            "_model_module": "@jupyter-widgets/base",
            "_model_module_version": "1.2.0",
            "_model_name": "LayoutModel",
            "_view_count": null,
            "_view_module": "@jupyter-widgets/base",
            "_view_module_version": "1.2.0",
            "_view_name": "LayoutView",
            "align_content": null,
            "align_items": null,
            "align_self": null,
            "border": null,
            "bottom": null,
            "display": null,
            "flex": null,
            "flex_flow": null,
            "grid_area": null,
            "grid_auto_columns": null,
            "grid_auto_flow": null,
            "grid_auto_rows": null,
            "grid_column": null,
            "grid_gap": null,
            "grid_row": null,
            "grid_template_areas": null,
            "grid_template_columns": null,
            "grid_template_rows": null,
            "height": null,
            "justify_content": null,
            "justify_items": null,
            "left": null,
            "margin": null,
            "max_height": null,
            "max_width": null,
            "min_height": null,
            "min_width": null,
            "object_fit": null,
            "object_position": null,
            "order": null,
            "overflow": null,
            "overflow_x": null,
            "overflow_y": null,
            "padding": null,
            "right": null,
            "top": null,
            "visibility": null,
            "width": null
          }
        },
        "19ada900601f4447b94c91dcdae83f65": {
          "model_module": "@jupyter-widgets/controls",
          "model_name": "ProgressStyleModel",
          "model_module_version": "1.5.0",
          "state": {
            "_model_module": "@jupyter-widgets/controls",
            "_model_module_version": "1.5.0",
            "_model_name": "ProgressStyleModel",
            "_view_count": null,
            "_view_module": "@jupyter-widgets/base",
            "_view_module_version": "1.2.0",
            "_view_name": "StyleView",
            "bar_color": null,
            "description_width": ""
          }
        },
        "0a7343b377474a999c9166fd7c0bd232": {
          "model_module": "@jupyter-widgets/base",
          "model_name": "LayoutModel",
          "model_module_version": "1.2.0",
          "state": {
            "_model_module": "@jupyter-widgets/base",
            "_model_module_version": "1.2.0",
            "_model_name": "LayoutModel",
            "_view_count": null,
            "_view_module": "@jupyter-widgets/base",
            "_view_module_version": "1.2.0",
            "_view_name": "LayoutView",
            "align_content": null,
            "align_items": null,
            "align_self": null,
            "border": null,
            "bottom": null,
            "display": null,
            "flex": null,
            "flex_flow": null,
            "grid_area": null,
            "grid_auto_columns": null,
            "grid_auto_flow": null,
            "grid_auto_rows": null,
            "grid_column": null,
            "grid_gap": null,
            "grid_row": null,
            "grid_template_areas": null,
            "grid_template_columns": null,
            "grid_template_rows": null,
            "height": null,
            "justify_content": null,
            "justify_items": null,
            "left": null,
            "margin": null,
            "max_height": null,
            "max_width": null,
            "min_height": null,
            "min_width": null,
            "object_fit": null,
            "object_position": null,
            "order": null,
            "overflow": null,
            "overflow_x": null,
            "overflow_y": null,
            "padding": null,
            "right": null,
            "top": null,
            "visibility": null,
            "width": null
          }
        },
        "c689bd1c01104bd7a88b91f644bad67c": {
          "model_module": "@jupyter-widgets/controls",
          "model_name": "DescriptionStyleModel",
          "model_module_version": "1.5.0",
          "state": {
            "_model_module": "@jupyter-widgets/controls",
            "_model_module_version": "1.5.0",
            "_model_name": "DescriptionStyleModel",
            "_view_count": null,
            "_view_module": "@jupyter-widgets/base",
            "_view_module_version": "1.2.0",
            "_view_name": "StyleView",
            "description_width": ""
          }
        },
        "9506cfd891604f868ec6df2cef9fb8c0": {
          "model_module": "@jupyter-widgets/controls",
          "model_name": "HBoxModel",
          "model_module_version": "1.5.0",
          "state": {
            "_dom_classes": [],
            "_model_module": "@jupyter-widgets/controls",
            "_model_module_version": "1.5.0",
            "_model_name": "HBoxModel",
            "_view_count": null,
            "_view_module": "@jupyter-widgets/controls",
            "_view_module_version": "1.5.0",
            "_view_name": "HBoxView",
            "box_style": "",
            "children": [
              "IPY_MODEL_c5e6c9e021ff48e28a2e930c1ca3313b",
              "IPY_MODEL_f4c0627ff9584039acac382f34404c28",
              "IPY_MODEL_cd10d4d8ebe74d6281f2e0cba838cf85"
            ],
            "layout": "IPY_MODEL_22515a6acb0846c9b53d2682b6b662ac"
          }
        },
        "c5e6c9e021ff48e28a2e930c1ca3313b": {
          "model_module": "@jupyter-widgets/controls",
          "model_name": "HTMLModel",
          "model_module_version": "1.5.0",
          "state": {
            "_dom_classes": [],
            "_model_module": "@jupyter-widgets/controls",
            "_model_module_version": "1.5.0",
            "_model_name": "HTMLModel",
            "_view_count": null,
            "_view_module": "@jupyter-widgets/controls",
            "_view_module_version": "1.5.0",
            "_view_name": "HTMLView",
            "description": "",
            "description_tooltip": null,
            "layout": "IPY_MODEL_91e9742838cc44b7814f7cff14ce1e47",
            "placeholder": "​",
            "style": "IPY_MODEL_add41f3406a646e3be9ed229e03e3c06",
            "value": "Downloading builder script: 100%"
          }
        },
        "f4c0627ff9584039acac382f34404c28": {
          "model_module": "@jupyter-widgets/controls",
          "model_name": "FloatProgressModel",
          "model_module_version": "1.5.0",
          "state": {
            "_dom_classes": [],
            "_model_module": "@jupyter-widgets/controls",
            "_model_module_version": "1.5.0",
            "_model_name": "FloatProgressModel",
            "_view_count": null,
            "_view_module": "@jupyter-widgets/controls",
            "_view_module_version": "1.5.0",
            "_view_name": "ProgressView",
            "bar_style": "success",
            "description": "",
            "description_tooltip": null,
            "layout": "IPY_MODEL_be2ae36a1cf145e195e500a0e2f689cc",
            "max": 6270,
            "min": 0,
            "orientation": "horizontal",
            "style": "IPY_MODEL_41ce8173725940e293f512074ae7bbda",
            "value": 6270
          }
        },
        "cd10d4d8ebe74d6281f2e0cba838cf85": {
          "model_module": "@jupyter-widgets/controls",
          "model_name": "HTMLModel",
          "model_module_version": "1.5.0",
          "state": {
            "_dom_classes": [],
            "_model_module": "@jupyter-widgets/controls",
            "_model_module_version": "1.5.0",
            "_model_name": "HTMLModel",
            "_view_count": null,
            "_view_module": "@jupyter-widgets/controls",
            "_view_module_version": "1.5.0",
            "_view_name": "HTMLView",
            "description": "",
            "description_tooltip": null,
            "layout": "IPY_MODEL_05a414616cfe4e29948dda808e7162e7",
            "placeholder": "​",
            "style": "IPY_MODEL_a240eaf4de144ca48aedec5f80c2e1c5",
            "value": " 6.27k/6.27k [00:00&lt;00:00, 505kB/s]"
          }
        },
        "22515a6acb0846c9b53d2682b6b662ac": {
          "model_module": "@jupyter-widgets/base",
          "model_name": "LayoutModel",
          "model_module_version": "1.2.0",
          "state": {
            "_model_module": "@jupyter-widgets/base",
            "_model_module_version": "1.2.0",
            "_model_name": "LayoutModel",
            "_view_count": null,
            "_view_module": "@jupyter-widgets/base",
            "_view_module_version": "1.2.0",
            "_view_name": "LayoutView",
            "align_content": null,
            "align_items": null,
            "align_self": null,
            "border": null,
            "bottom": null,
            "display": null,
            "flex": null,
            "flex_flow": null,
            "grid_area": null,
            "grid_auto_columns": null,
            "grid_auto_flow": null,
            "grid_auto_rows": null,
            "grid_column": null,
            "grid_gap": null,
            "grid_row": null,
            "grid_template_areas": null,
            "grid_template_columns": null,
            "grid_template_rows": null,
            "height": null,
            "justify_content": null,
            "justify_items": null,
            "left": null,
            "margin": null,
            "max_height": null,
            "max_width": null,
            "min_height": null,
            "min_width": null,
            "object_fit": null,
            "object_position": null,
            "order": null,
            "overflow": null,
            "overflow_x": null,
            "overflow_y": null,
            "padding": null,
            "right": null,
            "top": null,
            "visibility": null,
            "width": null
          }
        },
        "91e9742838cc44b7814f7cff14ce1e47": {
          "model_module": "@jupyter-widgets/base",
          "model_name": "LayoutModel",
          "model_module_version": "1.2.0",
          "state": {
            "_model_module": "@jupyter-widgets/base",
            "_model_module_version": "1.2.0",
            "_model_name": "LayoutModel",
            "_view_count": null,
            "_view_module": "@jupyter-widgets/base",
            "_view_module_version": "1.2.0",
            "_view_name": "LayoutView",
            "align_content": null,
            "align_items": null,
            "align_self": null,
            "border": null,
            "bottom": null,
            "display": null,
            "flex": null,
            "flex_flow": null,
            "grid_area": null,
            "grid_auto_columns": null,
            "grid_auto_flow": null,
            "grid_auto_rows": null,
            "grid_column": null,
            "grid_gap": null,
            "grid_row": null,
            "grid_template_areas": null,
            "grid_template_columns": null,
            "grid_template_rows": null,
            "height": null,
            "justify_content": null,
            "justify_items": null,
            "left": null,
            "margin": null,
            "max_height": null,
            "max_width": null,
            "min_height": null,
            "min_width": null,
            "object_fit": null,
            "object_position": null,
            "order": null,
            "overflow": null,
            "overflow_x": null,
            "overflow_y": null,
            "padding": null,
            "right": null,
            "top": null,
            "visibility": null,
            "width": null
          }
        },
        "add41f3406a646e3be9ed229e03e3c06": {
          "model_module": "@jupyter-widgets/controls",
          "model_name": "DescriptionStyleModel",
          "model_module_version": "1.5.0",
          "state": {
            "_model_module": "@jupyter-widgets/controls",
            "_model_module_version": "1.5.0",
            "_model_name": "DescriptionStyleModel",
            "_view_count": null,
            "_view_module": "@jupyter-widgets/base",
            "_view_module_version": "1.2.0",
            "_view_name": "StyleView",
            "description_width": ""
          }
        },
        "be2ae36a1cf145e195e500a0e2f689cc": {
          "model_module": "@jupyter-widgets/base",
          "model_name": "LayoutModel",
          "model_module_version": "1.2.0",
          "state": {
            "_model_module": "@jupyter-widgets/base",
            "_model_module_version": "1.2.0",
            "_model_name": "LayoutModel",
            "_view_count": null,
            "_view_module": "@jupyter-widgets/base",
            "_view_module_version": "1.2.0",
            "_view_name": "LayoutView",
            "align_content": null,
            "align_items": null,
            "align_self": null,
            "border": null,
            "bottom": null,
            "display": null,
            "flex": null,
            "flex_flow": null,
            "grid_area": null,
            "grid_auto_columns": null,
            "grid_auto_flow": null,
            "grid_auto_rows": null,
            "grid_column": null,
            "grid_gap": null,
            "grid_row": null,
            "grid_template_areas": null,
            "grid_template_columns": null,
            "grid_template_rows": null,
            "height": null,
            "justify_content": null,
            "justify_items": null,
            "left": null,
            "margin": null,
            "max_height": null,
            "max_width": null,
            "min_height": null,
            "min_width": null,
            "object_fit": null,
            "object_position": null,
            "order": null,
            "overflow": null,
            "overflow_x": null,
            "overflow_y": null,
            "padding": null,
            "right": null,
            "top": null,
            "visibility": null,
            "width": null
          }
        },
        "41ce8173725940e293f512074ae7bbda": {
          "model_module": "@jupyter-widgets/controls",
          "model_name": "ProgressStyleModel",
          "model_module_version": "1.5.0",
          "state": {
            "_model_module": "@jupyter-widgets/controls",
            "_model_module_version": "1.5.0",
            "_model_name": "ProgressStyleModel",
            "_view_count": null,
            "_view_module": "@jupyter-widgets/base",
            "_view_module_version": "1.2.0",
            "_view_name": "StyleView",
            "bar_color": null,
            "description_width": ""
          }
        },
        "05a414616cfe4e29948dda808e7162e7": {
          "model_module": "@jupyter-widgets/base",
          "model_name": "LayoutModel",
          "model_module_version": "1.2.0",
          "state": {
            "_model_module": "@jupyter-widgets/base",
            "_model_module_version": "1.2.0",
            "_model_name": "LayoutModel",
            "_view_count": null,
            "_view_module": "@jupyter-widgets/base",
            "_view_module_version": "1.2.0",
            "_view_name": "LayoutView",
            "align_content": null,
            "align_items": null,
            "align_self": null,
            "border": null,
            "bottom": null,
            "display": null,
            "flex": null,
            "flex_flow": null,
            "grid_area": null,
            "grid_auto_columns": null,
            "grid_auto_flow": null,
            "grid_auto_rows": null,
            "grid_column": null,
            "grid_gap": null,
            "grid_row": null,
            "grid_template_areas": null,
            "grid_template_columns": null,
            "grid_template_rows": null,
            "height": null,
            "justify_content": null,
            "justify_items": null,
            "left": null,
            "margin": null,
            "max_height": null,
            "max_width": null,
            "min_height": null,
            "min_width": null,
            "object_fit": null,
            "object_position": null,
            "order": null,
            "overflow": null,
            "overflow_x": null,
            "overflow_y": null,
            "padding": null,
            "right": null,
            "top": null,
            "visibility": null,
            "width": null
          }
        },
        "a240eaf4de144ca48aedec5f80c2e1c5": {
          "model_module": "@jupyter-widgets/controls",
          "model_name": "DescriptionStyleModel",
          "model_module_version": "1.5.0",
          "state": {
            "_model_module": "@jupyter-widgets/controls",
            "_model_module_version": "1.5.0",
            "_model_name": "DescriptionStyleModel",
            "_view_count": null,
            "_view_module": "@jupyter-widgets/base",
            "_view_module_version": "1.2.0",
            "_view_name": "StyleView",
            "description_width": ""
          }
        }
      }
    }
  },
  "cells": [
    {
      "cell_type": "markdown",
      "source": [
        "# Installations"
      ],
      "metadata": {
        "id": "Y3qI4jojTzHp"
      }
    },
    {
      "cell_type": "code",
      "source": [
        "# Feature Based Installations\n",
        "!pip install contractions"
      ],
      "metadata": {
        "id": "XZ6J3eFSTyyf",
        "colab": {
          "base_uri": "https://localhost:8080/"
        },
        "outputId": "90d454d5-3016-4376-9f16-40c5a552825a"
      },
      "execution_count": 1,
      "outputs": [
        {
          "output_type": "stream",
          "name": "stdout",
          "text": [
            "Looking in indexes: https://pypi.org/simple, https://us-python.pkg.dev/colab-wheels/public/simple/\n",
            "Collecting contractions\n",
            "  Downloading contractions-0.1.73-py2.py3-none-any.whl (8.7 kB)\n",
            "Collecting textsearch>=0.0.21 (from contractions)\n",
            "  Downloading textsearch-0.0.24-py2.py3-none-any.whl (7.6 kB)\n",
            "Collecting anyascii (from textsearch>=0.0.21->contractions)\n",
            "  Downloading anyascii-0.3.2-py3-none-any.whl (289 kB)\n",
            "\u001b[2K     \u001b[90m━━━━━━━━━━━━━━━━━━━━━━━━━━━━━━━━━━━━━━━\u001b[0m \u001b[32m289.9/289.9 kB\u001b[0m \u001b[31m7.3 MB/s\u001b[0m eta \u001b[36m0:00:00\u001b[0m\n",
            "\u001b[?25hCollecting pyahocorasick (from textsearch>=0.0.21->contractions)\n",
            "  Downloading pyahocorasick-2.0.0-cp310-cp310-manylinux_2_5_x86_64.manylinux1_x86_64.manylinux_2_12_x86_64.manylinux2010_x86_64.whl (110 kB)\n",
            "\u001b[2K     \u001b[90m━━━━━━━━━━━━━━━━━━━━━━━━━━━━━━━━━━━━━━━\u001b[0m \u001b[32m110.8/110.8 kB\u001b[0m \u001b[31m9.3 MB/s\u001b[0m eta \u001b[36m0:00:00\u001b[0m\n",
            "\u001b[?25hInstalling collected packages: pyahocorasick, anyascii, textsearch, contractions\n",
            "Successfully installed anyascii-0.3.2 contractions-0.1.73 pyahocorasick-2.0.0 textsearch-0.0.24\n"
          ]
        }
      ]
    },
    {
      "cell_type": "code",
      "source": [
        "# Transformer Based Installations\n",
        "\n",
        "!pip install transformers\n",
        "!pip install datasets\n",
        "!pip install pytorch-lightning==1.2.7 \n",
        "!pip install torchtext==0.6 torch\n",
        "!pip install evaluate\n",
        "!pip install bert_score"
      ],
      "metadata": {
        "id": "5isx8pFNaGU3",
        "colab": {
          "base_uri": "https://localhost:8080/"
        },
        "outputId": "f6f2055f-be60-40d6-d086-f6001be7cf7b"
      },
      "execution_count": 2,
      "outputs": [
        {
          "output_type": "stream",
          "name": "stdout",
          "text": [
            "Looking in indexes: https://pypi.org/simple, https://us-python.pkg.dev/colab-wheels/public/simple/\n",
            "Collecting transformers\n",
            "  Downloading transformers-4.29.1-py3-none-any.whl (7.1 MB)\n",
            "\u001b[2K     \u001b[90m━━━━━━━━━━━━━━━━━━━━━━━━━━━━━━━━━━━━━━━━\u001b[0m \u001b[32m7.1/7.1 MB\u001b[0m \u001b[31m57.8 MB/s\u001b[0m eta \u001b[36m0:00:00\u001b[0m\n",
            "\u001b[?25hRequirement already satisfied: filelock in /usr/local/lib/python3.10/dist-packages (from transformers) (3.12.0)\n",
            "Collecting huggingface-hub<1.0,>=0.14.1 (from transformers)\n",
            "  Downloading huggingface_hub-0.14.1-py3-none-any.whl (224 kB)\n",
            "\u001b[2K     \u001b[90m━━━━━━━━━━━━━━━━━━━━━━━━━━━━━━━━━━━━━━\u001b[0m \u001b[32m224.5/224.5 kB\u001b[0m \u001b[31m28.3 MB/s\u001b[0m eta \u001b[36m0:00:00\u001b[0m\n",
            "\u001b[?25hRequirement already satisfied: numpy>=1.17 in /usr/local/lib/python3.10/dist-packages (from transformers) (1.22.4)\n",
            "Requirement already satisfied: packaging>=20.0 in /usr/local/lib/python3.10/dist-packages (from transformers) (23.1)\n",
            "Requirement already satisfied: pyyaml>=5.1 in /usr/local/lib/python3.10/dist-packages (from transformers) (6.0)\n",
            "Requirement already satisfied: regex!=2019.12.17 in /usr/local/lib/python3.10/dist-packages (from transformers) (2022.10.31)\n",
            "Requirement already satisfied: requests in /usr/local/lib/python3.10/dist-packages (from transformers) (2.27.1)\n",
            "Collecting tokenizers!=0.11.3,<0.14,>=0.11.1 (from transformers)\n",
            "  Downloading tokenizers-0.13.3-cp310-cp310-manylinux_2_17_x86_64.manylinux2014_x86_64.whl (7.8 MB)\n",
            "\u001b[2K     \u001b[90m━━━━━━━━━━━━━━━━━━━━━━━━━━━━━━━━━━━━━━━━\u001b[0m \u001b[32m7.8/7.8 MB\u001b[0m \u001b[31m77.0 MB/s\u001b[0m eta \u001b[36m0:00:00\u001b[0m\n",
            "\u001b[?25hRequirement already satisfied: tqdm>=4.27 in /usr/local/lib/python3.10/dist-packages (from transformers) (4.65.0)\n",
            "Requirement already satisfied: fsspec in /usr/local/lib/python3.10/dist-packages (from huggingface-hub<1.0,>=0.14.1->transformers) (2023.4.0)\n",
            "Requirement already satisfied: typing-extensions>=3.7.4.3 in /usr/local/lib/python3.10/dist-packages (from huggingface-hub<1.0,>=0.14.1->transformers) (4.5.0)\n",
            "Requirement already satisfied: urllib3<1.27,>=1.21.1 in /usr/local/lib/python3.10/dist-packages (from requests->transformers) (1.26.15)\n",
            "Requirement already satisfied: certifi>=2017.4.17 in /usr/local/lib/python3.10/dist-packages (from requests->transformers) (2022.12.7)\n",
            "Requirement already satisfied: charset-normalizer~=2.0.0 in /usr/local/lib/python3.10/dist-packages (from requests->transformers) (2.0.12)\n",
            "Requirement already satisfied: idna<4,>=2.5 in /usr/local/lib/python3.10/dist-packages (from requests->transformers) (3.4)\n",
            "Installing collected packages: tokenizers, huggingface-hub, transformers\n",
            "Successfully installed huggingface-hub-0.14.1 tokenizers-0.13.3 transformers-4.29.1\n",
            "Looking in indexes: https://pypi.org/simple, https://us-python.pkg.dev/colab-wheels/public/simple/\n",
            "Collecting datasets\n",
            "  Downloading datasets-2.12.0-py3-none-any.whl (474 kB)\n",
            "\u001b[2K     \u001b[90m━━━━━━━━━━━━━━━━━━━━━━━━━━━━━━━━━━━━━━\u001b[0m \u001b[32m474.6/474.6 kB\u001b[0m \u001b[31m10.3 MB/s\u001b[0m eta \u001b[36m0:00:00\u001b[0m\n",
            "\u001b[?25hRequirement already satisfied: numpy>=1.17 in /usr/local/lib/python3.10/dist-packages (from datasets) (1.22.4)\n",
            "Requirement already satisfied: pyarrow>=8.0.0 in /usr/local/lib/python3.10/dist-packages (from datasets) (9.0.0)\n",
            "Collecting dill<0.3.7,>=0.3.0 (from datasets)\n",
            "  Downloading dill-0.3.6-py3-none-any.whl (110 kB)\n",
            "\u001b[2K     \u001b[90m━━━━━━━━━━━━━━━━━━━━━━━━━━━━━━━━━━━━━━\u001b[0m \u001b[32m110.5/110.5 kB\u001b[0m \u001b[31m16.2 MB/s\u001b[0m eta \u001b[36m0:00:00\u001b[0m\n",
            "\u001b[?25hRequirement already satisfied: pandas in /usr/local/lib/python3.10/dist-packages (from datasets) (1.5.3)\n",
            "Requirement already satisfied: requests>=2.19.0 in /usr/local/lib/python3.10/dist-packages (from datasets) (2.27.1)\n",
            "Requirement already satisfied: tqdm>=4.62.1 in /usr/local/lib/python3.10/dist-packages (from datasets) (4.65.0)\n",
            "Collecting xxhash (from datasets)\n",
            "  Downloading xxhash-3.2.0-cp310-cp310-manylinux_2_17_x86_64.manylinux2014_x86_64.whl (212 kB)\n",
            "\u001b[2K     \u001b[90m━━━━━━━━━━━━━━━━━━━━━━━━━━━━━━━━━━━━━━\u001b[0m \u001b[32m212.5/212.5 kB\u001b[0m \u001b[31m27.3 MB/s\u001b[0m eta \u001b[36m0:00:00\u001b[0m\n",
            "\u001b[?25hCollecting multiprocess (from datasets)\n",
            "  Downloading multiprocess-0.70.14-py310-none-any.whl (134 kB)\n",
            "\u001b[2K     \u001b[90m━━━━━━━━━━━━━━━━━━━━━━━━━━━━━━━━━━━━━━\u001b[0m \u001b[32m134.3/134.3 kB\u001b[0m \u001b[31m19.5 MB/s\u001b[0m eta \u001b[36m0:00:00\u001b[0m\n",
            "\u001b[?25hRequirement already satisfied: fsspec[http]>=2021.11.1 in /usr/local/lib/python3.10/dist-packages (from datasets) (2023.4.0)\n",
            "Collecting aiohttp (from datasets)\n",
            "  Downloading aiohttp-3.8.4-cp310-cp310-manylinux_2_17_x86_64.manylinux2014_x86_64.whl (1.0 MB)\n",
            "\u001b[2K     \u001b[90m━━━━━━━━━━━━━━━━━━━━━━━━━━━━━━━━━━━━━━━━\u001b[0m \u001b[32m1.0/1.0 MB\u001b[0m \u001b[31m40.9 MB/s\u001b[0m eta \u001b[36m0:00:00\u001b[0m\n",
            "\u001b[?25hRequirement already satisfied: huggingface-hub<1.0.0,>=0.11.0 in /usr/local/lib/python3.10/dist-packages (from datasets) (0.14.1)\n",
            "Requirement already satisfied: packaging in /usr/local/lib/python3.10/dist-packages (from datasets) (23.1)\n",
            "Collecting responses<0.19 (from datasets)\n",
            "  Downloading responses-0.18.0-py3-none-any.whl (38 kB)\n",
            "Requirement already satisfied: pyyaml>=5.1 in /usr/local/lib/python3.10/dist-packages (from datasets) (6.0)\n",
            "Requirement already satisfied: attrs>=17.3.0 in /usr/local/lib/python3.10/dist-packages (from aiohttp->datasets) (23.1.0)\n",
            "Requirement already satisfied: charset-normalizer<4.0,>=2.0 in /usr/local/lib/python3.10/dist-packages (from aiohttp->datasets) (2.0.12)\n",
            "Collecting multidict<7.0,>=4.5 (from aiohttp->datasets)\n",
            "  Downloading multidict-6.0.4-cp310-cp310-manylinux_2_17_x86_64.manylinux2014_x86_64.whl (114 kB)\n",
            "\u001b[2K     \u001b[90m━━━━━━━━━━━━━━━━━━━━━━━━━━━━━━━━━━━━━━\u001b[0m \u001b[32m114.5/114.5 kB\u001b[0m \u001b[31m17.1 MB/s\u001b[0m eta \u001b[36m0:00:00\u001b[0m\n",
            "\u001b[?25hCollecting async-timeout<5.0,>=4.0.0a3 (from aiohttp->datasets)\n",
            "  Downloading async_timeout-4.0.2-py3-none-any.whl (5.8 kB)\n",
            "Collecting yarl<2.0,>=1.0 (from aiohttp->datasets)\n",
            "  Downloading yarl-1.9.2-cp310-cp310-manylinux_2_17_x86_64.manylinux2014_x86_64.whl (268 kB)\n",
            "\u001b[2K     \u001b[90m━━━━━━━━━━━━━━━━━━━━━━━━━━━━━━━━━━━━━━\u001b[0m \u001b[32m268.8/268.8 kB\u001b[0m \u001b[31m33.6 MB/s\u001b[0m eta \u001b[36m0:00:00\u001b[0m\n",
            "\u001b[?25hCollecting frozenlist>=1.1.1 (from aiohttp->datasets)\n",
            "  Downloading frozenlist-1.3.3-cp310-cp310-manylinux_2_5_x86_64.manylinux1_x86_64.manylinux_2_17_x86_64.manylinux2014_x86_64.whl (149 kB)\n",
            "\u001b[2K     \u001b[90m━━━━━━━━━━━━━━━━━━━━━━━━━━━━━━━━━━━━━━\u001b[0m \u001b[32m149.6/149.6 kB\u001b[0m \u001b[31m20.7 MB/s\u001b[0m eta \u001b[36m0:00:00\u001b[0m\n",
            "\u001b[?25hCollecting aiosignal>=1.1.2 (from aiohttp->datasets)\n",
            "  Downloading aiosignal-1.3.1-py3-none-any.whl (7.6 kB)\n",
            "Requirement already satisfied: filelock in /usr/local/lib/python3.10/dist-packages (from huggingface-hub<1.0.0,>=0.11.0->datasets) (3.12.0)\n",
            "Requirement already satisfied: typing-extensions>=3.7.4.3 in /usr/local/lib/python3.10/dist-packages (from huggingface-hub<1.0.0,>=0.11.0->datasets) (4.5.0)\n",
            "Requirement already satisfied: urllib3<1.27,>=1.21.1 in /usr/local/lib/python3.10/dist-packages (from requests>=2.19.0->datasets) (1.26.15)\n",
            "Requirement already satisfied: certifi>=2017.4.17 in /usr/local/lib/python3.10/dist-packages (from requests>=2.19.0->datasets) (2022.12.7)\n",
            "Requirement already satisfied: idna<4,>=2.5 in /usr/local/lib/python3.10/dist-packages (from requests>=2.19.0->datasets) (3.4)\n",
            "Requirement already satisfied: python-dateutil>=2.8.1 in /usr/local/lib/python3.10/dist-packages (from pandas->datasets) (2.8.2)\n",
            "Requirement already satisfied: pytz>=2020.1 in /usr/local/lib/python3.10/dist-packages (from pandas->datasets) (2022.7.1)\n",
            "Requirement already satisfied: six>=1.5 in /usr/local/lib/python3.10/dist-packages (from python-dateutil>=2.8.1->pandas->datasets) (1.16.0)\n",
            "Installing collected packages: xxhash, multidict, frozenlist, dill, async-timeout, yarl, responses, multiprocess, aiosignal, aiohttp, datasets\n",
            "Successfully installed aiohttp-3.8.4 aiosignal-1.3.1 async-timeout-4.0.2 datasets-2.12.0 dill-0.3.6 frozenlist-1.3.3 multidict-6.0.4 multiprocess-0.70.14 responses-0.18.0 xxhash-3.2.0 yarl-1.9.2\n",
            "Looking in indexes: https://pypi.org/simple, https://us-python.pkg.dev/colab-wheels/public/simple/\n",
            "Collecting pytorch-lightning==1.2.7\n",
            "  Downloading pytorch_lightning-1.2.7-py3-none-any.whl (830 kB)\n",
            "\u001b[2K     \u001b[90m━━━━━━━━━━━━━━━━━━━━━━━━━━━━━━━━━━━━━━\u001b[0m \u001b[32m830.7/830.7 kB\u001b[0m \u001b[31m13.6 MB/s\u001b[0m eta \u001b[36m0:00:00\u001b[0m\n",
            "\u001b[?25hRequirement already satisfied: numpy>=1.16.6 in /usr/local/lib/python3.10/dist-packages (from pytorch-lightning==1.2.7) (1.22.4)\n",
            "Requirement already satisfied: torch>=1.4 in /usr/local/lib/python3.10/dist-packages (from pytorch-lightning==1.2.7) (2.0.0+cu118)\n",
            "Requirement already satisfied: future>=0.17.1 in /usr/local/lib/python3.10/dist-packages (from pytorch-lightning==1.2.7) (0.18.3)\n",
            "Requirement already satisfied: PyYAML!=5.4.*,>=5.1 in /usr/local/lib/python3.10/dist-packages (from pytorch-lightning==1.2.7) (6.0)\n",
            "Requirement already satisfied: tqdm>=4.41.0 in /usr/local/lib/python3.10/dist-packages (from pytorch-lightning==1.2.7) (4.65.0)\n",
            "Requirement already satisfied: fsspec[http]>=0.8.1 in /usr/local/lib/python3.10/dist-packages (from pytorch-lightning==1.2.7) (2023.4.0)\n",
            "Requirement already satisfied: tensorboard>=2.2.0 in /usr/local/lib/python3.10/dist-packages (from pytorch-lightning==1.2.7) (2.12.2)\n",
            "Collecting torchmetrics>=0.2.0 (from pytorch-lightning==1.2.7)\n",
            "  Downloading torchmetrics-0.11.4-py3-none-any.whl (519 kB)\n",
            "\u001b[2K     \u001b[90m━━━━━━━━━━━━━━━━━━━━━━━━━━━━━━━━━━━━━━\u001b[0m \u001b[32m519.2/519.2 kB\u001b[0m \u001b[31m48.9 MB/s\u001b[0m eta \u001b[36m0:00:00\u001b[0m\n",
            "\u001b[?25hRequirement already satisfied: requests in /usr/local/lib/python3.10/dist-packages (from fsspec[http]>=0.8.1->pytorch-lightning==1.2.7) (2.27.1)\n",
            "Requirement already satisfied: aiohttp!=4.0.0a0,!=4.0.0a1 in /usr/local/lib/python3.10/dist-packages (from fsspec[http]>=0.8.1->pytorch-lightning==1.2.7) (3.8.4)\n",
            "Requirement already satisfied: absl-py>=0.4 in /usr/local/lib/python3.10/dist-packages (from tensorboard>=2.2.0->pytorch-lightning==1.2.7) (1.4.0)\n",
            "Requirement already satisfied: grpcio>=1.48.2 in /usr/local/lib/python3.10/dist-packages (from tensorboard>=2.2.0->pytorch-lightning==1.2.7) (1.54.0)\n",
            "Requirement already satisfied: google-auth<3,>=1.6.3 in /usr/local/lib/python3.10/dist-packages (from tensorboard>=2.2.0->pytorch-lightning==1.2.7) (2.17.3)\n",
            "Requirement already satisfied: google-auth-oauthlib<1.1,>=0.5 in /usr/local/lib/python3.10/dist-packages (from tensorboard>=2.2.0->pytorch-lightning==1.2.7) (1.0.0)\n",
            "Requirement already satisfied: markdown>=2.6.8 in /usr/local/lib/python3.10/dist-packages (from tensorboard>=2.2.0->pytorch-lightning==1.2.7) (3.4.3)\n",
            "Requirement already satisfied: protobuf>=3.19.6 in /usr/local/lib/python3.10/dist-packages (from tensorboard>=2.2.0->pytorch-lightning==1.2.7) (3.20.3)\n",
            "Requirement already satisfied: setuptools>=41.0.0 in /usr/local/lib/python3.10/dist-packages (from tensorboard>=2.2.0->pytorch-lightning==1.2.7) (67.7.2)\n",
            "Requirement already satisfied: tensorboard-data-server<0.8.0,>=0.7.0 in /usr/local/lib/python3.10/dist-packages (from tensorboard>=2.2.0->pytorch-lightning==1.2.7) (0.7.0)\n",
            "Requirement already satisfied: tensorboard-plugin-wit>=1.6.0 in /usr/local/lib/python3.10/dist-packages (from tensorboard>=2.2.0->pytorch-lightning==1.2.7) (1.8.1)\n",
            "Requirement already satisfied: werkzeug>=1.0.1 in /usr/local/lib/python3.10/dist-packages (from tensorboard>=2.2.0->pytorch-lightning==1.2.7) (2.3.0)\n",
            "Requirement already satisfied: wheel>=0.26 in /usr/local/lib/python3.10/dist-packages (from tensorboard>=2.2.0->pytorch-lightning==1.2.7) (0.40.0)\n",
            "Requirement already satisfied: filelock in /usr/local/lib/python3.10/dist-packages (from torch>=1.4->pytorch-lightning==1.2.7) (3.12.0)\n",
            "Requirement already satisfied: typing-extensions in /usr/local/lib/python3.10/dist-packages (from torch>=1.4->pytorch-lightning==1.2.7) (4.5.0)\n",
            "Requirement already satisfied: sympy in /usr/local/lib/python3.10/dist-packages (from torch>=1.4->pytorch-lightning==1.2.7) (1.11.1)\n",
            "Requirement already satisfied: networkx in /usr/local/lib/python3.10/dist-packages (from torch>=1.4->pytorch-lightning==1.2.7) (3.1)\n",
            "Requirement already satisfied: jinja2 in /usr/local/lib/python3.10/dist-packages (from torch>=1.4->pytorch-lightning==1.2.7) (3.1.2)\n",
            "Requirement already satisfied: triton==2.0.0 in /usr/local/lib/python3.10/dist-packages (from torch>=1.4->pytorch-lightning==1.2.7) (2.0.0)\n",
            "Requirement already satisfied: cmake in /usr/local/lib/python3.10/dist-packages (from triton==2.0.0->torch>=1.4->pytorch-lightning==1.2.7) (3.25.2)\n",
            "Requirement already satisfied: lit in /usr/local/lib/python3.10/dist-packages (from triton==2.0.0->torch>=1.4->pytorch-lightning==1.2.7) (16.0.3)\n",
            "Requirement already satisfied: packaging in /usr/local/lib/python3.10/dist-packages (from torchmetrics>=0.2.0->pytorch-lightning==1.2.7) (23.1)\n",
            "Requirement already satisfied: attrs>=17.3.0 in /usr/local/lib/python3.10/dist-packages (from aiohttp!=4.0.0a0,!=4.0.0a1->fsspec[http]>=0.8.1->pytorch-lightning==1.2.7) (23.1.0)\n",
            "Requirement already satisfied: charset-normalizer<4.0,>=2.0 in /usr/local/lib/python3.10/dist-packages (from aiohttp!=4.0.0a0,!=4.0.0a1->fsspec[http]>=0.8.1->pytorch-lightning==1.2.7) (2.0.12)\n",
            "Requirement already satisfied: multidict<7.0,>=4.5 in /usr/local/lib/python3.10/dist-packages (from aiohttp!=4.0.0a0,!=4.0.0a1->fsspec[http]>=0.8.1->pytorch-lightning==1.2.7) (6.0.4)\n",
            "Requirement already satisfied: async-timeout<5.0,>=4.0.0a3 in /usr/local/lib/python3.10/dist-packages (from aiohttp!=4.0.0a0,!=4.0.0a1->fsspec[http]>=0.8.1->pytorch-lightning==1.2.7) (4.0.2)\n",
            "Requirement already satisfied: yarl<2.0,>=1.0 in /usr/local/lib/python3.10/dist-packages (from aiohttp!=4.0.0a0,!=4.0.0a1->fsspec[http]>=0.8.1->pytorch-lightning==1.2.7) (1.9.2)\n",
            "Requirement already satisfied: frozenlist>=1.1.1 in /usr/local/lib/python3.10/dist-packages (from aiohttp!=4.0.0a0,!=4.0.0a1->fsspec[http]>=0.8.1->pytorch-lightning==1.2.7) (1.3.3)\n",
            "Requirement already satisfied: aiosignal>=1.1.2 in /usr/local/lib/python3.10/dist-packages (from aiohttp!=4.0.0a0,!=4.0.0a1->fsspec[http]>=0.8.1->pytorch-lightning==1.2.7) (1.3.1)\n",
            "Requirement already satisfied: cachetools<6.0,>=2.0.0 in /usr/local/lib/python3.10/dist-packages (from google-auth<3,>=1.6.3->tensorboard>=2.2.0->pytorch-lightning==1.2.7) (5.3.0)\n",
            "Requirement already satisfied: pyasn1-modules>=0.2.1 in /usr/local/lib/python3.10/dist-packages (from google-auth<3,>=1.6.3->tensorboard>=2.2.0->pytorch-lightning==1.2.7) (0.3.0)\n",
            "Requirement already satisfied: six>=1.9.0 in /usr/local/lib/python3.10/dist-packages (from google-auth<3,>=1.6.3->tensorboard>=2.2.0->pytorch-lightning==1.2.7) (1.16.0)\n",
            "Requirement already satisfied: rsa<5,>=3.1.4 in /usr/local/lib/python3.10/dist-packages (from google-auth<3,>=1.6.3->tensorboard>=2.2.0->pytorch-lightning==1.2.7) (4.9)\n",
            "Requirement already satisfied: requests-oauthlib>=0.7.0 in /usr/local/lib/python3.10/dist-packages (from google-auth-oauthlib<1.1,>=0.5->tensorboard>=2.2.0->pytorch-lightning==1.2.7) (1.3.1)\n",
            "Requirement already satisfied: urllib3<1.27,>=1.21.1 in /usr/local/lib/python3.10/dist-packages (from requests->fsspec[http]>=0.8.1->pytorch-lightning==1.2.7) (1.26.15)\n",
            "Requirement already satisfied: certifi>=2017.4.17 in /usr/local/lib/python3.10/dist-packages (from requests->fsspec[http]>=0.8.1->pytorch-lightning==1.2.7) (2022.12.7)\n",
            "Requirement already satisfied: idna<4,>=2.5 in /usr/local/lib/python3.10/dist-packages (from requests->fsspec[http]>=0.8.1->pytorch-lightning==1.2.7) (3.4)\n",
            "Requirement already satisfied: MarkupSafe>=2.1.1 in /usr/local/lib/python3.10/dist-packages (from werkzeug>=1.0.1->tensorboard>=2.2.0->pytorch-lightning==1.2.7) (2.1.2)\n",
            "Requirement already satisfied: mpmath>=0.19 in /usr/local/lib/python3.10/dist-packages (from sympy->torch>=1.4->pytorch-lightning==1.2.7) (1.3.0)\n",
            "Requirement already satisfied: pyasn1<0.6.0,>=0.4.6 in /usr/local/lib/python3.10/dist-packages (from pyasn1-modules>=0.2.1->google-auth<3,>=1.6.3->tensorboard>=2.2.0->pytorch-lightning==1.2.7) (0.5.0)\n",
            "Requirement already satisfied: oauthlib>=3.0.0 in /usr/local/lib/python3.10/dist-packages (from requests-oauthlib>=0.7.0->google-auth-oauthlib<1.1,>=0.5->tensorboard>=2.2.0->pytorch-lightning==1.2.7) (3.2.2)\n",
            "Installing collected packages: torchmetrics, pytorch-lightning\n",
            "Successfully installed pytorch-lightning-1.2.7 torchmetrics-0.11.4\n",
            "Looking in indexes: https://pypi.org/simple, https://us-python.pkg.dev/colab-wheels/public/simple/\n",
            "Collecting torchtext==0.6\n",
            "  Downloading torchtext-0.6.0-py3-none-any.whl (64 kB)\n",
            "\u001b[2K     \u001b[90m━━━━━━━━━━━━━━━━━━━━━━━━━━━━━━━━━━━━━━━━\u001b[0m \u001b[32m64.2/64.2 kB\u001b[0m \u001b[31m3.2 MB/s\u001b[0m eta \u001b[36m0:00:00\u001b[0m\n",
            "\u001b[?25hRequirement already satisfied: torch in /usr/local/lib/python3.10/dist-packages (2.0.0+cu118)\n",
            "Requirement already satisfied: tqdm in /usr/local/lib/python3.10/dist-packages (from torchtext==0.6) (4.65.0)\n",
            "Requirement already satisfied: requests in /usr/local/lib/python3.10/dist-packages (from torchtext==0.6) (2.27.1)\n",
            "Requirement already satisfied: numpy in /usr/local/lib/python3.10/dist-packages (from torchtext==0.6) (1.22.4)\n",
            "Requirement already satisfied: six in /usr/local/lib/python3.10/dist-packages (from torchtext==0.6) (1.16.0)\n",
            "Collecting sentencepiece (from torchtext==0.6)\n",
            "  Downloading sentencepiece-0.1.99-cp310-cp310-manylinux_2_17_x86_64.manylinux2014_x86_64.whl (1.3 MB)\n",
            "\u001b[2K     \u001b[90m━━━━━━━━━━━━━━━━━━━━━━━━━━━━━━━━━━━━━━━━\u001b[0m \u001b[32m1.3/1.3 MB\u001b[0m \u001b[31m24.6 MB/s\u001b[0m eta \u001b[36m0:00:00\u001b[0m\n",
            "\u001b[?25hRequirement already satisfied: filelock in /usr/local/lib/python3.10/dist-packages (from torch) (3.12.0)\n",
            "Requirement already satisfied: typing-extensions in /usr/local/lib/python3.10/dist-packages (from torch) (4.5.0)\n",
            "Requirement already satisfied: sympy in /usr/local/lib/python3.10/dist-packages (from torch) (1.11.1)\n",
            "Requirement already satisfied: networkx in /usr/local/lib/python3.10/dist-packages (from torch) (3.1)\n",
            "Requirement already satisfied: jinja2 in /usr/local/lib/python3.10/dist-packages (from torch) (3.1.2)\n",
            "Requirement already satisfied: triton==2.0.0 in /usr/local/lib/python3.10/dist-packages (from torch) (2.0.0)\n",
            "Requirement already satisfied: cmake in /usr/local/lib/python3.10/dist-packages (from triton==2.0.0->torch) (3.25.2)\n",
            "Requirement already satisfied: lit in /usr/local/lib/python3.10/dist-packages (from triton==2.0.0->torch) (16.0.3)\n",
            "Requirement already satisfied: MarkupSafe>=2.0 in /usr/local/lib/python3.10/dist-packages (from jinja2->torch) (2.1.2)\n",
            "Requirement already satisfied: urllib3<1.27,>=1.21.1 in /usr/local/lib/python3.10/dist-packages (from requests->torchtext==0.6) (1.26.15)\n",
            "Requirement already satisfied: certifi>=2017.4.17 in /usr/local/lib/python3.10/dist-packages (from requests->torchtext==0.6) (2022.12.7)\n",
            "Requirement already satisfied: charset-normalizer~=2.0.0 in /usr/local/lib/python3.10/dist-packages (from requests->torchtext==0.6) (2.0.12)\n",
            "Requirement already satisfied: idna<4,>=2.5 in /usr/local/lib/python3.10/dist-packages (from requests->torchtext==0.6) (3.4)\n",
            "Requirement already satisfied: mpmath>=0.19 in /usr/local/lib/python3.10/dist-packages (from sympy->torch) (1.3.0)\n",
            "Installing collected packages: sentencepiece, torchtext\n",
            "  Attempting uninstall: torchtext\n",
            "    Found existing installation: torchtext 0.15.1\n",
            "    Uninstalling torchtext-0.15.1:\n",
            "      Successfully uninstalled torchtext-0.15.1\n",
            "Successfully installed sentencepiece-0.1.99 torchtext-0.6.0\n",
            "Looking in indexes: https://pypi.org/simple, https://us-python.pkg.dev/colab-wheels/public/simple/\n",
            "Collecting evaluate\n",
            "  Downloading evaluate-0.4.0-py3-none-any.whl (81 kB)\n",
            "\u001b[2K     \u001b[90m━━━━━━━━━━━━━━━━━━━━━━━━━━━━━━━━━━━━━━━━\u001b[0m \u001b[32m81.4/81.4 kB\u001b[0m \u001b[31m4.0 MB/s\u001b[0m eta \u001b[36m0:00:00\u001b[0m\n",
            "\u001b[?25hRequirement already satisfied: datasets>=2.0.0 in /usr/local/lib/python3.10/dist-packages (from evaluate) (2.12.0)\n",
            "Requirement already satisfied: numpy>=1.17 in /usr/local/lib/python3.10/dist-packages (from evaluate) (1.22.4)\n",
            "Requirement already satisfied: dill in /usr/local/lib/python3.10/dist-packages (from evaluate) (0.3.6)\n",
            "Requirement already satisfied: pandas in /usr/local/lib/python3.10/dist-packages (from evaluate) (1.5.3)\n",
            "Requirement already satisfied: requests>=2.19.0 in /usr/local/lib/python3.10/dist-packages (from evaluate) (2.27.1)\n",
            "Requirement already satisfied: tqdm>=4.62.1 in /usr/local/lib/python3.10/dist-packages (from evaluate) (4.65.0)\n",
            "Requirement already satisfied: xxhash in /usr/local/lib/python3.10/dist-packages (from evaluate) (3.2.0)\n",
            "Requirement already satisfied: multiprocess in /usr/local/lib/python3.10/dist-packages (from evaluate) (0.70.14)\n",
            "Requirement already satisfied: fsspec[http]>=2021.05.0 in /usr/local/lib/python3.10/dist-packages (from evaluate) (2023.4.0)\n",
            "Requirement already satisfied: huggingface-hub>=0.7.0 in /usr/local/lib/python3.10/dist-packages (from evaluate) (0.14.1)\n",
            "Requirement already satisfied: packaging in /usr/local/lib/python3.10/dist-packages (from evaluate) (23.1)\n",
            "Requirement already satisfied: responses<0.19 in /usr/local/lib/python3.10/dist-packages (from evaluate) (0.18.0)\n",
            "Requirement already satisfied: pyarrow>=8.0.0 in /usr/local/lib/python3.10/dist-packages (from datasets>=2.0.0->evaluate) (9.0.0)\n",
            "Requirement already satisfied: aiohttp in /usr/local/lib/python3.10/dist-packages (from datasets>=2.0.0->evaluate) (3.8.4)\n",
            "Requirement already satisfied: pyyaml>=5.1 in /usr/local/lib/python3.10/dist-packages (from datasets>=2.0.0->evaluate) (6.0)\n",
            "Requirement already satisfied: filelock in /usr/local/lib/python3.10/dist-packages (from huggingface-hub>=0.7.0->evaluate) (3.12.0)\n",
            "Requirement already satisfied: typing-extensions>=3.7.4.3 in /usr/local/lib/python3.10/dist-packages (from huggingface-hub>=0.7.0->evaluate) (4.5.0)\n",
            "Requirement already satisfied: urllib3<1.27,>=1.21.1 in /usr/local/lib/python3.10/dist-packages (from requests>=2.19.0->evaluate) (1.26.15)\n",
            "Requirement already satisfied: certifi>=2017.4.17 in /usr/local/lib/python3.10/dist-packages (from requests>=2.19.0->evaluate) (2022.12.7)\n",
            "Requirement already satisfied: charset-normalizer~=2.0.0 in /usr/local/lib/python3.10/dist-packages (from requests>=2.19.0->evaluate) (2.0.12)\n",
            "Requirement already satisfied: idna<4,>=2.5 in /usr/local/lib/python3.10/dist-packages (from requests>=2.19.0->evaluate) (3.4)\n",
            "Requirement already satisfied: python-dateutil>=2.8.1 in /usr/local/lib/python3.10/dist-packages (from pandas->evaluate) (2.8.2)\n",
            "Requirement already satisfied: pytz>=2020.1 in /usr/local/lib/python3.10/dist-packages (from pandas->evaluate) (2022.7.1)\n",
            "Requirement already satisfied: attrs>=17.3.0 in /usr/local/lib/python3.10/dist-packages (from aiohttp->datasets>=2.0.0->evaluate) (23.1.0)\n",
            "Requirement already satisfied: multidict<7.0,>=4.5 in /usr/local/lib/python3.10/dist-packages (from aiohttp->datasets>=2.0.0->evaluate) (6.0.4)\n",
            "Requirement already satisfied: async-timeout<5.0,>=4.0.0a3 in /usr/local/lib/python3.10/dist-packages (from aiohttp->datasets>=2.0.0->evaluate) (4.0.2)\n",
            "Requirement already satisfied: yarl<2.0,>=1.0 in /usr/local/lib/python3.10/dist-packages (from aiohttp->datasets>=2.0.0->evaluate) (1.9.2)\n",
            "Requirement already satisfied: frozenlist>=1.1.1 in /usr/local/lib/python3.10/dist-packages (from aiohttp->datasets>=2.0.0->evaluate) (1.3.3)\n",
            "Requirement already satisfied: aiosignal>=1.1.2 in /usr/local/lib/python3.10/dist-packages (from aiohttp->datasets>=2.0.0->evaluate) (1.3.1)\n",
            "Requirement already satisfied: six>=1.5 in /usr/local/lib/python3.10/dist-packages (from python-dateutil>=2.8.1->pandas->evaluate) (1.16.0)\n",
            "Installing collected packages: evaluate\n",
            "Successfully installed evaluate-0.4.0\n",
            "Looking in indexes: https://pypi.org/simple, https://us-python.pkg.dev/colab-wheels/public/simple/\n",
            "Collecting bert_score\n",
            "  Downloading bert_score-0.3.13-py3-none-any.whl (61 kB)\n",
            "\u001b[2K     \u001b[90m━━━━━━━━━━━━━━━━━━━━━━━━━━━━━━━━━━━━━━━━\u001b[0m \u001b[32m61.1/61.1 kB\u001b[0m \u001b[31m3.2 MB/s\u001b[0m eta \u001b[36m0:00:00\u001b[0m\n",
            "\u001b[?25hRequirement already satisfied: torch>=1.0.0 in /usr/local/lib/python3.10/dist-packages (from bert_score) (2.0.0+cu118)\n",
            "Requirement already satisfied: pandas>=1.0.1 in /usr/local/lib/python3.10/dist-packages (from bert_score) (1.5.3)\n",
            "Requirement already satisfied: transformers>=3.0.0 in /usr/local/lib/python3.10/dist-packages (from bert_score) (4.29.1)\n",
            "Requirement already satisfied: numpy in /usr/local/lib/python3.10/dist-packages (from bert_score) (1.22.4)\n",
            "Requirement already satisfied: requests in /usr/local/lib/python3.10/dist-packages (from bert_score) (2.27.1)\n",
            "Requirement already satisfied: tqdm>=4.31.1 in /usr/local/lib/python3.10/dist-packages (from bert_score) (4.65.0)\n",
            "Requirement already satisfied: matplotlib in /usr/local/lib/python3.10/dist-packages (from bert_score) (3.7.1)\n",
            "Requirement already satisfied: packaging>=20.9 in /usr/local/lib/python3.10/dist-packages (from bert_score) (23.1)\n",
            "Requirement already satisfied: python-dateutil>=2.8.1 in /usr/local/lib/python3.10/dist-packages (from pandas>=1.0.1->bert_score) (2.8.2)\n",
            "Requirement already satisfied: pytz>=2020.1 in /usr/local/lib/python3.10/dist-packages (from pandas>=1.0.1->bert_score) (2022.7.1)\n",
            "Requirement already satisfied: filelock in /usr/local/lib/python3.10/dist-packages (from torch>=1.0.0->bert_score) (3.12.0)\n",
            "Requirement already satisfied: typing-extensions in /usr/local/lib/python3.10/dist-packages (from torch>=1.0.0->bert_score) (4.5.0)\n",
            "Requirement already satisfied: sympy in /usr/local/lib/python3.10/dist-packages (from torch>=1.0.0->bert_score) (1.11.1)\n",
            "Requirement already satisfied: networkx in /usr/local/lib/python3.10/dist-packages (from torch>=1.0.0->bert_score) (3.1)\n",
            "Requirement already satisfied: jinja2 in /usr/local/lib/python3.10/dist-packages (from torch>=1.0.0->bert_score) (3.1.2)\n",
            "Requirement already satisfied: triton==2.0.0 in /usr/local/lib/python3.10/dist-packages (from torch>=1.0.0->bert_score) (2.0.0)\n",
            "Requirement already satisfied: cmake in /usr/local/lib/python3.10/dist-packages (from triton==2.0.0->torch>=1.0.0->bert_score) (3.25.2)\n",
            "Requirement already satisfied: lit in /usr/local/lib/python3.10/dist-packages (from triton==2.0.0->torch>=1.0.0->bert_score) (16.0.3)\n",
            "Requirement already satisfied: huggingface-hub<1.0,>=0.14.1 in /usr/local/lib/python3.10/dist-packages (from transformers>=3.0.0->bert_score) (0.14.1)\n",
            "Requirement already satisfied: pyyaml>=5.1 in /usr/local/lib/python3.10/dist-packages (from transformers>=3.0.0->bert_score) (6.0)\n",
            "Requirement already satisfied: regex!=2019.12.17 in /usr/local/lib/python3.10/dist-packages (from transformers>=3.0.0->bert_score) (2022.10.31)\n",
            "Requirement already satisfied: tokenizers!=0.11.3,<0.14,>=0.11.1 in /usr/local/lib/python3.10/dist-packages (from transformers>=3.0.0->bert_score) (0.13.3)\n",
            "Requirement already satisfied: contourpy>=1.0.1 in /usr/local/lib/python3.10/dist-packages (from matplotlib->bert_score) (1.0.7)\n",
            "Requirement already satisfied: cycler>=0.10 in /usr/local/lib/python3.10/dist-packages (from matplotlib->bert_score) (0.11.0)\n",
            "Requirement already satisfied: fonttools>=4.22.0 in /usr/local/lib/python3.10/dist-packages (from matplotlib->bert_score) (4.39.3)\n",
            "Requirement already satisfied: kiwisolver>=1.0.1 in /usr/local/lib/python3.10/dist-packages (from matplotlib->bert_score) (1.4.4)\n",
            "Requirement already satisfied: pillow>=6.2.0 in /usr/local/lib/python3.10/dist-packages (from matplotlib->bert_score) (8.4.0)\n",
            "Requirement already satisfied: pyparsing>=2.3.1 in /usr/local/lib/python3.10/dist-packages (from matplotlib->bert_score) (3.0.9)\n",
            "Requirement already satisfied: urllib3<1.27,>=1.21.1 in /usr/local/lib/python3.10/dist-packages (from requests->bert_score) (1.26.15)\n",
            "Requirement already satisfied: certifi>=2017.4.17 in /usr/local/lib/python3.10/dist-packages (from requests->bert_score) (2022.12.7)\n",
            "Requirement already satisfied: charset-normalizer~=2.0.0 in /usr/local/lib/python3.10/dist-packages (from requests->bert_score) (2.0.12)\n",
            "Requirement already satisfied: idna<4,>=2.5 in /usr/local/lib/python3.10/dist-packages (from requests->bert_score) (3.4)\n",
            "Requirement already satisfied: fsspec in /usr/local/lib/python3.10/dist-packages (from huggingface-hub<1.0,>=0.14.1->transformers>=3.0.0->bert_score) (2023.4.0)\n",
            "Requirement already satisfied: six>=1.5 in /usr/local/lib/python3.10/dist-packages (from python-dateutil>=2.8.1->pandas>=1.0.1->bert_score) (1.16.0)\n",
            "Requirement already satisfied: MarkupSafe>=2.0 in /usr/local/lib/python3.10/dist-packages (from jinja2->torch>=1.0.0->bert_score) (2.1.2)\n",
            "Requirement already satisfied: mpmath>=0.19 in /usr/local/lib/python3.10/dist-packages (from sympy->torch>=1.0.0->bert_score) (1.3.0)\n",
            "Installing collected packages: bert_score\n",
            "Successfully installed bert_score-0.3.13\n"
          ]
        }
      ]
    },
    {
      "cell_type": "markdown",
      "source": [
        "# Raw Data Collection"
      ],
      "metadata": {
        "id": "rBdcIOvcS3B0"
      }
    },
    {
      "cell_type": "markdown",
      "source": [
        "### Feature Extraction Imports"
      ],
      "metadata": {
        "id": "ErKdNx-_Zeck"
      }
    },
    {
      "cell_type": "code",
      "source": [
        "import pandas as pd\n",
        "import numpy as np\n",
        "import seaborn as sns\n",
        "from sklearn.metrics import accuracy_score, confusion_matrix, precision_recall_fscore_support, f1_score, recall_score\n",
        "from sklearn.model_selection import train_test_split\n",
        "from sklearn.feature_extraction.text import CountVectorizer\n",
        "from sklearn.feature_extraction.text import TfidfVectorizer\n",
        "from sklearn.multiclass import OneVsOneClassifier, OneVsRestClassifier\n",
        "from sklearn.linear_model import LogisticRegression\n",
        "from sklearn.svm import SVC\n",
        "from sklearn.naive_bayes import MultinomialNB"
      ],
      "metadata": {
        "id": "9EJo18h-S5hb"
      },
      "execution_count": null,
      "outputs": []
    },
    {
      "cell_type": "code",
      "source": [
        "import re\n",
        "import string\n",
        "import contractions\n",
        "import nltk\n",
        "from nltk.corpus import stopwords\n",
        "from nltk.tokenize import word_tokenize\n",
        "from nltk.stem import WordNetLemmatizer\n",
        "\n",
        "nltk.download('punkt')\n",
        "nltk.download('stopwords')\n",
        "nltk.download('wordnet')\n",
        "nltk.download('omw-1.4')"
      ],
      "metadata": {
        "id": "XU6Ao4rhXYLe"
      },
      "execution_count": null,
      "outputs": []
    },
    {
      "cell_type": "markdown",
      "source": [
        "### Transformer Based Imports"
      ],
      "metadata": {
        "id": "-WWE8GvkZmy_"
      }
    },
    {
      "cell_type": "code",
      "source": [
        "import pytorch_lightning as pl\n",
        "from torch.utils.data import  Dataset,DataLoader"
      ],
      "metadata": {
        "id": "_cdEnKCPZvvb"
      },
      "execution_count": null,
      "outputs": []
    },
    {
      "cell_type": "markdown",
      "source": [
        "### Data Reading --> Train & Test Data"
      ],
      "metadata": {
        "id": "QgBO1T5VZyqu"
      }
    },
    {
      "cell_type": "code",
      "source": [
        "train_df = pd.read_json(\"train.jsonl\", lines = True)\n",
        "test_df = pd.read_json(\"validation.jsonl\", lines = True)"
      ],
      "metadata": {
        "id": "wqoC5pgsXiat"
      },
      "execution_count": null,
      "outputs": []
    },
    {
      "cell_type": "code",
      "source": [
        "print(f\"Train Data Shape: {train_df.shape}\")\n",
        "print(f\"Test Data Shape: {test_df.shape}\")"
      ],
      "metadata": {
        "id": "P0sJdPkAYBQ4"
      },
      "execution_count": null,
      "outputs": []
    },
    {
      "cell_type": "markdown",
      "source": [
        "# Data Cleaning & Data Processing"
      ],
      "metadata": {
        "id": "qNj0k11lS6IP"
      }
    },
    {
      "cell_type": "markdown",
      "source": [
        "### Feature Based Preprocessing"
      ],
      "metadata": {
        "id": "F5xl-_42lVZE"
      }
    },
    {
      "cell_type": "code",
      "source": [
        "def format_data_for_feature_based_models(text):\n",
        "  return \" \".join(text)"
      ],
      "metadata": {
        "id": "7USMSyuzTBZo"
      },
      "execution_count": null,
      "outputs": []
    },
    {
      "cell_type": "code",
      "source": [
        "def list_to_string(spoiler_type):\n",
        "  if spoiler_type[0] == \"passage\":\n",
        "    return 0\n",
        "  elif spoiler_type[0] == \"phrase\":\n",
        "    return 1\n",
        "  else:\n",
        "    return 2"
      ],
      "metadata": {
        "id": "CD8-OcoFeM5g"
      },
      "execution_count": null,
      "outputs": []
    },
    {
      "cell_type": "code",
      "source": [
        "f_train_df = train_df[[\"targetTitle\", \"targetParagraphs\", \"tags\"]]\n",
        "f_test_df = test_df[[\"targetTitle\", \"targetParagraphs\", \"tags\"]]"
      ],
      "metadata": {
        "id": "NkD1bSZedQBC"
      },
      "execution_count": null,
      "outputs": []
    },
    {
      "cell_type": "code",
      "source": [
        "f_train_df[\"targetParagraphs\"] = f_train_df[\"targetParagraphs\"].apply(format_data_for_feature_based_models)\n",
        "f_test_df[\"targetParagraphs\"] = f_test_df[\"targetParagraphs\"].apply(format_data_for_feature_based_models)"
      ],
      "metadata": {
        "id": "1DGT3BB7dd4U"
      },
      "execution_count": null,
      "outputs": []
    },
    {
      "cell_type": "code",
      "source": [
        "f_train_df[\"tags\"] = f_train_df['tags'].apply(list_to_string)\n",
        "f_test_df[\"tags\"] = f_test_df['tags'].apply(list_to_string)"
      ],
      "metadata": {
        "id": "YlmEtRd9eqC8"
      },
      "execution_count": null,
      "outputs": []
    },
    {
      "cell_type": "code",
      "source": [
        "f_train_df.head(3)"
      ],
      "metadata": {
        "id": "Tah5QquMgArY"
      },
      "execution_count": null,
      "outputs": []
    },
    {
      "cell_type": "code",
      "source": [
        "f_train_df.iloc[0]['targetParagraphs']"
      ],
      "metadata": {
        "id": "D2lMiZyggMHb"
      },
      "execution_count": null,
      "outputs": []
    },
    {
      "cell_type": "code",
      "source": [
        "f_test_df.head(3)"
      ],
      "metadata": {
        "id": "oj9znfaKgCws"
      },
      "execution_count": null,
      "outputs": []
    },
    {
      "cell_type": "code",
      "source": [
        "f_test_df.iloc[0]['targetParagraphs']"
      ],
      "metadata": {
        "id": "WOvLFoVLgVD1"
      },
      "execution_count": null,
      "outputs": []
    },
    {
      "cell_type": "code",
      "source": [
        "f_train_df.rename(columns={\"targetTitle\":\"Post\", \"targetParagraphs\":\"Content\", \"tags\":\"Spoiler_Type\"}, inplace = True)\n",
        "f_test_df.rename(columns={\"targetTitle\":\"Post\", \"targetParagraphs\":\"Content\", \"tags\":\"Spoiler_Type\"}, inplace = True)"
      ],
      "metadata": {
        "id": "B0-id_bxhJoP"
      },
      "execution_count": null,
      "outputs": []
    },
    {
      "cell_type": "code",
      "source": [
        "train_df.columns"
      ],
      "metadata": {
        "id": "iKGyLQhwhYa5"
      },
      "execution_count": null,
      "outputs": []
    },
    {
      "cell_type": "code",
      "source": [
        "test_df.columns"
      ],
      "metadata": {
        "id": "60GcpSNPhdVi"
      },
      "execution_count": null,
      "outputs": []
    },
    {
      "cell_type": "code",
      "source": [
        "f_train_df.columns"
      ],
      "metadata": {
        "id": "-KjpjtT7hfRb"
      },
      "execution_count": null,
      "outputs": []
    },
    {
      "cell_type": "code",
      "source": [
        "f_test_df.columns"
      ],
      "metadata": {
        "id": "MMDxrUxPhi0S"
      },
      "execution_count": null,
      "outputs": []
    },
    {
      "cell_type": "code",
      "source": [
        "def get_features(train_data, test_data, model=\"bag_of_words\"):\n",
        "  if model == \"bag_of_words\":\n",
        "    vectorizer = CountVectorizer()\n",
        "    vectorizer.fit(train_data[\"Content\"])\n",
        "    return vectorizer.transform(train_data[\"Content\"]), vectorizer.transform(test_data[\"Content\"])\n",
        "  elif model == \"tf_idf_model\":\n",
        "    vectorizer = TfidfVectorizer(stop_words = \"english\", max_features=10000)\n",
        "    return vectorizer.fit_transform(train_data[\"Content\"]), vectorizer.transform(test_data[\"Content\"])    \n",
        "  elif model == \"****\":\n",
        "    pass"
      ],
      "metadata": {
        "id": "sW6OKH7Vlbbv"
      },
      "execution_count": null,
      "outputs": []
    },
    {
      "cell_type": "markdown",
      "source": [
        "# Classification"
      ],
      "metadata": {
        "id": "naphO68uTCQC"
      }
    },
    {
      "cell_type": "markdown",
      "source": [
        "## Feature Based Classification"
      ],
      "metadata": {
        "id": "wUZzyTeAgd00"
      }
    },
    {
      "cell_type": "markdown",
      "source": [
        "### Logistic Regression"
      ],
      "metadata": {
        "id": "rYBEzdRApJrE"
      }
    },
    {
      "cell_type": "markdown",
      "source": [
        "#### Bag Of Words Model"
      ],
      "metadata": {
        "id": "IVBa2u9CpSjh"
      }
    },
    {
      "cell_type": "code",
      "source": [
        "# Using Bag Of Words Model\n",
        "train_x_bag, test_x_bag = get_features(f_train_df, f_test_df, \"bag_of_words\")\n",
        "\n",
        "# 1. Multi-Class\n",
        "model = LogisticRegression(max_iter = 1000, multi_class = \"multinomial\", class_weight = \"balanced\")\n",
        "model.fit(train_x_bag, f_train_df['Spoiler_Type'])\n",
        "\n",
        "predict_test_multi_bag = model.predict(test_x_bag)\n",
        "\n",
        "print(\"Y_test shape:\", f_test_df['Spoiler_Type'].shape)\n",
        "print(\"Predict_test_multi_bag:\", predict_test_multi_bag.shape)\n",
        "  # Evaluation Metrics:\n",
        "\n",
        "print(\"\\n\")\n",
        "print(\"F1-Score Multi Class\")\n",
        "print(\"F1-Score for Multi Class Test Data:{:.2f}%\".format(f1_score(f_test_df['Spoiler_Type'], predict_test_multi_bag, average=\"weighted\")))\n",
        "print(\"Accuracy-Score for Multi Class Test Data:{:.2f}%\".format(accuracy_score(f_test_df['Spoiler_Type'], predict_test_multi_bag)))\n",
        "\n",
        "# 2. OneVsRest\n",
        "model = OneVsRestClassifier(LogisticRegression(max_iter = 1000, class_weight = \"balanced\"))\n",
        "model.fit(train_x_bag, f_train_df['Spoiler_Type'])\n",
        "\n",
        "predict_test_ovr_bag = model.predict(test_x_bag)\n",
        "\n",
        "  # Evaluation Metrics:\n",
        "print(\"\\n\")\n",
        "print(\"F1-Score One Vs Rest\")\n",
        "print(\"F1-Score for One Vs Rest Test Data:{:.2f}%\".format(f1_score(f_test_df['Spoiler_Type'], predict_test_ovr_bag, average=\"weighted\")))\n",
        "print(\"Accuracy-Score for One Vs Rest Test Data:{:.2f}%\".format(accuracy_score(f_test_df['Spoiler_Type'], predict_test_ovr_bag)))\n",
        "\n",
        "\n",
        "# 3. OneVsOne\n",
        "\n",
        "model = OneVsOneClassifier(LogisticRegression(max_iter = 1000, class_weight = \"balanced\"))\n",
        "model.fit(train_x_bag, f_train_df['Spoiler_Type'])\n",
        "\n",
        "predict_test_ovo_bag = model.predict(test_x_bag)\n",
        "\n",
        "  # Evaluation Metrics:\n",
        "print(\"\\n\")\n",
        "print(\"F1-Score One Vs One\")\n",
        "print(\"F1-Score for One Vs One Test Data:{:.2f}%\".format(f1_score(f_test_df['Spoiler_Type'], predict_test_ovo_bag, average=\"weighted\")))\n",
        "print(\"Accuracy-Score for One Vs One Test Data:{:.2f}%\".format(accuracy_score(f_test_df['Spoiler_Type'], predict_test_ovo_bag)))\n"
      ],
      "metadata": {
        "id": "l8O5bxV-lROi"
      },
      "execution_count": null,
      "outputs": []
    },
    {
      "cell_type": "markdown",
      "source": [
        "#### TF-IDF Model"
      ],
      "metadata": {
        "id": "QHuQNoJHpVZj"
      }
    },
    {
      "cell_type": "code",
      "source": [
        "# Using TF-IDF Model\n",
        "train_x_bag, test_x_bag = get_features(f_train_df, f_test_df, \"tf_idf_model\")\n",
        "\n",
        "# 1. Multi-Class\n",
        "model = LogisticRegression(max_iter = 1000, multi_class = \"multinomial\", class_weight = \"balanced\")\n",
        "model.fit(train_x_bag, f_train_df['Spoiler_Type'])\n",
        "\n",
        "predict_test_multi_bag = model.predict(test_x_bag)\n",
        "\n",
        "print(\"Y_test shape:\", f_test_df['Spoiler_Type'].shape)\n",
        "print(\"Predict_test_multi_bag:\", predict_test_multi_bag.shape)\n",
        "  # Evaluation Metrics:\n",
        "\n",
        "print(\"\\n\")\n",
        "print(\"F1-Score Multi Class\")\n",
        "print(\"F1-Score for Multi Class Test Data:{:.2f}%\".format(f1_score(f_test_df['Spoiler_Type'], predict_test_multi_bag, average=\"weighted\")))\n",
        "print(\"Accuracy-Score for Multi Class Test Data:{:.2f}%\".format(accuracy_score(f_test_df['Spoiler_Type'], predict_test_multi_bag)))\n",
        "\n",
        "# 2. OneVsRest\n",
        "model = OneVsRestClassifier(LogisticRegression(max_iter = 1000, class_weight = \"balanced\"))\n",
        "model.fit(train_x_bag, f_train_df['Spoiler_Type'])\n",
        "\n",
        "predict_test_ovr_bag = model.predict(test_x_bag)\n",
        "\n",
        "  # Evaluation Metrics:\n",
        "print(\"\\n\")\n",
        "print(\"F1-Score One Vs Rest\")\n",
        "print(\"F1-Score for One Vs Rest Test Data:{:.2f}%\".format(f1_score(f_test_df['Spoiler_Type'], predict_test_ovr_bag, average=\"weighted\")))\n",
        "print(\"Accuracy-Score for One Vs Rest Test Data:{:.2f}%\".format(accuracy_score(f_test_df['Spoiler_Type'], predict_test_ovr_bag)))\n",
        "\n",
        "\n",
        "# 3. OneVsOne\n",
        "\n",
        "model = OneVsOneClassifier(LogisticRegression(max_iter = 1000, class_weight = \"balanced\"))\n",
        "model.fit(train_x_bag, f_train_df['Spoiler_Type'])\n",
        "\n",
        "predict_test_ovo_bag = model.predict(test_x_bag)\n",
        "\n",
        "  # Evaluation Metrics:\n",
        "print(\"\\n\")\n",
        "print(\"F1-Score One Vs One\")\n",
        "print(\"F1-Score for One Vs One Test Data:{:.2f}%\".format(f1_score(f_test_df['Spoiler_Type'], predict_test_ovo_bag, average=\"weighted\")))\n",
        "print(\"Accuracy-Score for One Vs One Test Data:{:.2f}%\".format(accuracy_score(f_test_df['Spoiler_Type'], predict_test_ovo_bag)))\n"
      ],
      "metadata": {
        "id": "Onb47jsZpaP_"
      },
      "execution_count": null,
      "outputs": []
    },
    {
      "cell_type": "markdown",
      "source": [
        "## Support Vector Machines"
      ],
      "metadata": {
        "id": "-_VTFFPb67kA"
      }
    },
    {
      "cell_type": "markdown",
      "source": [
        "### Bag-Of-Model"
      ],
      "metadata": {
        "id": "8tEj1Gow7BPz"
      }
    },
    {
      "cell_type": "code",
      "source": [
        "# Using Bag Of Words Model\n",
        "train_x_bag, test_x_bag = get_features(f_train_df, f_test_df, \"bag_of_words\")\n",
        "\n",
        "# 1. Multi-Class\n",
        "model = SVC(max_iter=1000, class_weight=\"balanced\", decision_function_shape=\"ovr\")\n",
        "model.fit(train_x_bag, f_train_df['Spoiler_Type'])\n",
        "\n",
        "predict_test_ovr_bag = model.predict(test_x_bag)\n",
        "\n",
        "  # Evaluation Metrics:\n",
        "print(\"\\n\")\n",
        "print(\"F1-Score One Vs Rest Class\")\n",
        "print(\"F1-Score for One Vs Rest Test Data:{:.2f}%\".format(f1_score(f_test_df['Spoiler_Type'], predict_test_ovr_bag, average=\"weighted\")))\n",
        "print(\"Accuracy-Score for One Vs Rest Test Data:{:.2f}%\".format(accuracy_score(f_test_df['Spoiler_Type'], predict_test_ovr_bag)))\n",
        "\n",
        "\n",
        "# 3. OneVsOne\n",
        "\n",
        "model = SVC(max_iter=1000, class_weight=\"balanced\", decision_function_shape=\"ovo\")\n",
        "model.fit(train_x_bag, f_train_df['Spoiler_Type'])\n",
        "\n",
        "predict_test_ovo_bag = model.predict(test_x_bag)\n",
        "\n",
        "  # Evaluation Metrics:\n",
        "print(\"\\n\")\n",
        "print(\"F1-Score One Vs One\")\n",
        "print(\"F1-Score for One Vs One Test Data:{:.2f}%\".format(f1_score(f_test_df['Spoiler_Type'], predict_test_ovo_bag, average=\"weighted\")))\n",
        "print(\"Accuracy-Score for One Vs One Test Data:{:.2f}%\".format(accuracy_score(f_test_df['Spoiler_Type'], predict_test_ovo_bag)))\n"
      ],
      "metadata": {
        "id": "_4KHv5xc7P6W"
      },
      "execution_count": null,
      "outputs": []
    },
    {
      "cell_type": "markdown",
      "source": [
        "### TF-IDF Model"
      ],
      "metadata": {
        "id": "0eN4drOS7GZx"
      }
    },
    {
      "cell_type": "code",
      "source": [
        "# Using TF-IDF Model\n",
        "train_x_bag, test_x_bag = get_features(f_train_df, f_test_df, \"tf_idf_model\")\n",
        "\n",
        "# 1. Multi-Class\n",
        "model = SVC(max_iter=1000, class_weight=\"balanced\", decision_function_shape=\"ovr\")\n",
        "model.fit(train_x_bag, f_train_df['Spoiler_Type'])\n",
        "\n",
        "predict_test_ovr_bag = model.predict(test_x_bag)\n",
        "\n",
        "  # Evaluation Metrics:\n",
        "print(\"\\n\")\n",
        "print(\"F1-Score One Vs Rest Class\")\n",
        "print(\"F1-Score for One Vs Rest Test Data:{:.2f}%\".format(f1_score(f_test_df['Spoiler_Type'], predict_test_ovr_bag, average=\"weighted\")))\n",
        "print(\"Accuracy-Score for One Vs Rest Test Data:{:.2f}%\".format(accuracy_score(f_test_df['Spoiler_Type'], predict_test_ovr_bag)))\n",
        "\n",
        "\n",
        "# 3. OneVsOne\n",
        "\n",
        "model = SVC(max_iter=1000, class_weight=\"balanced\", decision_function_shape=\"ovo\")\n",
        "model.fit(train_x_bag, f_train_df['Spoiler_Type'])\n",
        "\n",
        "predict_test_ovo_bag = model.predict(test_x_bag)\n",
        "\n",
        "  # Evaluation Metrics:\n",
        "print(\"\\n\")\n",
        "print(\"F1-Score One Vs One\")\n",
        "print(\"F1-Score for One Vs One Test Data:{:.2f}%\".format(f1_score(f_test_df['Spoiler_Type'], predict_test_ovo_bag, average=\"weighted\")))\n",
        "print(\"Accuracy-Score for One Vs One Test Data:{:.2f}%\".format(accuracy_score(f_test_df['Spoiler_Type'], predict_test_ovo_bag)))\n"
      ],
      "metadata": {
        "id": "CFxTRbvj7QXA"
      },
      "execution_count": null,
      "outputs": []
    },
    {
      "cell_type": "markdown",
      "source": [
        "## Naive Bayes"
      ],
      "metadata": {
        "id": "CgLA4uAT-w60"
      }
    },
    {
      "cell_type": "markdown",
      "source": [
        "### Bag Of Words Model"
      ],
      "metadata": {
        "id": "maZfCspJ-0JE"
      }
    },
    {
      "cell_type": "code",
      "source": [
        "# Using Bag Of Words Model\n",
        "train_x_bag, test_x_bag = get_features(f_train_df, f_test_df, \"bag_of_words\")\n",
        "\n",
        "# 1. Multi-Class\n",
        "model = MultinomialNB()\n",
        "model.fit(train_x_bag, f_train_df['Spoiler_Type'])\n",
        "\n",
        "predict_test_multi_bag = model.predict(test_x_bag)\n",
        "\n",
        "# Evaluation Metrics:\n",
        "print(\"\\n\")\n",
        "print(\"F1-Score Multi Class\")\n",
        "print(\"F1-Score for Multi Class Test Data:{:.2f}%\".format(f1_score(f_test_df['Spoiler_Type'], predict_test_multi_bag, average=\"weighted\")))\n",
        "print(\"Accuracy-Score for Multi Class Test Data:{:.2f}%\".format(accuracy_score(f_test_df['Spoiler_Type'], predict_test_multi_bag)))\n",
        "\n",
        "# 2. OneVsRest\n",
        "model = OneVsRestClassifier(MultinomialNB())\n",
        "model.fit(train_x_bag, f_train_df['Spoiler_Type'])\n",
        "\n",
        "predict_test_ovr_bag = model.predict(test_x_bag)\n",
        "\n",
        "# Evaluation Metrics:\n",
        "print(\"\\n\")\n",
        "print(\"F1-Score One Vs Rest\")\n",
        "print(\"F1-Score for One Vs Rest Test Data:{:.2f}%\".format(f1_score(f_test_df['Spoiler_Type'], predict_test_ovr_bag, average=\"weighted\")))\n",
        "print(\"Accuracy-Score for One Vs Rest Test Data:{:.2f}%\".format(accuracy_score(f_test_df['Spoiler_Type'], predict_test_ovr_bag)))\n",
        "\n",
        "\n",
        "# 3. OneVsOne\n",
        "model = OneVsOneClassifier(MultinomialNB())\n",
        "model.fit(train_x_bag, f_train_df['Spoiler_Type'])\n",
        "predict_test_ovo_bag = model.predict(test_x_bag)\n",
        "\n",
        "# Evaluation Metrics:\n",
        "print(\"\\n\")\n",
        "print(\"F1-Score One Vs One\")\n",
        "print(\"F1-Score for One Vs One Test Data:{:.2f}%\".format(f1_score(f_test_df['Spoiler_Type'], predict_test_ovo_bag, average=\"weighted\")))\n",
        "print(\"Accuracy-Score for One Vs One Test Data:{:.2f}%\".format(accuracy_score(f_test_df['Spoiler_Type'], predict_test_ovo_bag)))\n"
      ],
      "metadata": {
        "id": "MYIvP01s-7dj"
      },
      "execution_count": null,
      "outputs": []
    },
    {
      "cell_type": "markdown",
      "source": [
        "### TF-IDF Model"
      ],
      "metadata": {
        "id": "iiF8aY2S-5Zg"
      }
    },
    {
      "cell_type": "code",
      "source": [
        "# Using Bag Of Words Model\n",
        "train_x_bag, test_x_bag = get_features(f_train_df, f_test_df, \"tf_idf_model\")\n",
        "\n",
        "# 1. Multi-Class\n",
        "model = MultinomialNB()\n",
        "model.fit(train_x_bag, f_train_df['Spoiler_Type'])\n",
        "\n",
        "predict_test_multi_bag = model.predict(test_x_bag)\n",
        "\n",
        "# Evaluation Metrics:\n",
        "print(\"\\n\")\n",
        "print(\"F1-Score Multi Class\")\n",
        "print(\"F1-Score for Multi Class Test Data:{:.2f}%\".format(f1_score(f_test_df['Spoiler_Type'], predict_test_multi_bag, average=\"weighted\")))\n",
        "print(\"Accuracy-Score for Multi Class Test Data:{:.2f}%\".format(accuracy_score(f_test_df['Spoiler_Type'], predict_test_multi_bag)))\n",
        "\n",
        "# 2. OneVsRest\n",
        "model = OneVsRestClassifier(MultinomialNB())\n",
        "model.fit(train_x_bag, f_train_df['Spoiler_Type'])\n",
        "\n",
        "predict_test_ovr_bag = model.predict(test_x_bag)\n",
        "\n",
        "  # Evaluation Metrics:\n",
        "print(\"\\n\")\n",
        "print(\"F1-Score One Vs Rest\")\n",
        "print(\"F1-Score for One Vs Rest Test Data:{:.2f}%\".format(f1_score(f_test_df['Spoiler_Type'], predict_test_ovr_bag, average=\"weighted\")))\n",
        "print(\"Accuracy-Score for One Vs Rest Test Data:{:.2f}%\".format(accuracy_score(f_test_df['Spoiler_Type'], predict_test_ovr_bag)))\n",
        "\n",
        "\n",
        "# 3. OneVsOne\n",
        "model = OneVsOneClassifier(MultinomialNB())\n",
        "model.fit(train_x_bag, f_train_df['Spoiler_Type'])\n",
        "predict_test_ovo_bag = model.predict(test_x_bag)\n",
        "\n",
        "  # Evaluation Metrics:\n",
        "print(\"\\n\")\n",
        "print(\"F1-Score One Vs One\")\n",
        "print(\"F1-Score for One Vs One Test Data:{:.2f}%\".format(f1_score(f_test_df['Spoiler_Type'], predict_test_ovo_bag, average=\"weighted\")))\n",
        "print(\"Accuracy-Score for One Vs One Test Data:{:.2f}%\".format(accuracy_score(f_test_df['Spoiler_Type'], predict_test_ovo_bag)))"
      ],
      "metadata": {
        "id": "x-GuJzs2-8SZ"
      },
      "execution_count": null,
      "outputs": []
    },
    {
      "cell_type": "markdown",
      "source": [
        "## Transformer Based Classification"
      ],
      "metadata": {
        "id": "BMWlq7Wagisf"
      }
    },
    {
      "cell_type": "markdown",
      "source": [
        "### Roberta Based Classification"
      ],
      "metadata": {
        "id": "0uANkfmbpxVk"
      }
    },
    {
      "cell_type": "code",
      "source": [
        "!pip install transformers -U"
      ],
      "metadata": {
        "colab": {
          "base_uri": "https://localhost:8080/"
        },
        "id": "JuYcnGHsxRMh",
        "outputId": "f3407092-da2c-4687-8038-9cb3461f401d"
      },
      "execution_count": null,
      "outputs": [
        {
          "output_type": "stream",
          "name": "stdout",
          "text": [
            "Looking in indexes: https://pypi.org/simple, https://us-python.pkg.dev/colab-wheels/public/simple/\n",
            "Collecting transformers\n",
            "  Downloading transformers-4.29.1-py3-none-any.whl (7.1 MB)\n",
            "\u001b[2K     \u001b[90m━━━━━━━━━━━━━━━━━━━━━━━━━━━━━━━━━━━━━━━━\u001b[0m \u001b[32m7.1/7.1 MB\u001b[0m \u001b[31m73.9 MB/s\u001b[0m eta \u001b[36m0:00:00\u001b[0m\n",
            "\u001b[?25hRequirement already satisfied: filelock in /usr/local/lib/python3.10/dist-packages (from transformers) (3.12.0)\n",
            "Collecting huggingface-hub<1.0,>=0.14.1 (from transformers)\n",
            "  Downloading huggingface_hub-0.14.1-py3-none-any.whl (224 kB)\n",
            "\u001b[2K     \u001b[90m━━━━━━━━━━━━━━━━━━━━━━━━━━━━━━━━━━━━━━\u001b[0m \u001b[32m224.5/224.5 kB\u001b[0m \u001b[31m31.0 MB/s\u001b[0m eta \u001b[36m0:00:00\u001b[0m\n",
            "\u001b[?25hRequirement already satisfied: numpy>=1.17 in /usr/local/lib/python3.10/dist-packages (from transformers) (1.22.4)\n",
            "Requirement already satisfied: packaging>=20.0 in /usr/local/lib/python3.10/dist-packages (from transformers) (23.1)\n",
            "Requirement already satisfied: pyyaml>=5.1 in /usr/local/lib/python3.10/dist-packages (from transformers) (6.0)\n",
            "Requirement already satisfied: regex!=2019.12.17 in /usr/local/lib/python3.10/dist-packages (from transformers) (2022.10.31)\n",
            "Requirement already satisfied: requests in /usr/local/lib/python3.10/dist-packages (from transformers) (2.27.1)\n",
            "Collecting tokenizers!=0.11.3,<0.14,>=0.11.1 (from transformers)\n",
            "  Downloading tokenizers-0.13.3-cp310-cp310-manylinux_2_17_x86_64.manylinux2014_x86_64.whl (7.8 MB)\n",
            "\u001b[2K     \u001b[90m━━━━━━━━━━━━━━━━━━━━━━━━━━━━━━━━━━━━━━━━\u001b[0m \u001b[32m7.8/7.8 MB\u001b[0m \u001b[31m118.7 MB/s\u001b[0m eta \u001b[36m0:00:00\u001b[0m\n",
            "\u001b[?25hRequirement already satisfied: tqdm>=4.27 in /usr/local/lib/python3.10/dist-packages (from transformers) (4.65.0)\n",
            "Requirement already satisfied: fsspec in /usr/local/lib/python3.10/dist-packages (from huggingface-hub<1.0,>=0.14.1->transformers) (2023.4.0)\n",
            "Requirement already satisfied: typing-extensions>=3.7.4.3 in /usr/local/lib/python3.10/dist-packages (from huggingface-hub<1.0,>=0.14.1->transformers) (4.5.0)\n",
            "Requirement already satisfied: urllib3<1.27,>=1.21.1 in /usr/local/lib/python3.10/dist-packages (from requests->transformers) (1.26.15)\n",
            "Requirement already satisfied: certifi>=2017.4.17 in /usr/local/lib/python3.10/dist-packages (from requests->transformers) (2022.12.7)\n",
            "Requirement already satisfied: charset-normalizer~=2.0.0 in /usr/local/lib/python3.10/dist-packages (from requests->transformers) (2.0.12)\n",
            "Requirement already satisfied: idna<4,>=2.5 in /usr/local/lib/python3.10/dist-packages (from requests->transformers) (3.4)\n",
            "Installing collected packages: tokenizers, huggingface-hub, transformers\n",
            "Successfully installed huggingface-hub-0.14.1 tokenizers-0.13.3 transformers-4.29.1\n"
          ]
        }
      ]
    },
    {
      "cell_type": "code",
      "source": [
        "from google.colab import drive\n",
        "drive.mount('/content/drive')"
      ],
      "metadata": {
        "colab": {
          "base_uri": "https://localhost:8080/"
        },
        "id": "RyD9yVjxw5oi",
        "outputId": "ad9b2c11-3c94-4495-f937-47abc9ccca95"
      },
      "execution_count": null,
      "outputs": [
        {
          "output_type": "stream",
          "name": "stdout",
          "text": [
            "Mounted at /content/drive\n"
          ]
        }
      ]
    },
    {
      "cell_type": "code",
      "source": [
        "from nltk.corpus import wordnet\n",
        "import nltk\n",
        "nltk.download('wordnet')"
      ],
      "metadata": {
        "id": "ortNHiIuO0Nn",
        "colab": {
          "base_uri": "https://localhost:8080/"
        },
        "outputId": "d2e8edeb-ec67-4f17-b155-a92ef78d2fb6"
      },
      "execution_count": null,
      "outputs": [
        {
          "output_type": "stream",
          "name": "stderr",
          "text": [
            "[nltk_data] Downloading package wordnet to /root/nltk_data...\n"
          ]
        },
        {
          "output_type": "execute_result",
          "data": {
            "text/plain": [
              "True"
            ]
          },
          "metadata": {},
          "execution_count": 3
        }
      ]
    },
    {
      "cell_type": "code",
      "source": [
        "import pandas as pd\n",
        "train_df = pd.read_json(\"/content/drive/MyDrive/NLP_dataset/train.jsonl\", lines = True)\n",
        "test_df = pd.read_json(\"/content/drive/MyDrive/NLP_dataset/validation.jsonl\", lines = True)"
      ],
      "metadata": {
        "id": "Lqarr6JFxDGD"
      },
      "execution_count": null,
      "outputs": []
    },
    {
      "cell_type": "code",
      "source": [
        "print(\"train data shape:\",train_df.shape)\n",
        "print(\"validation data shape:\",test_df.shape)"
      ],
      "metadata": {
        "id": "258EOZxqgiGf",
        "colab": {
          "base_uri": "https://localhost:8080/"
        },
        "outputId": "77cb90cc-9a72-4580-f953-dbdd2cc4bc60"
      },
      "execution_count": null,
      "outputs": [
        {
          "output_type": "stream",
          "name": "stdout",
          "text": [
            "train data shape: (3200, 14)\n",
            "validation data shape: (800, 14)\n"
          ]
        }
      ]
    },
    {
      "cell_type": "code",
      "source": [
        "test_df.to_csv('test_df.csv', header=True, index=False)"
      ],
      "metadata": {
        "id": "OaXfbMFLWKhN"
      },
      "execution_count": null,
      "outputs": []
    },
    {
      "cell_type": "code",
      "source": [
        "train_df_bkp = train_df.copy()\n",
        "test_df_bkp = test_df.copy()"
      ],
      "metadata": {
        "id": "FyNAYDgA1LSi"
      },
      "execution_count": null,
      "outputs": []
    },
    {
      "cell_type": "code",
      "source": [
        "train_df = train_df[[\"postText\", \"targetTitle\", \"targetParagraphs\", \"tags\"]]\n",
        "test_df = test_df[[\"postText\", \"targetTitle\", \"targetParagraphs\", \"tags\"]]"
      ],
      "metadata": {
        "id": "dylaIa0Oq690"
      },
      "execution_count": null,
      "outputs": []
    },
    {
      "cell_type": "code",
      "source": [
        "train_df.rename(columns={\"postText\":\"Post\",\"targetTitle\":\"Title\", \"targetParagraphs\":\"Content\", \"tags\":\"Spoiler_Type\"}, inplace = True)\n",
        "# train_df.head(2)\n",
        "test_df.rename(columns={\"postText\":\"Post\",\"targetTitle\":\"Title\", \"targetParagraphs\":\"Content\", \"tags\":\"Spoiler_Type\"}, inplace = True)\n",
        "# test_df.head(2)"
      ],
      "metadata": {
        "id": "b37_n_0WrF65",
        "colab": {
          "base_uri": "https://localhost:8080/"
        },
        "outputId": "fcb22f87-4620-42d4-9317-174afc7a22cd"
      },
      "execution_count": null,
      "outputs": [
        {
          "output_type": "stream",
          "name": "stderr",
          "text": [
            "<ipython-input-8-db58f88c2b8c>:1: SettingWithCopyWarning: \n",
            "A value is trying to be set on a copy of a slice from a DataFrame\n",
            "\n",
            "See the caveats in the documentation: https://pandas.pydata.org/pandas-docs/stable/user_guide/indexing.html#returning-a-view-versus-a-copy\n",
            "  train_df.rename(columns={\"postText\":\"Post\",\"targetTitle\":\"Title\", \"targetParagraphs\":\"Content\", \"tags\":\"Spoiler_Type\"}, inplace = True)\n",
            "<ipython-input-8-db58f88c2b8c>:3: SettingWithCopyWarning: \n",
            "A value is trying to be set on a copy of a slice from a DataFrame\n",
            "\n",
            "See the caveats in the documentation: https://pandas.pydata.org/pandas-docs/stable/user_guide/indexing.html#returning-a-view-versus-a-copy\n",
            "  test_df.rename(columns={\"postText\":\"Post\",\"targetTitle\":\"Title\", \"targetParagraphs\":\"Content\", \"tags\":\"Spoiler_Type\"}, inplace = True)\n"
          ]
        }
      ]
    },
    {
      "cell_type": "code",
      "source": [
        "def numeric_labels(spoiler_type):\n",
        "  if spoiler_type[0] == \"passage\":\n",
        "    return 1\n",
        "  elif spoiler_type[0] == \"phrase\":\n",
        "    return 0\n",
        "  else:\n",
        "    return 2"
      ],
      "metadata": {
        "id": "d9P6AeW3rNEt"
      },
      "execution_count": null,
      "outputs": []
    },
    {
      "cell_type": "code",
      "source": [
        "def list_to_string_concat(TgtPara):\n",
        "  res = ' '.join(TgtPara)\n",
        "  return res"
      ],
      "metadata": {
        "id": "uDQ61n8mrPx3"
      },
      "execution_count": null,
      "outputs": []
    },
    {
      "cell_type": "code",
      "source": [
        "test_df[\"Spoiler_Type\"] = test_df[\"Spoiler_Type\"].apply(numeric_labels)\n",
        "train_df[\"Spoiler_Type\"] = train_df[\"Spoiler_Type\"].apply(numeric_labels)"
      ],
      "metadata": {
        "id": "8VODdeQrrWml",
        "colab": {
          "base_uri": "https://localhost:8080/"
        },
        "outputId": "4587b011-eed7-45e5-ce8e-d5134d1ecb16"
      },
      "execution_count": null,
      "outputs": [
        {
          "output_type": "stream",
          "name": "stderr",
          "text": [
            "<ipython-input-11-e209717ffdb1>:1: SettingWithCopyWarning: \n",
            "A value is trying to be set on a copy of a slice from a DataFrame.\n",
            "Try using .loc[row_indexer,col_indexer] = value instead\n",
            "\n",
            "See the caveats in the documentation: https://pandas.pydata.org/pandas-docs/stable/user_guide/indexing.html#returning-a-view-versus-a-copy\n",
            "  test_df[\"Spoiler_Type\"] = test_df[\"Spoiler_Type\"].apply(numeric_labels)\n",
            "<ipython-input-11-e209717ffdb1>:2: SettingWithCopyWarning: \n",
            "A value is trying to be set on a copy of a slice from a DataFrame.\n",
            "Try using .loc[row_indexer,col_indexer] = value instead\n",
            "\n",
            "See the caveats in the documentation: https://pandas.pydata.org/pandas-docs/stable/user_guide/indexing.html#returning-a-view-versus-a-copy\n",
            "  train_df[\"Spoiler_Type\"] = train_df[\"Spoiler_Type\"].apply(numeric_labels)\n"
          ]
        }
      ]
    },
    {
      "cell_type": "code",
      "source": [
        "train_df[\"Content\"] = train_df[\"Content\"].apply(list_to_string_concat)\n",
        "test_df[\"Content\"] = test_df[\"Content\"].apply(list_to_string_concat)"
      ],
      "metadata": {
        "id": "H2wZNLf_tFt5",
        "colab": {
          "base_uri": "https://localhost:8080/"
        },
        "outputId": "6d1b7e5a-455a-4298-f7bf-d6ccb0d7f92e"
      },
      "execution_count": null,
      "outputs": [
        {
          "output_type": "stream",
          "name": "stderr",
          "text": [
            "<ipython-input-12-65f2695327dd>:1: SettingWithCopyWarning: \n",
            "A value is trying to be set on a copy of a slice from a DataFrame.\n",
            "Try using .loc[row_indexer,col_indexer] = value instead\n",
            "\n",
            "See the caveats in the documentation: https://pandas.pydata.org/pandas-docs/stable/user_guide/indexing.html#returning-a-view-versus-a-copy\n",
            "  train_df[\"Content\"] = train_df[\"Content\"].apply(list_to_string_concat)\n",
            "<ipython-input-12-65f2695327dd>:2: SettingWithCopyWarning: \n",
            "A value is trying to be set on a copy of a slice from a DataFrame.\n",
            "Try using .loc[row_indexer,col_indexer] = value instead\n",
            "\n",
            "See the caveats in the documentation: https://pandas.pydata.org/pandas-docs/stable/user_guide/indexing.html#returning-a-view-versus-a-copy\n",
            "  test_df[\"Content\"] = test_df[\"Content\"].apply(list_to_string_concat)\n"
          ]
        }
      ]
    },
    {
      "cell_type": "code",
      "source": [
        "train_df[\"Post\"] = train_df[\"Post\"].apply(list_to_string_concat)\n",
        "test_df[\"Post\"] = test_df[\"Post\"].apply(list_to_string_concat)"
      ],
      "metadata": {
        "id": "sdl4JeVl1xG-",
        "colab": {
          "base_uri": "https://localhost:8080/"
        },
        "outputId": "dd6ce552-7ef0-4be4-ded7-bf9b2a6d8f16"
      },
      "execution_count": null,
      "outputs": [
        {
          "output_type": "stream",
          "name": "stderr",
          "text": [
            "<ipython-input-13-e31bc68e4cac>:1: SettingWithCopyWarning: \n",
            "A value is trying to be set on a copy of a slice from a DataFrame.\n",
            "Try using .loc[row_indexer,col_indexer] = value instead\n",
            "\n",
            "See the caveats in the documentation: https://pandas.pydata.org/pandas-docs/stable/user_guide/indexing.html#returning-a-view-versus-a-copy\n",
            "  train_df[\"Post\"] = train_df[\"Post\"].apply(list_to_string_concat)\n",
            "<ipython-input-13-e31bc68e4cac>:2: SettingWithCopyWarning: \n",
            "A value is trying to be set on a copy of a slice from a DataFrame.\n",
            "Try using .loc[row_indexer,col_indexer] = value instead\n",
            "\n",
            "See the caveats in the documentation: https://pandas.pydata.org/pandas-docs/stable/user_guide/indexing.html#returning-a-view-versus-a-copy\n",
            "  test_df[\"Post\"] = test_df[\"Post\"].apply(list_to_string_concat)\n"
          ]
        }
      ]
    },
    {
      "cell_type": "code",
      "source": [
        "train_df = train_df.fillna('')\n",
        "test_df = test_df.fillna('')"
      ],
      "metadata": {
        "id": "OVO_YqcVtdGi"
      },
      "execution_count": null,
      "outputs": []
    },
    {
      "cell_type": "code",
      "source": [
        "#Lower-case:\n",
        "train_df['Post'] = train_df['Post'].str.lower()\n",
        "train_df['Title'] = train_df['Title'].str.lower()\n",
        "train_df['Content'] = train_df['Content'].str.lower()\n",
        "#Lower-case:\n",
        "test_df['Post'] = test_df['Post'].str.lower()\n",
        "test_df['Title'] = test_df['Title'].str.lower()\n",
        "test_df['Content'] = test_df['Content'].str.lower()"
      ],
      "metadata": {
        "id": "av3FNVWEt4zc"
      },
      "execution_count": null,
      "outputs": []
    },
    {
      "cell_type": "code",
      "source": [
        "df_multi = train_df.copy()"
      ],
      "metadata": {
        "id": "RyUZvnen18sz"
      },
      "execution_count": null,
      "outputs": []
    },
    {
      "cell_type": "code",
      "source": [
        "df_multi = df_multi[df_multi['Spoiler_Type']==2]"
      ],
      "metadata": {
        "id": "EuPVJ0ERd_4Z"
      },
      "execution_count": null,
      "outputs": []
    },
    {
      "cell_type": "code",
      "source": [
        "df_multi.reset_index(drop=True,inplace=True)"
      ],
      "metadata": {
        "id": "2iQ0ZRBpw2v4"
      },
      "execution_count": null,
      "outputs": []
    },
    {
      "cell_type": "code",
      "source": [
        "# import spacy\n",
        "\n",
        "# nlp = spacy.load('en_core_web_sm')\n",
        "\n",
        "# def get_synonym(word):\n",
        "#     \"\"\"\n",
        "#     Get the most suitable synonym for a word\n",
        "#     \"\"\"\n",
        "#     synonyms = []\n",
        "#     for syn in wordnet.synsets(word):\n",
        "#         for lemma in syn.lemmas():\n",
        "#             synonyms.append(lemma.name())\n",
        "    \n",
        "#     # Calculate the similarity scores of all synonyms to the original word\n",
        "#     word_similarities = []\n",
        "#     for synonym in synonyms:\n",
        "#         word_similarities.append((synonym, nlp(word).similarity(nlp(synonym))))\n",
        "    \n",
        "#     # Sort synonyms by their similarity score\n",
        "#     word_similarities.sort(key=lambda x: x[1], reverse=True)\n",
        "    \n",
        "#     # Select the first synonym if there is at least one with a non-zero similarity score\n",
        "#     for syn in word_similarities:\n",
        "#         if word != syn[0] and syn[1] > 0:\n",
        "#             syn_dict[word] = syn[0]\n",
        "#             return syn[0]\n",
        "    \n",
        "#     # Return the original word if there are no suitable synonyms\n",
        "#     syn_dict[word] = word\n",
        "#     return word"
      ],
      "metadata": {
        "id": "AhN3ffMt168r"
      },
      "execution_count": null,
      "outputs": []
    },
    {
      "cell_type": "code",
      "source": [
        "# from collections import defaultdict\n",
        "# syn_dict = defaultdict(str)\n",
        "# def change_synonyms(sentence):\n",
        "#   doc = nlp(sentence)\n",
        "#   new_sentence = []\n",
        "#   for token in doc:\n",
        "#       if token.pos_ == \"NOUN\":\n",
        "#           if token.text in syn_dict.keys():\n",
        "#               new_sentence.append(syn_dict[token.text])\n",
        "#           else:\n",
        "#               new_sentence.append(get_synonym(token.text))\n",
        "#       else:\n",
        "#           new_sentence.append(token.text)\n",
        "\n",
        "#   altered_sentence = ' '.join(new_sentence)\n",
        "#   return altered_sentence"
      ],
      "metadata": {
        "id": "M5WjgITdAUGE"
      },
      "execution_count": null,
      "outputs": []
    },
    {
      "cell_type": "code",
      "source": [
        "# df_multi['Post'] = df_multi['Post'].apply(change_synonyms)\n",
        "# df_multi['Title'] = df_multi['Title'].apply(change_synonyms)\n",
        "# df_multi['Content'] = df_multi['Content'].apply(change_synonyms)"
      ],
      "metadata": {
        "id": "ablQqy8CAWtN"
      },
      "execution_count": null,
      "outputs": []
    },
    {
      "cell_type": "code",
      "source": [
        "# save the dataframe to a CSV file with headers\n",
        "# df_multi.to_csv('multi_part_train_data_new.csv', index=False, header=True)"
      ],
      "metadata": {
        "id": "_jFYu_RvraW9"
      },
      "execution_count": null,
      "outputs": []
    },
    {
      "cell_type": "code",
      "source": [
        "#load from CSV\n",
        "df_multi = pd.read_csv('/content/drive/MyDrive/NLP_dataset/multi_part_train_data_new.csv')"
      ],
      "metadata": {
        "id": "2DJPJHUMbTQa"
      },
      "execution_count": null,
      "outputs": []
    },
    {
      "cell_type": "code",
      "source": [
        "#Lower-case:\n",
        "df_multi['Post'] = df_multi['Post'].str.lower()\n",
        "df_multi['Title'] = df_multi['Title'].str.lower()\n",
        "df_multi['Content'] = df_multi['Content'].str.lower()"
      ],
      "metadata": {
        "id": "5QOdnDSV2Bqf"
      },
      "execution_count": null,
      "outputs": []
    },
    {
      "cell_type": "code",
      "source": [
        "df_merged = pd.concat([train_df, df_multi], ignore_index=True, sort=False)"
      ],
      "metadata": {
        "id": "dg_kUnbct9jJ"
      },
      "execution_count": null,
      "outputs": []
    },
    {
      "cell_type": "code",
      "source": [
        "train_df_bkp = train_df.copy()"
      ],
      "metadata": {
        "id": "NI59kKZmuCez"
      },
      "execution_count": null,
      "outputs": []
    },
    {
      "cell_type": "code",
      "source": [
        "train_df = df_merged.copy()"
      ],
      "metadata": {
        "id": "pDaZvLBAAgf8"
      },
      "execution_count": null,
      "outputs": []
    },
    {
      "cell_type": "code",
      "source": [
        "train_df[\"concat_input\"] = train_df[['Post','Content','Title']].apply(lambda x: x['Post'] + ' ? ' + x['Title'] + ' -- ' + x['Content'], axis=1)\n",
        "test_df[\"concat_input\"] = test_df[['Post','Content','Title']].apply(lambda x: x['Post'] + ' ? ' + x['Title'] + ' -- ' + x['Content'], axis=1)"
      ],
      "metadata": {
        "id": "85SSZAj5uO_Y"
      },
      "execution_count": null,
      "outputs": []
    },
    {
      "cell_type": "code",
      "source": [
        "train_df.drop([\"Post\"], inplace = True, axis = 1)\n",
        "train_df.drop([\"Content\"], inplace = True, axis = 1)\n",
        "train_df.drop([\"Title\"], inplace = True, axis = 1)\n",
        "test_df.drop([\"Post\"], inplace = True, axis = 1)\n",
        "test_df.drop([\"Content\"], inplace = True, axis = 1)\n",
        "test_df.drop([\"Title\"], inplace = True, axis = 1)"
      ],
      "metadata": {
        "id": "HvfoBW4M2MiS"
      },
      "execution_count": null,
      "outputs": []
    },
    {
      "cell_type": "code",
      "source": [
        "train_df['Spoiler_Type'].value_counts()"
      ],
      "metadata": {
        "id": "z0NHd2ll2Uhg",
        "colab": {
          "base_uri": "https://localhost:8080/"
        },
        "outputId": "bd133588-aa0e-4409-e4d4-56ca37067dfd"
      },
      "execution_count": null,
      "outputs": [
        {
          "output_type": "execute_result",
          "data": {
            "text/plain": [
              "0    1367\n",
              "1    1274\n",
              "2    1118\n",
              "Name: Spoiler_Type, dtype: int64"
            ]
          },
          "metadata": {},
          "execution_count": 30
        }
      ]
    },
    {
      "cell_type": "code",
      "source": [
        "import torch\n",
        "device = 'cuda' if torch.cuda.is_available() else 'cpu'\n",
        "print(device)\n",
        "\n",
        "import gc\n",
        "gc.collect()\n",
        "torch.cuda.empty_cache() "
      ],
      "metadata": {
        "id": "CUFg2_jc2T_o",
        "colab": {
          "base_uri": "https://localhost:8080/"
        },
        "outputId": "76501d36-2864-41d8-f7ae-baa503acc1b3"
      },
      "execution_count": null,
      "outputs": [
        {
          "output_type": "stream",
          "name": "stdout",
          "text": [
            "cuda\n"
          ]
        }
      ]
    },
    {
      "cell_type": "code",
      "source": [
        "from transformers import RobertaTokenizer, RobertaForSequenceClassification\n",
        "\n",
        "# Load pre-trained RoBERTa model and tokenizer\n",
        "model_name = 'roberta-base'\n",
        "tokenizer = RobertaTokenizer.from_pretrained(model_name)\n",
        "model = RobertaForSequenceClassification.from_pretrained(model_name, num_labels=3).to(device)"
      ],
      "metadata": {
        "colab": {
          "base_uri": "https://localhost:8080/",
          "height": 254,
          "referenced_widgets": [
            "80273e79ff5c4d5f80bdbbe0ad23a262",
            "8e30125d8ee34d09928a08f7cec76668",
            "74ba4786189b401ea57f94ec96177cb3",
            "12bc47d4a48d4013a128ce50a2ff7165",
            "e850b17734b143f4b3e8f549edb08ab2",
            "a82bd614c6694e64bf590cd08974557d",
            "e65a14302e2d45f293074a03ec0cdf4f",
            "94fb5f344a654c5bab5cefd1456f62d9",
            "2296478ba35a4074a971bbe50c35d667",
            "711c37bc346f4e14bbd7b7bb8d865629",
            "91139b6596094a5dac8352d2b7416902",
            "e8c180efae0a4e5caa137ea6ecd33345",
            "b8541b3a63bf4e8f9ee3e8b7476786e9",
            "7f0b0e988a774071a019f0332f488bda",
            "20b1ae7d3b584fc889c1cece9369952e",
            "dff4a2b7a55d43d9aa39838c1f309303",
            "83d44a89c41b4008a6189c4b29dd1ab4",
            "93498caa7bcc4981885cd8eae74d1ce9",
            "2920b5a041514822b2eaa92bcabc0e3c",
            "28efa9d2daaa4e889808896e377fa23a",
            "fa08f80bf6cb452ab853bbc7b4fba643",
            "0c4acf5a2d1a4efa8599ef34367d9730",
            "3ba499c3bc0946dfb915a6a4f3470def",
            "35b324ef4f2c41569412ef4d26e3a66c",
            "9f8a288770654d68878293ddfb1ba799",
            "43c8e21f16f546b2b3272873dc622766",
            "2998fa7df723425c8f98aa66e9828a24",
            "56926e1578e545d9982c9147a0091aeb",
            "5d99c73ffda64e7a8978c7c2b8eff4ce",
            "1b9aefb3433e47cabc79128b53966ce9",
            "6a0a860ac13d4f81a4594df05ad91774",
            "a0a0fb24a20f458db4d80bcb8079c366",
            "0fda4c557aed44b49e527e38fdf85d32",
            "e3f6d8c2f8a74290a654e6245abebb56",
            "91acee90caf34c3ebea1af627ae40fe6",
            "c542a105e5af4727838b049d4f6226bc",
            "0cf48a8a041c4c619215130d96f52b59",
            "565cfb303d1943218f4b37e9c55554cf",
            "b085b2d338ea4af6a7f92434784bd9a2",
            "1087e7a53b10479981dad47522643518",
            "bc06e1d73d8d4529b90da0294fdca2a5",
            "3835372b5d814536b02a6c3c7b96486c",
            "99e82bedbb0e408bb4aea75f8ae18afe",
            "1e698a817f0c4e1f832ed915bbd5be79"
          ]
        },
        "id": "zsaZ7g5ZP3Kf",
        "outputId": "a2fc81c2-df7f-435f-d64e-a9661a98a51d"
      },
      "execution_count": null,
      "outputs": [
        {
          "output_type": "display_data",
          "data": {
            "text/plain": [
              "Downloading (…)olve/main/vocab.json:   0%|          | 0.00/899k [00:00<?, ?B/s]"
            ],
            "application/vnd.jupyter.widget-view+json": {
              "version_major": 2,
              "version_minor": 0,
              "model_id": "80273e79ff5c4d5f80bdbbe0ad23a262"
            }
          },
          "metadata": {}
        },
        {
          "output_type": "display_data",
          "data": {
            "text/plain": [
              "Downloading (…)olve/main/merges.txt:   0%|          | 0.00/456k [00:00<?, ?B/s]"
            ],
            "application/vnd.jupyter.widget-view+json": {
              "version_major": 2,
              "version_minor": 0,
              "model_id": "e8c180efae0a4e5caa137ea6ecd33345"
            }
          },
          "metadata": {}
        },
        {
          "output_type": "display_data",
          "data": {
            "text/plain": [
              "Downloading (…)lve/main/config.json:   0%|          | 0.00/481 [00:00<?, ?B/s]"
            ],
            "application/vnd.jupyter.widget-view+json": {
              "version_major": 2,
              "version_minor": 0,
              "model_id": "3ba499c3bc0946dfb915a6a4f3470def"
            }
          },
          "metadata": {}
        },
        {
          "output_type": "display_data",
          "data": {
            "text/plain": [
              "Downloading pytorch_model.bin:   0%|          | 0.00/501M [00:00<?, ?B/s]"
            ],
            "application/vnd.jupyter.widget-view+json": {
              "version_major": 2,
              "version_minor": 0,
              "model_id": "e3f6d8c2f8a74290a654e6245abebb56"
            }
          },
          "metadata": {}
        },
        {
          "output_type": "stream",
          "name": "stderr",
          "text": [
            "Some weights of the model checkpoint at roberta-base were not used when initializing RobertaForSequenceClassification: ['roberta.pooler.dense.weight', 'lm_head.layer_norm.bias', 'lm_head.layer_norm.weight', 'lm_head.dense.bias', 'lm_head.bias', 'lm_head.decoder.weight', 'roberta.pooler.dense.bias', 'lm_head.dense.weight']\n",
            "- This IS expected if you are initializing RobertaForSequenceClassification from the checkpoint of a model trained on another task or with another architecture (e.g. initializing a BertForSequenceClassification model from a BertForPreTraining model).\n",
            "- This IS NOT expected if you are initializing RobertaForSequenceClassification from the checkpoint of a model that you expect to be exactly identical (initializing a BertForSequenceClassification model from a BertForSequenceClassification model).\n",
            "Some weights of RobertaForSequenceClassification were not initialized from the model checkpoint at roberta-base and are newly initialized: ['classifier.dense.weight', 'classifier.out_proj.bias', 'classifier.out_proj.weight', 'classifier.dense.bias']\n",
            "You should probably TRAIN this model on a down-stream task to be able to use it for predictions and inference.\n"
          ]
        }
      ]
    },
    {
      "cell_type": "code",
      "source": [
        "model_path = '/content/drive/MyDrive/NLP_dataset/models/roberta_classification_model.pt'\n",
        "model.load_state_dict(torch.load(model_path, map_location=device))"
      ],
      "metadata": {
        "colab": {
          "base_uri": "https://localhost:8080/"
        },
        "id": "jiJherhPnxSq",
        "outputId": "6acaaa4b-ed2b-4105-80e0-d5ce407b0946"
      },
      "execution_count": null,
      "outputs": [
        {
          "output_type": "execute_result",
          "data": {
            "text/plain": [
              "<All keys matched successfully>"
            ]
          },
          "metadata": {},
          "execution_count": 33
        }
      ]
    },
    {
      "cell_type": "code",
      "source": [
        "from sklearn.model_selection import train_test_split\n",
        "X_train = list(train_df[\"concat_input\"])\n",
        "y_train = list(train_df[\"Spoiler_Type\"])\n",
        "X_test = list(test_df[\"concat_input\"])\n",
        "y_test = list(test_df[\"Spoiler_Type\"])\n",
        "# X_train, X_val, y_train, y_val = train_test_split(X_train, y_train, test_size=0.1,stratify=y_train)\n",
        "# X_test, X_val, y_test, y_val = train_test_split(X_val, y_val, test_size = 0.5, stratify=y_val)"
      ],
      "metadata": {
        "id": "Ev3YLwudP6b-"
      },
      "execution_count": null,
      "outputs": []
    },
    {
      "cell_type": "code",
      "source": [
        "import numpy as np\n",
        "\n",
        "# Convert lists to numpy arrays\n",
        "X_train = np.array(X_train)\n",
        "# X_val = np.array(X_val)\n",
        "y_train = np.array(y_train)\n",
        "# y_val = np.array(y_val)\n",
        "\n",
        "# Prepare training and validation data\n",
        "train_encodings = tokenizer(X_train.tolist(), truncation=True, padding=True, max_length=512)\n",
        "# val_encodings = tokenizer(X_val.tolist(), truncation=True, padding=True, max_length=512)\n",
        "train_labels = torch.tensor(y_train)\n",
        "# val_labels = torch.tensor(y_val)"
      ],
      "metadata": {
        "id": "qBKibeYwP6Al"
      },
      "execution_count": null,
      "outputs": []
    },
    {
      "cell_type": "code",
      "source": [
        "# train_input_ids = torch.tensor(train_encodings['input_ids'])\n",
        "# train_attention_mask = torch.tensor(train_encodings['attention_mask'])\n",
        "# train_labels = torch.tensor(y_train).to(device)\n",
        "\n",
        "# train_dataset = torch.utils.data.TensorDataset(train_input_ids.to(device), train_attention_mask.to(device), train_labels)"
      ],
      "metadata": {
        "id": "PxM_GuZDP5ky"
      },
      "execution_count": null,
      "outputs": []
    },
    {
      "cell_type": "code",
      "source": [
        "# # Set up optimizer and learning rate scheduler\n",
        "# # optimizer = torch.optim.Adam(model.parameters(), lr=1e-5)\n",
        "# optimizer = torch.optim.Adam(model.parameters(), lr=4e-5)\n",
        "# scheduler = torch.optim.lr_scheduler.StepLR(optimizer, step_size=1, gamma=0.1)\n",
        "\n",
        "# # Set up training loop\n",
        "# epochs = 5\n",
        "# for epoch in range(epochs):\n",
        "#     # Train model for one epoch\n",
        "#     model.train()\n",
        "#     train_loader = torch.utils.data.DataLoader(train_dataset, batch_size=16, shuffle=True)\n",
        "#     for batch in train_loader:\n",
        "#         optimizer.zero_grad()\n",
        "#         inputs = {'input_ids': batch[0].to(device), 'attention_mask': batch[1].to(device), 'labels': batch[2].to(device)}\n",
        "#         outputs = model(**inputs)\n",
        "#         loss = outputs.loss\n",
        "#         loss.backward()\n",
        "#         optimizer.step()\n",
        "\n",
        "\n",
        "#     # Update learning rate scheduler\n",
        "#     scheduler.step()"
      ],
      "metadata": {
        "id": "BZGe8KGXu6pM"
      },
      "execution_count": null,
      "outputs": []
    },
    {
      "cell_type": "code",
      "source": [
        "import numpy as np\n",
        "X_test = np.array(X_test)\n",
        "y_test = np.array(y_test)\n",
        "\n",
        "# Prepare training and validation data\n",
        "test_encodings = tokenizer(X_test.tolist(), truncation=True, padding=True, max_length=512)\n",
        "test_labels = torch.tensor(y_test)\n",
        "\n",
        "test_input_ids = torch.tensor(test_encodings['input_ids'])\n",
        "test_attention_mask = torch.tensor(test_encodings['attention_mask'])\n",
        "test_labels = torch.tensor(y_test).to(device)\n",
        "\n",
        "test_dataset = torch.utils.data.TensorDataset(test_input_ids.to(device), test_attention_mask.to(device), test_labels)"
      ],
      "metadata": {
        "id": "R5jVXs246BD-"
      },
      "execution_count": null,
      "outputs": []
    },
    {
      "cell_type": "code",
      "source": [
        "# Iterate over the evaluation dataset and make predictions\n",
        "from sklearn.metrics import accuracy_score\n",
        "from sklearn.metrics import f1_score\n",
        "\n",
        "model.eval()\n",
        "test_loader = torch.utils.data.DataLoader(test_dataset, batch_size=16, shuffle=False)\n",
        "y_true = []\n",
        "y_pred = []\n",
        "with torch.no_grad():\n",
        "    num_correct = 0\n",
        "    num_total = 0\n",
        "    for batch in test_loader:\n",
        "        inputs = {'input_ids': batch[0].to(device), 'attention_mask': batch[1].to(device), 'labels': batch[2].to(device)}\n",
        "        outputs = model(**inputs)\n",
        "        logits = outputs.logits\n",
        "        preds = torch.argmax(logits, dim=1)\n",
        "        y_true.extend(batch[2].tolist())\n",
        "        y_pred.extend(preds.tolist())\n",
        "        num_correct += torch.sum(preds == batch[2])\n",
        "        num_total += len(batch[2])\n",
        "\n",
        "# Calculate the accuracy\n",
        "accuracy = accuracy_score(y_true, y_pred)\n",
        "print(f'Accuracy: {accuracy:.4f}')\n",
        "# Calculate the F1 score\n",
        "f1 = f1_score(y_true, y_pred, average='weighted')\n",
        "print(f'F1 score: {f1:.4f}')\n",
        "#Prev acc\n",
        "acc = num_correct / num_total\n",
        "print(f'Test accuracy: {acc:.4f}')"
      ],
      "metadata": {
        "colab": {
          "base_uri": "https://localhost:8080/"
        },
        "id": "h43v8GpkWEYK",
        "outputId": "9b1dc183-b864-4c67-acd0-e64764f5e9eb"
      },
      "execution_count": null,
      "outputs": [
        {
          "output_type": "stream",
          "name": "stdout",
          "text": [
            "Accuracy: 0.6963\n",
            "F1 score: 0.6959\n",
            "Test accuracy: 0.6962\n"
          ]
        }
      ]
    },
    {
      "cell_type": "code",
      "source": [
        "from sklearn.metrics import accuracy_score\n",
        "from sklearn.metrics import f1_score\n",
        "\n",
        "model.eval()\n",
        "test_loader = torch.utils.data.DataLoader(test_dataset, batch_size=16, shuffle=False)\n",
        "y_true = []\n",
        "y_pred = []\n",
        "with torch.no_grad():\n",
        "    num_correct = 0\n",
        "    num_total = 0\n",
        "    for batch in test_loader:\n",
        "        inputs = {'input_ids': batch[0].to(device), 'attention_mask': batch[1].to(device), 'labels': batch[2].to(device)}\n",
        "        outputs = model(**inputs)\n",
        "        logits = outputs.logits\n",
        "        preds = torch.argmax(logits, dim=1)\n",
        "        y_true.extend(batch[2].tolist())\n",
        "        y_pred.extend(preds.tolist())\n",
        "        num_correct += torch.sum(preds == batch[2])\n",
        "        num_total += len(batch[2])\n",
        "\n",
        "        # Check if the predicted label matches the desired label\n",
        "        for i in range(len(preds)):\n",
        "            if preds[i] == 0: # if predicted label is 0\n",
        "                input_text = tokenizer.decode(batch[0][i], skip_special_tokens=True)\n",
        "                print(f'Input classified as 0: {input_text}')\n",
        "            elif preds[i] == 1: # if predicted label is 1\n",
        "                input_text = tokenizer.decode(batch[0][i], skip_special_tokens=True)\n",
        "                print(f'Input classified as 1: {input_text}')\n",
        "            elif preds[i] == 2: # if predicted label is 2\n",
        "                input_text = tokenizer.decode(batch[0][i], skip_special_tokens=True)\n",
        "                print(f'Input classified as 2: {input_text}')\n",
        "\n",
        "# Calculate the accuracy\n",
        "accuracy = accuracy_score(y_true, y_pred)\n",
        "print(f'Accuracy: {accuracy:.4f}')\n",
        "# Calculate the F1 score\n",
        "f1 = f1_score(y_true, y_pred, average='weighted')\n",
        "print(f'F1 score: {f1:.4f}')\n",
        "# Prev acc\n",
        "acc = num_correct / num_total\n",
        "print(f'Test accuracy: {acc:.4f}')\n"
      ],
      "metadata": {
        "id": "j43efLyPfjOQ"
      },
      "execution_count": null,
      "outputs": []
    },
    {
      "cell_type": "code",
      "source": [
        "from sklearn.metrics import accuracy_score\n",
        "from sklearn.metrics import f1_score\n",
        "\n",
        "model.eval()\n",
        "test_loader = torch.utils.data.DataLoader(test_dataset, batch_size=16, shuffle=False)\n",
        "y_true = []\n",
        "y_pred = []\n",
        "class_0 = []\n",
        "class_1 = []\n",
        "class_2 = []\n",
        "with torch.no_grad():\n",
        "    num_correct = 0\n",
        "    num_total = 0\n",
        "    for batch in test_loader:\n",
        "        inputs = {'input_ids': batch[0].to(device), 'attention_mask': batch[1].to(device), 'labels': batch[2].to(device)}\n",
        "        outputs = model(**inputs)\n",
        "        logits = outputs.logits\n",
        "        preds = torch.argmax(logits, dim=1)\n",
        "        y_true.extend(batch[2].tolist())\n",
        "        y_pred.extend(preds.tolist())\n",
        "        num_correct += torch.sum(preds == batch[2])\n",
        "        num_total += len(batch[2])\n",
        "\n",
        "        # Check if the predicted label matches the desired label\n",
        "        for i in range(len(preds)):\n",
        "            if preds[i] == 0: # if predicted label is 0\n",
        "                input_text = tokenizer.decode(batch[0][i], skip_special_tokens=True)\n",
        "                class_0.append(input_text)\n",
        "                print(f'Input classified as 0: {input_text}')\n",
        "            elif preds[i] == 1: # if predicted label is 1\n",
        "                input_text = tokenizer.decode(batch[0][i], skip_special_tokens=True)\n",
        "                class_1.append(input_text)\n",
        "                print(f'Input classified as 1: {input_text}')\n",
        "            elif preds[i] == 2: # if predicted label is 2\n",
        "                input_text = tokenizer.decode(batch[0][i], skip_special_tokens=True)\n",
        "                class_2.append(input_text)\n",
        "                print(f'Input classified as 2: {input_text}')\n",
        "\n",
        "# Calculate the accuracy\n",
        "accuracy = accuracy_score(y_true, y_pred)\n",
        "print(f'Accuracy: {accuracy:.4f}')\n",
        "# Calculate the F1 score\n",
        "f1 = f1_score(y_true, y_pred, average='weighted')\n",
        "print(f'F1 score: {f1:.4f}')\n",
        "# Prev acc\n",
        "acc = num_correct / num_total\n",
        "print(f'Test accuracy: {acc:.4f}')"
      ],
      "metadata": {
        "id": "LzaudysGeeE7"
      },
      "execution_count": null,
      "outputs": []
    },
    {
      "cell_type": "code",
      "source": [
        "final_test_df = pd.DataFrame({'concat_text' : class_2}, columns=['concat_text'])"
      ],
      "metadata": {
        "id": "0FCYKkMvhBaE"
      },
      "execution_count": null,
      "outputs": []
    },
    {
      "cell_type": "code",
      "source": [
        "final_test_df.head(1)"
      ],
      "metadata": {
        "colab": {
          "base_uri": "https://localhost:8080/",
          "height": 350
        },
        "id": "cyywNJgIjsHa",
        "outputId": "396cad68-c8ea-453b-ae8a-64adf0844d20"
      },
      "execution_count": null,
      "outputs": [
        {
          "output_type": "execute_result",
          "data": {
            "text/plain": [
              "                                                                                                                                                                                                                                                                                                                                                                                                                                                                                                                                                                                                                                                                                                                                                                                                                                                                                                                                                                                                                                                                                                                                                                                                                                                                                                                                                                                                                                                                                                                                                                                                                                                                                                                                                                                                                                                                                                                                                                                                                                                                                                                                                                                                                                        concat_text\n",
              "0  five nights at freddy’s sequel delayed for weird reason? five nights at freddy’s sequel delayed for weird reason -- five nights at freddy’s creator scott cawthon takes to steam to tease a possible delay for five nights at freddy’s: sister location, the fifth game in the series. for the past couple of years, horror gaming fans have been able to look forward to one new entry in the five nights at freddy’s series after another, with four core games, one rpg spinoff, and a novel released so far. the next game in the franchise, five nights at freddy’s: sister location, was scheduled to release this coming friday, october 7th, but if developer scott cawthon is to be believed, the project has been delayed by a few months. according to a post by cawthon on the five nights at freddy’s: sister location steam page, the game is being delayed because it’s too dark. cawthon said that some of the plot elements are so disturbing that they are making him feel sick, and so he is thinking about delaying the game so that he can rework it entirely \"into something kid-friendly.\" delays happen in the gaming industry all the time, but it’s rare for a game to be delayed mere days before its release. five nights at freddy’s fans are confused and angry about this latest development, as many were looking forward to playing the game on friday. something else upsetting fans is cawthon’s reasoning that the game is too dark to release, as being dark and disturbing are two characteristics that many consumers look for in a horror game. cawthon’s reason for suddenly delaying five nights at freddy’s sister location from its planned october 7th release date doesn’t make much sense. a more likely scenario is that this is just a weird publicity stunt meant to hype the game as being so disturbing that its developer almost didn’t even release it. alternatively, perhaps cawthon is delaying the game for technical reasons and decided to concoct this story instead of admitting that the fifth core game in the series has issues. fans should also consider the possibility that cawthon is just trolling in an attempt to throw them off the scent of an early release. cawthon"
            ],
            "text/html": [
              "\n",
              "  <div id=\"df-6da415e4-f92a-4a0b-bd68-6aa4e5012933\">\n",
              "    <div class=\"colab-df-container\">\n",
              "      <div>\n",
              "<style scoped>\n",
              "    .dataframe tbody tr th:only-of-type {\n",
              "        vertical-align: middle;\n",
              "    }\n",
              "\n",
              "    .dataframe tbody tr th {\n",
              "        vertical-align: top;\n",
              "    }\n",
              "\n",
              "    .dataframe thead th {\n",
              "        text-align: right;\n",
              "    }\n",
              "</style>\n",
              "<table border=\"1\" class=\"dataframe\">\n",
              "  <thead>\n",
              "    <tr style=\"text-align: right;\">\n",
              "      <th></th>\n",
              "      <th>concat_text</th>\n",
              "    </tr>\n",
              "  </thead>\n",
              "  <tbody>\n",
              "    <tr>\n",
              "      <th>0</th>\n",
              "      <td>five nights at freddy’s sequel delayed for weird reason? five nights at freddy’s sequel delayed for weird reason -- five nights at freddy’s creator scott cawthon takes to steam to tease a possible delay for five nights at freddy’s: sister location, the fifth game in the series. for the past couple of years, horror gaming fans have been able to look forward to one new entry in the five nights at freddy’s series after another, with four core games, one rpg spinoff, and a novel released so far. the next game in the franchise, five nights at freddy’s: sister location, was scheduled to release this coming friday, october 7th, but if developer scott cawthon is to be believed, the project has been delayed by a few months. according to a post by cawthon on the five nights at freddy’s: sister location steam page, the game is being delayed because it’s too dark. cawthon said that some of the plot elements are so disturbing that they are making him feel sick, and so he is thinking about delaying the game so that he can rework it entirely \"into something kid-friendly.\" delays happen in the gaming industry all the time, but it’s rare for a game to be delayed mere days before its release. five nights at freddy’s fans are confused and angry about this latest development, as many were looking forward to playing the game on friday. something else upsetting fans is cawthon’s reasoning that the game is too dark to release, as being dark and disturbing are two characteristics that many consumers look for in a horror game. cawthon’s reason for suddenly delaying five nights at freddy’s sister location from its planned october 7th release date doesn’t make much sense. a more likely scenario is that this is just a weird publicity stunt meant to hype the game as being so disturbing that its developer almost didn’t even release it. alternatively, perhaps cawthon is delaying the game for technical reasons and decided to concoct this story instead of admitting that the fifth core game in the series has issues. fans should also consider the possibility that cawthon is just trolling in an attempt to throw them off the scent of an early release. cawthon</td>\n",
              "    </tr>\n",
              "  </tbody>\n",
              "</table>\n",
              "</div>\n",
              "      <button class=\"colab-df-convert\" onclick=\"convertToInteractive('df-6da415e4-f92a-4a0b-bd68-6aa4e5012933')\"\n",
              "              title=\"Convert this dataframe to an interactive table.\"\n",
              "              style=\"display:none;\">\n",
              "        \n",
              "  <svg xmlns=\"http://www.w3.org/2000/svg\" height=\"24px\"viewBox=\"0 0 24 24\"\n",
              "       width=\"24px\">\n",
              "    <path d=\"M0 0h24v24H0V0z\" fill=\"none\"/>\n",
              "    <path d=\"M18.56 5.44l.94 2.06.94-2.06 2.06-.94-2.06-.94-.94-2.06-.94 2.06-2.06.94zm-11 1L8.5 8.5l.94-2.06 2.06-.94-2.06-.94L8.5 2.5l-.94 2.06-2.06.94zm10 10l.94 2.06.94-2.06 2.06-.94-2.06-.94-.94-2.06-.94 2.06-2.06.94z\"/><path d=\"M17.41 7.96l-1.37-1.37c-.4-.4-.92-.59-1.43-.59-.52 0-1.04.2-1.43.59L10.3 9.45l-7.72 7.72c-.78.78-.78 2.05 0 2.83L4 21.41c.39.39.9.59 1.41.59.51 0 1.02-.2 1.41-.59l7.78-7.78 2.81-2.81c.8-.78.8-2.07 0-2.86zM5.41 20L4 18.59l7.72-7.72 1.47 1.35L5.41 20z\"/>\n",
              "  </svg>\n",
              "      </button>\n",
              "      \n",
              "  <style>\n",
              "    .colab-df-container {\n",
              "      display:flex;\n",
              "      flex-wrap:wrap;\n",
              "      gap: 12px;\n",
              "    }\n",
              "\n",
              "    .colab-df-convert {\n",
              "      background-color: #E8F0FE;\n",
              "      border: none;\n",
              "      border-radius: 50%;\n",
              "      cursor: pointer;\n",
              "      display: none;\n",
              "      fill: #1967D2;\n",
              "      height: 32px;\n",
              "      padding: 0 0 0 0;\n",
              "      width: 32px;\n",
              "    }\n",
              "\n",
              "    .colab-df-convert:hover {\n",
              "      background-color: #E2EBFA;\n",
              "      box-shadow: 0px 1px 2px rgba(60, 64, 67, 0.3), 0px 1px 3px 1px rgba(60, 64, 67, 0.15);\n",
              "      fill: #174EA6;\n",
              "    }\n",
              "\n",
              "    [theme=dark] .colab-df-convert {\n",
              "      background-color: #3B4455;\n",
              "      fill: #D2E3FC;\n",
              "    }\n",
              "\n",
              "    [theme=dark] .colab-df-convert:hover {\n",
              "      background-color: #434B5C;\n",
              "      box-shadow: 0px 1px 3px 1px rgba(0, 0, 0, 0.15);\n",
              "      filter: drop-shadow(0px 1px 2px rgba(0, 0, 0, 0.3));\n",
              "      fill: #FFFFFF;\n",
              "    }\n",
              "  </style>\n",
              "\n",
              "      <script>\n",
              "        const buttonEl =\n",
              "          document.querySelector('#df-6da415e4-f92a-4a0b-bd68-6aa4e5012933 button.colab-df-convert');\n",
              "        buttonEl.style.display =\n",
              "          google.colab.kernel.accessAllowed ? 'block' : 'none';\n",
              "\n",
              "        async function convertToInteractive(key) {\n",
              "          const element = document.querySelector('#df-6da415e4-f92a-4a0b-bd68-6aa4e5012933');\n",
              "          const dataTable =\n",
              "            await google.colab.kernel.invokeFunction('convertToInteractive',\n",
              "                                                     [key], {});\n",
              "          if (!dataTable) return;\n",
              "\n",
              "          const docLinkHtml = 'Like what you see? Visit the ' +\n",
              "            '<a target=\"_blank\" href=https://colab.research.google.com/notebooks/data_table.ipynb>data table notebook</a>'\n",
              "            + ' to learn more about interactive tables.';\n",
              "          element.innerHTML = '';\n",
              "          dataTable['output_type'] = 'display_data';\n",
              "          await google.colab.output.renderOutput(dataTable, element);\n",
              "          const docLink = document.createElement('div');\n",
              "          docLink.innerHTML = docLinkHtml;\n",
              "          element.appendChild(docLink);\n",
              "        }\n",
              "      </script>\n",
              "    </div>\n",
              "  </div>\n",
              "  "
            ]
          },
          "metadata": {},
          "execution_count": 138
        }
      ]
    },
    {
      "cell_type": "code",
      "source": [
        "# pd.set_option('max_colwidth', None)\n",
        "\n",
        "len(final_test_df)"
      ],
      "metadata": {
        "colab": {
          "base_uri": "https://localhost:8080/"
        },
        "id": "Y0MqkOdLh_Ts",
        "outputId": "f2627067-600f-46cc-f650-dd08fcfacf11"
      },
      "execution_count": null,
      "outputs": [
        {
          "output_type": "execute_result",
          "data": {
            "text/plain": [
              "372"
            ]
          },
          "metadata": {},
          "execution_count": 139
        }
      ]
    },
    {
      "cell_type": "code",
      "source": [
        "test_df_new = pd.read_json(\"/content/drive/MyDrive/NLP_dataset/validation.jsonl\", lines = True)"
      ],
      "metadata": {
        "id": "8OY-iluTjHmL"
      },
      "execution_count": null,
      "outputs": []
    },
    {
      "cell_type": "code",
      "source": [
        "test_df_new[\"postText\"] = test_df_new[\"postText\"].apply(list_to_string_concat)"
      ],
      "metadata": {
        "id": "bRWjMfGKkdlf"
      },
      "execution_count": null,
      "outputs": []
    },
    {
      "cell_type": "code",
      "source": [
        "test_df_new['postText'] = test_df_new['postText'].str.lower()"
      ],
      "metadata": {
        "id": "HtF50MWeksH2"
      },
      "execution_count": null,
      "outputs": []
    },
    {
      "cell_type": "code",
      "source": [
        "test_df_new['tags'].value_counts()"
      ],
      "metadata": {
        "colab": {
          "base_uri": "https://localhost:8080/"
        },
        "id": "tKdqm1dYvHOD",
        "outputId": "9dbf67f3-29f2-4258-83a8-b36082bea90b"
      },
      "execution_count": null,
      "outputs": [
        {
          "output_type": "execute_result",
          "data": {
            "text/plain": [
              "[phrase]     335\n",
              "[passage]    322\n",
              "[multi]      143\n",
              "Name: tags, dtype: int64"
            ]
          },
          "metadata": {},
          "execution_count": 161
        }
      ]
    },
    {
      "cell_type": "code",
      "source": [
        "test_df_new['postText'][0]"
      ],
      "metadata": {
        "colab": {
          "base_uri": "https://localhost:8080/",
          "height": 35
        },
        "id": "xteKO_4-mAE1",
        "outputId": "7eb95873-63d8-448c-de61-0c97dedd7509"
      },
      "execution_count": null,
      "outputs": [
        {
          "output_type": "execute_result",
          "data": {
            "text/plain": [
              "'five nights at freddy’s sequel delayed for weird reason'"
            ],
            "application/vnd.google.colaboratory.intrinsic+json": {
              "type": "string"
            }
          },
          "metadata": {},
          "execution_count": 144
        }
      ]
    },
    {
      "cell_type": "code",
      "source": [
        "final_test_df['concat_text'][0]"
      ],
      "metadata": {
        "colab": {
          "base_uri": "https://localhost:8080/",
          "height": 178
        },
        "id": "byxuX_ETmqMZ",
        "outputId": "7f081399-7d27-4034-ac20-d454cb30b096"
      },
      "execution_count": null,
      "outputs": [
        {
          "output_type": "execute_result",
          "data": {
            "text/plain": [
              "'five nights at freddy’s sequel delayed for weird reason? five nights at freddy’s sequel delayed for weird reason -- five nights at freddy’s creator scott cawthon takes to steam to tease a possible delay for five nights at freddy’s: sister location, the fifth game in the series. for the past couple of years, horror gaming fans have been able to look forward to one new entry in the five nights at freddy’s series after another, with four core games, one rpg spinoff, and a novel released so far. the next game in the franchise, five nights at freddy’s: sister location, was scheduled to release this coming friday, october 7th, but if developer scott cawthon is to be believed, the project has been delayed by a few months. according to a post by cawthon on the five nights at freddy’s: sister location steam page, the game is being delayed because it’s too dark. cawthon said that some of the plot elements are so disturbing that they are making him feel sick, and so he is thinking about delaying the game so that he can rework it entirely \"into something kid-friendly.\" delays happen in the gaming industry all the time, but it’s rare for a game to be delayed mere days before its release. five nights at freddy’s fans are confused and angry about this latest development, as many were looking forward to playing the game on friday. something else upsetting fans is cawthon’s reasoning that the game is too dark to release, as being dark and disturbing are two characteristics that many consumers look for in a horror game. cawthon’s reason for suddenly delaying five nights at freddy’s sister location from its planned october 7th release date doesn’t make much sense. a more likely scenario is that this is just a weird publicity stunt meant to hype the game as being so disturbing that its developer almost didn’t even release it. alternatively, perhaps cawthon is delaying the game for technical reasons and decided to concoct this story instead of admitting that the fifth core game in the series has issues. fans should also consider the possibility that cawthon is just trolling in an attempt to throw them off the scent of an early release. cawthon'"
            ],
            "application/vnd.google.colaboratory.intrinsic+json": {
              "type": "string"
            }
          },
          "metadata": {},
          "execution_count": 145
        }
      ]
    },
    {
      "cell_type": "code",
      "source": [
        "test_df_new['postText'][0] in final_test_df['concat_text'][0]"
      ],
      "metadata": {
        "colab": {
          "base_uri": "https://localhost:8080/"
        },
        "id": "xckaSjMEmv-K",
        "outputId": "bb49fb5b-07fd-47d9-c2e9-b6aa52458a44"
      },
      "execution_count": null,
      "outputs": [
        {
          "output_type": "execute_result",
          "data": {
            "text/plain": [
              "True"
            ]
          },
          "metadata": {},
          "execution_count": 146
        }
      ]
    },
    {
      "cell_type": "code",
      "source": [
        "def searchFunc(postText, concat_text):\n",
        "  for paragraph in concat_text:\n",
        "      if postText in paragraph:\n",
        "          return 1\n",
        "  else:\n",
        "      return 0"
      ],
      "metadata": {
        "id": "jhnocNolopCA"
      },
      "execution_count": null,
      "outputs": []
    },
    {
      "cell_type": "code",
      "source": [
        "concat_text_lst = final_test_df['concat_text'].tolist()"
      ],
      "metadata": {
        "id": "iUEU4b4BpG7s"
      },
      "execution_count": null,
      "outputs": []
    },
    {
      "cell_type": "code",
      "source": [
        "test_df_new['flag'] = test_df_new['postText'].apply(lambda x: searchFunc(x, concat_text_lst))"
      ],
      "metadata": {
        "id": "5VzqvoXDnTtc"
      },
      "execution_count": null,
      "outputs": []
    },
    {
      "cell_type": "code",
      "source": [
        "phrase_class_dataset = test_df_new.copy()\n",
        "phrase_class_dataset = phrase_class_dataset[phrase_class_dataset['flag']==1]"
      ],
      "metadata": {
        "id": "WaNNCtqbpgcI"
      },
      "execution_count": null,
      "outputs": []
    },
    {
      "cell_type": "code",
      "source": [
        "passage_class_dataset = test_df_new.copy()\n",
        "passage_class_dataset = passage_class_dataset[passage_class_dataset['flag']==1]"
      ],
      "metadata": {
        "id": "RdyfGJGLuhHZ"
      },
      "execution_count": null,
      "outputs": []
    },
    {
      "cell_type": "code",
      "source": [
        "multipart_class_dataset = test_df_new.copy()\n",
        "multipart_class_dataset = multipart_class_dataset[multipart_class_dataset['flag']==1]"
      ],
      "metadata": {
        "id": "M-N1YzZk2b0V"
      },
      "execution_count": null,
      "outputs": []
    },
    {
      "cell_type": "code",
      "source": [
        "multipart_class_dataset.columns"
      ],
      "metadata": {
        "colab": {
          "base_uri": "https://localhost:8080/"
        },
        "id": "35h_u4U8qmnd",
        "outputId": "b5275ec6-6e18-4824-c143-2e4867404917"
      },
      "execution_count": null,
      "outputs": [
        {
          "output_type": "execute_result",
          "data": {
            "text/plain": [
              "Index(['uuid', 'postId', 'postText', 'postPlatform', 'targetParagraphs',\n",
              "       'targetTitle', 'targetDescription', 'targetKeywords', 'targetMedia',\n",
              "       'targetUrl', 'provenance', 'spoiler', 'spoilerPositions', 'tags',\n",
              "       'flag'],\n",
              "      dtype='object')"
            ]
          },
          "metadata": {},
          "execution_count": 166
        }
      ]
    },
    {
      "cell_type": "code",
      "source": [
        "len(multipart_class_dataset)"
      ],
      "metadata": {
        "colab": {
          "base_uri": "https://localhost:8080/"
        },
        "id": "3AhavXwmuu_9",
        "outputId": "bd84d3b8-8feb-4b6d-bc29-d41d278c33cb"
      },
      "execution_count": null,
      "outputs": [
        {
          "output_type": "execute_result",
          "data": {
            "text/plain": [
              "122"
            ]
          },
          "metadata": {},
          "execution_count": 167
        }
      ]
    },
    {
      "cell_type": "code",
      "source": [
        "filtered_df = pd.merge(multipart_class_dataset[['uuid']], test_df_new, on='uuid', how='inner')"
      ],
      "metadata": {
        "id": "f97FtOgrq3EF"
      },
      "execution_count": null,
      "outputs": []
    },
    {
      "cell_type": "code",
      "source": [
        "len(filtered_df)"
      ],
      "metadata": {
        "colab": {
          "base_uri": "https://localhost:8080/"
        },
        "id": "_466Udy-kOjp",
        "outputId": "1203792f-1d59-4790-cd97-917a5bfd004a"
      },
      "execution_count": null,
      "outputs": [
        {
          "output_type": "execute_result",
          "data": {
            "text/plain": [
              "122"
            ]
          },
          "metadata": {},
          "execution_count": 169
        }
      ]
    },
    {
      "cell_type": "code",
      "source": [
        "filtered_df = filtered_df[['uuid', 'postId', 'postText', 'postPlatform', 'targetParagraphs',\n",
        "       'targetTitle', 'targetDescription', 'targetKeywords', 'targetMedia',\n",
        "       'targetUrl', 'provenance', 'spoiler', 'spoilerPositions', 'tags']]"
      ],
      "metadata": {
        "id": "2gsMBNu_kmog"
      },
      "execution_count": null,
      "outputs": []
    },
    {
      "cell_type": "code",
      "source": [
        "filtered_df.to_csv('passage_classified_data.csv', header=True, index=False)"
      ],
      "metadata": {
        "id": "SQaf42Ly2ki8"
      },
      "execution_count": null,
      "outputs": []
    },
    {
      "cell_type": "code",
      "source": [
        "filtered_df.to_csv('passage_classified_data.csv', header=True, index=False)"
      ],
      "metadata": {
        "id": "eLCRQGP9jLJB"
      },
      "execution_count": null,
      "outputs": []
    },
    {
      "cell_type": "code",
      "source": [
        "filtered_df.to_csv('multipart_classified_data.csv', header=True, index=False)"
      ],
      "metadata": {
        "id": "KS41DwEc2lK6"
      },
      "execution_count": null,
      "outputs": []
    },
    {
      "cell_type": "markdown",
      "source": [
        "# Phrase"
      ],
      "metadata": {
        "id": "DWcrmoadtiSO"
      }
    },
    {
      "cell_type": "code",
      "source": [
        "!pip install datasets\n",
        "!pip install evaluate\n",
        "!pip install bert_score\n",
        "!pip install transformers==4.28.0"
      ],
      "metadata": {
        "id": "ZY3A81pbb8aQ"
      },
      "execution_count": null,
      "outputs": []
    },
    {
      "cell_type": "code",
      "source": [
        "import transformers\n",
        "from datasets import load_dataset, load_metric\n",
        "import pandas as pd\n",
        "from datasets import Dataset\n",
        "from datasets.load import DatasetDict\n",
        "from transformers import AutoTokenizer\n",
        "import torch\n",
        "import gc\n",
        "import collections\n",
        "import evaluate\n",
        "from evaluate import load\n",
        "import numpy as np\n",
        "from tqdm.auto import tqdm\n",
        "from transformers import default_data_collator\n",
        "from transformers import AutoModelForQuestionAnswering, TrainingArguments, Trainer\n",
        "\n",
        "print(transformers.__version__)"
      ],
      "metadata": {
        "id": "SSNWkwsUTOlG"
      },
      "execution_count": null,
      "outputs": []
    },
    {
      "cell_type": "code",
      "source": [
        "model_checkpoint = \"Palak/microsoft_deberta-large_squad\"\n",
        "batch_size = 2"
      ],
      "metadata": {
        "id": "EHtg07xFofAR"
      },
      "execution_count": null,
      "outputs": []
    },
    {
      "cell_type": "code",
      "source": [
        "class DatasetFormatter:\n",
        "  def __init__(self, test_df_arg) -> None:\n",
        "    self.train_df = pd.read_json(\"train.jsonl\", lines = True)\n",
        "    # self.test_df = pd.read_json(\"validation.jsonl\", lines = True)\n",
        "    self.test_df = test_df_arg\n",
        "\n",
        "  def list_to_string(self, spoiler_type):\n",
        "    if spoiler_type[0] == \"phrase\":\n",
        "      return 0\n",
        "    elif spoiler_type[0] == \"passage\":\n",
        "      return 1\n",
        "    elif spoiler_type[0] == \"multi\":\n",
        "      return 2\n",
        "\n",
        "  def return_text(self, text):\n",
        "    return text[0]\n",
        "\n",
        "  def preprocess_data(self, data):\n",
        "\n",
        "    no_of_rows = data.shape[0]\n",
        "    formatted_data = []\n",
        "    for index in range(no_of_rows):\n",
        "      complete_description = \"\".join(data.iloc[index].to_dict()[\"targetParagraphs\"])\n",
        "      row = {}\n",
        "      row[\"id\"] = data.iloc[index].to_dict()[\"uuid\"]\n",
        "      row[\"context\"] = complete_description,\n",
        "      row[\"question\"] = data.iloc[index].to_dict()[\"postText\"][0],\n",
        "      row[\"answers\"] = {\n",
        "          \"text\": data.iloc[index].to_dict()[\"spoiler\"],\n",
        "          \"answer_start\": [complete_description.find(data.iloc[index].to_dict()[\"spoiler\"][0])]\n",
        "      }\n",
        "      formatted_data.append(row)\n",
        "    \n",
        "    return formatted_data\n",
        "\n",
        "  def preprocess_data_test(self, data):\n",
        "\n",
        "    no_of_rows = data.shape[0]\n",
        "    formatted_data = []\n",
        "    for index in range(no_of_rows):\n",
        "      paragraph = data.iloc[index].to_dict()[\"targetParagraphs\"]\n",
        "      complete_description = \" \".join(paragraph)\n",
        "      row = {}\n",
        "      row[\"id\"] = data.iloc[index].to_dict()[\"uuid\"]\n",
        "      row[\"context\"] = complete_description,\n",
        "      row[\"question\"] = data.iloc[index].to_dict()[\"postText\"],\n",
        "      row[\"answers\"] = {\n",
        "          \"text\": data.iloc[index].to_dict()[\"spoiler\"],\n",
        "          \"answer_start\": [complete_description.find(data.iloc[index].to_dict()[\"spoiler\"][0])]\n",
        "      }\n",
        "      formatted_data.append(row)\n",
        "    \n",
        "    return formatted_data\n",
        "\n",
        "\n",
        "  def get_formatted_dataset(self):\n",
        "    train_df = self.train_df\n",
        "    test_df = self.test_df\n",
        "\n",
        "    train_df[\"tags\"] = train_df[\"tags\"].apply(self.list_to_string)\n",
        "    test_df[\"tags\"] = test_df[\"tags\"].apply(self.list_to_string)\n",
        "\n",
        "    # Taking only Pharse dataset\n",
        "    train_df = train_df[train_df['tags']==0]\n",
        "    # test_df = test_df[test_df['tags']==0]\n",
        "\n",
        "    train_df = dataset_formatte_obj.preprocess_data(train_df)\n",
        "    test_df = dataset_formatte_obj.preprocess_data(test_df)\n",
        "\n",
        "    train_df= pd.DataFrame(train_df)\n",
        "    test_df = pd.DataFrame(test_df)\n",
        "\n",
        "    # Removing the list\n",
        "    train_df[\"context\"] = train_df[\"context\"].apply(self.return_text)\n",
        "    test_df[\"context\"] = test_df[\"context\"].apply(self.return_text)\n",
        "\n",
        "    # Removing the list\n",
        "    train_df[\"question\"] = train_df[\"question\"].apply(self.return_text)\n",
        "    test_df[\"question\"] = test_df[\"question\"].apply(self.return_text)\n",
        "\n",
        "    # Spliting the train and validation set from training dataset\n",
        "    validation_df = train_df.iloc[1258:]\n",
        "    train_df = train_df.iloc[:1174]\n",
        "\n",
        "    dataset_train = Dataset.from_pandas(train_df)\n",
        "    dataset_validation = Dataset.from_pandas(validation_df)\n",
        "    dataset_test =  Dataset.from_pandas(test_df)\n",
        "\n",
        "    datasets = DatasetDict()\n",
        "\n",
        "    datasets[\"train\"] = dataset_train\n",
        "    datasets[\"validation\"] = dataset_validation\n",
        "    datasets[\"test\"] = dataset_test\n",
        "\n",
        "    return datasets\n",
        "\n",
        "test_df = pd.read_json(\"validation.jsonl\", lines = True)\n",
        "dummy_ref_df = pd.read_csv(\"phrase_data_end_to_end.csv\")\n",
        "ref_df_uuid = dummy_ref_df['uuid'].tolist()\n",
        "test_df = test_df[test_df['uuid'].isin(ref_df_uuid)]\n",
        "\n",
        "dataset_formatte_obj = DatasetFormatter(test_df)\n",
        "\n",
        "datasets = dataset_formatte_obj.get_formatted_dataset()"
      ],
      "metadata": {
        "id": "V3Dcn4raoiqF"
      },
      "execution_count": null,
      "outputs": []
    },
    {
      "cell_type": "code",
      "source": [
        "class Preprocessor:\n",
        "  def __init__(self, model_checkpoint, max_length, doc_stride) -> None:\n",
        "    self.tokenizer = AutoTokenizer.from_pretrained(model_checkpoint)\n",
        "    self.max_length = max_length\n",
        "    self.doc_stride = doc_stride\n",
        "    self.pad_on_right = self.tokenizer.padding_side == \"right\"\n",
        "\n",
        "  def prepare_train_features(self, examples):\n",
        "    examples[\"question\"] = [q.lstrip() for q in examples[\"question\"]]\n",
        "\n",
        "    tokenized_examples = self.tokenizer(\n",
        "        examples[\"question\" if self.pad_on_right else \"context\"],\n",
        "        examples[\"context\" if self.pad_on_right else \"question\"],\n",
        "        truncation=\"only_second\" if self.pad_on_right else \"only_first\",\n",
        "        max_length=self.max_length,\n",
        "        stride=self.doc_stride,\n",
        "        return_overflowing_tokens=True,\n",
        "        return_offsets_mapping=True,\n",
        "        padding=\"max_length\",\n",
        "    )\n",
        "\n",
        "    sample_mapping = tokenized_examples.pop(\"overflow_to_sample_mapping\")\n",
        "\n",
        "    offset_mapping = tokenized_examples.pop(\"offset_mapping\")\n",
        "\n",
        "    start_positions, end_positions = [], []\n",
        "\n",
        "    for i, offsets in enumerate(offset_mapping):\n",
        "        input_ids = tokenized_examples[\"input_ids\"][i]\n",
        "        cls_index = input_ids.index(self.tokenizer.cls_token_id)\n",
        "        sequence_ids = tokenized_examples.sequence_ids(i)\n",
        "        sample_index = sample_mapping[i]\n",
        "        answers = examples[\"answers\"][sample_index]\n",
        "        if len(answers[\"answer_start\"]) == 0:\n",
        "            start_positions.append(cls_index)\n",
        "            end_positions.append(cls_index)\n",
        "        else:\n",
        "            start_char = answers[\"answer_start\"][0]\n",
        "            end_char = start_char + len(answers[\"text\"][0])\n",
        "            token_start_index = 0\n",
        "            while sequence_ids[token_start_index] != (1 if self.pad_on_right else 0):\n",
        "                token_start_index += 1\n",
        "            token_end_index = len(input_ids) - 1\n",
        "            while sequence_ids[token_end_index] != (1 if self.pad_on_right else 0):\n",
        "                token_end_index -= 1\n",
        "            if not (offsets[token_start_index][0] <= start_char and offsets[token_end_index][1] >= end_char):\n",
        "                start_positions.append(cls_index)\n",
        "                end_positions.append(cls_index)\n",
        "            else:\n",
        "                while token_start_index < len(offsets) and offsets[token_start_index][0] <= start_char:\n",
        "                    token_start_index += 1\n",
        "                start_positions.append(token_start_index - 1)\n",
        "                while offsets[token_end_index][1] >= end_char:\n",
        "                    token_end_index -= 1\n",
        "                end_positions.append(token_end_index + 1)\n",
        "    tokenized_examples[\"start_positions\"] = start_positions\n",
        "    tokenized_examples[\"end_positions\"] = end_positions\n",
        "\n",
        "    return tokenized_examples\n",
        "\n",
        "max_length = 384\n",
        "doc_stride = 128\n",
        "proprocessor_obj = Preprocessor(model_checkpoint, max_length, doc_stride)\n",
        "tokenized_datasets = datasets.map(proprocessor_obj.prepare_train_features, batched=True, remove_columns=datasets[\"train\"].column_names)\n",
        "tokenized_datasets"
      ],
      "metadata": {
        "id": "_oVDQM_wookC"
      },
      "execution_count": null,
      "outputs": []
    },
    {
      "cell_type": "code",
      "source": [
        "class FineTune:\n",
        "  def __init__(self, model_checkpoint) -> None:\n",
        "    self.model_checkpoint = model_checkpoint\n",
        "    self.model = AutoModelForQuestionAnswering.from_pretrained(self.model_checkpoint)\n",
        "    self.setup()\n",
        "    self.trainer = None\n",
        "\n",
        "  def setup(self):\n",
        "    device = torch.device('cuda') if torch.cuda.is_available() else torch.device('cpu')\n",
        "    self.model.to(device)\n",
        "    print(f'Working on {device}')\n",
        "\n",
        "    gc.collect()\n",
        "    torch.cuda.empty_cache()\n",
        "    print(\"GPU Cache removed\")\n",
        "\n",
        "  def trainer_model(self):\n",
        "    model_name = self.model_checkpoint.split(\"/\")[-1]\n",
        "    args = TrainingArguments(\n",
        "        f\"{model_name}-finetuned-webis\",\n",
        "        evaluation_strategy = \"epoch\",\n",
        "        learning_rate=2e-5,\n",
        "        per_device_train_batch_size=batch_size,\n",
        "        per_device_eval_batch_size=batch_size,\n",
        "        num_train_epochs=1,\n",
        "        weight_decay=0.01,\n",
        "        push_to_hub=False,\n",
        "    )\n",
        "\n",
        "    data_collator = default_data_collator\n",
        "    trainer = Trainer(\n",
        "    self.model,\n",
        "    args,\n",
        "    train_dataset=tokenized_datasets[\"train\"],\n",
        "    eval_dataset=tokenized_datasets[\"validation\"],\n",
        "    data_collator=data_collator,\n",
        "    tokenizer=proprocessor_obj.tokenizer,\n",
        "    )\n",
        "    self.trainer = trainer\n",
        "\n",
        "  def get_trainer(self):\n",
        "    return self.trainer\n"
      ],
      "metadata": {
        "id": "ZcF02nGFourW"
      },
      "execution_count": null,
      "outputs": []
    },
    {
      "cell_type": "code",
      "source": [
        "import locale\n",
        "def getpreferredencoding(do_setlocale = True):\n",
        "    return \"UTF-8\"\n",
        "locale.getpreferredencoding = getpreferredencoding"
      ],
      "metadata": {
        "id": "MNTcJIHdrYxU"
      },
      "execution_count": null,
      "outputs": []
    },
    {
      "cell_type": "code",
      "source": [
        "!pip install --upgrade accelerate"
      ],
      "metadata": {
        "id": "ySMEh0BHqtRr"
      },
      "execution_count": null,
      "outputs": []
    },
    {
      "cell_type": "code",
      "source": [
        "fine_tune_obj = FineTune(model_checkpoint)\n",
        "fine_tune_obj.trainer_model()\n",
        "trainer = fine_tune_obj.get_trainer()"
      ],
      "metadata": {
        "id": "rGkllxsHozjE"
      },
      "execution_count": null,
      "outputs": []
    },
    {
      "cell_type": "code",
      "source": [
        "trainer.train()"
      ],
      "metadata": {
        "id": "QKv100GVo4Zh"
      },
      "execution_count": null,
      "outputs": []
    },
    {
      "cell_type": "code",
      "source": [
        "trainer.evaluate()"
      ],
      "metadata": {
        "id": "Z-ZVeC2so8Mc"
      },
      "execution_count": null,
      "outputs": []
    },
    {
      "cell_type": "code",
      "source": [
        "test_datasets = DatasetDict()\n",
        "test_datasets[\"test\"] = datasets[\"test\"]"
      ],
      "metadata": {
        "id": "y9Hvr-xYpBCm"
      },
      "execution_count": null,
      "outputs": []
    },
    {
      "cell_type": "code",
      "source": [
        "trainer.save_model(\"test-squad-trained\")"
      ],
      "metadata": {
        "id": "wpLCkyarpBsA"
      },
      "execution_count": null,
      "outputs": []
    },
    {
      "cell_type": "code",
      "source": [
        "class Evaluate:\n",
        "  def __init__(self, proprocessor_obj):\n",
        "    self.tokenizer = proprocessor_obj.tokenizer\n",
        "    # The maximum length of a feature (question and context)\n",
        "    self.max_length = proprocessor_obj.max_length\n",
        "    self.doc_stride = proprocessor_obj.doc_stride\n",
        "    self.pad_on_right = self.tokenizer.padding_side == \"right\"\n",
        "\n",
        "\n",
        "  def prepare_validation_features(self, examples):\n",
        "      examples[\"question\"] = [q.lstrip() for q in examples[\"question\"]]\n",
        "\n",
        "      tokenized_examples = proprocessor_obj.tokenizer(\n",
        "          examples[\"question\" if self.pad_on_right else \"context\"],\n",
        "          examples[\"context\" if self.pad_on_right else \"question\"],\n",
        "          truncation=\"only_second\" if self.pad_on_right else \"only_first\",\n",
        "          max_length=max_length,\n",
        "          stride=doc_stride,\n",
        "          return_overflowing_tokens=True,\n",
        "          return_offsets_mapping=True,\n",
        "          padding=\"max_length\",\n",
        "      )\n",
        "      sample_mapping = tokenized_examples.pop(\"overflow_to_sample_mapping\")\n",
        "\n",
        "      tokenized_examples[\"example_id\"] = []\n",
        "\n",
        "      for i in range(len(tokenized_examples[\"input_ids\"])):\n",
        "          sequence_ids = tokenized_examples.sequence_ids(i)\n",
        "          context_index = 1 if self.pad_on_right else 0\n",
        "\n",
        "          sample_index = sample_mapping[i]\n",
        "          tokenized_examples[\"example_id\"].append(examples[\"id\"][sample_index])\n",
        "          tokenized_examples[\"offset_mapping\"][i] = [\n",
        "              (o if sequence_ids[k] == context_index else None)\n",
        "              for k, o in enumerate(tokenized_examples[\"offset_mapping\"][i])\n",
        "          ]\n",
        "\n",
        "      return tokenized_examples\n",
        "  \n",
        "  def prepare_test_features(self, examples):\n",
        "    examples[\"question\"] = [q.lstrip() for q in examples[\"question\"]]\n",
        "\n",
        "    tokenized_examples = self.tokenizer(\n",
        "        examples[\"question\" if self.pad_on_right else \"context\"],\n",
        "        examples[\"context\" if self.pad_on_right else \"question\"],\n",
        "        truncation=\"only_second\" if self.pad_on_right else \"only_first\",\n",
        "        max_length=max_length,\n",
        "        stride=doc_stride,\n",
        "        return_overflowing_tokens=True,\n",
        "        return_offsets_mapping=True,\n",
        "        padding=\"max_length\",\n",
        "    )\n",
        "\n",
        "    sample_mapping = tokenized_examples.pop(\"overflow_to_sample_mapping\")\n",
        "    tokenized_examples[\"example_id\"] = []\n",
        "\n",
        "    for i in range(len(tokenized_examples[\"input_ids\"])):\n",
        "        sequence_ids = tokenized_examples.sequence_ids(i)\n",
        "        context_index = 1 if self.pad_on_right else 0\n",
        "\n",
        "        sample_index = sample_mapping[i]\n",
        "        tokenized_examples[\"example_id\"].append(examples[\"id\"][sample_index])\n",
        "        tokenized_examples[\"offset_mapping\"][i] = [\n",
        "            (o if sequence_ids[k] == context_index else None)\n",
        "            for k, o in enumerate(tokenized_examples[\"offset_mapping\"][i])\n",
        "        ]\n",
        "\n",
        "    return tokenized_examples\n",
        "\n",
        "  def postprocess_qa_predictions(self, examples, features, raw_predictions, n_best_size = 20, max_answer_length = 30):\n",
        "    all_start_logits, all_end_logits = raw_predictions\n",
        "    example_id_to_index = {k: i for i, k in enumerate(examples[\"id\"])}\n",
        "    features_per_example = collections.defaultdict(list)  \n",
        "    for i, feature in enumerate(features):\n",
        "        features_per_example[example_id_to_index[feature[\"example_id\"]]].append(i)\n",
        "\n",
        "    predictions = collections.OrderedDict()\n",
        "\n",
        "\n",
        "    print(f\"Post-processing {len(examples)} example predictions split into {len(features)} features.\")\n",
        "\n",
        "\n",
        "    for example_index, example in enumerate(tqdm(examples)):\n",
        "        feature_indices = features_per_example[example_index]\n",
        "\n",
        "        min_null_score = None \n",
        "        valid_answers = []\n",
        "        \n",
        "        context = example[\"context\"]\n",
        "        for feature_index in feature_indices:\n",
        "            start_logits = all_start_logits[feature_index]\n",
        "            end_logits = all_end_logits[feature_index]\n",
        "            offset_mapping = features[feature_index][\"offset_mapping\"]\n",
        "\n",
        "            cls_index = features[feature_index][\"input_ids\"].index(self.tokenizer.cls_token_id)\n",
        "            feature_null_score = start_logits[cls_index] + end_logits[cls_index]\n",
        "            if min_null_score is None or min_null_score < feature_null_score:\n",
        "                min_null_score = feature_null_score\n",
        "            start_indexes = np.argsort(start_logits)[-1 : -n_best_size - 1 : -1].tolist()\n",
        "            end_indexes = np.argsort(end_logits)[-1 : -n_best_size - 1 : -1].tolist()\n",
        "            for start_index in start_indexes:\n",
        "                for end_index in end_indexes:\n",
        "                    if (\n",
        "                        start_index >= len(offset_mapping)\n",
        "                        or end_index >= len(offset_mapping)\n",
        "                        or offset_mapping[start_index] is None\n",
        "                        or offset_mapping[end_index] is None\n",
        "                    ):\n",
        "                        continue\n",
        "                    if end_index < start_index or end_index - start_index + 1 > max_answer_length:\n",
        "                        continue\n",
        "\n",
        "                    start_char = offset_mapping[start_index][0]\n",
        "                    end_char = offset_mapping[end_index][1]\n",
        "                    valid_answers.append(\n",
        "                        {\n",
        "                            \"score\": start_logits[start_index] + end_logits[end_index],\n",
        "                            \"text\": context[start_char: end_char]\n",
        "                        }\n",
        "                    )\n",
        "        \n",
        "        if len(valid_answers) > 0:\n",
        "            best_answer = sorted(valid_answers, key=lambda x: x[\"score\"], reverse=True)[0]\n",
        "        else:\n",
        "            best_answer = {\"text\": \"\", \"score\": 0.0}\n",
        "\n",
        "        predictions[example[\"id\"]] = best_answer[\"text\"]\n",
        "\n",
        "    return predictions\n",
        "\n",
        "\n",
        "\n",
        "evaluate_obj = Evaluate(proprocessor_obj)"
      ],
      "metadata": {
        "id": "3jWuDRwSpEi-"
      },
      "execution_count": null,
      "outputs": []
    },
    {
      "cell_type": "code",
      "source": [
        "validation_features = datasets[\"validation\"].map(\n",
        "    evaluate_obj.prepare_validation_features,\n",
        "    batched=True,\n",
        "    remove_columns=datasets[\"validation\"].column_names\n",
        ")\n",
        "raw_predictions = trainer.predict(validation_features)\n",
        "validation_features.set_format(type=validation_features.format[\"type\"], columns=list(validation_features.features.keys()))"
      ],
      "metadata": {
        "id": "NlaCaN0qpOSn"
      },
      "execution_count": null,
      "outputs": []
    },
    {
      "cell_type": "code",
      "source": [
        "test_features = datasets[\"test\"].map(\n",
        "    evaluate_obj.prepare_test_features,\n",
        "    batched=True,\n",
        "    remove_columns=datasets[\"test\"].column_names\n",
        ")\n",
        "raw_predictions = trainer.predict(test_features)\n",
        "test_features.set_format(type=test_features.format[\"type\"], columns=list(test_features.features.keys()))"
      ],
      "metadata": {
        "id": "8vgfleezpYWy"
      },
      "execution_count": null,
      "outputs": []
    },
    {
      "cell_type": "code",
      "source": [
        "final_predictions = evaluate_obj.postprocess_qa_predictions(test_datasets[\"test\"], test_features, raw_predictions.predictions)"
      ],
      "metadata": {
        "id": "U_JIjzLpphjU"
      },
      "execution_count": null,
      "outputs": []
    },
    {
      "cell_type": "code",
      "source": [
        "metric = load_metric(\"squad\")"
      ],
      "metadata": {
        "id": "zEklcf2UpkMm"
      },
      "execution_count": null,
      "outputs": []
    },
    {
      "cell_type": "code",
      "source": [
        "formatted_predictions = [{\"id\": k, \"prediction_text\": v} for k, v in final_predictions.items()]\n",
        "references = [{\"id\": ex[\"id\"], \"answers\": ex[\"answers\"]} for ex in test_datasets[\"test\"]]\n",
        "metric.compute(predictions=formatted_predictions, references=references)"
      ],
      "metadata": {
        "id": "F-cknH7SqDp4"
      },
      "execution_count": null,
      "outputs": []
    },
    {
      "cell_type": "code",
      "source": [
        "from bert_score import score\n",
        "from evaluate import load\n",
        "bertscore = load(\"bertscore\")\n",
        "\n",
        "class EvaluationMetric:\n",
        "\n",
        "  def __init__(self):\n",
        "    self.bleu = evaluate.load('bleu')\n",
        "    self.meteor = evaluate.load('meteor')\n",
        "    self.bertscore = load(\"bertscore\")\n",
        "\n",
        "  def get_bleu_score(self, formatted_predictions, references):\n",
        "    results = 0\n",
        "    count = 0\n",
        "    predictions_test = []\n",
        "    references_test = []\n",
        "\n",
        "    for each in formatted_predictions:\n",
        "      count += 1\n",
        "      for ref in references:\n",
        "\n",
        "        if each[\"id\"] == ref[\"id\"]:\n",
        "          predictions_test.append(each[\"prediction_text\"].strip())\n",
        "          references_test.append([ref[\"answers\"][\"text\"][0].strip()])\n",
        "\n",
        "    for i in range(30):\n",
        "      print(\"Prediction comparision: \", i)\n",
        "      print(\"Model prediction --> \", predictions_test[i])\n",
        "      print(\"Reference --> \", references_test[i])\n",
        "      print('\\n')\n",
        "\n",
        "    result = self.bleu.compute(predictions = predictions_test, references = references_test).get(\"bleu\")\n",
        "\n",
        "    # bleu_score = results/count\n",
        "    # return bleu_score\n",
        "    return result\n",
        "\n",
        "  def get_meteor_score(self, formatted_predictions, references):\n",
        "    results = 0\n",
        "    count = 0\n",
        "    predictions_test = []\n",
        "    references_test = []\n",
        "\n",
        "    for each in formatted_predictions:\n",
        "      count += 1\n",
        "      for ref in references:\n",
        "\n",
        "        if each[\"id\"] == ref[\"id\"]:\n",
        "          predictions_test.append(each[\"prediction_text\"].strip())\n",
        "          references_test.append(ref[\"answers\"][\"text\"][0].strip())\n",
        "    \n",
        "    result = self.meteor.compute(predictions = predictions_test, references = references_test).get(\"meteor\")\n",
        "\n",
        "    # meteor_score = results/count\n",
        "    # return meteor_score\n",
        "    return result\n",
        "  \n",
        "  def get_bert_score(self, formatted_predictions, references):\n",
        "    results = 0\n",
        "    total_precision = 0\n",
        "    total_recall = 0\n",
        "    total_f1 = 0\n",
        "    predictions_test = []\n",
        "    references_test = []\n",
        "\n",
        "    count = 0\n",
        "\n",
        "    for each in formatted_predictions:\n",
        "      count += 1\n",
        "      for ref in references:\n",
        "\n",
        "        if each[\"id\"] == ref[\"id\"]:\n",
        "          predictions_test.append(each[\"prediction_text\"].strip())\n",
        "          references_test.append(ref[\"answers\"][\"text\"][0].strip())\n",
        "    \n",
        "    results = bertscore.compute(predictions=predictions_test, references=references_test, lang = \"en\")\n",
        "\n",
        "    # total_precision += results.get(\"precision\")[0]\n",
        "    # total_recall += results.get(\"recall\")[0]\n",
        "    # total_f1 += results.get(\"f1\")[0]\n",
        "\n",
        "    # avg_precision = total_precision/count\n",
        "    # avg_recall = total_recall/count\n",
        "    # avg_f1 = total_f1/count\n",
        "\n",
        "    # return avg_precision, avg_recall, avg_f1\n",
        "    return results\n",
        "    "
      ],
      "metadata": {
        "id": "h3vDrDZrqEKa"
      },
      "execution_count": null,
      "outputs": []
    },
    {
      "cell_type": "code",
      "execution_count": null,
      "metadata": {
        "id": "RyMDjZjyUff0",
        "colab": {
          "base_uri": "https://localhost:8080/",
          "height": 1000,
          "referenced_widgets": [
            "81c47f0e819c47a4942e98947f0ff3a4",
            "c78ce075efc141b2b86aa625e262bf53",
            "3d79f764aa1f42bb95fd7a13a974c18c",
            "9182bfa0b2304f62a9e021b73b372a96",
            "7a832dcf9e7c44a08345daf7afef4c93",
            "8d580fb427264c97b9c1ffeadcfc1bea",
            "6ca1dc0d101f43b18a1b714b1092575b",
            "04f197535ce3455c98d75f1eb4ae3cff",
            "59ad42f8e72840129f88cb053ae48973",
            "e70303461b9d46ec8479da93cc46d7d7",
            "cf6f80ba5e524c9da787683f10a6e92d",
            "142ba24fe03e4d63b0282e28cfb739b0",
            "8d3262cd602b4bb9b2e0262bfe543135",
            "4ce72a599f4c4643a2395f2746f016e5",
            "a5d0ae5ce9e0433cb36b58e0d259cee9",
            "9b5fa8d91aa14c2f80c331f030f4f387",
            "41796f3a0efb4d21b4f32353a97f8a99",
            "ca39be251e8348bc9b4a2a7f597e856d",
            "35c328b21b98496792be49a57aff7d46",
            "436c6b47834c41bfab99212566c2a6e5",
            "f488e2f2d11b40f5aaacaa57d4d5b568",
            "b40494ee2be446a5871cef6bd7e14b3e",
            "730fa33e88c34c3ca0fdead345a46295",
            "6f36950bd1a8421aac939e57388c6f9e",
            "0f4d9d05c7984a96a43f63875efdbcaf",
            "d85f19b8d82042708156ba3a5daa64d9",
            "587e8464ae374b93a1c1ff984bae0495",
            "c109574514144ed88daf63f81ad81bb8",
            "a97fd94cba744655982c0e2a1f764fd1",
            "aa8de6911fc44e8c8223a2e4267de3d9",
            "d2d1b1686d38480cbff6f144ef808bc5",
            "e2e1a8d73c0d442893fdb8a020005be8",
            "d310b054117d4a9699b0705fd525614e",
            "862b5bcfb7a441c5a5b0c9951258e3b4",
            "7e714481f9434b5584f734fa9f71967e",
            "5fbd4ca558c74748acd14177c13986d0",
            "cd0f5425cdce484db489fb84d69ad4b9",
            "898ac5cd2efd4bf080bacab7e4e67f79",
            "ae52d03705454c7e8cc91f632724a155",
            "6ba5df6877b549339a7c83bf831d3a26",
            "757f6c9f08a246af9b2b6a54d110cb69",
            "a12ef09b457f4e9783177a5b5a57be80",
            "7c740e9ae8224d36b3c1d7a94c812370",
            "b55c86dc5fc24ef4a58545d821a10ab7",
            "13206ccc27834e0db21be456e2fc0c21",
            "da734ea2ed534ed99fb96fdf5d6b77b9",
            "364698d1c25e42e3b78c9d89cb16b308",
            "ffef72cddb4f4426a15ae746ca0d7b46",
            "462ab72cd7304f589139c696b38e1ce5",
            "bc897c312cec497c8e31e2d5668eb86a",
            "6776816248064a13a5bd539903c86e07",
            "a33d1b315e184136a9cf0500a7631d75",
            "c9baf2c0852b4e2c95f3340f23eaf837",
            "0f57733720d948d9a13e7b93bfc5aa06",
            "9338bfedaae14c069869a620c8bed68d",
            "b108e22ba46c4bfe8b8ce44f054ade9d",
            "c3d5d65f04a84371812863a60179d3f2",
            "7b9dd8e466c844a2b0a3a3b0ed24cecc",
            "b32eb796670b4db9b436690b6b2477c4",
            "0d2096e327d54fd78337dc484c020781",
            "43a81659901a4f28bd2406824f8d9277",
            "019f716ee1384f1c8a08514f05189666",
            "d71ff40b97964a14a74468e09e48af83",
            "a00413e38d1f48d7a987bc0e28bf5848",
            "f427f4e2165143ce99f539ecee2c4f47",
            "b64ab204253e4efc982f0b2fe51f26e5",
            "8e8c2a9f7cfa49d9a96203c938a23b86",
            "f16c73d577484b6a9359640e17c4e737",
            "f235647c755a4bd69d94b9ad9c018cf7",
            "f9bfdd55adb5421b994f262bd61d03a7",
            "09b136cbde714cd9a1df55d2bb46a591",
            "118ba67454784615af5fd515280b8e64",
            "560d800369b84708867c8a5482574d08",
            "88c1b20e19d8496899919ca5a5866a33",
            "61ae3d646d83407aa21ee1d639693bd2",
            "a6b0f0a85dd346dbb442ba7bb5750b61",
            "220ceefab17947a9bcf1057bfe3ca1c0",
            "bc7c135c27b24c0f9876d1bc4a9d53b0",
            "ef8afa13d014424f92279f2842b0f877",
            "796823cb8e044646b2817af2936e2165",
            "ffbb7e2d9f6449559773c011dc90c4a7",
            "cfa4d930c3714535b6f2292558f55e6e",
            "c7a653a515a64f9e960e54816c6fb209",
            "b028163c877c4f2a8eae2f307701ca89",
            "e0858a6e20ce443e974a7c9848713940",
            "64eb580f9d6a40c0a625f341550c967c",
            "d1e5ba7625824fc6896da523070e6318",
            "4b64db2360154dd79122d7749f380a72"
          ]
        },
        "outputId": "d527d019-2f25-4e84-c607-9d5321cf3717"
      },
      "outputs": [
        {
          "output_type": "display_data",
          "data": {
            "text/plain": [
              "Downloading builder script:   0%|          | 0.00/5.94k [00:00<?, ?B/s]"
            ],
            "application/vnd.jupyter.widget-view+json": {
              "version_major": 2,
              "version_minor": 0,
              "model_id": "81c47f0e819c47a4942e98947f0ff3a4"
            }
          },
          "metadata": {}
        },
        {
          "output_type": "display_data",
          "data": {
            "text/plain": [
              "Downloading extra modules:   0%|          | 0.00/1.55k [00:00<?, ?B/s]"
            ],
            "application/vnd.jupyter.widget-view+json": {
              "version_major": 2,
              "version_minor": 0,
              "model_id": "142ba24fe03e4d63b0282e28cfb739b0"
            }
          },
          "metadata": {}
        },
        {
          "output_type": "display_data",
          "data": {
            "text/plain": [
              "Downloading extra modules:   0%|          | 0.00/3.34k [00:00<?, ?B/s]"
            ],
            "application/vnd.jupyter.widget-view+json": {
              "version_major": 2,
              "version_minor": 0,
              "model_id": "730fa33e88c34c3ca0fdead345a46295"
            }
          },
          "metadata": {}
        },
        {
          "output_type": "display_data",
          "data": {
            "text/plain": [
              "Downloading builder script:   0%|          | 0.00/6.81k [00:00<?, ?B/s]"
            ],
            "application/vnd.jupyter.widget-view+json": {
              "version_major": 2,
              "version_minor": 0,
              "model_id": "862b5bcfb7a441c5a5b0c9951258e3b4"
            }
          },
          "metadata": {}
        },
        {
          "output_type": "stream",
          "name": "stderr",
          "text": [
            "[nltk_data] Downloading package wordnet to /root/nltk_data...\n",
            "[nltk_data] Downloading package punkt to /root/nltk_data...\n",
            "[nltk_data]   Unzipping tokenizers/punkt.zip.\n",
            "[nltk_data] Downloading package omw-1.4 to /root/nltk_data...\n"
          ]
        },
        {
          "output_type": "stream",
          "name": "stdout",
          "text": [
            "Prediction comparision:  0\n",
            "Model prediction -->  between $5 and $20\n",
            "Reference -->  ['20%']\n",
            "\n",
            "\n",
            "Prediction comparision:  1\n",
            "Model prediction -->  Sprite\n",
            "Reference -->  ['Sprite']\n",
            "\n",
            "\n",
            "Prediction comparision:  2\n",
            "Model prediction -->  Smoky Paprika-Baked Garbanzo Beans\n",
            "Reference -->  ['Smoky Paprika-Baked Garbanzo Beans']\n",
            "\n",
            "\n",
            "Prediction comparision:  3\n",
            "Model prediction -->  Anthony Bourdain\n",
            "Reference -->  ['Anthony Bourdain']\n",
            "\n",
            "\n",
            "Prediction comparision:  4\n",
            "Model prediction -->  Stace Nelson\n",
            "Reference -->  ['Stace Nelson']\n",
            "\n",
            "\n",
            "Prediction comparision:  5\n",
            "Model prediction -->  reduced fat sour cream\n",
            "Reference -->  ['reduced fat sour cream']\n",
            "\n",
            "\n",
            "Prediction comparision:  6\n",
            "Model prediction -->  Edward Gorey\n",
            "Reference -->  ['Edward Gorey']\n",
            "\n",
            "\n",
            "Prediction comparision:  7\n",
            "Model prediction -->  Rag & Bone\n",
            "Reference -->  ['Rag & Bone']\n",
            "\n",
            "\n",
            "Prediction comparision:  8\n",
            "Model prediction -->  pixie cut\n",
            "Reference -->  ['pixie cut']\n",
            "\n",
            "\n",
            "Prediction comparision:  9\n",
            "Model prediction -->  antique cabinet\n",
            "Reference -->  [\"Hope's antique cabinet\"]\n",
            "\n",
            "\n",
            "Prediction comparision:  10\n",
            "Model prediction -->  August 6th\n",
            "Reference -->  ['August 6th']\n",
            "\n",
            "\n",
            "Prediction comparision:  11\n",
            "Model prediction -->  average\n",
            "Reference -->  ['perfectly average']\n",
            "\n",
            "\n",
            "Prediction comparision:  12\n",
            "Model prediction -->  \"I love you, but ...\"\n",
            "Reference -->  ['\"but\"']\n",
            "\n",
            "\n",
            "Prediction comparision:  13\n",
            "Model prediction -->  Hillary \"Clinton\n",
            "Reference -->  ['The Arizona Republic']\n",
            "\n",
            "\n",
            "Prediction comparision:  14\n",
            "Model prediction -->  rapamycin\n",
            "Reference -->  ['rapamycin']\n",
            "\n",
            "\n",
            "Prediction comparision:  15\n",
            "Model prediction -->  Loyola Marymount University\n",
            "Reference -->  ['Santa Clara University']\n",
            "\n",
            "\n",
            "Prediction comparision:  16\n",
            "Model prediction -->  Oklahoma Wesleyan University\n",
            "Reference -->  ['Oklahoma Wesleyan University']\n",
            "\n",
            "\n",
            "Prediction comparision:  17\n",
            "Model prediction -->  California\n",
            "Reference -->  ['Edan Lepucki']\n",
            "\n",
            "\n",
            "Prediction comparision:  18\n",
            "Model prediction -->  Tim Masthay\n",
            "Reference -->  ['Tim Masthay']\n",
            "\n",
            "\n",
            "Prediction comparision:  19\n",
            "Model prediction -->  squash\n",
            "Reference -->  [\"World's Largest Pumpkin\"]\n",
            "\n",
            "\n",
            "Prediction comparision:  20\n",
            "Model prediction -->  $25K\n",
            "Reference -->  ['$25K']\n",
            "\n",
            "\n",
            "Prediction comparision:  21\n",
            "Model prediction -->  University of Tennessee\n",
            "Reference -->  ['University of Tennessee']\n",
            "\n",
            "\n",
            "Prediction comparision:  22\n",
            "Model prediction -->  Crazy Frog\n",
            "Reference -->  ['Crazy Frog']\n",
            "\n",
            "\n",
            "Prediction comparision:  23\n",
            "Model prediction -->  your face\n",
            "Reference -->  ['face']\n",
            "\n",
            "\n",
            "Prediction comparision:  24\n",
            "Model prediction -->  Amazon\n",
            "Reference -->  ['Amazon']\n",
            "\n",
            "\n",
            "Prediction comparision:  25\n",
            "Model prediction -->  Dieffenbachia\n",
            "Reference -->  ['Dieffenbachia']\n",
            "\n",
            "\n",
            "Prediction comparision:  26\n",
            "Model prediction -->  Kirk Douglass\n",
            "Reference -->  ['Michael and Kirk']\n",
            "\n",
            "\n",
            "Prediction comparision:  27\n",
            "Model prediction -->  1,4-dioxane\n",
            "Reference -->  ['1,4-dioxane']\n",
            "\n",
            "\n",
            "Prediction comparision:  28\n",
            "Model prediction -->  gut bacteria\n",
            "Reference -->  ['gut bacteria']\n",
            "\n",
            "\n",
            "Prediction comparision:  29\n",
            "Model prediction -->  Wyoming\n",
            "Reference -->  ['Wyoming']\n",
            "\n",
            "\n"
          ]
        },
        {
          "output_type": "display_data",
          "data": {
            "text/plain": [
              "Downloading (…)lve/main/config.json:   0%|          | 0.00/482 [00:00<?, ?B/s]"
            ],
            "application/vnd.jupyter.widget-view+json": {
              "version_major": 2,
              "version_minor": 0,
              "model_id": "13206ccc27834e0db21be456e2fc0c21"
            }
          },
          "metadata": {}
        },
        {
          "output_type": "display_data",
          "data": {
            "text/plain": [
              "Downloading (…)olve/main/vocab.json:   0%|          | 0.00/899k [00:00<?, ?B/s]"
            ],
            "application/vnd.jupyter.widget-view+json": {
              "version_major": 2,
              "version_minor": 0,
              "model_id": "b108e22ba46c4bfe8b8ce44f054ade9d"
            }
          },
          "metadata": {}
        },
        {
          "output_type": "display_data",
          "data": {
            "text/plain": [
              "Downloading (…)olve/main/merges.txt:   0%|          | 0.00/456k [00:00<?, ?B/s]"
            ],
            "application/vnd.jupyter.widget-view+json": {
              "version_major": 2,
              "version_minor": 0,
              "model_id": "8e8c2a9f7cfa49d9a96203c938a23b86"
            }
          },
          "metadata": {}
        },
        {
          "output_type": "display_data",
          "data": {
            "text/plain": [
              "Downloading pytorch_model.bin:   0%|          | 0.00/1.43G [00:00<?, ?B/s]"
            ],
            "application/vnd.jupyter.widget-view+json": {
              "version_major": 2,
              "version_minor": 0,
              "model_id": "bc7c135c27b24c0f9876d1bc4a9d53b0"
            }
          },
          "metadata": {}
        },
        {
          "output_type": "stream",
          "name": "stdout",
          "text": [
            "BLEU Score:  0.3004934100671623\n",
            "METEOR Score:  0.5619576473901221\n",
            "BERT Score:  0.941933231770725\n"
          ]
        }
      ],
      "source": [
        "from statistics import mean\n",
        "\n",
        "evaluation_metric_obj = EvaluationMetric()\n",
        "bleu_score = evaluation_metric_obj.get_bleu_score(formatted_predictions, references)\n",
        "meteor_score = evaluation_metric_obj.get_meteor_score(formatted_predictions, references)\n",
        "bert_score = evaluation_metric_obj.get_bert_score(formatted_predictions, references)\n",
        "\n",
        "print(\"BLEU Score: \", bleu_score)\n",
        "print(\"METEOR Score: \", meteor_score)\n",
        "print(\"BERT Score: \", mean(bert_score.get(\"f1\")))"
      ]
    },
    {
      "cell_type": "markdown",
      "source": [
        "# Passage"
      ],
      "metadata": {
        "id": "iPo4mGbfTWl2"
      }
    },
    {
      "cell_type": "code",
      "source": [
        "model_checkpoint = \"thatdramebaazguy/roberta-base-squad\"\n",
        "batch_size = 2"
      ],
      "metadata": {
        "id": "OydPZow0TSpS"
      },
      "execution_count": null,
      "outputs": []
    },
    {
      "cell_type": "code",
      "source": [
        "class DatasetFormatter:\n",
        "  def __init__(self, test_df_arg) -> None:\n",
        "    self.train_df = pd.read_json(\"train.jsonl\", lines = True)\n",
        "    # self.test_df = pd.read_json(\"validation.jsonl\", lines = True)\n",
        "    self.test_df = test_df_arg\n",
        "\n",
        "  def list_to_string(self, spoiler_type):\n",
        "    if spoiler_type[0] == \"phrase\":\n",
        "      return 0\n",
        "    elif spoiler_type[0] == \"passage\":\n",
        "      return 1\n",
        "    elif spoiler_type[0] == \"multi\":\n",
        "      return 2\n",
        "\n",
        "  def return_text(self, text):\n",
        "    return text[0]\n",
        "\n",
        "  def preprocess_data(self, data):\n",
        "\n",
        "    no_of_rows = data.shape[0]\n",
        "    formatted_data = []\n",
        "    for index in range(no_of_rows):\n",
        "      complete_description = \" \".join(data.iloc[index].to_dict()[\"targetParagraphs\"])\n",
        "      row = {}\n",
        "      row[\"id\"] = data.iloc[index].to_dict()[\"uuid\"]\n",
        "      row[\"context\"] = complete_description,\n",
        "      row[\"question\"] = data.iloc[index].to_dict()[\"postText\"][0],\n",
        "      row[\"answers\"] = {\n",
        "          \"text\": data.iloc[index].to_dict()[\"spoiler\"],\n",
        "          \"answer_start\": [complete_description.find(data.iloc[index].to_dict()[\"spoiler\"][0])]\n",
        "      }\n",
        "      formatted_data.append(row)\n",
        "    \n",
        "    return formatted_data\n",
        "\n",
        "  def get_formatted_dataset(self):\n",
        "    train_df = self.train_df\n",
        "    test_df = self.test_df\n",
        "\n",
        "    train_df[\"tags\"] = train_df[\"tags\"].apply(self.list_to_string)\n",
        "    test_df[\"tags\"] = test_df[\"tags\"].apply(self.list_to_string)\n",
        "\n",
        "    # Taking only Pharse dataset\n",
        "    train_df = train_df[train_df['tags']==0]\n",
        "    # test_df = test_df[test_df['tags']==1]\n",
        "\n",
        "    train_df = dataset_formatte_obj.preprocess_data(train_df)\n",
        "    test_df = dataset_formatte_obj.preprocess_data(test_df)\n",
        "\n",
        "    train_df= pd.DataFrame(train_df)\n",
        "    test_df = pd.DataFrame(test_df)\n",
        "\n",
        "    # Removing the list\n",
        "    train_df[\"context\"] = train_df[\"context\"].apply(self.return_text)\n",
        "    test_df[\"context\"] = test_df[\"context\"].apply(self.return_text)\n",
        "\n",
        "    # Removing the list\n",
        "    train_df[\"question\"] = train_df[\"question\"].apply(self.return_text)\n",
        "    test_df[\"question\"] = test_df[\"question\"].apply(self.return_text)\n",
        "\n",
        "    # Spliting the train and validation set from training dataset\n",
        "    validation_df = train_df.iloc[1258:]\n",
        "    train_df = train_df.iloc[:1174]\n",
        "\n",
        "    dataset_train = Dataset.from_pandas(train_df)\n",
        "    dataset_validation = Dataset.from_pandas(validation_df)\n",
        "    dataset_test =  Dataset.from_pandas(test_df)\n",
        "\n",
        "    datasets = DatasetDict()\n",
        "\n",
        "    datasets[\"train\"] = dataset_train\n",
        "    datasets[\"validation\"] = dataset_validation\n",
        "    datasets[\"test\"] = dataset_test\n",
        "\n",
        "    return datasets\n",
        "\n",
        "test_df = pd.read_json(\"validation.jsonl\", lines = True)\n",
        "dummy_ref_df = pd.read_csv(\"passage_classified_data.csv\")\n",
        "ref_df_uuid = dummy_ref_df['uuid'].tolist()\n",
        "test_df = test_df[test_df['uuid'].isin(ref_df_uuid)]\n",
        "dataset_formatte_obj = DatasetFormatter(test_df)\n",
        "\n",
        "datasets = dataset_formatte_obj.get_formatted_dataset()"
      ],
      "metadata": {
        "id": "yF8X1qksqZXb"
      },
      "execution_count": null,
      "outputs": []
    },
    {
      "cell_type": "code",
      "source": [
        "class Preprocessor:\n",
        "  def __init__(self, model_checkpoint, max_length, doc_stride) -> None:\n",
        "    self.tokenizer = AutoTokenizer.from_pretrained(model_checkpoint)\n",
        "\n",
        "    self.max_length = max_length\n",
        "    self.doc_stride = doc_stride\n",
        "    self.pad_on_right = self.tokenizer.padding_side == \"right\"\n",
        "\n",
        "  def prepare_train_features(self, examples):\n",
        "    examples[\"question\"] = [q.lstrip() for q in examples[\"question\"]]\n",
        "\n",
        "    tokenized_examples = self.tokenizer(\n",
        "        examples[\"question\" if self.pad_on_right else \"context\"],\n",
        "        examples[\"context\" if self.pad_on_right else \"question\"],\n",
        "        truncation=\"only_second\" if self.pad_on_right else \"only_first\",\n",
        "        max_length=self.max_length,\n",
        "        stride=self.doc_stride,\n",
        "        return_overflowing_tokens=True,\n",
        "        return_offsets_mapping=True,\n",
        "        padding=\"max_length\",\n",
        "    )\n",
        "\n",
        "    sample_mapping = tokenized_examples.pop(\"overflow_to_sample_mapping\")\n",
        "\n",
        "    offset_mapping = tokenized_examples.pop(\"offset_mapping\")\n",
        "\n",
        "\n",
        "    start_positions, end_positions = [], []\n",
        "\n",
        "\n",
        "    for i, offsets in enumerate(offset_mapping):\n",
        "        input_ids = tokenized_examples[\"input_ids\"][i]\n",
        "        cls_index = input_ids.index(self.tokenizer.cls_token_id)\n",
        "\n",
        "        sequence_ids = tokenized_examples.sequence_ids(i)\n",
        "\n",
        "        sample_index = sample_mapping[i]\n",
        "        answers = examples[\"answers\"][sample_index]\n",
        "\n",
        "        if len(answers[\"answer_start\"]) == 0:\n",
        "            start_positions.append(cls_index)\n",
        "            end_positions.append(cls_index)\n",
        "        else:\n",
        "\n",
        "            start_char = answers[\"answer_start\"][0]\n",
        "            end_char = start_char + len(answers[\"text\"][0])\n",
        "\n",
        "            token_start_index = 0\n",
        "            while sequence_ids[token_start_index] != (1 if self.pad_on_right else 0):\n",
        "                token_start_index += 1\n",
        "            token_end_index = len(input_ids) - 1\n",
        "            while sequence_ids[token_end_index] != (1 if self.pad_on_right else 0):\n",
        "                token_end_index -= 1\n",
        "\n",
        "            if not (offsets[token_start_index][0] <= start_char and offsets[token_end_index][1] >= end_char):\n",
        "                start_positions.append(cls_index)\n",
        "                end_positions.append(cls_index)\n",
        "            else:\n",
        "                while token_start_index < len(offsets) and offsets[token_start_index][0] <= start_char:\n",
        "                    token_start_index += 1\n",
        "                start_positions.append(token_start_index - 1)\n",
        "                while offsets[token_end_index][1] >= end_char:\n",
        "                    token_end_index -= 1\n",
        "                end_positions.append(token_end_index + 1)\n",
        "\n",
        "    tokenized_examples[\"start_positions\"] = start_positions\n",
        "    tokenized_examples[\"end_positions\"] = end_positions\n",
        "\n",
        "    return tokenized_examples\n",
        "\n",
        "max_length = 384\n",
        "doc_stride = 128\n",
        "proprocessor_obj = Preprocessor(model_checkpoint, max_length, doc_stride)\n",
        "tokenized_datasets = datasets.map(proprocessor_obj.prepare_train_features, batched=True, remove_columns=datasets[\"train\"].column_names)\n",
        "tokenized_datasets"
      ],
      "metadata": {
        "id": "JxFuhyjzqegm"
      },
      "execution_count": null,
      "outputs": []
    },
    {
      "cell_type": "code",
      "source": [
        "class FineTune:\n",
        "  def __init__(self, model_checkpoint) -> None:\n",
        "    self.model_checkpoint = model_checkpoint\n",
        "    self.model = AutoModelForQuestionAnswering.from_pretrained(self.model_checkpoint)\n",
        "    self.setup()\n",
        "    self.trainer = None\n",
        "\n",
        "  def setup(self):\n",
        "    device = torch.device('cuda') if torch.cuda.is_available() else torch.device('cpu')\n",
        "    self.model.to(device)\n",
        "    print(f'Working on {device}')\n",
        "\n",
        "    gc.collect()\n",
        "    torch.cuda.empty_cache()\n",
        "    print(\"GPU Cache removed\")\n",
        "\n",
        "  def trainer_model(self):\n",
        "    model_name = self.model_checkpoint.split(\"/\")[-1]\n",
        "    args = TrainingArguments(\n",
        "        f\"{model_name}-finetuned-webis\",\n",
        "        evaluation_strategy = \"epoch\",\n",
        "        learning_rate=2e-5,\n",
        "        per_device_train_batch_size=batch_size,\n",
        "        per_device_eval_batch_size=batch_size,\n",
        "        num_train_epochs=1,\n",
        "        weight_decay=0.01,\n",
        "        push_to_hub=False,\n",
        "    )\n",
        "\n",
        "    data_collator = default_data_collator\n",
        "    trainer = Trainer(\n",
        "    self.model,\n",
        "    args,\n",
        "    train_dataset=tokenized_datasets[\"train\"],\n",
        "    eval_dataset=tokenized_datasets[\"validation\"],\n",
        "    data_collator=data_collator,\n",
        "    tokenizer=proprocessor_obj.tokenizer,\n",
        "    )\n",
        "    self.trainer = trainer\n",
        "\n",
        "  def get_trainer(self):\n",
        "    return self.trainer\n"
      ],
      "metadata": {
        "id": "UsZm7OpYqkEV"
      },
      "execution_count": null,
      "outputs": []
    },
    {
      "cell_type": "code",
      "source": [
        "fine_tune_obj = FineTune(model_checkpoint)\n",
        "fine_tune_obj.trainer_model()\n",
        "trainer = fine_tune_obj.get_trainer()"
      ],
      "metadata": {
        "id": "0-rHr70aqqVm"
      },
      "execution_count": null,
      "outputs": []
    },
    {
      "cell_type": "code",
      "source": [
        "trainer.train()"
      ],
      "metadata": {
        "id": "Z4FRUNseqsvg"
      },
      "execution_count": null,
      "outputs": []
    },
    {
      "cell_type": "code",
      "source": [
        "trainer.evaluate()"
      ],
      "metadata": {
        "id": "89r6d0l5qvKN"
      },
      "execution_count": null,
      "outputs": []
    },
    {
      "cell_type": "code",
      "source": [
        "test_datasets = DatasetDict()\n",
        "test_datasets[\"test\"] = datasets[\"test\"]"
      ],
      "metadata": {
        "id": "KM5w6lRYqy1o"
      },
      "execution_count": null,
      "outputs": []
    },
    {
      "cell_type": "code",
      "source": [
        "trainer.save_model(\"test-squad-trained\")"
      ],
      "metadata": {
        "id": "OqkbTrEgq5S5"
      },
      "execution_count": null,
      "outputs": []
    },
    {
      "cell_type": "code",
      "source": [
        "\n",
        "class Evaluate:\n",
        "  def __init__(self, proprocessor_obj):\n",
        "    self.tokenizer = proprocessor_obj.tokenizer\n",
        "    self.max_length = proprocessor_obj.max_length\n",
        "    self.doc_stride = proprocessor_obj.doc_stride\n",
        "    self.pad_on_right = self.tokenizer.padding_side == \"right\"\n",
        "\n",
        "\n",
        "  def prepare_validation_features(self, examples):\n",
        "      examples[\"question\"] = [q.lstrip() for q in examples[\"question\"]]\n",
        "\n",
        "      tokenized_examples = proprocessor_obj.tokenizer(\n",
        "          examples[\"question\" if self.pad_on_right else \"context\"],\n",
        "          examples[\"context\" if self.pad_on_right else \"question\"],\n",
        "          truncation=\"only_second\" if self.pad_on_right else \"only_first\",\n",
        "          max_length=max_length,\n",
        "          stride=doc_stride,\n",
        "          return_overflowing_tokens=True,\n",
        "          return_offsets_mapping=True,\n",
        "          padding=\"max_length\",\n",
        "      )\n",
        "\n",
        "      sample_mapping = tokenized_examples.pop(\"overflow_to_sample_mapping\")\n",
        "\n",
        "      tokenized_examples[\"example_id\"] = []\n",
        "\n",
        "      for i in range(len(tokenized_examples[\"input_ids\"])):\n",
        "          sequence_ids = tokenized_examples.sequence_ids(i)\n",
        "          context_index = 1 if self.pad_on_right else 0\n",
        "\n",
        "\n",
        "          sample_index = sample_mapping[i]\n",
        "          tokenized_examples[\"example_id\"].append(examples[\"id\"][sample_index])\n",
        "\n",
        "          tokenized_examples[\"offset_mapping\"][i] = [\n",
        "              (o if sequence_ids[k] == context_index else None)\n",
        "              for k, o in enumerate(tokenized_examples[\"offset_mapping\"][i])\n",
        "          ]\n",
        "\n",
        "      return tokenized_examples\n",
        "  \n",
        "  def prepare_test_features(self, examples):\n",
        "\n",
        "    examples[\"question\"] = [q.lstrip() for q in examples[\"question\"]]\n",
        "\n",
        "    tokenized_examples = self.tokenizer(\n",
        "        examples[\"question\" if self.pad_on_right else \"context\"],\n",
        "        examples[\"context\" if self.pad_on_right else \"question\"],\n",
        "        truncation=\"only_second\" if self.pad_on_right else \"only_first\",\n",
        "        max_length=max_length,\n",
        "        stride=doc_stride,\n",
        "        return_overflowing_tokens=True,\n",
        "        return_offsets_mapping=True,\n",
        "        padding=\"max_length\",\n",
        "    )\n",
        "\n",
        "\n",
        "    sample_mapping = tokenized_examples.pop(\"overflow_to_sample_mapping\")\n",
        "\n",
        "    tokenized_examples[\"example_id\"] = []\n",
        "\n",
        "    for i in range(len(tokenized_examples[\"input_ids\"])):\n",
        "        sequence_ids = tokenized_examples.sequence_ids(i)\n",
        "        context_index = 1 if self.pad_on_right else 0\n",
        "\n",
        "\n",
        "        sample_index = sample_mapping[i]\n",
        "        tokenized_examples[\"example_id\"].append(examples[\"id\"][sample_index])\n",
        "\n",
        "        tokenized_examples[\"offset_mapping\"][i] = [\n",
        "            (o if sequence_ids[k] == context_index else None)\n",
        "            for k, o in enumerate(tokenized_examples[\"offset_mapping\"][i])\n",
        "        ]\n",
        "\n",
        "    return tokenized_examples\n",
        "\n",
        "  def postprocess_qa_predictions(self, examples, features, raw_predictions, n_best_size = 20, max_answer_length = 30):\n",
        "    all_start_logits, all_end_logits = raw_predictions\n",
        "    example_id_to_index = {k: i for i, k in enumerate(examples[\"id\"])}\n",
        "    features_per_example = collections.defaultdict(list)  \n",
        "    for i, feature in enumerate(features):\n",
        "        features_per_example[example_id_to_index[feature[\"example_id\"]]].append(i)\n",
        "    predictions = collections.OrderedDict()\n",
        "\n",
        "    print(f\"Post-processing {len(examples)} example predictions split into {len(features)} features.\")\n",
        "\n",
        "\n",
        "    for example_index, example in enumerate(tqdm(examples)):\n",
        "        feature_indices = features_per_example[example_index]\n",
        "\n",
        "        min_null_score = None \n",
        "        valid_answers = []\n",
        "        \n",
        "        context = example[\"context\"]\n",
        "        for feature_index in feature_indices:\n",
        "            start_logits = all_start_logits[feature_index]\n",
        "            end_logits = all_end_logits[feature_index]\n",
        "            offset_mapping = features[feature_index][\"offset_mapping\"]\n",
        "            cls_index = features[feature_index][\"input_ids\"].index(self.tokenizer.cls_token_id)\n",
        "            feature_null_score = start_logits[cls_index] + end_logits[cls_index]\n",
        "            if min_null_score is None or min_null_score < feature_null_score:\n",
        "                min_null_score = feature_null_score\n",
        "            start_indexes = np.argsort(start_logits)[-1 : -n_best_size - 1 : -1].tolist()\n",
        "            end_indexes = np.argsort(end_logits)[-1 : -n_best_size - 1 : -1].tolist()\n",
        "            for start_index in start_indexes:\n",
        "                for end_index in end_indexes:\n",
        "\n",
        "                    if (\n",
        "                        start_index >= len(offset_mapping)\n",
        "                        or end_index >= len(offset_mapping)\n",
        "                        or offset_mapping[start_index] is None\n",
        "                        or offset_mapping[end_index] is None\n",
        "                    ):\n",
        "                        continue\n",
        "                    if end_index < start_index or end_index - start_index + 1 > max_answer_length:\n",
        "                        continue\n",
        "\n",
        "                    start_char = offset_mapping[start_index][0]\n",
        "                    end_char = offset_mapping[end_index][1]\n",
        "                    valid_answers.append(\n",
        "                        {\n",
        "                            \"score\": start_logits[start_index] + end_logits[end_index],\n",
        "                            \"text\": context[start_char: end_char]\n",
        "                        }\n",
        "                    )\n",
        "        \n",
        "        if len(valid_answers) > 0:\n",
        "            best_answer = sorted(valid_answers, key=lambda x: x[\"score\"], reverse=True)[0]\n",
        "        else:\n",
        "            best_answer = {\"text\": \"\", \"score\": 0.0}\n",
        "\n",
        "        predictions[example[\"id\"]] = best_answer[\"text\"]\n",
        "\n",
        "    return predictions\n",
        "\n",
        "\n",
        "\n",
        "evaluate_obj = Evaluate(proprocessor_obj)"
      ],
      "metadata": {
        "id": "za03oBdqq7yH"
      },
      "execution_count": null,
      "outputs": []
    },
    {
      "cell_type": "code",
      "source": [
        "validation_features = datasets[\"validation\"].map(\n",
        "    evaluate_obj.prepare_validation_features,\n",
        "    batched=True,\n",
        "    remove_columns=datasets[\"validation\"].column_names\n",
        ")\n",
        "raw_predictions = trainer.predict(validation_features)\n",
        "validation_features.set_format(type=validation_features.format[\"type\"], columns=list(validation_features.features.keys()))"
      ],
      "metadata": {
        "id": "YupHIpltrDTz"
      },
      "execution_count": null,
      "outputs": []
    },
    {
      "cell_type": "code",
      "source": [
        "test_features = datasets[\"test\"].map(\n",
        "    evaluate_obj.prepare_test_features,\n",
        "    batched=True,\n",
        "    remove_columns=datasets[\"test\"].column_names\n",
        ")\n",
        "raw_predictions = trainer.predict(test_features)\n",
        "test_features.set_format(type=test_features.format[\"type\"], columns=list(test_features.features.keys()))"
      ],
      "metadata": {
        "id": "fwlNqfFIrI43"
      },
      "execution_count": null,
      "outputs": []
    },
    {
      "cell_type": "code",
      "source": [
        "final_predictions = evaluate_obj.postprocess_qa_predictions(test_datasets[\"test\"], test_features, raw_predictions.predictions)"
      ],
      "metadata": {
        "id": "lX8ErNXSrLPW"
      },
      "execution_count": null,
      "outputs": []
    },
    {
      "cell_type": "code",
      "source": [
        "metric = load_metric(\"squad\")"
      ],
      "metadata": {
        "id": "MHLAy2mUrOfb"
      },
      "execution_count": null,
      "outputs": []
    },
    {
      "cell_type": "code",
      "source": [
        "formatted_predictions = [{\"id\": k, \"prediction_text\": v} for k, v in final_predictions.items()]\n",
        "references = [{\"id\": ex[\"id\"], \"answers\": ex[\"answers\"]} for ex in test_datasets[\"test\"]]\n",
        "metric.compute(predictions=formatted_predictions, references=references)"
      ],
      "metadata": {
        "id": "ahV-4w7ArRwS"
      },
      "execution_count": null,
      "outputs": []
    },
    {
      "cell_type": "code",
      "source": [
        "from bert_score import score\n",
        "from evaluate import load\n",
        "bertscore = load(\"bertscore\")\n",
        "\n",
        "class EvaluationMetric:\n",
        "\n",
        "  def __init__(self):\n",
        "    self.bleu = evaluate.load('bleu')\n",
        "    self.meteor = evaluate.load('meteor')\n",
        "    self.bertscore = load(\"bertscore\")\n",
        "\n",
        "  def return_target_paragraph(self, id, prediction_text):\n",
        "    test_df = pd.read_json(\"validation.jsonl\", lines = True)\n",
        "    test_df[\"tags\"] = test_df[\"tags\"].apply(self.list_to_string)\n",
        "    test_df = test_df[test_df[\"tags\"] == 1]\n",
        "    target_paragraphs = self.test_target_paragraphs(test_df)\n",
        "\n",
        "    for each in target_paragraphs:\n",
        "      if each[0] == id:\n",
        "        for sentence in each[1]:\n",
        "          if prediction_text in sentence:\n",
        "            return sentence\n",
        "\n",
        "    return prediction_text \n",
        "\n",
        "  def test_target_paragraphs(self, data):\n",
        "    target_paragraphs = []\n",
        "\n",
        "    for row in data.values.tolist():\n",
        "      target_paragraphs.append((row[0],row[3]))\n",
        "    \n",
        "    return target_paragraphs\n",
        "\n",
        "  def list_to_string(self, spoiler_type):\n",
        "    if spoiler_type[0] == \"phrase\":\n",
        "      return 0\n",
        "    elif spoiler_type[0] == \"passage\":\n",
        "      return 1\n",
        "    elif spoiler_type[0] == \"multi\":\n",
        "      return 2\n",
        "\n",
        "  def get_bleu_score(self, formatted_predictions, references):\n",
        "    results = 0\n",
        "    count = 0\n",
        "    predictions_test = []\n",
        "    references_test = []\n",
        "\n",
        "    for each in formatted_predictions:\n",
        "      count += 1\n",
        "      for ref in references:\n",
        "\n",
        "        if each[\"id\"] == ref[\"id\"]:\n",
        "          post_prediction = self.return_target_paragraph(each[\"id\"],each[\"prediction_text\"].strip())\n",
        "\n",
        "          predictions_test.append(post_prediction)\n",
        "          references_test.append([ref[\"answers\"][\"text\"][0].strip()])\n",
        "\n",
        "    for i in range(10):\n",
        "      print(\"Prediction comparision: \", i)\n",
        "      print(\"Model prediction --> \", predictions_test[i])\n",
        "      print(\"Reference --> \", references_test[i])\n",
        "      print('\\n')\n",
        "\n",
        "    result = self.bleu.compute(predictions = predictions_test, references = references_test).get(\"bleu\")\n",
        "\n",
        "    # bleu_score = results/count\n",
        "    # return bleu_score\n",
        "    return result\n",
        "\n",
        "  def get_meteor_score(self, formatted_predictions, references):\n",
        "    results = 0\n",
        "    count = 0\n",
        "    predictions_test = []\n",
        "    references_test = []\n",
        "\n",
        "    for each in formatted_predictions:\n",
        "      count += 1\n",
        "      for ref in references:\n",
        "\n",
        "        if each[\"id\"] == ref[\"id\"]:\n",
        "          post_prediction = self.return_target_paragraph(each[\"id\"],each[\"prediction_text\"].strip())\n",
        "          predictions_test.append(post_prediction)\n",
        "\n",
        "          # predictions_test.append(each[\"prediction_text\"].strip())\n",
        "          references_test.append(ref[\"answers\"][\"text\"][0].strip())\n",
        "    \n",
        "    result = self.meteor.compute(predictions = predictions_test, references = references_test).get(\"meteor\")\n",
        "\n",
        "    # meteor_score = results/count\n",
        "    # return meteor_score\n",
        "    return result\n",
        "  \n",
        "  def get_bert_score(self, formatted_predictions, references):\n",
        "    results = 0\n",
        "    total_precision = 0\n",
        "    total_recall = 0\n",
        "    total_f1 = 0\n",
        "    predictions_test = []\n",
        "    references_test = []\n",
        "\n",
        "    count = 0\n",
        "\n",
        "    for each in formatted_predictions:\n",
        "      count += 1\n",
        "      for ref in references:\n",
        "\n",
        "        if each[\"id\"] == ref[\"id\"]:\n",
        "          post_prediction = self.return_target_paragraph(each[\"id\"],each[\"prediction_text\"].strip())\n",
        "          predictions_test.append(post_prediction)\n",
        "\n",
        "          # predictions_test.append(each[\"prediction_text\"].strip())\n",
        "          references_test.append(ref[\"answers\"][\"text\"][0].strip())\n",
        "    \n",
        "    results = bertscore.compute(predictions=predictions_test, references=references_test, lang = \"en\")\n",
        "\n",
        "    # total_precision += results.get(\"precision\")[0]\n",
        "    # total_recall += results.get(\"recall\")[0]\n",
        "    # total_f1 += results.get(\"f1\")[0]\n",
        "\n",
        "    # avg_precision = total_precision/count\n",
        "    # avg_recall = total_recall/count\n",
        "    # avg_f1 = total_f1/count\n",
        "\n",
        "    # return avg_precision, avg_recall, avg_f1\n",
        "    return results\n",
        "    "
      ],
      "metadata": {
        "id": "WKMmOt3YrUD7"
      },
      "execution_count": null,
      "outputs": []
    },
    {
      "cell_type": "code",
      "execution_count": null,
      "metadata": {
        "colab": {
          "base_uri": "https://localhost:8080/",
          "height": 1000,
          "referenced_widgets": [
            "d453daf3caec4cc18b7eb543da6365f3",
            "2a5b0d6027444cdeb17d706f1a492df8",
            "9474a6bd263e4a15893d10b3045355be",
            "7e5bc86cd14c4147990af2900e2890dd",
            "c56f9f834cf64b079a0a9078025ae117",
            "411164d79bb5435ca7410fefef694d01",
            "b8a42ccc1ade49f5aee42ade195803fb",
            "0ac7d3651aeb4a1894e2faec2d06440b",
            "f5f8b4d724494f8f87e700a758c66e1d",
            "ff8e6a68ddc24447b007ac81ae66c751",
            "140d0aba1e2b4f528e58672ebbe193fc",
            "07a43801fb014a93b505abe46cd29e56",
            "c590b64df460453492c7cd7145f53572",
            "6a9fe76ac7cc467194aacbb973f8e878",
            "a81e4564c1064ac1ae3853583a351bb7",
            "807b199e47814bbb90bdb244136a1581",
            "64b01e3346a3446cb507c0f344734dc0",
            "6645f0e3cb9147cb98d619c92f5fa9e0",
            "519391160f72468585cd50b79eadbeae",
            "48d270c4ba6446dbbf72f4cf679d135d",
            "d9988ce6ed1b46348edcb87a1277a629",
            "bb21f14b2b0e4e84ab34147b55747df1",
            "f021ca8585594c1fb67854d8f1050f06",
            "b2d4f38bd1774a9f802ad797aa6ded36",
            "dcc2feb4e60c4240ae48a711e5257e8c",
            "404deb87b75f4c9bb339f6e71e4e7008",
            "41d19fc09201477d87489d859f82e5c1",
            "308c9c67b4a944c7a12b356955de80b3",
            "8e41aeab834b42538139b8857d4abb84",
            "d934272d85004988b37b03435a7158b3",
            "30d6b6ce0c6a488e978d3f60fd9a0ab5",
            "71fb585c2b6b4ed2a7953b2963832be8",
            "61e2f95bd65b4571982bfa724d67f2c2",
            "473d85a49c284d66bf3d0e9dcd7c8700",
            "202a0b4428e04f03ab5ba3dfe0a1ff70",
            "108a3a90c38e4abdb9793e5f03b4f590",
            "1daf55cbf41648c8992f45942cdf4687",
            "b16ced7ca464424fae9206e4c87afd68",
            "25ba5da5a6be43bdb1f1cce1224c2a08",
            "a6458cc079a344e6aa0a5b77603352f5",
            "604bed4b2d0e4e1a9bb51aa07cf59089",
            "27cbaf3f4e504440b1b635f40330239c",
            "d06d07ce41f0440b8e0d82e6ef46f244",
            "15a69d0cf1ff451da1380dc90eb24246",
            "e8ce8a9b6b7447ceae7d50c6fe614cd5",
            "568efc361950442493b040e4affe2486",
            "5aec1cf08a294ecc9cc8f8c73b0a1da8",
            "498d5665cb14459ab5ebb49afbba4c6e",
            "28031188631b4406b316eaec45e0a60e",
            "d81e4f1ed3b348d2b94f5058d460c9be",
            "84c507499e9d4f889744d5f93b560f92",
            "61fb0c5b66c84e268371b76b985d4e67",
            "5150f33307d54d9fa5419a00c4f92366",
            "f20976077f094f9bbdfe94c98b94e632",
            "bcbfa9c036494d17bdf62819bfa6ed84",
            "dbcae8427adc4ccda02816f4ce178f94",
            "1c871d6d4a9741c0bed80d2e26dbdb7a",
            "8a1bb050eb4241a6ba6a2709d762b173",
            "d3598622ec8e499fae7e05681ac8764a",
            "69833c988884425d8f2cd580e8f3e8ad",
            "16a04590c7c3415f9c74f1c3ebd4a393",
            "fd18e4ed0cf341158452f422f1583ddd",
            "522a87c6e4a248a39e46335a5639f746",
            "95cc31842674479a9e6d3bfafe54d2be",
            "af68ed29b28d45fcbe58e92b367239da",
            "5405b9d6fa9c4b1aac3ac673e40d46d6",
            "9d196bf8b5b74420b71349f5b65283a5",
            "6b35ccae573e4e338c1b228f27c5c814",
            "3448690016724ffbbe8bf5e5fdfd951f",
            "0c52a2a55aa44c8792c88a7e312197f0",
            "7f9f78e6576a4be08b7863a2b2e823a0",
            "43f1d4cf364940d79178b4aaace520cf",
            "e8325579c42b4fa7ab7de86033866187",
            "838b1419ec3b47d99d103aebbeee1455",
            "e617ef63702749fdb8517ef7f46ba349",
            "15f82bbb2d1e4cf3ba9b47466f24c8b9",
            "87f741a7566b4ae98df3c2639b52be5a",
            "1d33089600b641afa9727ebf76a2d745",
            "eb82555da4c044e38ee0c1d8c1b9ed82",
            "b285a70d54e74360bc1c636ff5a76190",
            "51c28f07f0704d6ca05b7d67712bda7a",
            "0291a8bbe3fd4568969164dccbd57f11",
            "295d065b67cd4422a0b14695bb20063d",
            "7756334b28494db7a2d5ea92f3178955",
            "aa290e39926f4691a3efb54587170847",
            "9822a204eed04d9498805fa86d3e690a",
            "e3175003976943d1a48f90eb7f7d7513",
            "05027e14858a497d86b41348cf1bdd39"
          ]
        },
        "outputId": "0e939d93-25c8-4c5c-8468-1753a1cf8463",
        "id": "uAYr5K6sQ_ep"
      },
      "outputs": [
        {
          "output_type": "display_data",
          "data": {
            "text/plain": [
              "Downloading builder script:   0%|          | 0.00/5.94k [00:00<?, ?B/s]"
            ],
            "application/vnd.jupyter.widget-view+json": {
              "version_major": 2,
              "version_minor": 0,
              "model_id": "d453daf3caec4cc18b7eb543da6365f3"
            }
          },
          "metadata": {}
        },
        {
          "output_type": "display_data",
          "data": {
            "text/plain": [
              "Downloading extra modules:   0%|          | 0.00/1.55k [00:00<?, ?B/s]"
            ],
            "application/vnd.jupyter.widget-view+json": {
              "version_major": 2,
              "version_minor": 0,
              "model_id": "07a43801fb014a93b505abe46cd29e56"
            }
          },
          "metadata": {}
        },
        {
          "output_type": "display_data",
          "data": {
            "text/plain": [
              "Downloading extra modules:   0%|          | 0.00/3.34k [00:00<?, ?B/s]"
            ],
            "application/vnd.jupyter.widget-view+json": {
              "version_major": 2,
              "version_minor": 0,
              "model_id": "f021ca8585594c1fb67854d8f1050f06"
            }
          },
          "metadata": {}
        },
        {
          "output_type": "display_data",
          "data": {
            "text/plain": [
              "Downloading builder script:   0%|          | 0.00/6.81k [00:00<?, ?B/s]"
            ],
            "application/vnd.jupyter.widget-view+json": {
              "version_major": 2,
              "version_minor": 0,
              "model_id": "473d85a49c284d66bf3d0e9dcd7c8700"
            }
          },
          "metadata": {}
        },
        {
          "output_type": "stream",
          "name": "stderr",
          "text": [
            "[nltk_data] Downloading package wordnet to /root/nltk_data...\n",
            "[nltk_data] Downloading package punkt to /root/nltk_data...\n",
            "[nltk_data]   Unzipping tokenizers/punkt.zip.\n",
            "[nltk_data] Downloading package omw-1.4 to /root/nltk_data...\n"
          ]
        },
        {
          "output_type": "stream",
          "name": "stdout",
          "text": [
            "Prediction comparision:  0\n",
            "Model prediction -->  too dark\n",
            "Reference -->  ['some of the plot elements are so disturbing that they are making him feel sick']\n",
            "\n",
            "\n",
            "Prediction comparision:  1\n",
            "Model prediction -->  intentionally\n",
            "Reference -->  ['\"intentionally\"']\n",
            "\n",
            "\n",
            "Prediction comparision:  2\n",
            "Model prediction -->  pooped it into a strainer\n",
            "Reference -->  ['a man who swallowed a 64GB microSD card and then pooped it into a strainer']\n",
            "\n",
            "\n",
            "Prediction comparision:  3\n",
            "Model prediction -->  too young\n",
            "Reference -->  ['McGonagall was appointed as Dumbledore’s assistant in 1956, not as his replacement.']\n",
            "\n",
            "\n",
            "Prediction comparision:  4\n",
            "Model prediction -->  Andy Cohen\n",
            "Reference -->  ['\"I had fake relationships, fake fights. I don\\'t care anymore, I can tell you.']\n",
            "\n",
            "\n",
            "Prediction comparision:  5\n",
            "Model prediction -->  he'd eaten a peanut butter sandwich and wasn't aware of her peanut allergy\n",
            "Reference -->  [\"he'd eaten a peanut butter sandwich and wasn't aware of her peanut allergy\"]\n",
            "\n",
            "\n",
            "Prediction comparision:  6\n",
            "Model prediction -->  Dibrom\n",
            "Reference -->  ['Dibrom']\n",
            "\n",
            "\n",
            "Prediction comparision:  7\n",
            "Model prediction -->  rarely or never\n",
            "Reference -->  ['They don’t fart']\n",
            "\n",
            "\n",
            "Prediction comparision:  8\n",
            "Model prediction -->  kicked her\n",
            "Reference -->  ['kicked her and got into a fight with her current boyfriend']\n",
            "\n",
            "\n",
            "Prediction comparision:  9\n",
            "Model prediction -->  Franklin Police Department\n",
            "Reference -->  ['Dunham picked the boy up and took him to a Subway to get something to eat. He then took him to the Franklin Police Department.']\n",
            "\n",
            "\n"
          ]
        },
        {
          "output_type": "display_data",
          "data": {
            "text/plain": [
              "Downloading (…)lve/main/config.json:   0%|          | 0.00/482 [00:00<?, ?B/s]"
            ],
            "application/vnd.jupyter.widget-view+json": {
              "version_major": 2,
              "version_minor": 0,
              "model_id": "e8ce8a9b6b7447ceae7d50c6fe614cd5"
            }
          },
          "metadata": {}
        },
        {
          "output_type": "display_data",
          "data": {
            "text/plain": [
              "Downloading (…)olve/main/vocab.json:   0%|          | 0.00/899k [00:00<?, ?B/s]"
            ],
            "application/vnd.jupyter.widget-view+json": {
              "version_major": 2,
              "version_minor": 0,
              "model_id": "dbcae8427adc4ccda02816f4ce178f94"
            }
          },
          "metadata": {}
        },
        {
          "output_type": "display_data",
          "data": {
            "text/plain": [
              "Downloading (…)olve/main/merges.txt:   0%|          | 0.00/456k [00:00<?, ?B/s]"
            ],
            "application/vnd.jupyter.widget-view+json": {
              "version_major": 2,
              "version_minor": 0,
              "model_id": "9d196bf8b5b74420b71349f5b65283a5"
            }
          },
          "metadata": {}
        },
        {
          "output_type": "display_data",
          "data": {
            "text/plain": [
              "Downloading pytorch_model.bin:   0%|          | 0.00/1.43G [00:00<?, ?B/s]"
            ],
            "application/vnd.jupyter.widget-view+json": {
              "version_major": 2,
              "version_minor": 0,
              "model_id": "1d33089600b641afa9727ebf76a2d745"
            }
          },
          "metadata": {}
        },
        {
          "output_type": "stream",
          "name": "stdout",
          "text": [
            "BLEU Score:  0.05404336050610074\n",
            "METEOR Score:  0.26073796197800525\n",
            "BERT Score:  0.8685061592396682\n"
          ]
        }
      ],
      "source": [
        "from statistics import mean\n",
        "\n",
        "evaluation_metric_obj = EvaluationMetric()\n",
        "bleu_score = evaluation_metric_obj.get_bleu_score(formatted_predictions, references)\n",
        "meteor_score = evaluation_metric_obj.get_meteor_score(formatted_predictions, references)\n",
        "bert_score = evaluation_metric_obj.get_bert_score(formatted_predictions, references)\n",
        "\n",
        "print(\"BLEU Score: \", bleu_score)\n",
        "print(\"METEOR Score: \", meteor_score)\n",
        "print(\"BERT Score: \", mean(bert_score.get(\"f1\")))"
      ]
    },
    {
      "cell_type": "markdown",
      "source": [
        "# Summarization"
      ],
      "metadata": {
        "id": "g_CepvWhbUYt"
      }
    },
    {
      "cell_type": "code",
      "source": [
        "# !pip3 install datasets\n",
        "# !pip3 install pytorch-lightning==1.2.7\n",
        "# !pip3 install torchtext==0.6 torch"
      ],
      "metadata": {
        "id": "597rK-E7bfdC"
      },
      "execution_count": null,
      "outputs": []
    },
    {
      "cell_type": "code",
      "source": [
        "from transformers import (\n",
        "    AdamW,\n",
        "    T5ForConditionalGeneration,\n",
        "    T5TokenizerFast as T5Tokenizer\n",
        ")\n",
        "\n",
        "from tqdm.auto import tqdm\n",
        "\n",
        "from pylab import rcParams\n",
        "import matplotlib.pyplot as plt\n",
        "from matplotlib import rc\n",
        "import seaborn as sns\n",
        "from torch.utils.data import  Dataset,DataLoader\n",
        "import pytorch_lightning as pl\n",
        "import torch\n",
        "import gc\n",
        "import pandas as pd\n",
        "import numpy as np\n",
        "from datasets import load_dataset, load_metric\n",
        "\n",
        "%matplotlib inline\n",
        "%config InlineBackend.figure_format='retina'\n",
        "sns.set(style=\"whitegrid\", palette='muted', font_scale = 1.2)\n",
        "rcParams['figure.figsize'] = 16,10"
      ],
      "metadata": {
        "id": "S1EsAt6nb30z"
      },
      "execution_count": 4,
      "outputs": []
    },
    {
      "cell_type": "code",
      "source": [
        "MODEL_NAME = \"t5-base\"\n",
        "\n",
        "tokenizer = T5Tokenizer.from_pretrained(MODEL_NAME)"
      ],
      "metadata": {
        "id": "-JwpCOqZb7Qy",
        "colab": {
          "base_uri": "https://localhost:8080/",
          "height": 240,
          "referenced_widgets": [
            "b98cc2053e264cfebe9a366526a06602",
            "770ec17b1eb2475e84bb3fefe3e9fa80",
            "9c4f3ce0e15a46079cff57a87ff9af11",
            "56205266a9c64e16a97ebb13f62d2874",
            "12b08f34e5dd4d93a7a2547a15e92077",
            "455ffa09948b4aafae6443adee266893",
            "c3cbafdb12064435861481243520308b",
            "a4b25b5986944a12904c2daa2e38b5c8",
            "89b0a85e3cfd4573bc3f071315a739e2",
            "2830eb63999a48cbb9fa82afcf9e3da2",
            "d526f7b525f34e16aeeb056ee987e1d9",
            "93a4753c51f44a208cb2e96822dc705c",
            "2bbdbb81768546919a4fe476f804b3b9",
            "98e34b98b4a64b2aa545ba312b9471b0",
            "f044b4b398834acca25829c2d2ba7ad9",
            "941f2abdc08f4630a4110e8668ea37c7",
            "1e5f2524cd8841c086205dd4ad60099e",
            "6abff637d8754276aca30a5843237be4",
            "64e7d5d2d66642ebb2279140a0f0b2c7",
            "d9008cdcf9f5433da58fd2aeeda94b65",
            "0d0ae390c81b47268c09988e64084a56",
            "c38870ce9a8b409cbe3563214fdf44cc",
            "c219640a47f2453cbea06f0e77b7bfad",
            "5e99a8dc5a174716b6bc9c507db074c9",
            "1f5b242dcf0e4be68b263ef41c9b5925",
            "1f0249923443485ea45e83e54775b0ae",
            "4cf71e8338b34c5882cfbc9354719c9c",
            "3fa67d951c074a18b3ce213dec3163b7",
            "65aa6d5f52644bfc896922c84534c221",
            "7db8422139be405ca7ee7611b83ac3cf",
            "7281db4a31ad4ae794b6c66918ecfad7",
            "96cc1cef3941494982ef507927cf95eb",
            "fb23ac5886654d5dafb4afaff8d19c77"
          ]
        },
        "outputId": "73facbf0-b3b6-4b66-f642-550a2af31557"
      },
      "execution_count": 5,
      "outputs": [
        {
          "output_type": "display_data",
          "data": {
            "text/plain": [
              "Downloading (…)ve/main/spiece.model:   0%|          | 0.00/792k [00:00<?, ?B/s]"
            ],
            "application/vnd.jupyter.widget-view+json": {
              "version_major": 2,
              "version_minor": 0,
              "model_id": "b98cc2053e264cfebe9a366526a06602"
            }
          },
          "metadata": {}
        },
        {
          "output_type": "display_data",
          "data": {
            "text/plain": [
              "Downloading (…)/main/tokenizer.json:   0%|          | 0.00/1.39M [00:00<?, ?B/s]"
            ],
            "application/vnd.jupyter.widget-view+json": {
              "version_major": 2,
              "version_minor": 0,
              "model_id": "93a4753c51f44a208cb2e96822dc705c"
            }
          },
          "metadata": {}
        },
        {
          "output_type": "display_data",
          "data": {
            "text/plain": [
              "Downloading (…)lve/main/config.json:   0%|          | 0.00/1.21k [00:00<?, ?B/s]"
            ],
            "application/vnd.jupyter.widget-view+json": {
              "version_major": 2,
              "version_minor": 0,
              "model_id": "c219640a47f2453cbea06f0e77b7bfad"
            }
          },
          "metadata": {}
        },
        {
          "output_type": "stream",
          "name": "stderr",
          "text": [
            "/usr/local/lib/python3.10/dist-packages/transformers/models/t5/tokenization_t5_fast.py:155: FutureWarning: This tokenizer was incorrectly instantiated with a model max length of 512 which will be corrected in Transformers v5.\n",
            "For now, this behavior is kept to avoid breaking backwards compatibility when padding/encoding with `truncation is True`.\n",
            "- Be aware that you SHOULD NOT rely on t5-base automatically truncating your input to 512 when padding/encoding.\n",
            "- If you want to encode/pad to sequences longer than 512 you can either instantiate this tokenizer with `model_max_length` or pass `max_length` when encoding/padding.\n",
            "- To avoid this warning, please instantiate this tokenizer with `model_max_length` set to your preferred value.\n",
            "  warnings.warn(\n"
          ]
        }
      ]
    },
    {
      "cell_type": "code",
      "source": [
        "train_df = pd.read_json(\"train.jsonl\", lines = True)\n",
        "# test_df = pd.read_json(\"validation.jsonl\", lines = True)\n",
        "test_df = pd.read_json(\"validation.jsonl\", lines = True)\n",
        "dummy_ref_df = pd.read_csv(\"multipart_classified_data.csv\")\n",
        "ref_df_uuid = dummy_ref_df['uuid'].tolist()\n",
        "test_df = test_df[test_df['uuid'].isin(ref_df_uuid)]"
      ],
      "metadata": {
        "id": "Us2ap3B9b9uj"
      },
      "execution_count": 7,
      "outputs": []
    },
    {
      "cell_type": "code",
      "source": [
        "def list_to_string(spoiler_type):\n",
        "  if spoiler_type[0] == \"phrase\":\n",
        "    return 0\n",
        "  elif spoiler_type[0] == \"passage\":\n",
        "    return 1\n",
        "  elif spoiler_type[0] == \"multi\":\n",
        "    return 2"
      ],
      "metadata": {
        "id": "OHvRKxnUhOjV"
      },
      "execution_count": 8,
      "outputs": []
    },
    {
      "cell_type": "code",
      "source": [
        "train_df[\"tags\"] = train_df[\"tags\"].apply(list_to_string)\n",
        "test_df[\"tags\"] = test_df[\"tags\"].apply(list_to_string)"
      ],
      "metadata": {
        "id": "cILjCEFLhSYZ"
      },
      "execution_count": 9,
      "outputs": []
    },
    {
      "cell_type": "code",
      "source": [
        "train_df = train_df[train_df['tags']==2]\n",
        "test_df = test_df[test_df['tags']==2]"
      ],
      "metadata": {
        "id": "H7ixMFg6hTM-"
      },
      "execution_count": 10,
      "outputs": []
    },
    {
      "cell_type": "code",
      "source": [
        "def preprocess_data(data):\n",
        "\n",
        "  no_of_rows = data.shape[0]\n",
        "  formatted_data = []\n",
        "  for index in range(no_of_rows):\n",
        "    complete_description = \" \".join(data.iloc[index].to_dict()[\"targetParagraphs\"])\n",
        "    row = {}\n",
        "    row[\"id\"] = data.iloc[index].to_dict()[\"uuid\"]\n",
        "    row[\"context\"] = complete_description,\n",
        "    row[\"question\"] = data.iloc[index].to_dict()[\"postText\"][0],\n",
        "    row[\"answers\"] = {\n",
        "        \"text\": data.iloc[index].to_dict()[\"spoiler\"],\n",
        "        \"answer_start\": [complete_description.find(data.iloc[index].to_dict()[\"spoiler\"][0])]\n",
        "    }\n",
        "    formatted_data.append(row)\n",
        "  \n",
        "  return formatted_data"
      ],
      "metadata": {
        "id": "NV0XK6rLhVAW"
      },
      "execution_count": 11,
      "outputs": []
    },
    {
      "cell_type": "code",
      "source": [
        "train_df = preprocess_data(train_df)\n",
        "test_df = preprocess_data(test_df)"
      ],
      "metadata": {
        "id": "Jdg62X-Wheof"
      },
      "execution_count": 12,
      "outputs": []
    },
    {
      "cell_type": "code",
      "source": [
        "train_df= pd.DataFrame(train_df)\n",
        "test_df = pd.DataFrame(test_df)"
      ],
      "metadata": {
        "id": "IfaGRt6YhiZH"
      },
      "execution_count": 13,
      "outputs": []
    },
    {
      "cell_type": "code",
      "source": [
        "def return_text(text):\n",
        "  return text[0]"
      ],
      "metadata": {
        "id": "BjvXsbAfhjDq"
      },
      "execution_count": 14,
      "outputs": []
    },
    {
      "cell_type": "code",
      "source": [
        "train_df[\"context\"] = train_df[\"context\"].apply(return_text)\n",
        "test_df[\"context\"] = test_df[\"context\"].apply(return_text)"
      ],
      "metadata": {
        "id": "EYQxEgkXhlXx"
      },
      "execution_count": 15,
      "outputs": []
    },
    {
      "cell_type": "code",
      "source": [
        "train_df[\"question\"] = train_df[\"question\"].apply(return_text)\n",
        "test_df[\"question\"] = test_df[\"question\"].apply(return_text)"
      ],
      "metadata": {
        "id": "rSNsxW61ho5g"
      },
      "execution_count": 16,
      "outputs": []
    },
    {
      "cell_type": "code",
      "source": [
        "train_df.head()"
      ],
      "metadata": {
        "id": "N-CwhZDsht2u",
        "colab": {
          "base_uri": "https://localhost:8080/",
          "height": 250
        },
        "outputId": "431f76ad-080d-41c4-fd4f-867234884c71"
      },
      "execution_count": 17,
      "outputs": [
        {
          "output_type": "execute_result",
          "data": {
            "text/plain": [
              "                                     id  \\\n",
              "0  31ecf93c-3e21-4c80-949b-aa549a046b93   \n",
              "1  e26fa6ed-e364-4666-af8e-20fbada53839   \n",
              "2  0d1dc4bd-2dac-4989-9c75-4264212dee9e   \n",
              "3  dcc19cfd-baed-4899-9c6a-bf223b88a9b9   \n",
              "4  624f966c-b819-42c3-8db0-92f888874ddf   \n",
              "\n",
              "                                             context  \\\n",
              "0  It’s common wisdom. Near gospel really, and no...   \n",
              "1  We tried 29 different kinds of hot sauce to fi...   \n",
              "2  Authorities have uncovered human remains durin...   \n",
              "3  When asked to describe the current state of Ca...   \n",
              "4  By Jeff Russell, B. Comm., MA Published : Sept...   \n",
              "\n",
              "                                            question  \\\n",
              "0  Passion is overrated — 7 work habits you need ...   \n",
              "1  Hot Sauce Taste Test: Find out which we named ...   \n",
              "2  Human remains found in the search for missing ...   \n",
              "3  Six lessons from the godfather of California c...   \n",
              "4  The Fastest Growing Economy in the World! Numb...   \n",
              "\n",
              "                                             answers  \n",
              "0  {'text': ['Purpose connects us to something bi...  \n",
              "1  {'text': ['Sriracha Hot Chili Sauce', 'Frank's...  \n",
              "2  {'text': ['Southampton County', 'Anjelica 'AJ'...  \n",
              "3  {'text': ['Daniel Patterson', '1) Eat your veg...  \n",
              "4  {'text': ['1. India', '2. Bangladesh', '3. Chi...  "
            ],
            "text/html": [
              "\n",
              "  <div id=\"df-0596704f-56f9-4924-b1c8-143f32d34688\">\n",
              "    <div class=\"colab-df-container\">\n",
              "      <div>\n",
              "<style scoped>\n",
              "    .dataframe tbody tr th:only-of-type {\n",
              "        vertical-align: middle;\n",
              "    }\n",
              "\n",
              "    .dataframe tbody tr th {\n",
              "        vertical-align: top;\n",
              "    }\n",
              "\n",
              "    .dataframe thead th {\n",
              "        text-align: right;\n",
              "    }\n",
              "</style>\n",
              "<table border=\"1\" class=\"dataframe\">\n",
              "  <thead>\n",
              "    <tr style=\"text-align: right;\">\n",
              "      <th></th>\n",
              "      <th>id</th>\n",
              "      <th>context</th>\n",
              "      <th>question</th>\n",
              "      <th>answers</th>\n",
              "    </tr>\n",
              "  </thead>\n",
              "  <tbody>\n",
              "    <tr>\n",
              "      <th>0</th>\n",
              "      <td>31ecf93c-3e21-4c80-949b-aa549a046b93</td>\n",
              "      <td>It’s common wisdom. Near gospel really, and no...</td>\n",
              "      <td>Passion is overrated — 7 work habits you need ...</td>\n",
              "      <td>{'text': ['Purpose connects us to something bi...</td>\n",
              "    </tr>\n",
              "    <tr>\n",
              "      <th>1</th>\n",
              "      <td>e26fa6ed-e364-4666-af8e-20fbada53839</td>\n",
              "      <td>We tried 29 different kinds of hot sauce to fi...</td>\n",
              "      <td>Hot Sauce Taste Test: Find out which we named ...</td>\n",
              "      <td>{'text': ['Sriracha Hot Chili Sauce', 'Frank's...</td>\n",
              "    </tr>\n",
              "    <tr>\n",
              "      <th>2</th>\n",
              "      <td>0d1dc4bd-2dac-4989-9c75-4264212dee9e</td>\n",
              "      <td>Authorities have uncovered human remains durin...</td>\n",
              "      <td>Human remains found in the search for missing ...</td>\n",
              "      <td>{'text': ['Southampton County', 'Anjelica 'AJ'...</td>\n",
              "    </tr>\n",
              "    <tr>\n",
              "      <th>3</th>\n",
              "      <td>dcc19cfd-baed-4899-9c6a-bf223b88a9b9</td>\n",
              "      <td>When asked to describe the current state of Ca...</td>\n",
              "      <td>Six lessons from the godfather of California c...</td>\n",
              "      <td>{'text': ['Daniel Patterson', '1) Eat your veg...</td>\n",
              "    </tr>\n",
              "    <tr>\n",
              "      <th>4</th>\n",
              "      <td>624f966c-b819-42c3-8db0-92f888874ddf</td>\n",
              "      <td>By Jeff Russell, B. Comm., MA Published : Sept...</td>\n",
              "      <td>The Fastest Growing Economy in the World! Numb...</td>\n",
              "      <td>{'text': ['1. India', '2. Bangladesh', '3. Chi...</td>\n",
              "    </tr>\n",
              "  </tbody>\n",
              "</table>\n",
              "</div>\n",
              "      <button class=\"colab-df-convert\" onclick=\"convertToInteractive('df-0596704f-56f9-4924-b1c8-143f32d34688')\"\n",
              "              title=\"Convert this dataframe to an interactive table.\"\n",
              "              style=\"display:none;\">\n",
              "        \n",
              "  <svg xmlns=\"http://www.w3.org/2000/svg\" height=\"24px\"viewBox=\"0 0 24 24\"\n",
              "       width=\"24px\">\n",
              "    <path d=\"M0 0h24v24H0V0z\" fill=\"none\"/>\n",
              "    <path d=\"M18.56 5.44l.94 2.06.94-2.06 2.06-.94-2.06-.94-.94-2.06-.94 2.06-2.06.94zm-11 1L8.5 8.5l.94-2.06 2.06-.94-2.06-.94L8.5 2.5l-.94 2.06-2.06.94zm10 10l.94 2.06.94-2.06 2.06-.94-2.06-.94-.94-2.06-.94 2.06-2.06.94z\"/><path d=\"M17.41 7.96l-1.37-1.37c-.4-.4-.92-.59-1.43-.59-.52 0-1.04.2-1.43.59L10.3 9.45l-7.72 7.72c-.78.78-.78 2.05 0 2.83L4 21.41c.39.39.9.59 1.41.59.51 0 1.02-.2 1.41-.59l7.78-7.78 2.81-2.81c.8-.78.8-2.07 0-2.86zM5.41 20L4 18.59l7.72-7.72 1.47 1.35L5.41 20z\"/>\n",
              "  </svg>\n",
              "      </button>\n",
              "      \n",
              "  <style>\n",
              "    .colab-df-container {\n",
              "      display:flex;\n",
              "      flex-wrap:wrap;\n",
              "      gap: 12px;\n",
              "    }\n",
              "\n",
              "    .colab-df-convert {\n",
              "      background-color: #E8F0FE;\n",
              "      border: none;\n",
              "      border-radius: 50%;\n",
              "      cursor: pointer;\n",
              "      display: none;\n",
              "      fill: #1967D2;\n",
              "      height: 32px;\n",
              "      padding: 0 0 0 0;\n",
              "      width: 32px;\n",
              "    }\n",
              "\n",
              "    .colab-df-convert:hover {\n",
              "      background-color: #E2EBFA;\n",
              "      box-shadow: 0px 1px 2px rgba(60, 64, 67, 0.3), 0px 1px 3px 1px rgba(60, 64, 67, 0.15);\n",
              "      fill: #174EA6;\n",
              "    }\n",
              "\n",
              "    [theme=dark] .colab-df-convert {\n",
              "      background-color: #3B4455;\n",
              "      fill: #D2E3FC;\n",
              "    }\n",
              "\n",
              "    [theme=dark] .colab-df-convert:hover {\n",
              "      background-color: #434B5C;\n",
              "      box-shadow: 0px 1px 3px 1px rgba(0, 0, 0, 0.15);\n",
              "      filter: drop-shadow(0px 1px 2px rgba(0, 0, 0, 0.3));\n",
              "      fill: #FFFFFF;\n",
              "    }\n",
              "  </style>\n",
              "\n",
              "      <script>\n",
              "        const buttonEl =\n",
              "          document.querySelector('#df-0596704f-56f9-4924-b1c8-143f32d34688 button.colab-df-convert');\n",
              "        buttonEl.style.display =\n",
              "          google.colab.kernel.accessAllowed ? 'block' : 'none';\n",
              "\n",
              "        async function convertToInteractive(key) {\n",
              "          const element = document.querySelector('#df-0596704f-56f9-4924-b1c8-143f32d34688');\n",
              "          const dataTable =\n",
              "            await google.colab.kernel.invokeFunction('convertToInteractive',\n",
              "                                                     [key], {});\n",
              "          if (!dataTable) return;\n",
              "\n",
              "          const docLinkHtml = 'Like what you see? Visit the ' +\n",
              "            '<a target=\"_blank\" href=https://colab.research.google.com/notebooks/data_table.ipynb>data table notebook</a>'\n",
              "            + ' to learn more about interactive tables.';\n",
              "          element.innerHTML = '';\n",
              "          dataTable['output_type'] = 'display_data';\n",
              "          await google.colab.output.renderOutput(dataTable, element);\n",
              "          const docLink = document.createElement('div');\n",
              "          docLink.innerHTML = docLinkHtml;\n",
              "          element.appendChild(docLink);\n",
              "        }\n",
              "      </script>\n",
              "    </div>\n",
              "  </div>\n",
              "  "
            ]
          },
          "metadata": {},
          "execution_count": 17
        }
      ]
    },
    {
      "cell_type": "code",
      "source": [
        "test_df.head()"
      ],
      "metadata": {
        "id": "VAAlujoNhuUq",
        "colab": {
          "base_uri": "https://localhost:8080/",
          "height": 206
        },
        "outputId": "83332875-fbbb-4d71-833f-bea8b7c6a8f5"
      },
      "execution_count": 18,
      "outputs": [
        {
          "output_type": "execute_result",
          "data": {
            "text/plain": [
              "                                     id  \\\n",
              "0  8b713277-0e5b-4873-a216-b650f21f3b4c   \n",
              "1  57c972a1-0fe2-4bef-a71f-1d56561e4a3b   \n",
              "2  6ea68956-e3cb-49fd-b7b4-f974ee78563d   \n",
              "3  ccb005f3-30d7-413f-bf64-7675c96f016a   \n",
              "4  38eb2bae-e33f-497d-a43c-73a74d525970   \n",
              "\n",
              "                                             context  \\\n",
              "0  The mythology of punk music's evolution can be...   \n",
              "1  The life of a lingerie model is quite a foreig...   \n",
              "2  Instagram Money for nothing seems like a prett...   \n",
              "3  Scrubbing the oven is one of the most dreaded ...   \n",
              "4  \"Nothing in this world that’s worth having com...   \n",
              "\n",
              "                                            question  \\\n",
              "0         \"Harry Potter\" alums reunite for new movie   \n",
              "1           How 1 model prepares for lingerie shoots   \n",
              "2  You'll never believe how much these Instagram ...   \n",
              "3  The oven cleaning hacks that will have your ap...   \n",
              "4     29 of the most beautiful TV quotes of all time   \n",
              "\n",
              "                                             answers  \n",
              "0  {'text': ['Alan Rickman & Rupert Grint', 'CBGB...  \n",
              "1  {'text': ['Elettra Wiedemann', 'extra strength...  \n",
              "2  {'text': ['Paige Hathaway – £3.8million', 'Cha...  \n",
              "3  {'text': ['homemade oven cleaner', 'place the ...  \n",
              "4  {'text': ['1. \"You can't live your life accord...  "
            ],
            "text/html": [
              "\n",
              "  <div id=\"df-fb71c8cf-2ef6-4ec9-9078-725a59227df7\">\n",
              "    <div class=\"colab-df-container\">\n",
              "      <div>\n",
              "<style scoped>\n",
              "    .dataframe tbody tr th:only-of-type {\n",
              "        vertical-align: middle;\n",
              "    }\n",
              "\n",
              "    .dataframe tbody tr th {\n",
              "        vertical-align: top;\n",
              "    }\n",
              "\n",
              "    .dataframe thead th {\n",
              "        text-align: right;\n",
              "    }\n",
              "</style>\n",
              "<table border=\"1\" class=\"dataframe\">\n",
              "  <thead>\n",
              "    <tr style=\"text-align: right;\">\n",
              "      <th></th>\n",
              "      <th>id</th>\n",
              "      <th>context</th>\n",
              "      <th>question</th>\n",
              "      <th>answers</th>\n",
              "    </tr>\n",
              "  </thead>\n",
              "  <tbody>\n",
              "    <tr>\n",
              "      <th>0</th>\n",
              "      <td>8b713277-0e5b-4873-a216-b650f21f3b4c</td>\n",
              "      <td>The mythology of punk music's evolution can be...</td>\n",
              "      <td>\"Harry Potter\" alums reunite for new movie</td>\n",
              "      <td>{'text': ['Alan Rickman &amp; Rupert Grint', 'CBGB...</td>\n",
              "    </tr>\n",
              "    <tr>\n",
              "      <th>1</th>\n",
              "      <td>57c972a1-0fe2-4bef-a71f-1d56561e4a3b</td>\n",
              "      <td>The life of a lingerie model is quite a foreig...</td>\n",
              "      <td>How 1 model prepares for lingerie shoots</td>\n",
              "      <td>{'text': ['Elettra Wiedemann', 'extra strength...</td>\n",
              "    </tr>\n",
              "    <tr>\n",
              "      <th>2</th>\n",
              "      <td>6ea68956-e3cb-49fd-b7b4-f974ee78563d</td>\n",
              "      <td>Instagram Money for nothing seems like a prett...</td>\n",
              "      <td>You'll never believe how much these Instagram ...</td>\n",
              "      <td>{'text': ['Paige Hathaway – £3.8million', 'Cha...</td>\n",
              "    </tr>\n",
              "    <tr>\n",
              "      <th>3</th>\n",
              "      <td>ccb005f3-30d7-413f-bf64-7675c96f016a</td>\n",
              "      <td>Scrubbing the oven is one of the most dreaded ...</td>\n",
              "      <td>The oven cleaning hacks that will have your ap...</td>\n",
              "      <td>{'text': ['homemade oven cleaner', 'place the ...</td>\n",
              "    </tr>\n",
              "    <tr>\n",
              "      <th>4</th>\n",
              "      <td>38eb2bae-e33f-497d-a43c-73a74d525970</td>\n",
              "      <td>\"Nothing in this world that’s worth having com...</td>\n",
              "      <td>29 of the most beautiful TV quotes of all time</td>\n",
              "      <td>{'text': ['1. \"You can't live your life accord...</td>\n",
              "    </tr>\n",
              "  </tbody>\n",
              "</table>\n",
              "</div>\n",
              "      <button class=\"colab-df-convert\" onclick=\"convertToInteractive('df-fb71c8cf-2ef6-4ec9-9078-725a59227df7')\"\n",
              "              title=\"Convert this dataframe to an interactive table.\"\n",
              "              style=\"display:none;\">\n",
              "        \n",
              "  <svg xmlns=\"http://www.w3.org/2000/svg\" height=\"24px\"viewBox=\"0 0 24 24\"\n",
              "       width=\"24px\">\n",
              "    <path d=\"M0 0h24v24H0V0z\" fill=\"none\"/>\n",
              "    <path d=\"M18.56 5.44l.94 2.06.94-2.06 2.06-.94-2.06-.94-.94-2.06-.94 2.06-2.06.94zm-11 1L8.5 8.5l.94-2.06 2.06-.94-2.06-.94L8.5 2.5l-.94 2.06-2.06.94zm10 10l.94 2.06.94-2.06 2.06-.94-2.06-.94-.94-2.06-.94 2.06-2.06.94z\"/><path d=\"M17.41 7.96l-1.37-1.37c-.4-.4-.92-.59-1.43-.59-.52 0-1.04.2-1.43.59L10.3 9.45l-7.72 7.72c-.78.78-.78 2.05 0 2.83L4 21.41c.39.39.9.59 1.41.59.51 0 1.02-.2 1.41-.59l7.78-7.78 2.81-2.81c.8-.78.8-2.07 0-2.86zM5.41 20L4 18.59l7.72-7.72 1.47 1.35L5.41 20z\"/>\n",
              "  </svg>\n",
              "      </button>\n",
              "      \n",
              "  <style>\n",
              "    .colab-df-container {\n",
              "      display:flex;\n",
              "      flex-wrap:wrap;\n",
              "      gap: 12px;\n",
              "    }\n",
              "\n",
              "    .colab-df-convert {\n",
              "      background-color: #E8F0FE;\n",
              "      border: none;\n",
              "      border-radius: 50%;\n",
              "      cursor: pointer;\n",
              "      display: none;\n",
              "      fill: #1967D2;\n",
              "      height: 32px;\n",
              "      padding: 0 0 0 0;\n",
              "      width: 32px;\n",
              "    }\n",
              "\n",
              "    .colab-df-convert:hover {\n",
              "      background-color: #E2EBFA;\n",
              "      box-shadow: 0px 1px 2px rgba(60, 64, 67, 0.3), 0px 1px 3px 1px rgba(60, 64, 67, 0.15);\n",
              "      fill: #174EA6;\n",
              "    }\n",
              "\n",
              "    [theme=dark] .colab-df-convert {\n",
              "      background-color: #3B4455;\n",
              "      fill: #D2E3FC;\n",
              "    }\n",
              "\n",
              "    [theme=dark] .colab-df-convert:hover {\n",
              "      background-color: #434B5C;\n",
              "      box-shadow: 0px 1px 3px 1px rgba(0, 0, 0, 0.15);\n",
              "      filter: drop-shadow(0px 1px 2px rgba(0, 0, 0, 0.3));\n",
              "      fill: #FFFFFF;\n",
              "    }\n",
              "  </style>\n",
              "\n",
              "      <script>\n",
              "        const buttonEl =\n",
              "          document.querySelector('#df-fb71c8cf-2ef6-4ec9-9078-725a59227df7 button.colab-df-convert');\n",
              "        buttonEl.style.display =\n",
              "          google.colab.kernel.accessAllowed ? 'block' : 'none';\n",
              "\n",
              "        async function convertToInteractive(key) {\n",
              "          const element = document.querySelector('#df-fb71c8cf-2ef6-4ec9-9078-725a59227df7');\n",
              "          const dataTable =\n",
              "            await google.colab.kernel.invokeFunction('convertToInteractive',\n",
              "                                                     [key], {});\n",
              "          if (!dataTable) return;\n",
              "\n",
              "          const docLinkHtml = 'Like what you see? Visit the ' +\n",
              "            '<a target=\"_blank\" href=https://colab.research.google.com/notebooks/data_table.ipynb>data table notebook</a>'\n",
              "            + ' to learn more about interactive tables.';\n",
              "          element.innerHTML = '';\n",
              "          dataTable['output_type'] = 'display_data';\n",
              "          await google.colab.output.renderOutput(dataTable, element);\n",
              "          const docLink = document.createElement('div');\n",
              "          docLink.innerHTML = docLinkHtml;\n",
              "          element.appendChild(docLink);\n",
              "        }\n",
              "      </script>\n",
              "    </div>\n",
              "  </div>\n",
              "  "
            ]
          },
          "metadata": {},
          "execution_count": 18
        }
      ]
    },
    {
      "cell_type": "code",
      "source": [
        "def preprocess_answers(text):\n",
        "  return \",\".join(text[\"text\"])"
      ],
      "metadata": {
        "id": "F3vhIOOHhv6e"
      },
      "execution_count": 19,
      "outputs": []
    },
    {
      "cell_type": "code",
      "source": [
        "train_df[\"answers\"] = train_df[\"answers\"].apply(preprocess_answers)"
      ],
      "metadata": {
        "id": "NLBKPV4nhyYT"
      },
      "execution_count": 20,
      "outputs": []
    },
    {
      "cell_type": "code",
      "source": [
        "test_df[\"answers\"] = test_df[\"answers\"].apply(preprocess_answers)"
      ],
      "metadata": {
        "id": "lwOr6Rymh0WF"
      },
      "execution_count": 21,
      "outputs": []
    },
    {
      "cell_type": "code",
      "source": [
        "train_df = train_df[[\"context\", \"question\", \"answers\"]]\n",
        "test_df = test_df[[\"context\", \"question\", \"answers\"]]"
      ],
      "metadata": {
        "id": "upY8l0hxh2cu"
      },
      "execution_count": 22,
      "outputs": []
    },
    {
      "cell_type": "code",
      "source": [
        "def join_context_question(data):\n",
        "  final_df = []\n",
        "  for each in data:\n",
        "    final_df.append([each[0]+\" ? \"+each[1], each[2]])\n",
        "  \n",
        "  return pd.DataFrame(final_df, columns = [\"context\", \"answers\"])"
      ],
      "metadata": {
        "id": "BEiQQnIjh5ja"
      },
      "execution_count": 23,
      "outputs": []
    },
    {
      "cell_type": "code",
      "source": [
        "train_df = join_context_question(train_df.values.tolist())"
      ],
      "metadata": {
        "id": "bYVZQ8L9iCEs"
      },
      "execution_count": 24,
      "outputs": []
    },
    {
      "cell_type": "code",
      "source": [
        "test_df = join_context_question(test_df.values.tolist())"
      ],
      "metadata": {
        "id": "gio2DvDviDyI"
      },
      "execution_count": 25,
      "outputs": []
    },
    {
      "cell_type": "code",
      "source": [
        "train_df[\"context\"] = train_df[\"context\"].str.encode(\"ascii\", \"ignore\").str.decode(\"ascii\")\n",
        "train_df[\"answers\"] = train_df[\"answers\"].str.encode(\"ascii\", \"ignore\").str.decode(\"ascii\")"
      ],
      "metadata": {
        "id": "z_JGUatTiGX_"
      },
      "execution_count": 26,
      "outputs": []
    },
    {
      "cell_type": "code",
      "source": [
        "test_df[\"context\"] = test_df[\"context\"].str.encode(\"ascii\", \"ignore\").str.decode(\"ascii\")\n",
        "test_df[\"answers\"] = test_df[\"answers\"].str.encode(\"ascii\", \"ignore\").str.decode(\"ascii\")"
      ],
      "metadata": {
        "id": "BKqOYkHYiHUa"
      },
      "execution_count": 27,
      "outputs": []
    },
    {
      "cell_type": "code",
      "source": [
        "class ClickbaitSummaryDataset(Dataset):\n",
        "  def __init__(self,\n",
        "               data,\n",
        "               tokenizer,\n",
        "               text_max_token_len= 512,\n",
        "               summary_max_token_len= 128):\n",
        "    self.tokenizer = tokenizer\n",
        "    self.data = data\n",
        "    self.text_max_token_len = text_max_token_len\n",
        "    self.summary_max_token_len = summary_max_token_len\n",
        "\n",
        "  def __len__(self):\n",
        "    return len(self.data)\n",
        "\n",
        "  def __getitem__(self, index: int):\n",
        "    data_row = self.data.iloc[index]\n",
        "\n",
        "    text = data_row[\"context\"]\n",
        "\n",
        "    text_encoding = self.tokenizer(text,\n",
        "                              max_length= self.text_max_token_len,\n",
        "                              padding = \"max_length\",\n",
        "                              truncation=True,\n",
        "                              return_attention_mask = True,\n",
        "                              add_special_tokens = True,\n",
        "                              return_tensors = \"pt\"\n",
        "                              )\n",
        "    summary_encoding = self.tokenizer(data_row[\"answers\"],\n",
        "                              max_length= self.text_max_token_len,\n",
        "                              padding = \"max_length\",\n",
        "                              truncation=True,\n",
        "                              return_attention_mask = True,\n",
        "                              add_special_tokens = True,\n",
        "                              return_tensors = \"pt\"\n",
        "                              )\n",
        "    labels = summary_encoding[\"input_ids\"]\n",
        "    labels[labels==0] = -100\n",
        "\n",
        "    return dict(text=text, summary = data_row[\"answers\"], text_input_ids=text_encoding[\"input_ids\"].flatten(),\n",
        "                                              text_attention_mask = text_encoding[\"attention_mask\"].flatten(),\n",
        "                                              labels = labels.flatten(),\n",
        "                                              labels_attention_mask=summary_encoding[\"attention_mask\"].flatten()\n",
        "                                              )"
      ],
      "metadata": {
        "id": "2SDU-jckiJZy"
      },
      "execution_count": 28,
      "outputs": []
    },
    {
      "cell_type": "code",
      "source": [
        "class ClickbaitSummaryDataModule(pl.LightningDataModule):\n",
        "  def __int__(self, train_df, test_df, tokenizer, BATCH_SIZE):\n",
        "    super().__init__()\n",
        "  \n",
        "  def setup(self, stage=None):\n",
        "    self.train_dataset = ClickbaitSummaryDataset(\n",
        "        self.train_df,\n",
        "        self.tokenizer,\n",
        "        self.text_max_token_len,\n",
        "        self.summary_max_token_len\n",
        "    )\n",
        "    self.test_dataset = ClickbaitSummaryDataset(\n",
        "        self.test_df,\n",
        "        self.tokenizer,\n",
        "        self.text_max_token_len,\n",
        "        self.summary_max_token_len\n",
        "    )\n",
        "\n",
        "  def train_dataloader(self):\n",
        "    return DataLoader(self.train_dataset, batch_size = self.batch_size, shuffle=True, num_workers = 2)\n",
        "  \n",
        "  def test_dataloader(self):\n",
        "    return DataLoader(self.test_dataset, batch_size = self.batch_size, shuffle = True, num_workers = 2)\n",
        "\n",
        "  def val_dataloader(self):\n",
        "    return DataLoader(self.test_dataset, batch_size = self.batch_size, shuffle = True, num_workers = 2)"
      ],
      "metadata": {
        "id": "sMsn6hcfiJUC"
      },
      "execution_count": 29,
      "outputs": []
    },
    {
      "cell_type": "code",
      "source": [
        "class ClickbaitSummaryModel(pl.LightningModule):\n",
        "  def __init__(self):\n",
        "    super().__init__()\n",
        "    self.model = T5ForConditionalGeneration.from_pretrained(MODEL_NAME, return_dict = True)\n",
        "  \n",
        "  def forward(self, input_ids, attention_mask, decoder_attention_mask, labels = None):\n",
        "    output = self.model(\n",
        "        input_ids,\n",
        "        attention_mask= attention_mask,\n",
        "        labels = labels,\n",
        "        decoder_attention_mask = decoder_attention_mask\n",
        "    )\n",
        "\n",
        "    return output.loss, output.logits\n",
        "\n",
        "  def training_step(self, batch, batch_size):\n",
        "    input_ids = batch[\"text_input_ids\"]\n",
        "    attention_mask = batch[\"text_attention_mask\"]\n",
        "    labels = batch[\"labels\"]\n",
        "    labels_attention_mask = batch[\"labels_attention_mask\"]\n",
        "\n",
        "    loss, outputs = self(input_ids = input_ids,\n",
        "                         attention_mask = attention_mask,\n",
        "                         decoder_attention_mask = labels_attention_mask,\n",
        "                         labels = labels)\n",
        "    \n",
        "    return loss\n",
        "    \n",
        "    def validation_step(self, batch, batch_size):\n",
        "      input_ids = batch[\"text_input_ids\"]\n",
        "      attention_mask = batch[\"text_attention_mask\"]\n",
        "      labels = batch[\"labels\"]\n",
        "      labels_attention_mask = batch[\"labels_attention_mask\"]\n",
        "\n",
        "      loss, outputs = self(input_ids = input_ids,\n",
        "                          attention_mask = attention_mask,\n",
        "                          decoder_attention_mask = labels_attention_mask,\n",
        "                          labels = labels)\n",
        "      return loss\n",
        "\n",
        "    def test_step(self, batch, batch_size):\n",
        "      input_ids = batch[\"text_input_ids\"]\n",
        "      attention_mask = batch[\"text_attention_mask\"]\n",
        "      labels = batch[\"labels\"]\n",
        "      labels_attention_mask = batch[\"labels_attention_mask\"]\n",
        "\n",
        "      loss, outputs = self(input_ids = input_ids,\n",
        "                          attention_mask = attention_mask,\n",
        "                          decoder_attention_mask = labels_attention_mask,\n",
        "                          labels = labels)\n",
        "      return loss\n",
        "\n",
        "\n",
        "  def configure_optimizers(self):\n",
        "    return AdamW(self.parameters(), lr = 0.0001)"
      ],
      "metadata": {
        "id": "lEbXTAuBjP-6"
      },
      "execution_count": 30,
      "outputs": []
    },
    {
      "cell_type": "code",
      "source": [
        "N_EPOCHS = 1\n",
        "BATCH_SIZE = 2"
      ],
      "metadata": {
        "id": "Lj8QRxWPjlI2"
      },
      "execution_count": 45,
      "outputs": []
    },
    {
      "cell_type": "code",
      "source": [
        "data_module = ClickbaitSummaryDataModule(train_df, test_df, tokenizer, BATCH_SIZE)\n",
        "data_module.train_df = train_df\n",
        "data_module.test_df = test_df\n",
        "data_module.tokenizer = tokenizer\n",
        "data_module.text_max_token_len = 512\n",
        "data_module.summary_max_token_len = 128\n",
        "data_module.batch_size = BATCH_SIZE"
      ],
      "metadata": {
        "id": "NZnuI9QQjnc_"
      },
      "execution_count": 46,
      "outputs": []
    },
    {
      "cell_type": "code",
      "source": [
        "model = ClickbaitSummaryModel()"
      ],
      "metadata": {
        "id": "Snto15GxjWdM"
      },
      "execution_count": 47,
      "outputs": []
    },
    {
      "cell_type": "code",
      "source": [
        "trainer = pl.Trainer(\n",
        "    gpus= 1,\n",
        "    max_epochs = N_EPOCHS,\n",
        "    progress_bar_refresh_rate = 40\n",
        ")"
      ],
      "metadata": {
        "id": "VDHp2Z6Wjd0D",
        "colab": {
          "base_uri": "https://localhost:8080/"
        },
        "outputId": "bd805ead-a4eb-40e7-9ae7-734a29dd2b7d"
      },
      "execution_count": 48,
      "outputs": [
        {
          "output_type": "stream",
          "name": "stderr",
          "text": [
            "INFO:pytorch_lightning.utilities.distributed:GPU available: True, used: True\n",
            "INFO:pytorch_lightning.utilities.distributed:TPU available: False, using: 0 TPU cores\n"
          ]
        }
      ]
    },
    {
      "cell_type": "code",
      "source": [
        "device = 'cuda' if torch.cuda.is_available() else 'cpu'\n",
        "device"
      ],
      "metadata": {
        "id": "Cjy6U9H9j1rZ",
        "colab": {
          "base_uri": "https://localhost:8080/",
          "height": 35
        },
        "outputId": "8bc70032-a370-4da0-a6a2-da450f021df9"
      },
      "execution_count": 49,
      "outputs": [
        {
          "output_type": "execute_result",
          "data": {
            "text/plain": [
              "'cuda'"
            ],
            "application/vnd.google.colaboratory.intrinsic+json": {
              "type": "string"
            }
          },
          "metadata": {},
          "execution_count": 49
        }
      ]
    },
    {
      "cell_type": "code",
      "source": [
        "gc.collect()\n",
        "torch.cuda.empty_cache() \n",
        "model = model.to(device)"
      ],
      "metadata": {
        "id": "etlvqbQlj4m6"
      },
      "execution_count": 50,
      "outputs": []
    },
    {
      "cell_type": "code",
      "source": [
        "trainer.fit(model, data_module)"
      ],
      "metadata": {
        "id": "_b3tlegGj60k",
        "colab": {
          "base_uri": "https://localhost:8080/",
          "height": 245,
          "referenced_widgets": [
            "ff2d054f78944f12a2da83b996833663",
            "08b69fc455ee4a7088d1dcf322f9fe61",
            "ac1d414b91f7481bb951dd2115572ddd",
            "e66217d754454122b2835dbc6bad9bcc",
            "8615a0093dfb453e913b099b8c9109d9",
            "5e64317426bd42278648a968eb6db128",
            "fee5eeff1a714351a1be103f43c5eaed",
            "9c407de7ed2f4f09896dc635e7184a20",
            "927d543915734c7987fe15a650c3e60d",
            "f79cb4ed502e4edf851d63695ce64f98",
            "16c009a351c64eb8be28db570fe1a666"
          ]
        },
        "outputId": "24dc4845-eba1-4200-a3c0-d12267419459"
      },
      "execution_count": 51,
      "outputs": [
        {
          "output_type": "stream",
          "name": "stderr",
          "text": [
            "INFO:pytorch_lightning.accelerators.gpu:LOCAL_RANK: 0 - CUDA_VISIBLE_DEVICES: [0]\n",
            "INFO:pytorch_lightning.core.lightning:\n",
            "  | Name  | Type                       | Params\n",
            "-----------------------------------------------------\n",
            "0 | model | T5ForConditionalGeneration | 222 M \n",
            "-----------------------------------------------------\n",
            "222 M     Trainable params\n",
            "0         Non-trainable params\n",
            "222 M     Total params\n",
            "891.614   Total estimated model params size (MB)\n"
          ]
        },
        {
          "output_type": "display_data",
          "data": {
            "text/plain": [
              "Training: 0it [00:00, ?it/s]"
            ],
            "application/vnd.jupyter.widget-view+json": {
              "version_major": 2,
              "version_minor": 0,
              "model_id": "ff2d054f78944f12a2da83b996833663"
            }
          },
          "metadata": {}
        },
        {
          "output_type": "execute_result",
          "data": {
            "text/plain": [
              "1"
            ]
          },
          "metadata": {},
          "execution_count": 51
        }
      ]
    },
    {
      "cell_type": "code",
      "source": [
        "trained_model = ClickbaitSummaryModel.load_from_checkpoint(\n",
        "    trainer.checkpoint_callback.best_model_path\n",
        ")\n",
        "\n",
        "trained_model.freeze()"
      ],
      "metadata": {
        "id": "2R4JUWXtj_bo"
      },
      "execution_count": 52,
      "outputs": []
    },
    {
      "cell_type": "code",
      "source": [
        "def summarizeText(text):\n",
        "  text_encoding = tokenizer(\n",
        "      text, \n",
        "      max_length = 512,\n",
        "      padding = 'max_length',\n",
        "      truncation = True,\n",
        "      return_attention_mask = True,\n",
        "      add_special_tokens = True,\n",
        "      return_tensors = 'pt'\n",
        "  )\n",
        "\n",
        "  generated_ids = trained_model.model.generate(\n",
        "      input_ids = text_encoding['input_ids'],\n",
        "      attention_mask = text_encoding['attention_mask'],\n",
        "      max_length = 150,\n",
        "      num_beams = 3,\n",
        "      repetition_penalty=2.5,\n",
        "      length_penalty = 1.0,\n",
        "      early_stopping=True\n",
        "  )\n",
        "\n",
        "\n",
        "  preds = [ tokenizer.decode(gen_id, skip_special_tokens=True, clean_up_tokenization_spaces=True)\n",
        "            for gen_id in generated_ids\n",
        "  ]\n",
        "  \n",
        "  return \"\".join(preds)"
      ],
      "metadata": {
        "id": "Q_Ufd4DDkB0v"
      },
      "execution_count": 53,
      "outputs": []
    },
    {
      "cell_type": "code",
      "source": [
        "test_dataset_len= len(test_df)"
      ],
      "metadata": {
        "id": "8G_lyd3NkGrs"
      },
      "execution_count": 54,
      "outputs": []
    },
    {
      "cell_type": "code",
      "source": [
        "metric = load_metric(\"squad\")"
      ],
      "metadata": {
        "colab": {
          "base_uri": "https://localhost:8080/",
          "height": 137,
          "referenced_widgets": [
            "491d5222c9604553bd693139621dec5d",
            "12a23f60ff524776809300ce2df60d87",
            "b5db1a23a906452db76f133dcabb5afd",
            "3307eaf860084173b6d42624763fa792",
            "45c3a7fd65f04619ac8bbc64619fd5b2",
            "bd6f75ad65114b429fedc24a37471ea5",
            "9f026890c4e549f3aa828381f94fbba4",
            "0efbd1d940774669836535ec168f23bb",
            "06499933922f4929963a56d586265d45",
            "cd328ca52f0a441ba35aa09044734ac8",
            "8ed049a8f7164d6692c245960782e43d",
            "84c57473f5d94a9f9d8fdb63db595939",
            "3240049c0d014bd2bf234d37337032c0",
            "5a945b9d447144318104c8eb270029d5",
            "21c16653e7524f51b536150cc6f9f361",
            "cb32eea1351c4777b156961354083d82",
            "5e47fd7afb874888b3999610ac67593e",
            "251c1a439a394c9aa89aaf90f813ab17",
            "6336083544c44337982ba87b12487464",
            "87d16c3952dc41c581c27d605e632034",
            "7b9fcfd7229e41e8a026a327b87722ea",
            "1e8c42b69399493ea47d82d785714d7f"
          ]
        },
        "id": "ZMng2sF6suwO",
        "outputId": "5250b344-04dc-4bd8-98ba-c118bfa3025c"
      },
      "execution_count": 56,
      "outputs": [
        {
          "output_type": "stream",
          "name": "stderr",
          "text": [
            "<ipython-input-56-7143d13414c2>:1: FutureWarning: load_metric is deprecated and will be removed in the next major version of datasets. Use 'evaluate.load' instead, from the new library 🤗 Evaluate: https://huggingface.co/docs/evaluate\n",
            "  metric = load_metric(\"squad\")\n"
          ]
        },
        {
          "output_type": "display_data",
          "data": {
            "text/plain": [
              "Downloading builder script:   0%|          | 0.00/1.72k [00:00<?, ?B/s]"
            ],
            "application/vnd.jupyter.widget-view+json": {
              "version_major": 2,
              "version_minor": 0,
              "model_id": "491d5222c9604553bd693139621dec5d"
            }
          },
          "metadata": {}
        },
        {
          "output_type": "display_data",
          "data": {
            "text/plain": [
              "Downloading extra modules:   0%|          | 0.00/1.11k [00:00<?, ?B/s]"
            ],
            "application/vnd.jupyter.widget-view+json": {
              "version_major": 2,
              "version_minor": 0,
              "model_id": "84c57473f5d94a9f9d8fdb63db595939"
            }
          },
          "metadata": {}
        }
      ]
    },
    {
      "cell_type": "code",
      "source": [
        "formatted_predictions = [{\"id\": i, \"prediction_text\": summarizeText(context)} for i, context in enumerate(test_df[\"context\"])]\n",
        "references = [{\"id\": i, \"answers\": {\"answer_start\":[0], \"text\":[ex]}} for i, ex in enumerate(test_df[\"answers\"])]\n",
        "result = metric.compute(predictions=formatted_predictions, references=references)"
      ],
      "metadata": {
        "id": "zIIGtY7bkTDV"
      },
      "execution_count": 57,
      "outputs": []
    },
    {
      "cell_type": "code",
      "source": [
        "import evaluate\n",
        "bleu = evaluate.load('bleu')\n",
        "results = 0\n",
        "prediction_test = []\n",
        "reference_test = []\n",
        "\n",
        "for i in range(test_dataset_len):\n",
        "  prediction_test.append(formatted_predictions[i][\"prediction_text\"].strip())\n",
        "  reference_test.append(references[i][\"answers\"][\"text\"][0].strip())\n",
        "\n",
        "results = bleu.compute(predictions = prediction_test, references = reference_test).get(\"bleu\")\n",
        "\n",
        "print(f\"BLEU SCORE: {results}\")"
      ],
      "metadata": {
        "id": "D2Vnb0iPkXlf",
        "colab": {
          "base_uri": "https://localhost:8080/",
          "height": 131,
          "referenced_widgets": [
            "c596f3d2cbc949e29dab361eef872c97",
            "9ebdac6b6c024cb2a90a7bd56b70f8ec",
            "89198b9a3f4e4475b10ca8c1c38bffb9",
            "d7713ff2cd41483594315fe227432304",
            "a9eb83ffe490436594b709dec1893521",
            "fd04d53788544875aadece39e83fe7fe",
            "3b84c4e0d0924dc398ab835a765911d8",
            "453ddea498be407fa64a4502a8bfb1a2",
            "f7d43675ee554df9ae53dc8e8af7ea57",
            "b64a450c0c5e4663a61a67ffab6eab9d",
            "8ee2e680f68146a8872a402a469b71c0",
            "8ff87b97d9f642e383c2af9813b024f1",
            "6ed4e1ba113046cda8b5394e78b7f44c",
            "a2d67b0477a04589b3eb33855599c747",
            "36989b1bcfec47adabfe23787dc4e490",
            "43744ee1fabe4b14ada769005e774adf",
            "22910168ccb9483fa77a1a9eea497088",
            "f7a8906665fd49568b9f7b28dc1db814",
            "1c3a4073b8414bc9aa5cbde63bef93bb",
            "c265db00209b41dfbfff04ef3de421a4",
            "490da808ddcc4f8e852de0e208b64cbe",
            "7044b84df17841c18a09c4da2af83bd6",
            "a6d40d202fdc4a91bb2a56f2adc038bd",
            "7db8bd6394f14126b3ee57cd4179fb3d",
            "1991ac4883f14a82b7970f8a2110ab6d",
            "4037bcc1093845e9b04fd2bbea14e6ec",
            "8b4c3e9526ba4c4386c8c1e2aeb8820b",
            "eade391e5c1a42f28be0d853e1187ac3",
            "cf922746723a4d5b8f95b3175b420db5",
            "dec55773e7374405b8307cea5b40da77",
            "7ca637eeaafe455db61e31452add9aaf",
            "13ae832a44f7492486c7bf1c1991f763",
            "1296e6d0a2b148a9a4d1b9338610b31f"
          ]
        },
        "outputId": "3da24f12-59e5-4ca3-f9fe-5327e0093f73"
      },
      "execution_count": 58,
      "outputs": [
        {
          "output_type": "display_data",
          "data": {
            "text/plain": [
              "Downloading builder script:   0%|          | 0.00/5.94k [00:00<?, ?B/s]"
            ],
            "application/vnd.jupyter.widget-view+json": {
              "version_major": 2,
              "version_minor": 0,
              "model_id": "c596f3d2cbc949e29dab361eef872c97"
            }
          },
          "metadata": {}
        },
        {
          "output_type": "display_data",
          "data": {
            "text/plain": [
              "Downloading extra modules:   0%|          | 0.00/1.55k [00:00<?, ?B/s]"
            ],
            "application/vnd.jupyter.widget-view+json": {
              "version_major": 2,
              "version_minor": 0,
              "model_id": "8ff87b97d9f642e383c2af9813b024f1"
            }
          },
          "metadata": {}
        },
        {
          "output_type": "display_data",
          "data": {
            "text/plain": [
              "Downloading extra modules:   0%|          | 0.00/3.34k [00:00<?, ?B/s]"
            ],
            "application/vnd.jupyter.widget-view+json": {
              "version_major": 2,
              "version_minor": 0,
              "model_id": "a6d40d202fdc4a91bb2a56f2adc038bd"
            }
          },
          "metadata": {}
        },
        {
          "output_type": "stream",
          "name": "stdout",
          "text": [
            "BLEU SCORE: 0.19779834102520558\n"
          ]
        }
      ]
    },
    {
      "cell_type": "code",
      "source": [
        "\n",
        "\n",
        "\n",
        "meteor = evaluate.load('meteor')\n",
        "results = 0\n",
        "\n",
        "results = meteor.compute(predictions = prediction_test, references = reference_test).get(\"meteor\")\n",
        "\n",
        "print(f\"METEOR SCORE: {results}\")"
      ],
      "metadata": {
        "id": "eRZjAQHqkaQ0",
        "colab": {
          "base_uri": "https://localhost:8080/",
          "height": 138,
          "referenced_widgets": [
            "fee655b23ac54f7c8876928fde9a21e6",
            "555161d238394b43bedd6ca6b26deed1",
            "7fe33fb279dc40af8c6866d8312969a8",
            "f4de25ad47d6470b8971717e5573b95b",
            "5de8214aa8244318b47afa52630394a9",
            "bfac084743cc4350bdecaee3dee77a10",
            "99518930328a44fea19c963af22d4bde",
            "dc084d50ac424db58390dbf8f2b36e0b",
            "a589e037d42441e7b1816741d8332e67",
            "7d3d1877bfc34a3d954a96382adeda2c",
            "2daaa9b8f6db49469dca174f429bd6b3"
          ]
        },
        "outputId": "61eb2b5e-2a9e-48b4-f73a-adb2a22dc1de"
      },
      "execution_count": 59,
      "outputs": [
        {
          "output_type": "display_data",
          "data": {
            "text/plain": [
              "Downloading builder script:   0%|          | 0.00/6.81k [00:00<?, ?B/s]"
            ],
            "application/vnd.jupyter.widget-view+json": {
              "version_major": 2,
              "version_minor": 0,
              "model_id": "fee655b23ac54f7c8876928fde9a21e6"
            }
          },
          "metadata": {}
        },
        {
          "output_type": "stream",
          "name": "stderr",
          "text": [
            "[nltk_data] Downloading package wordnet to /root/nltk_data...\n",
            "[nltk_data] Downloading package punkt to /root/nltk_data...\n",
            "[nltk_data]   Unzipping tokenizers/punkt.zip.\n",
            "[nltk_data] Downloading package omw-1.4 to /root/nltk_data...\n"
          ]
        },
        {
          "output_type": "stream",
          "name": "stdout",
          "text": [
            "METEOR SCORE: 0.27869983035481505\n"
          ]
        }
      ]
    },
    {
      "cell_type": "code",
      "source": [
        "!pip install bert_score"
      ],
      "metadata": {
        "id": "KTT5n1X2ka6e",
        "colab": {
          "base_uri": "https://localhost:8080/"
        },
        "outputId": "04f5e716-968b-4e6d-b092-c7dcb5a42d6f"
      },
      "execution_count": 60,
      "outputs": [
        {
          "output_type": "stream",
          "name": "stdout",
          "text": [
            "Looking in indexes: https://pypi.org/simple, https://us-python.pkg.dev/colab-wheels/public/simple/\n",
            "Requirement already satisfied: bert_score in /usr/local/lib/python3.10/dist-packages (0.3.13)\n",
            "Requirement already satisfied: torch>=1.0.0 in /usr/local/lib/python3.10/dist-packages (from bert_score) (2.0.0+cu118)\n",
            "Requirement already satisfied: pandas>=1.0.1 in /usr/local/lib/python3.10/dist-packages (from bert_score) (1.5.3)\n",
            "Requirement already satisfied: transformers>=3.0.0 in /usr/local/lib/python3.10/dist-packages (from bert_score) (4.29.1)\n",
            "Requirement already satisfied: numpy in /usr/local/lib/python3.10/dist-packages (from bert_score) (1.22.4)\n",
            "Requirement already satisfied: requests in /usr/local/lib/python3.10/dist-packages (from bert_score) (2.27.1)\n",
            "Requirement already satisfied: tqdm>=4.31.1 in /usr/local/lib/python3.10/dist-packages (from bert_score) (4.65.0)\n",
            "Requirement already satisfied: matplotlib in /usr/local/lib/python3.10/dist-packages (from bert_score) (3.7.1)\n",
            "Requirement already satisfied: packaging>=20.9 in /usr/local/lib/python3.10/dist-packages (from bert_score) (23.1)\n",
            "Requirement already satisfied: python-dateutil>=2.8.1 in /usr/local/lib/python3.10/dist-packages (from pandas>=1.0.1->bert_score) (2.8.2)\n",
            "Requirement already satisfied: pytz>=2020.1 in /usr/local/lib/python3.10/dist-packages (from pandas>=1.0.1->bert_score) (2022.7.1)\n",
            "Requirement already satisfied: filelock in /usr/local/lib/python3.10/dist-packages (from torch>=1.0.0->bert_score) (3.12.0)\n",
            "Requirement already satisfied: typing-extensions in /usr/local/lib/python3.10/dist-packages (from torch>=1.0.0->bert_score) (4.5.0)\n",
            "Requirement already satisfied: sympy in /usr/local/lib/python3.10/dist-packages (from torch>=1.0.0->bert_score) (1.11.1)\n",
            "Requirement already satisfied: networkx in /usr/local/lib/python3.10/dist-packages (from torch>=1.0.0->bert_score) (3.1)\n",
            "Requirement already satisfied: jinja2 in /usr/local/lib/python3.10/dist-packages (from torch>=1.0.0->bert_score) (3.1.2)\n",
            "Requirement already satisfied: triton==2.0.0 in /usr/local/lib/python3.10/dist-packages (from torch>=1.0.0->bert_score) (2.0.0)\n",
            "Requirement already satisfied: cmake in /usr/local/lib/python3.10/dist-packages (from triton==2.0.0->torch>=1.0.0->bert_score) (3.25.2)\n",
            "Requirement already satisfied: lit in /usr/local/lib/python3.10/dist-packages (from triton==2.0.0->torch>=1.0.0->bert_score) (16.0.3)\n",
            "Requirement already satisfied: huggingface-hub<1.0,>=0.14.1 in /usr/local/lib/python3.10/dist-packages (from transformers>=3.0.0->bert_score) (0.14.1)\n",
            "Requirement already satisfied: pyyaml>=5.1 in /usr/local/lib/python3.10/dist-packages (from transformers>=3.0.0->bert_score) (6.0)\n",
            "Requirement already satisfied: regex!=2019.12.17 in /usr/local/lib/python3.10/dist-packages (from transformers>=3.0.0->bert_score) (2022.10.31)\n",
            "Requirement already satisfied: tokenizers!=0.11.3,<0.14,>=0.11.1 in /usr/local/lib/python3.10/dist-packages (from transformers>=3.0.0->bert_score) (0.13.3)\n",
            "Requirement already satisfied: contourpy>=1.0.1 in /usr/local/lib/python3.10/dist-packages (from matplotlib->bert_score) (1.0.7)\n",
            "Requirement already satisfied: cycler>=0.10 in /usr/local/lib/python3.10/dist-packages (from matplotlib->bert_score) (0.11.0)\n",
            "Requirement already satisfied: fonttools>=4.22.0 in /usr/local/lib/python3.10/dist-packages (from matplotlib->bert_score) (4.39.3)\n",
            "Requirement already satisfied: kiwisolver>=1.0.1 in /usr/local/lib/python3.10/dist-packages (from matplotlib->bert_score) (1.4.4)\n",
            "Requirement already satisfied: pillow>=6.2.0 in /usr/local/lib/python3.10/dist-packages (from matplotlib->bert_score) (8.4.0)\n",
            "Requirement already satisfied: pyparsing>=2.3.1 in /usr/local/lib/python3.10/dist-packages (from matplotlib->bert_score) (3.0.9)\n",
            "Requirement already satisfied: urllib3<1.27,>=1.21.1 in /usr/local/lib/python3.10/dist-packages (from requests->bert_score) (1.26.15)\n",
            "Requirement already satisfied: certifi>=2017.4.17 in /usr/local/lib/python3.10/dist-packages (from requests->bert_score) (2022.12.7)\n",
            "Requirement already satisfied: charset-normalizer~=2.0.0 in /usr/local/lib/python3.10/dist-packages (from requests->bert_score) (2.0.12)\n",
            "Requirement already satisfied: idna<4,>=2.5 in /usr/local/lib/python3.10/dist-packages (from requests->bert_score) (3.4)\n",
            "Requirement already satisfied: fsspec in /usr/local/lib/python3.10/dist-packages (from huggingface-hub<1.0,>=0.14.1->transformers>=3.0.0->bert_score) (2023.4.0)\n",
            "Requirement already satisfied: six>=1.5 in /usr/local/lib/python3.10/dist-packages (from python-dateutil>=2.8.1->pandas>=1.0.1->bert_score) (1.16.0)\n",
            "Requirement already satisfied: MarkupSafe>=2.0 in /usr/local/lib/python3.10/dist-packages (from jinja2->torch>=1.0.0->bert_score) (2.1.2)\n",
            "Requirement already satisfied: mpmath>=0.19 in /usr/local/lib/python3.10/dist-packages (from sympy->torch>=1.0.0->bert_score) (1.3.0)\n"
          ]
        }
      ]
    },
    {
      "cell_type": "code",
      "source": [
        "# BERTScore\n",
        "!pip install bert_score\n",
        "from statistics import mean\n",
        "\n",
        "bert_score = evaluate.load(\"bertscore\")\n",
        "\n",
        "results = bert_score.compute(predictions = prediction_test, references = reference_test, lang='en')\n",
        "\n",
        "print(\"BERT F1 Score: \", mean(results.get(\"f1\")))"
      ],
      "metadata": {
        "id": "ubFEhmoSkdHW",
        "colab": {
          "base_uri": "https://localhost:8080/",
          "height": 195,
          "referenced_widgets": [
            "accab1135c4448a4a3eb750c1b81ebd5",
            "7c560187e5c14c42af72f25aaa6680d6",
            "f785b3092bac4469bd306c6fbfefab56",
            "39ced7a7a22443c3ba1fa15165be5270",
            "4dbd388fae7c4129a2db9f25a1af7b69",
            "12366d421e68450f87ce4a36f2394795",
            "4f84aaf9697344dcaf03510a97e24864",
            "81ffbd24f4b14ec7a84cb81fef145e6f",
            "a5bca642fa0a41f8918482c48a6e9c17",
            "6227f27492684bee921313ba42937add",
            "af6162554d9d47a485094110a91cb8cb",
            "4180ce3ea43243e29bc2bb1ba8dc389f",
            "0d5cdab33f6147f4be63537a7cc6ab9e",
            "50addffe23cb4851a37828820ef3bfa3",
            "6f885c8c82144440b82b5097efe38f9b",
            "f288bb26dfcf425ca1bf19856edf33c3",
            "0fac887366674d48ad0c215d0cb1c6bf",
            "768d06f6a5d74628af2957d1005ac777",
            "7a4f31417e5946558b044b967696c1fe",
            "27de3eb1e641477490a8c5667f960db2",
            "9f1a750e3d7a42a493c27de93b7c3838",
            "d6500e5b722842f9b900abff0697c33a",
            "cf860f4f37f54e4a8ea482d6e26618af",
            "e0176dcede024c129537e18791570838",
            "ac9fc9be1afd4fcb9813fce6dff5a35c",
            "00f2bffe35d1459ca41830e5e0109ec4",
            "9e3205a25d1943678b7686a147f0df56",
            "4bea50c845184d608f5ba71084615807",
            "9bd7db5cd0934ea5b7aa59c360b3b694",
            "01367e9e63bf42d89f36fd8c0a5c0acc",
            "ac3c7e533b214c7eb623433e42aa0245",
            "a82cf3f895994b54b0728de6afaa0b51",
            "1254d181a2f64caab65eafa4899dc3a9",
            "cbf3e430ddea4a1a874a0ce5cdef1691",
            "861b05ab99ca4e01a5ae803bf6e5fba7",
            "a499ac6b51404c3c8a2c35922d384770",
            "f8f188b5508f47f3a6678f502d763637",
            "c246deffe9ef4dcbb58a6409695fe0d1",
            "ba5de2b959f444bdb3d3a4e6d6c787b0",
            "de3ebde591894d81937bb9c5a41662c3",
            "8d1cc9817fae4f4681cb38badaf22e98",
            "b310456bc90c4dd49b8786d875ae9d0e",
            "2c104db72ab04060aff2feeb203f190f",
            "3d3842fd0cba4409b29970caa284e3a3",
            "a96b81f9dcb64337a30818ae65762a8c",
            "123347f28b2046678fd2792b64c6eb63",
            "25daef769ec64cae8ead1f4f86c44c2c",
            "fe8bf173580b45458e5732c3464efd5e",
            "ecbcd30d232f43dbbb282f350480f4c4",
            "74577438679f4e28bda0b75f8f834a31",
            "802e272c77d24fad8064e67587a07c59",
            "765c3d1457774d0f8896a7144cff4d77",
            "19ada900601f4447b94c91dcdae83f65",
            "0a7343b377474a999c9166fd7c0bd232",
            "c689bd1c01104bd7a88b91f644bad67c"
          ]
        },
        "outputId": "883cccea-4960-42a4-8714-8459644e38d6"
      },
      "execution_count": 61,
      "outputs": [
        {
          "output_type": "display_data",
          "data": {
            "text/plain": [
              "Downloading builder script:   0%|          | 0.00/7.95k [00:00<?, ?B/s]"
            ],
            "application/vnd.jupyter.widget-view+json": {
              "version_major": 2,
              "version_minor": 0,
              "model_id": "accab1135c4448a4a3eb750c1b81ebd5"
            }
          },
          "metadata": {}
        },
        {
          "output_type": "display_data",
          "data": {
            "text/plain": [
              "Downloading (…)lve/main/config.json:   0%|          | 0.00/482 [00:00<?, ?B/s]"
            ],
            "application/vnd.jupyter.widget-view+json": {
              "version_major": 2,
              "version_minor": 0,
              "model_id": "4180ce3ea43243e29bc2bb1ba8dc389f"
            }
          },
          "metadata": {}
        },
        {
          "output_type": "display_data",
          "data": {
            "text/plain": [
              "Downloading (…)olve/main/vocab.json:   0%|          | 0.00/899k [00:00<?, ?B/s]"
            ],
            "application/vnd.jupyter.widget-view+json": {
              "version_major": 2,
              "version_minor": 0,
              "model_id": "cf860f4f37f54e4a8ea482d6e26618af"
            }
          },
          "metadata": {}
        },
        {
          "output_type": "display_data",
          "data": {
            "text/plain": [
              "Downloading (…)olve/main/merges.txt:   0%|          | 0.00/456k [00:00<?, ?B/s]"
            ],
            "application/vnd.jupyter.widget-view+json": {
              "version_major": 2,
              "version_minor": 0,
              "model_id": "cbf3e430ddea4a1a874a0ce5cdef1691"
            }
          },
          "metadata": {}
        },
        {
          "output_type": "display_data",
          "data": {
            "text/plain": [
              "Downloading pytorch_model.bin:   0%|          | 0.00/1.43G [00:00<?, ?B/s]"
            ],
            "application/vnd.jupyter.widget-view+json": {
              "version_major": 2,
              "version_minor": 0,
              "model_id": "a96b81f9dcb64337a30818ae65762a8c"
            }
          },
          "metadata": {}
        },
        {
          "output_type": "stream",
          "name": "stdout",
          "text": [
            "BERT F1 Score:  0.880888317796317\n"
          ]
        }
      ]
    },
    {
      "cell_type": "code",
      "source": [
        "!pip3 install rouge_score"
      ],
      "metadata": {
        "id": "BSnJO1eXkfft",
        "colab": {
          "base_uri": "https://localhost:8080/"
        },
        "outputId": "237a862d-b657-483e-f882-087ecd5f02c7"
      },
      "execution_count": 62,
      "outputs": [
        {
          "output_type": "stream",
          "name": "stdout",
          "text": [
            "Looking in indexes: https://pypi.org/simple, https://us-python.pkg.dev/colab-wheels/public/simple/\n",
            "Collecting rouge_score\n",
            "  Downloading rouge_score-0.1.2.tar.gz (17 kB)\n",
            "  Preparing metadata (setup.py) ... \u001b[?25l\u001b[?25hdone\n",
            "Requirement already satisfied: absl-py in /usr/local/lib/python3.10/dist-packages (from rouge_score) (1.4.0)\n",
            "Requirement already satisfied: nltk in /usr/local/lib/python3.10/dist-packages (from rouge_score) (3.8.1)\n",
            "Requirement already satisfied: numpy in /usr/local/lib/python3.10/dist-packages (from rouge_score) (1.22.4)\n",
            "Requirement already satisfied: six>=1.14.0 in /usr/local/lib/python3.10/dist-packages (from rouge_score) (1.16.0)\n",
            "Requirement already satisfied: click in /usr/local/lib/python3.10/dist-packages (from nltk->rouge_score) (8.1.3)\n",
            "Requirement already satisfied: joblib in /usr/local/lib/python3.10/dist-packages (from nltk->rouge_score) (1.2.0)\n",
            "Requirement already satisfied: regex>=2021.8.3 in /usr/local/lib/python3.10/dist-packages (from nltk->rouge_score) (2022.10.31)\n",
            "Requirement already satisfied: tqdm in /usr/local/lib/python3.10/dist-packages (from nltk->rouge_score) (4.65.0)\n",
            "Building wheels for collected packages: rouge_score\n",
            "  Building wheel for rouge_score (setup.py) ... \u001b[?25l\u001b[?25hdone\n",
            "  Created wheel for rouge_score: filename=rouge_score-0.1.2-py3-none-any.whl size=24934 sha256=c365f45dcf5aab23d04aa3fc223439380a8df578adde51059a80767bf7e85271\n",
            "  Stored in directory: /root/.cache/pip/wheels/5f/dd/89/461065a73be61a532ff8599a28e9beef17985c9e9c31e541b4\n",
            "Successfully built rouge_score\n",
            "Installing collected packages: rouge_score\n",
            "Successfully installed rouge_score-0.1.2\n"
          ]
        }
      ]
    },
    {
      "cell_type": "code",
      "source": [
        "rouge = evaluate.load('rouge')\n",
        "\n",
        "results = rouge.compute(predictions = prediction_test, references = reference_test)\n",
        "\n",
        "\n",
        "print(results.keys())\n",
        "\n",
        "print(f\"ROGUE SCORE (Uni gram): {results['rouge1']}\")\n",
        "print(f\"ROGUE SCORE (Bi gram): {results['rouge2']}\")\n",
        "print(f\"ROUGE SCORE (LCS): {results['rougeL']}\")\n",
        "print(f\"ROGUE SCORE (Lsum): {results['rougeLsum']}\")"
      ],
      "metadata": {
        "id": "Uv-OTMnRkhms",
        "colab": {
          "base_uri": "https://localhost:8080/",
          "height": 138,
          "referenced_widgets": [
            "9506cfd891604f868ec6df2cef9fb8c0",
            "c5e6c9e021ff48e28a2e930c1ca3313b",
            "f4c0627ff9584039acac382f34404c28",
            "cd10d4d8ebe74d6281f2e0cba838cf85",
            "22515a6acb0846c9b53d2682b6b662ac",
            "91e9742838cc44b7814f7cff14ce1e47",
            "add41f3406a646e3be9ed229e03e3c06",
            "be2ae36a1cf145e195e500a0e2f689cc",
            "41ce8173725940e293f512074ae7bbda",
            "05a414616cfe4e29948dda808e7162e7",
            "a240eaf4de144ca48aedec5f80c2e1c5"
          ]
        },
        "outputId": "7a92bfb0-07e9-4c19-fa36-4c466a1c0b6e"
      },
      "execution_count": 63,
      "outputs": [
        {
          "output_type": "display_data",
          "data": {
            "text/plain": [
              "Downloading builder script:   0%|          | 0.00/6.27k [00:00<?, ?B/s]"
            ],
            "application/vnd.jupyter.widget-view+json": {
              "version_major": 2,
              "version_minor": 0,
              "model_id": "9506cfd891604f868ec6df2cef9fb8c0"
            }
          },
          "metadata": {}
        },
        {
          "output_type": "stream",
          "name": "stdout",
          "text": [
            "dict_keys(['rouge1', 'rouge2', 'rougeL', 'rougeLsum'])\n",
            "ROGUE SCORE (Uni gram): 0.3900153916175182\n",
            "ROGUE SCORE (Bi gram): 0.32841348681658106\n",
            "ROUGE SCORE (LCS): 0.37792065213107195\n",
            "ROGUE SCORE (Lsum): 0.3785406627843594\n"
          ]
        }
      ]
    },
    {
      "cell_type": "code",
      "source": [
        "formatted_predictions_df = pd.DataFrame(data = formatted_predictions, columns = ['id','prediction_text'])\n",
        "formatted_predictions_df.to_csv('multipart_formatted_predictions.csv',header=True, index=False)\n",
        "references_df = pd.DataFrame(data = references, columns = ['id','answers'])\n",
        "references_df.to_csv('multipart_references.csv',index=False,header=True)"
      ],
      "metadata": {
        "id": "Ji-8Ts1wu3QW"
      },
      "execution_count": 64,
      "outputs": []
    },
    {
      "cell_type": "markdown",
      "source": [
        "Final Evaluation"
      ],
      "metadata": {
        "id": "Wa5MB0KVvyx-"
      }
    },
    {
      "cell_type": "code",
      "source": [
        "phrase_pred = pd.read_csv('/content/phrase_formatted_predictions')\n",
        "phrase_ref = pd.read_csv('/content/phrase_references.csv')\n",
        "\n",
        "passage_pred = pd.read_csv('/content/passage_formatted_predictions')\n",
        "passage_ref = pd.read_csv('/content/passage_references.csv')\n",
        "\n",
        "multipart_pred = pd.read_csv('/content/multipart_formatted_predictions.csv')\n",
        "multipart_ref = pd.read_csv('/content/multipart_references.csv')"
      ],
      "metadata": {
        "id": "pMeUEG1Jv2Ny"
      },
      "execution_count": 68,
      "outputs": []
    },
    {
      "cell_type": "code",
      "source": [
        "final_pred = pd.concat([phrase_pred,passage_pred]).reset_index(drop=True)\n",
        "final_pred = pd.concat([final_pred,multipart_pred]).reset_index(drop=True)"
      ],
      "metadata": {
        "id": "gxNt-wvowmLm"
      },
      "execution_count": 72,
      "outputs": []
    },
    {
      "cell_type": "code",
      "source": [
        "final_ref = pd.concat([phrase_ref,passage_ref]).reset_index(drop=True)\n",
        "final_ref = pd.concat([final_ref,multipart_ref]).reset_index(drop=True)"
      ],
      "metadata": {
        "id": "Sq_WySAExDIv"
      },
      "execution_count": 78,
      "outputs": []
    },
    {
      "cell_type": "code",
      "source": [
        "print(len(final_pred))\n",
        "print(len(final_ref))"
      ],
      "metadata": {
        "colab": {
          "base_uri": "https://localhost:8080/"
        },
        "id": "X6WNXD1AxF5D",
        "outputId": "26d39852-206b-4143-d671-ba6a72300f83"
      },
      "execution_count": 79,
      "outputs": [
        {
          "output_type": "stream",
          "name": "stdout",
          "text": [
            "680\n",
            "680\n"
          ]
        }
      ]
    },
    {
      "cell_type": "code",
      "source": [
        "final_ref['answers'][0]"
      ],
      "metadata": {
        "colab": {
          "base_uri": "https://localhost:8080/",
          "height": 35
        },
        "id": "76E5jUrv0IPM",
        "outputId": "b9236d4f-46c3-4bba-8a4d-b1eb02b02696"
      },
      "execution_count": 198,
      "outputs": [
        {
          "output_type": "execute_result",
          "data": {
            "text/plain": [
              "\"{'answer_start': [669], 'text': ['20%']}\""
            ],
            "application/vnd.google.colaboratory.intrinsic+json": {
              "type": "string"
            }
          },
          "metadata": {},
          "execution_count": 198
        }
      ]
    },
    {
      "cell_type": "code",
      "source": [
        "import evaluate\n",
        "bleu = evaluate.load('bleu')\n",
        "results = 0\n",
        "prediction_test = []\n",
        "reference_test = []\n",
        "\n",
        "for i in range(len(multipart_pred)):\n",
        "  prediction_test.append(multipart_pred[\"prediction_text\"][i].strip())\n",
        "  reference_test.append(references[i][\"answers\"][\"text\"][0].strip())\n",
        "\n",
        "results = bleu.compute(predictions = prediction_test, references = reference_test).get(\"bleu\")\n",
        "\n",
        "print(f\"BLEU SCORE: {results}\")"
      ],
      "metadata": {
        "colab": {
          "base_uri": "https://localhost:8080/",
          "height": 240
        },
        "id": "01SF0NndvMrV",
        "outputId": "44d448dc-4e9e-4d3a-fb70-5816e0557f72"
      },
      "execution_count": 83,
      "outputs": [
        {
          "output_type": "error",
          "ename": "TypeError",
          "evalue": "ignored",
          "traceback": [
            "\u001b[0;31m---------------------------------------------------------------------------\u001b[0m",
            "\u001b[0;31mTypeError\u001b[0m                                 Traceback (most recent call last)",
            "\u001b[0;32m<ipython-input-83-7b8a67695e22>\u001b[0m in \u001b[0;36m<cell line: 7>\u001b[0;34m()\u001b[0m\n\u001b[1;32m      7\u001b[0m \u001b[0;32mfor\u001b[0m \u001b[0mi\u001b[0m \u001b[0;32min\u001b[0m \u001b[0mrange\u001b[0m\u001b[0;34m(\u001b[0m\u001b[0mlen\u001b[0m\u001b[0;34m(\u001b[0m\u001b[0mfinal_pred\u001b[0m\u001b[0;34m)\u001b[0m\u001b[0;34m)\u001b[0m\u001b[0;34m:\u001b[0m\u001b[0;34m\u001b[0m\u001b[0;34m\u001b[0m\u001b[0m\n\u001b[1;32m      8\u001b[0m   \u001b[0mprediction_test\u001b[0m\u001b[0;34m.\u001b[0m\u001b[0mappend\u001b[0m\u001b[0;34m(\u001b[0m\u001b[0mfinal_pred\u001b[0m\u001b[0;34m[\u001b[0m\u001b[0;34m\"prediction_text\"\u001b[0m\u001b[0;34m]\u001b[0m\u001b[0;34m[\u001b[0m\u001b[0mi\u001b[0m\u001b[0;34m]\u001b[0m\u001b[0;34m.\u001b[0m\u001b[0mstrip\u001b[0m\u001b[0;34m(\u001b[0m\u001b[0;34m)\u001b[0m\u001b[0;34m)\u001b[0m\u001b[0;34m\u001b[0m\u001b[0;34m\u001b[0m\u001b[0m\n\u001b[0;32m----> 9\u001b[0;31m   \u001b[0mreference_test\u001b[0m\u001b[0;34m.\u001b[0m\u001b[0mappend\u001b[0m\u001b[0;34m(\u001b[0m\u001b[0mfinal_ref\u001b[0m\u001b[0;34m[\u001b[0m\u001b[0;34m\"answers\"\u001b[0m\u001b[0;34m]\u001b[0m\u001b[0;34m[\u001b[0m\u001b[0mi\u001b[0m\u001b[0;34m]\u001b[0m\u001b[0;34m[\u001b[0m\u001b[0;34m\"text\"\u001b[0m\u001b[0;34m]\u001b[0m\u001b[0;34m[\u001b[0m\u001b[0;36m0\u001b[0m\u001b[0;34m]\u001b[0m\u001b[0;34m.\u001b[0m\u001b[0mstrip\u001b[0m\u001b[0;34m(\u001b[0m\u001b[0;34m)\u001b[0m\u001b[0;34m)\u001b[0m\u001b[0;34m\u001b[0m\u001b[0;34m\u001b[0m\u001b[0m\n\u001b[0m\u001b[1;32m     10\u001b[0m \u001b[0;34m\u001b[0m\u001b[0m\n\u001b[1;32m     11\u001b[0m \u001b[0mresults\u001b[0m \u001b[0;34m=\u001b[0m \u001b[0mbleu\u001b[0m\u001b[0;34m.\u001b[0m\u001b[0mcompute\u001b[0m\u001b[0;34m(\u001b[0m\u001b[0mpredictions\u001b[0m \u001b[0;34m=\u001b[0m \u001b[0mprediction_test\u001b[0m\u001b[0;34m,\u001b[0m \u001b[0mreferences\u001b[0m \u001b[0;34m=\u001b[0m \u001b[0mreference_test\u001b[0m\u001b[0;34m)\u001b[0m\u001b[0;34m.\u001b[0m\u001b[0mget\u001b[0m\u001b[0;34m(\u001b[0m\u001b[0;34m\"bleu\"\u001b[0m\u001b[0;34m)\u001b[0m\u001b[0;34m\u001b[0m\u001b[0;34m\u001b[0m\u001b[0m\n",
            "\u001b[0;31mTypeError\u001b[0m: string indices must be integers"
          ]
        }
      ]
    },
    {
      "cell_type": "code",
      "source": [
        "ref_new_lst = []"
      ],
      "metadata": {
        "id": "AlfX74Mo403j"
      },
      "execution_count": 187,
      "outputs": []
    },
    {
      "cell_type": "code",
      "source": [
        "for i in range(len(multipart_ref)):\n",
        "  json_data = json.dumps(multipart_ref['answers'][i])\n",
        "  # dict_data = json.loads(json_data)\n",
        "  # ref_new_lst.append(dict_data['text'])\n"
      ],
      "metadata": {
        "colab": {
          "base_uri": "https://localhost:8080/",
          "height": 204
        },
        "id": "liRDMavL4eN0",
        "outputId": "30d24804-c1e0-43cd-ea8f-fd9e8054632d"
      },
      "execution_count": 188,
      "outputs": [
        {
          "output_type": "error",
          "ename": "TypeError",
          "evalue": "ignored",
          "traceback": [
            "\u001b[0;31m---------------------------------------------------------------------------\u001b[0m",
            "\u001b[0;31mTypeError\u001b[0m                                 Traceback (most recent call last)",
            "\u001b[0;32m<ipython-input-188-2cdd4a935395>\u001b[0m in \u001b[0;36m<cell line: 1>\u001b[0;34m()\u001b[0m\n\u001b[1;32m      2\u001b[0m   \u001b[0mjson_data\u001b[0m \u001b[0;34m=\u001b[0m \u001b[0mjson\u001b[0m\u001b[0;34m.\u001b[0m\u001b[0mdumps\u001b[0m\u001b[0;34m(\u001b[0m\u001b[0mmultipart_ref\u001b[0m\u001b[0;34m[\u001b[0m\u001b[0;34m'answers'\u001b[0m\u001b[0;34m]\u001b[0m\u001b[0;34m[\u001b[0m\u001b[0mi\u001b[0m\u001b[0;34m]\u001b[0m\u001b[0;34m)\u001b[0m\u001b[0;34m\u001b[0m\u001b[0;34m\u001b[0m\u001b[0m\n\u001b[1;32m      3\u001b[0m   \u001b[0mdict_data\u001b[0m \u001b[0;34m=\u001b[0m \u001b[0mjson\u001b[0m\u001b[0;34m.\u001b[0m\u001b[0mloads\u001b[0m\u001b[0;34m(\u001b[0m\u001b[0mjson_data\u001b[0m\u001b[0;34m)\u001b[0m\u001b[0;34m\u001b[0m\u001b[0;34m\u001b[0m\u001b[0m\n\u001b[0;32m----> 4\u001b[0;31m   \u001b[0mref_new_lst\u001b[0m\u001b[0;34m.\u001b[0m\u001b[0mappend\u001b[0m\u001b[0;34m(\u001b[0m\u001b[0mdict_data\u001b[0m\u001b[0;34m[\u001b[0m\u001b[0;34m'text'\u001b[0m\u001b[0;34m]\u001b[0m\u001b[0;34m)\u001b[0m\u001b[0;34m\u001b[0m\u001b[0;34m\u001b[0m\u001b[0m\n\u001b[0m",
            "\u001b[0;31mTypeError\u001b[0m: string indices must be integers"
          ]
        }
      ]
    },
    {
      "cell_type": "code",
      "source": [
        "json_data = json.dumps(multipart_ref['answers'][0])"
      ],
      "metadata": {
        "id": "2jLiaH_w49JB"
      },
      "execution_count": 189,
      "outputs": []
    },
    {
      "cell_type": "code",
      "source": [
        "json_data"
      ],
      "metadata": {
        "colab": {
          "base_uri": "https://localhost:8080/",
          "height": 35
        },
        "id": "ki2Xe3KV4-Yt",
        "outputId": "ca31cdf3-ffde-4cb1-93e9-0f9bdb7186c0"
      },
      "execution_count": 190,
      "outputs": [
        {
          "output_type": "execute_result",
          "data": {
            "text/plain": [
              "'\"{\\'answer_start\\': [0], \\'text\\': [\\'Alan Rickman & Rupert Grint,CBGB\\']}\"'"
            ],
            "application/vnd.google.colaboratory.intrinsic+json": {
              "type": "string"
            }
          },
          "metadata": {},
          "execution_count": 190
        }
      ]
    },
    {
      "cell_type": "code",
      "source": [
        "dict_data = json.loads(json_data)"
      ],
      "metadata": {
        "id": "PGch-7ZW5Cfu"
      },
      "execution_count": 191,
      "outputs": []
    },
    {
      "cell_type": "code",
      "source": [
        "dict_data"
      ],
      "metadata": {
        "colab": {
          "base_uri": "https://localhost:8080/",
          "height": 35
        },
        "id": "f1J2qXi65DZh",
        "outputId": "b3451ce2-fbd8-4c65-83dc-98e0f400294b"
      },
      "execution_count": 194,
      "outputs": [
        {
          "output_type": "execute_result",
          "data": {
            "text/plain": [
              "\"{'answer_start': [0], 'text': ['Alan Rickman & Rupert Grint,CBGB']}\""
            ],
            "application/vnd.google.colaboratory.intrinsic+json": {
              "type": "string"
            }
          },
          "metadata": {},
          "execution_count": 194
        }
      ]
    },
    {
      "cell_type": "code",
      "source": [
        "temp_var = multipart_ref['answers'][0]"
      ],
      "metadata": {
        "id": "EYJROrkMz4FV"
      },
      "execution_count": 183,
      "outputs": []
    },
    {
      "cell_type": "code",
      "source": [
        "temp_var"
      ],
      "metadata": {
        "colab": {
          "base_uri": "https://localhost:8080/",
          "height": 35
        },
        "id": "fMMAERJg3B1u",
        "outputId": "b8ffcda4-29da-45c5-ace5-c06fabef38d8"
      },
      "execution_count": 184,
      "outputs": [
        {
          "output_type": "execute_result",
          "data": {
            "text/plain": [
              "\"{'answer_start': [0], 'text': ['Alan Rickman & Rupert Grint,CBGB']}\""
            ],
            "application/vnd.google.colaboratory.intrinsic+json": {
              "type": "string"
            }
          },
          "metadata": {},
          "execution_count": 184
        }
      ]
    },
    {
      "cell_type": "code",
      "source": [
        "type(temp_var)"
      ],
      "metadata": {
        "colab": {
          "base_uri": "https://localhost:8080/"
        },
        "id": "osF63xMm1fLV",
        "outputId": "f717c3d2-2588-477c-a184-f6ca35e08a5b"
      },
      "execution_count": 161,
      "outputs": [
        {
          "output_type": "execute_result",
          "data": {
            "text/plain": [
              "str"
            ]
          },
          "metadata": {},
          "execution_count": 161
        }
      ]
    },
    {
      "cell_type": "code",
      "source": [
        "dict_data['text'][0]"
      ],
      "metadata": {
        "colab": {
          "base_uri": "https://localhost:8080/",
          "height": 35
        },
        "id": "yjTNfzCq4IuA",
        "outputId": "2c9dfb50-cc97-48fd-dc25-3e01fd19222c"
      },
      "execution_count": 181,
      "outputs": [
        {
          "output_type": "execute_result",
          "data": {
            "text/plain": [
              "'Alan Rickman & Rupert Grint,CBGB'"
            ],
            "application/vnd.google.colaboratory.intrinsic+json": {
              "type": "string"
            }
          },
          "metadata": {},
          "execution_count": 181
        }
      ]
    },
    {
      "cell_type": "code",
      "source": [
        "references[0][\"answers\"][\"text\"][0]"
      ],
      "metadata": {
        "colab": {
          "base_uri": "https://localhost:8080/",
          "height": 35
        },
        "id": "wQOZP2UO0ZJh",
        "outputId": "06d1e01a-d87c-4cec-bd53-10ef4070c33a"
      },
      "execution_count": 182,
      "outputs": [
        {
          "output_type": "execute_result",
          "data": {
            "text/plain": [
              "'Alan Rickman & Rupert Grint,CBGB'"
            ],
            "application/vnd.google.colaboratory.intrinsic+json": {
              "type": "string"
            }
          },
          "metadata": {},
          "execution_count": 182
        }
      ]
    },
    {
      "cell_type": "markdown",
      "source": [
        "EZPZ"
      ],
      "metadata": {
        "id": "5A85tZJG68jR"
      }
    },
    {
      "cell_type": "code",
      "source": [
        "test_df_ezpz = pd.read_json(\"validation.jsonl\", lines = True)"
      ],
      "metadata": {
        "id": "hHsVFQ0X6FNI"
      },
      "execution_count": 204,
      "outputs": []
    },
    {
      "cell_type": "code",
      "source": [
        "test_df_ezpz.head(1)"
      ],
      "metadata": {
        "colab": {
          "base_uri": "https://localhost:8080/",
          "height": 232
        },
        "id": "ShsrSqkX7BlJ",
        "outputId": "53fec5a3-1f23-4a0e-9fa7-610bf682c3b6"
      },
      "execution_count": 206,
      "outputs": [
        {
          "output_type": "execute_result",
          "data": {
            "text/plain": [
              "                                   uuid                           postId  \\\n",
              "0  6dc7ddef-4e8e-4a6b-9296-526377518071  800048986762423_885081814925806   \n",
              "\n",
              "                                            postText postPlatform  \\\n",
              "0  [Five Nights at Freddy’s Sequel Delayed for We...     Facebook   \n",
              "\n",
              "                                    targetParagraphs  \\\n",
              "0  [Five Nights at Freddy’s creator Scott Cawthon...   \n",
              "\n",
              "                                         targetTitle  \\\n",
              "0  Five Nights at Freddy’s Sequel Delayed for Wei...   \n",
              "\n",
              "                                   targetDescription targetKeywords  \\\n",
              "0  Five Nights at Freddy's creator Scott Cawthon ...           None   \n",
              "\n",
              "                                         targetMedia  \\\n",
              "0  [https://gamerant.com/wp-content/uploads/five-...   \n",
              "\n",
              "                                           targetUrl  \\\n",
              "0  https://gamerant.com/five-nights-at-freddys-se...   \n",
              "\n",
              "                                          provenance  \\\n",
              "0  {'source': 'anonymized', 'humanSpoiler': 'They...   \n",
              "\n",
              "                                             spoiler        spoilerPositions  \\\n",
              "0  [some of the plot elements are so disturbing t...  [[[2, 158], [2, 236]]]   \n",
              "\n",
              "        tags  \n",
              "0  [passage]  "
            ],
            "text/html": [
              "\n",
              "  <div id=\"df-90c8c1ab-b8de-4da0-b330-3449bc99edaa\">\n",
              "    <div class=\"colab-df-container\">\n",
              "      <div>\n",
              "<style scoped>\n",
              "    .dataframe tbody tr th:only-of-type {\n",
              "        vertical-align: middle;\n",
              "    }\n",
              "\n",
              "    .dataframe tbody tr th {\n",
              "        vertical-align: top;\n",
              "    }\n",
              "\n",
              "    .dataframe thead th {\n",
              "        text-align: right;\n",
              "    }\n",
              "</style>\n",
              "<table border=\"1\" class=\"dataframe\">\n",
              "  <thead>\n",
              "    <tr style=\"text-align: right;\">\n",
              "      <th></th>\n",
              "      <th>uuid</th>\n",
              "      <th>postId</th>\n",
              "      <th>postText</th>\n",
              "      <th>postPlatform</th>\n",
              "      <th>targetParagraphs</th>\n",
              "      <th>targetTitle</th>\n",
              "      <th>targetDescription</th>\n",
              "      <th>targetKeywords</th>\n",
              "      <th>targetMedia</th>\n",
              "      <th>targetUrl</th>\n",
              "      <th>provenance</th>\n",
              "      <th>spoiler</th>\n",
              "      <th>spoilerPositions</th>\n",
              "      <th>tags</th>\n",
              "    </tr>\n",
              "  </thead>\n",
              "  <tbody>\n",
              "    <tr>\n",
              "      <th>0</th>\n",
              "      <td>6dc7ddef-4e8e-4a6b-9296-526377518071</td>\n",
              "      <td>800048986762423_885081814925806</td>\n",
              "      <td>[Five Nights at Freddy’s Sequel Delayed for We...</td>\n",
              "      <td>Facebook</td>\n",
              "      <td>[Five Nights at Freddy’s creator Scott Cawthon...</td>\n",
              "      <td>Five Nights at Freddy’s Sequel Delayed for Wei...</td>\n",
              "      <td>Five Nights at Freddy's creator Scott Cawthon ...</td>\n",
              "      <td>None</td>\n",
              "      <td>[https://gamerant.com/wp-content/uploads/five-...</td>\n",
              "      <td>https://gamerant.com/five-nights-at-freddys-se...</td>\n",
              "      <td>{'source': 'anonymized', 'humanSpoiler': 'They...</td>\n",
              "      <td>[some of the plot elements are so disturbing t...</td>\n",
              "      <td>[[[2, 158], [2, 236]]]</td>\n",
              "      <td>[passage]</td>\n",
              "    </tr>\n",
              "  </tbody>\n",
              "</table>\n",
              "</div>\n",
              "      <button class=\"colab-df-convert\" onclick=\"convertToInteractive('df-90c8c1ab-b8de-4da0-b330-3449bc99edaa')\"\n",
              "              title=\"Convert this dataframe to an interactive table.\"\n",
              "              style=\"display:none;\">\n",
              "        \n",
              "  <svg xmlns=\"http://www.w3.org/2000/svg\" height=\"24px\"viewBox=\"0 0 24 24\"\n",
              "       width=\"24px\">\n",
              "    <path d=\"M0 0h24v24H0V0z\" fill=\"none\"/>\n",
              "    <path d=\"M18.56 5.44l.94 2.06.94-2.06 2.06-.94-2.06-.94-.94-2.06-.94 2.06-2.06.94zm-11 1L8.5 8.5l.94-2.06 2.06-.94-2.06-.94L8.5 2.5l-.94 2.06-2.06.94zm10 10l.94 2.06.94-2.06 2.06-.94-2.06-.94-.94-2.06-.94 2.06-2.06.94z\"/><path d=\"M17.41 7.96l-1.37-1.37c-.4-.4-.92-.59-1.43-.59-.52 0-1.04.2-1.43.59L10.3 9.45l-7.72 7.72c-.78.78-.78 2.05 0 2.83L4 21.41c.39.39.9.59 1.41.59.51 0 1.02-.2 1.41-.59l7.78-7.78 2.81-2.81c.8-.78.8-2.07 0-2.86zM5.41 20L4 18.59l7.72-7.72 1.47 1.35L5.41 20z\"/>\n",
              "  </svg>\n",
              "      </button>\n",
              "      \n",
              "  <style>\n",
              "    .colab-df-container {\n",
              "      display:flex;\n",
              "      flex-wrap:wrap;\n",
              "      gap: 12px;\n",
              "    }\n",
              "\n",
              "    .colab-df-convert {\n",
              "      background-color: #E8F0FE;\n",
              "      border: none;\n",
              "      border-radius: 50%;\n",
              "      cursor: pointer;\n",
              "      display: none;\n",
              "      fill: #1967D2;\n",
              "      height: 32px;\n",
              "      padding: 0 0 0 0;\n",
              "      width: 32px;\n",
              "    }\n",
              "\n",
              "    .colab-df-convert:hover {\n",
              "      background-color: #E2EBFA;\n",
              "      box-shadow: 0px 1px 2px rgba(60, 64, 67, 0.3), 0px 1px 3px 1px rgba(60, 64, 67, 0.15);\n",
              "      fill: #174EA6;\n",
              "    }\n",
              "\n",
              "    [theme=dark] .colab-df-convert {\n",
              "      background-color: #3B4455;\n",
              "      fill: #D2E3FC;\n",
              "    }\n",
              "\n",
              "    [theme=dark] .colab-df-convert:hover {\n",
              "      background-color: #434B5C;\n",
              "      box-shadow: 0px 1px 3px 1px rgba(0, 0, 0, 0.15);\n",
              "      filter: drop-shadow(0px 1px 2px rgba(0, 0, 0, 0.3));\n",
              "      fill: #FFFFFF;\n",
              "    }\n",
              "  </style>\n",
              "\n",
              "      <script>\n",
              "        const buttonEl =\n",
              "          document.querySelector('#df-90c8c1ab-b8de-4da0-b330-3449bc99edaa button.colab-df-convert');\n",
              "        buttonEl.style.display =\n",
              "          google.colab.kernel.accessAllowed ? 'block' : 'none';\n",
              "\n",
              "        async function convertToInteractive(key) {\n",
              "          const element = document.querySelector('#df-90c8c1ab-b8de-4da0-b330-3449bc99edaa');\n",
              "          const dataTable =\n",
              "            await google.colab.kernel.invokeFunction('convertToInteractive',\n",
              "                                                     [key], {});\n",
              "          if (!dataTable) return;\n",
              "\n",
              "          const docLinkHtml = 'Like what you see? Visit the ' +\n",
              "            '<a target=\"_blank\" href=https://colab.research.google.com/notebooks/data_table.ipynb>data table notebook</a>'\n",
              "            + ' to learn more about interactive tables.';\n",
              "          element.innerHTML = '';\n",
              "          dataTable['output_type'] = 'display_data';\n",
              "          await google.colab.output.renderOutput(dataTable, element);\n",
              "          const docLink = document.createElement('div');\n",
              "          docLink.innerHTML = docLinkHtml;\n",
              "          element.appendChild(docLink);\n",
              "        }\n",
              "      </script>\n",
              "    </div>\n",
              "  </div>\n",
              "  "
            ]
          },
          "metadata": {},
          "execution_count": 206
        }
      ]
    },
    {
      "cell_type": "code",
      "source": [
        "phrase_ref.head(1)"
      ],
      "metadata": {
        "colab": {
          "base_uri": "https://localhost:8080/",
          "height": 81
        },
        "id": "X6Dhwarg7Ekz",
        "outputId": "55456195-35b2-4e1d-db75-220815cf1e85"
      },
      "execution_count": 207,
      "outputs": [
        {
          "output_type": "execute_result",
          "data": {
            "text/plain": [
              "                                     id  \\\n",
              "0  8091ba93-6376-473a-9117-01d6cf0507e4   \n",
              "\n",
              "                                    answers  \n",
              "0  {'answer_start': [669], 'text': ['20%']}  "
            ],
            "text/html": [
              "\n",
              "  <div id=\"df-8cc1ee1b-2286-4c4d-abd0-e1f7217c3159\">\n",
              "    <div class=\"colab-df-container\">\n",
              "      <div>\n",
              "<style scoped>\n",
              "    .dataframe tbody tr th:only-of-type {\n",
              "        vertical-align: middle;\n",
              "    }\n",
              "\n",
              "    .dataframe tbody tr th {\n",
              "        vertical-align: top;\n",
              "    }\n",
              "\n",
              "    .dataframe thead th {\n",
              "        text-align: right;\n",
              "    }\n",
              "</style>\n",
              "<table border=\"1\" class=\"dataframe\">\n",
              "  <thead>\n",
              "    <tr style=\"text-align: right;\">\n",
              "      <th></th>\n",
              "      <th>id</th>\n",
              "      <th>answers</th>\n",
              "    </tr>\n",
              "  </thead>\n",
              "  <tbody>\n",
              "    <tr>\n",
              "      <th>0</th>\n",
              "      <td>8091ba93-6376-473a-9117-01d6cf0507e4</td>\n",
              "      <td>{'answer_start': [669], 'text': ['20%']}</td>\n",
              "    </tr>\n",
              "  </tbody>\n",
              "</table>\n",
              "</div>\n",
              "      <button class=\"colab-df-convert\" onclick=\"convertToInteractive('df-8cc1ee1b-2286-4c4d-abd0-e1f7217c3159')\"\n",
              "              title=\"Convert this dataframe to an interactive table.\"\n",
              "              style=\"display:none;\">\n",
              "        \n",
              "  <svg xmlns=\"http://www.w3.org/2000/svg\" height=\"24px\"viewBox=\"0 0 24 24\"\n",
              "       width=\"24px\">\n",
              "    <path d=\"M0 0h24v24H0V0z\" fill=\"none\"/>\n",
              "    <path d=\"M18.56 5.44l.94 2.06.94-2.06 2.06-.94-2.06-.94-.94-2.06-.94 2.06-2.06.94zm-11 1L8.5 8.5l.94-2.06 2.06-.94-2.06-.94L8.5 2.5l-.94 2.06-2.06.94zm10 10l.94 2.06.94-2.06 2.06-.94-2.06-.94-.94-2.06-.94 2.06-2.06.94z\"/><path d=\"M17.41 7.96l-1.37-1.37c-.4-.4-.92-.59-1.43-.59-.52 0-1.04.2-1.43.59L10.3 9.45l-7.72 7.72c-.78.78-.78 2.05 0 2.83L4 21.41c.39.39.9.59 1.41.59.51 0 1.02-.2 1.41-.59l7.78-7.78 2.81-2.81c.8-.78.8-2.07 0-2.86zM5.41 20L4 18.59l7.72-7.72 1.47 1.35L5.41 20z\"/>\n",
              "  </svg>\n",
              "      </button>\n",
              "      \n",
              "  <style>\n",
              "    .colab-df-container {\n",
              "      display:flex;\n",
              "      flex-wrap:wrap;\n",
              "      gap: 12px;\n",
              "    }\n",
              "\n",
              "    .colab-df-convert {\n",
              "      background-color: #E8F0FE;\n",
              "      border: none;\n",
              "      border-radius: 50%;\n",
              "      cursor: pointer;\n",
              "      display: none;\n",
              "      fill: #1967D2;\n",
              "      height: 32px;\n",
              "      padding: 0 0 0 0;\n",
              "      width: 32px;\n",
              "    }\n",
              "\n",
              "    .colab-df-convert:hover {\n",
              "      background-color: #E2EBFA;\n",
              "      box-shadow: 0px 1px 2px rgba(60, 64, 67, 0.3), 0px 1px 3px 1px rgba(60, 64, 67, 0.15);\n",
              "      fill: #174EA6;\n",
              "    }\n",
              "\n",
              "    [theme=dark] .colab-df-convert {\n",
              "      background-color: #3B4455;\n",
              "      fill: #D2E3FC;\n",
              "    }\n",
              "\n",
              "    [theme=dark] .colab-df-convert:hover {\n",
              "      background-color: #434B5C;\n",
              "      box-shadow: 0px 1px 3px 1px rgba(0, 0, 0, 0.15);\n",
              "      filter: drop-shadow(0px 1px 2px rgba(0, 0, 0, 0.3));\n",
              "      fill: #FFFFFF;\n",
              "    }\n",
              "  </style>\n",
              "\n",
              "      <script>\n",
              "        const buttonEl =\n",
              "          document.querySelector('#df-8cc1ee1b-2286-4c4d-abd0-e1f7217c3159 button.colab-df-convert');\n",
              "        buttonEl.style.display =\n",
              "          google.colab.kernel.accessAllowed ? 'block' : 'none';\n",
              "\n",
              "        async function convertToInteractive(key) {\n",
              "          const element = document.querySelector('#df-8cc1ee1b-2286-4c4d-abd0-e1f7217c3159');\n",
              "          const dataTable =\n",
              "            await google.colab.kernel.invokeFunction('convertToInteractive',\n",
              "                                                     [key], {});\n",
              "          if (!dataTable) return;\n",
              "\n",
              "          const docLinkHtml = 'Like what you see? Visit the ' +\n",
              "            '<a target=\"_blank\" href=https://colab.research.google.com/notebooks/data_table.ipynb>data table notebook</a>'\n",
              "            + ' to learn more about interactive tables.';\n",
              "          element.innerHTML = '';\n",
              "          dataTable['output_type'] = 'display_data';\n",
              "          await google.colab.output.renderOutput(dataTable, element);\n",
              "          const docLink = document.createElement('div');\n",
              "          docLink.innerHTML = docLinkHtml;\n",
              "          element.appendChild(docLink);\n",
              "        }\n",
              "      </script>\n",
              "    </div>\n",
              "  </div>\n",
              "  "
            ]
          },
          "metadata": {},
          "execution_count": 207
        }
      ]
    },
    {
      "cell_type": "code",
      "source": [
        "phrase_ref_ezpz = test_df_ezpz[test_df_ezpz['uuid'].isin(phrase_ref['id'].tolist())]"
      ],
      "metadata": {
        "id": "IlOPG1xj7SHg"
      },
      "execution_count": 208,
      "outputs": []
    },
    {
      "cell_type": "code",
      "source": [
        "len(phrase_ref_ezpz)"
      ],
      "metadata": {
        "colab": {
          "base_uri": "https://localhost:8080/"
        },
        "id": "RQCclU1e7dZ8",
        "outputId": "14639fdc-8fb0-4620-c940-fbd5f375d581"
      },
      "execution_count": 242,
      "outputs": [
        {
          "output_type": "execute_result",
          "data": {
            "text/plain": [
              "223"
            ]
          },
          "metadata": {},
          "execution_count": 242
        }
      ]
    },
    {
      "cell_type": "code",
      "source": [
        "passage_ref.head(1)"
      ],
      "metadata": {
        "colab": {
          "base_uri": "https://localhost:8080/",
          "height": 81
        },
        "id": "u7hRQwlO7iYJ",
        "outputId": "5743a976-6e1e-45cd-bcaf-2512a89b47d9"
      },
      "execution_count": 210,
      "outputs": [
        {
          "output_type": "execute_result",
          "data": {
            "text/plain": [
              "                                     id  \\\n",
              "0  6dc7ddef-4e8e-4a6b-9296-526377518071   \n",
              "\n",
              "                                             answers  \n",
              "0  {'answer_start': [767], 'text': ['some of the ...  "
            ],
            "text/html": [
              "\n",
              "  <div id=\"df-af43a39e-4a87-4005-a49d-6eb07f38cd38\">\n",
              "    <div class=\"colab-df-container\">\n",
              "      <div>\n",
              "<style scoped>\n",
              "    .dataframe tbody tr th:only-of-type {\n",
              "        vertical-align: middle;\n",
              "    }\n",
              "\n",
              "    .dataframe tbody tr th {\n",
              "        vertical-align: top;\n",
              "    }\n",
              "\n",
              "    .dataframe thead th {\n",
              "        text-align: right;\n",
              "    }\n",
              "</style>\n",
              "<table border=\"1\" class=\"dataframe\">\n",
              "  <thead>\n",
              "    <tr style=\"text-align: right;\">\n",
              "      <th></th>\n",
              "      <th>id</th>\n",
              "      <th>answers</th>\n",
              "    </tr>\n",
              "  </thead>\n",
              "  <tbody>\n",
              "    <tr>\n",
              "      <th>0</th>\n",
              "      <td>6dc7ddef-4e8e-4a6b-9296-526377518071</td>\n",
              "      <td>{'answer_start': [767], 'text': ['some of the ...</td>\n",
              "    </tr>\n",
              "  </tbody>\n",
              "</table>\n",
              "</div>\n",
              "      <button class=\"colab-df-convert\" onclick=\"convertToInteractive('df-af43a39e-4a87-4005-a49d-6eb07f38cd38')\"\n",
              "              title=\"Convert this dataframe to an interactive table.\"\n",
              "              style=\"display:none;\">\n",
              "        \n",
              "  <svg xmlns=\"http://www.w3.org/2000/svg\" height=\"24px\"viewBox=\"0 0 24 24\"\n",
              "       width=\"24px\">\n",
              "    <path d=\"M0 0h24v24H0V0z\" fill=\"none\"/>\n",
              "    <path d=\"M18.56 5.44l.94 2.06.94-2.06 2.06-.94-2.06-.94-.94-2.06-.94 2.06-2.06.94zm-11 1L8.5 8.5l.94-2.06 2.06-.94-2.06-.94L8.5 2.5l-.94 2.06-2.06.94zm10 10l.94 2.06.94-2.06 2.06-.94-2.06-.94-.94-2.06-.94 2.06-2.06.94z\"/><path d=\"M17.41 7.96l-1.37-1.37c-.4-.4-.92-.59-1.43-.59-.52 0-1.04.2-1.43.59L10.3 9.45l-7.72 7.72c-.78.78-.78 2.05 0 2.83L4 21.41c.39.39.9.59 1.41.59.51 0 1.02-.2 1.41-.59l7.78-7.78 2.81-2.81c.8-.78.8-2.07 0-2.86zM5.41 20L4 18.59l7.72-7.72 1.47 1.35L5.41 20z\"/>\n",
              "  </svg>\n",
              "      </button>\n",
              "      \n",
              "  <style>\n",
              "    .colab-df-container {\n",
              "      display:flex;\n",
              "      flex-wrap:wrap;\n",
              "      gap: 12px;\n",
              "    }\n",
              "\n",
              "    .colab-df-convert {\n",
              "      background-color: #E8F0FE;\n",
              "      border: none;\n",
              "      border-radius: 50%;\n",
              "      cursor: pointer;\n",
              "      display: none;\n",
              "      fill: #1967D2;\n",
              "      height: 32px;\n",
              "      padding: 0 0 0 0;\n",
              "      width: 32px;\n",
              "    }\n",
              "\n",
              "    .colab-df-convert:hover {\n",
              "      background-color: #E2EBFA;\n",
              "      box-shadow: 0px 1px 2px rgba(60, 64, 67, 0.3), 0px 1px 3px 1px rgba(60, 64, 67, 0.15);\n",
              "      fill: #174EA6;\n",
              "    }\n",
              "\n",
              "    [theme=dark] .colab-df-convert {\n",
              "      background-color: #3B4455;\n",
              "      fill: #D2E3FC;\n",
              "    }\n",
              "\n",
              "    [theme=dark] .colab-df-convert:hover {\n",
              "      background-color: #434B5C;\n",
              "      box-shadow: 0px 1px 3px 1px rgba(0, 0, 0, 0.15);\n",
              "      filter: drop-shadow(0px 1px 2px rgba(0, 0, 0, 0.3));\n",
              "      fill: #FFFFFF;\n",
              "    }\n",
              "  </style>\n",
              "\n",
              "      <script>\n",
              "        const buttonEl =\n",
              "          document.querySelector('#df-af43a39e-4a87-4005-a49d-6eb07f38cd38 button.colab-df-convert');\n",
              "        buttonEl.style.display =\n",
              "          google.colab.kernel.accessAllowed ? 'block' : 'none';\n",
              "\n",
              "        async function convertToInteractive(key) {\n",
              "          const element = document.querySelector('#df-af43a39e-4a87-4005-a49d-6eb07f38cd38');\n",
              "          const dataTable =\n",
              "            await google.colab.kernel.invokeFunction('convertToInteractive',\n",
              "                                                     [key], {});\n",
              "          if (!dataTable) return;\n",
              "\n",
              "          const docLinkHtml = 'Like what you see? Visit the ' +\n",
              "            '<a target=\"_blank\" href=https://colab.research.google.com/notebooks/data_table.ipynb>data table notebook</a>'\n",
              "            + ' to learn more about interactive tables.';\n",
              "          element.innerHTML = '';\n",
              "          dataTable['output_type'] = 'display_data';\n",
              "          await google.colab.output.renderOutput(dataTable, element);\n",
              "          const docLink = document.createElement('div');\n",
              "          docLink.innerHTML = docLinkHtml;\n",
              "          element.appendChild(docLink);\n",
              "        }\n",
              "      </script>\n",
              "    </div>\n",
              "  </div>\n",
              "  "
            ]
          },
          "metadata": {},
          "execution_count": 210
        }
      ]
    },
    {
      "cell_type": "code",
      "source": [
        "passage_ref_ezpz = test_df_ezpz[test_df_ezpz['uuid'].isin(passage_ref['id'].tolist())]"
      ],
      "metadata": {
        "id": "ZrKOBdBX7khp"
      },
      "execution_count": 212,
      "outputs": []
    },
    {
      "cell_type": "code",
      "source": [
        "len(passage_ref_ezpz)"
      ],
      "metadata": {
        "colab": {
          "base_uri": "https://localhost:8080/"
        },
        "id": "8zgM_x9A7qv0",
        "outputId": "a1e7df1a-757e-42f5-a1a2-e52ca713c812"
      },
      "execution_count": 213,
      "outputs": [
        {
          "output_type": "execute_result",
          "data": {
            "text/plain": [
              "369"
            ]
          },
          "metadata": {},
          "execution_count": 213
        }
      ]
    },
    {
      "cell_type": "code",
      "source": [
        "multipart_ref.head(15)"
      ],
      "metadata": {
        "colab": {
          "base_uri": "https://localhost:8080/",
          "height": 520
        },
        "id": "ILGGydkR7-ep",
        "outputId": "c6eda9a2-8adc-442e-f3aa-b07cb6691818"
      },
      "execution_count": 220,
      "outputs": [
        {
          "output_type": "execute_result",
          "data": {
            "text/plain": [
              "    id                                            answers\n",
              "0    0  {'answer_start': [0], 'text': ['Alan Rickman &...\n",
              "1    1  {'answer_start': [0], 'text': ['Elettra Wiedem...\n",
              "2    2  {'answer_start': [0], 'text': ['Paige Hathaway...\n",
              "3    3  {'answer_start': [0], 'text': ['homemade oven ...\n",
              "4    4  {'answer_start': [0], 'text': ['1. \"You can\\'t...\n",
              "5    5  {'answer_start': [0], 'text': ['1. Some alt-ri...\n",
              "6    6  {'answer_start': [0], 'text': ['Vince Carter,P...\n",
              "7    7  {'answer_start': [0], 'text': ['Baking soda,be...\n",
              "8    8  {'answer_start': [0], 'text': ['close your eye...\n",
              "9    9  {'answer_start': [0], 'text': ['1. Washing You...\n",
              "10  10  {'answer_start': [0], 'text': ['Mark and Jacob...\n",
              "11  11  {'answer_start': [0], 'text': ['working on a c...\n",
              "12  12  {'answer_start': [0], 'text': ['1. Mylan has p...\n",
              "13  13  {'answer_start': [0], 'text': ['\"I like to do ...\n",
              "14  14  {'answer_start': [0], 'text': [\"1. You buy hem..."
            ],
            "text/html": [
              "\n",
              "  <div id=\"df-dde3d692-617d-4ab9-b1b0-1199146dff58\">\n",
              "    <div class=\"colab-df-container\">\n",
              "      <div>\n",
              "<style scoped>\n",
              "    .dataframe tbody tr th:only-of-type {\n",
              "        vertical-align: middle;\n",
              "    }\n",
              "\n",
              "    .dataframe tbody tr th {\n",
              "        vertical-align: top;\n",
              "    }\n",
              "\n",
              "    .dataframe thead th {\n",
              "        text-align: right;\n",
              "    }\n",
              "</style>\n",
              "<table border=\"1\" class=\"dataframe\">\n",
              "  <thead>\n",
              "    <tr style=\"text-align: right;\">\n",
              "      <th></th>\n",
              "      <th>id</th>\n",
              "      <th>answers</th>\n",
              "    </tr>\n",
              "  </thead>\n",
              "  <tbody>\n",
              "    <tr>\n",
              "      <th>0</th>\n",
              "      <td>0</td>\n",
              "      <td>{'answer_start': [0], 'text': ['Alan Rickman &amp;...</td>\n",
              "    </tr>\n",
              "    <tr>\n",
              "      <th>1</th>\n",
              "      <td>1</td>\n",
              "      <td>{'answer_start': [0], 'text': ['Elettra Wiedem...</td>\n",
              "    </tr>\n",
              "    <tr>\n",
              "      <th>2</th>\n",
              "      <td>2</td>\n",
              "      <td>{'answer_start': [0], 'text': ['Paige Hathaway...</td>\n",
              "    </tr>\n",
              "    <tr>\n",
              "      <th>3</th>\n",
              "      <td>3</td>\n",
              "      <td>{'answer_start': [0], 'text': ['homemade oven ...</td>\n",
              "    </tr>\n",
              "    <tr>\n",
              "      <th>4</th>\n",
              "      <td>4</td>\n",
              "      <td>{'answer_start': [0], 'text': ['1. \"You can\\'t...</td>\n",
              "    </tr>\n",
              "    <tr>\n",
              "      <th>5</th>\n",
              "      <td>5</td>\n",
              "      <td>{'answer_start': [0], 'text': ['1. Some alt-ri...</td>\n",
              "    </tr>\n",
              "    <tr>\n",
              "      <th>6</th>\n",
              "      <td>6</td>\n",
              "      <td>{'answer_start': [0], 'text': ['Vince Carter,P...</td>\n",
              "    </tr>\n",
              "    <tr>\n",
              "      <th>7</th>\n",
              "      <td>7</td>\n",
              "      <td>{'answer_start': [0], 'text': ['Baking soda,be...</td>\n",
              "    </tr>\n",
              "    <tr>\n",
              "      <th>8</th>\n",
              "      <td>8</td>\n",
              "      <td>{'answer_start': [0], 'text': ['close your eye...</td>\n",
              "    </tr>\n",
              "    <tr>\n",
              "      <th>9</th>\n",
              "      <td>9</td>\n",
              "      <td>{'answer_start': [0], 'text': ['1. Washing You...</td>\n",
              "    </tr>\n",
              "    <tr>\n",
              "      <th>10</th>\n",
              "      <td>10</td>\n",
              "      <td>{'answer_start': [0], 'text': ['Mark and Jacob...</td>\n",
              "    </tr>\n",
              "    <tr>\n",
              "      <th>11</th>\n",
              "      <td>11</td>\n",
              "      <td>{'answer_start': [0], 'text': ['working on a c...</td>\n",
              "    </tr>\n",
              "    <tr>\n",
              "      <th>12</th>\n",
              "      <td>12</td>\n",
              "      <td>{'answer_start': [0], 'text': ['1. Mylan has p...</td>\n",
              "    </tr>\n",
              "    <tr>\n",
              "      <th>13</th>\n",
              "      <td>13</td>\n",
              "      <td>{'answer_start': [0], 'text': ['\"I like to do ...</td>\n",
              "    </tr>\n",
              "    <tr>\n",
              "      <th>14</th>\n",
              "      <td>14</td>\n",
              "      <td>{'answer_start': [0], 'text': [\"1. You buy hem...</td>\n",
              "    </tr>\n",
              "  </tbody>\n",
              "</table>\n",
              "</div>\n",
              "      <button class=\"colab-df-convert\" onclick=\"convertToInteractive('df-dde3d692-617d-4ab9-b1b0-1199146dff58')\"\n",
              "              title=\"Convert this dataframe to an interactive table.\"\n",
              "              style=\"display:none;\">\n",
              "        \n",
              "  <svg xmlns=\"http://www.w3.org/2000/svg\" height=\"24px\"viewBox=\"0 0 24 24\"\n",
              "       width=\"24px\">\n",
              "    <path d=\"M0 0h24v24H0V0z\" fill=\"none\"/>\n",
              "    <path d=\"M18.56 5.44l.94 2.06.94-2.06 2.06-.94-2.06-.94-.94-2.06-.94 2.06-2.06.94zm-11 1L8.5 8.5l.94-2.06 2.06-.94-2.06-.94L8.5 2.5l-.94 2.06-2.06.94zm10 10l.94 2.06.94-2.06 2.06-.94-2.06-.94-.94-2.06-.94 2.06-2.06.94z\"/><path d=\"M17.41 7.96l-1.37-1.37c-.4-.4-.92-.59-1.43-.59-.52 0-1.04.2-1.43.59L10.3 9.45l-7.72 7.72c-.78.78-.78 2.05 0 2.83L4 21.41c.39.39.9.59 1.41.59.51 0 1.02-.2 1.41-.59l7.78-7.78 2.81-2.81c.8-.78.8-2.07 0-2.86zM5.41 20L4 18.59l7.72-7.72 1.47 1.35L5.41 20z\"/>\n",
              "  </svg>\n",
              "      </button>\n",
              "      \n",
              "  <style>\n",
              "    .colab-df-container {\n",
              "      display:flex;\n",
              "      flex-wrap:wrap;\n",
              "      gap: 12px;\n",
              "    }\n",
              "\n",
              "    .colab-df-convert {\n",
              "      background-color: #E8F0FE;\n",
              "      border: none;\n",
              "      border-radius: 50%;\n",
              "      cursor: pointer;\n",
              "      display: none;\n",
              "      fill: #1967D2;\n",
              "      height: 32px;\n",
              "      padding: 0 0 0 0;\n",
              "      width: 32px;\n",
              "    }\n",
              "\n",
              "    .colab-df-convert:hover {\n",
              "      background-color: #E2EBFA;\n",
              "      box-shadow: 0px 1px 2px rgba(60, 64, 67, 0.3), 0px 1px 3px 1px rgba(60, 64, 67, 0.15);\n",
              "      fill: #174EA6;\n",
              "    }\n",
              "\n",
              "    [theme=dark] .colab-df-convert {\n",
              "      background-color: #3B4455;\n",
              "      fill: #D2E3FC;\n",
              "    }\n",
              "\n",
              "    [theme=dark] .colab-df-convert:hover {\n",
              "      background-color: #434B5C;\n",
              "      box-shadow: 0px 1px 3px 1px rgba(0, 0, 0, 0.15);\n",
              "      filter: drop-shadow(0px 1px 2px rgba(0, 0, 0, 0.3));\n",
              "      fill: #FFFFFF;\n",
              "    }\n",
              "  </style>\n",
              "\n",
              "      <script>\n",
              "        const buttonEl =\n",
              "          document.querySelector('#df-dde3d692-617d-4ab9-b1b0-1199146dff58 button.colab-df-convert');\n",
              "        buttonEl.style.display =\n",
              "          google.colab.kernel.accessAllowed ? 'block' : 'none';\n",
              "\n",
              "        async function convertToInteractive(key) {\n",
              "          const element = document.querySelector('#df-dde3d692-617d-4ab9-b1b0-1199146dff58');\n",
              "          const dataTable =\n",
              "            await google.colab.kernel.invokeFunction('convertToInteractive',\n",
              "                                                     [key], {});\n",
              "          if (!dataTable) return;\n",
              "\n",
              "          const docLinkHtml = 'Like what you see? Visit the ' +\n",
              "            '<a target=\"_blank\" href=https://colab.research.google.com/notebooks/data_table.ipynb>data table notebook</a>'\n",
              "            + ' to learn more about interactive tables.';\n",
              "          element.innerHTML = '';\n",
              "          dataTable['output_type'] = 'display_data';\n",
              "          await google.colab.output.renderOutput(dataTable, element);\n",
              "          const docLink = document.createElement('div');\n",
              "          docLink.innerHTML = docLinkHtml;\n",
              "          element.appendChild(docLink);\n",
              "        }\n",
              "      </script>\n",
              "    </div>\n",
              "  </div>\n",
              "  "
            ]
          },
          "metadata": {},
          "execution_count": 220
        }
      ]
    },
    {
      "cell_type": "code",
      "source": [
        "references_ezpz = []\n",
        "for i in range(len(multipart_ref)):\n",
        "  id = multipart_ref['id'][i]\n",
        "  flag = 0\n",
        "  for j in range(len(references)):\n",
        "    if(references[j]['id'] == id):\n",
        "      references_ezpz.append(references[j]['answers']['text'][0])\n",
        "      flag = 1\n",
        "      break  \n",
        "  if(flag == 0):\n",
        "    print('not found')"
      ],
      "metadata": {
        "id": "8UgP73en8uOZ"
      },
      "execution_count": 238,
      "outputs": []
    },
    {
      "cell_type": "code",
      "source": [
        "final_ref_ezpz = pd.concat([phrase_ref_ezpz,passage_ref_ezpz]).reset_index(drop=True)\n",
        "# final_ref = pd.concat([final_ref,multipart_ref]).reset_index(drop=True)"
      ],
      "metadata": {
        "id": "4uFLTwp37uZ4"
      },
      "execution_count": 243,
      "outputs": []
    },
    {
      "cell_type": "code",
      "source": [
        "\n",
        "prediction_test = []\n",
        "reference_test = []\n",
        "for index, row in final_ref_ezpz.iterrows():\n",
        "    reference_test.append(row['spoiler'][0])\n",
        "\n",
        "final_ref_concat = reference_test + references_ezpz"
      ],
      "metadata": {
        "id": "aK3rp14vAU3N"
      },
      "execution_count": 248,
      "outputs": []
    },
    {
      "cell_type": "code",
      "source": [
        "predicted_text = []\n",
        "\n",
        "for index, row in final_pred.iterrows():\n",
        "  predicted_text.append(row['prediction_text'])"
      ],
      "metadata": {
        "id": "Xb8EUKn6CsOb"
      },
      "execution_count": null,
      "outputs": []
    },
    {
      "cell_type": "code",
      "source": [
        "!pip install bert_score\n",
        "import evaluate\n",
        "bleu = evaluate.load('bleu')\n",
        "\n",
        "results = bleu.compute(predictions = predicted_text, references = final_ref_concat).get(\"bleu\")\n",
        "\n",
        "print(f\"BLEU SCORE: {results}\")\n",
        "\n",
        "\n",
        "meteor = evaluate.load('meteor')\n",
        "\n",
        "results = meteor.compute(predictions = predicted_text, references = final_ref_concat).get(\"meteor\")\n",
        "\n",
        "print(f\"METEOR SCORE: {results}\")\n",
        "\n",
        "# BERTScore\n",
        "from statistics import mean\n",
        "\n",
        "bert_score = evaluate.load(\"bertscore\")\n",
        "\n",
        "results = bert_score.compute(predictions = predicted_text, references = final_ref_concat, lang='en')\n",
        "\n",
        "print(\"BERT F1 Score: \", mean(results.get(\"f1\")))"
      ],
      "metadata": {
        "colab": {
          "base_uri": "https://localhost:8080/"
        },
        "id": "LibCo1H1BfIX",
        "outputId": "53f7585d-29c5-4c2b-ee80-0f55ffe9f09d"
      },
      "execution_count": 256,
      "outputs": [
        {
          "output_type": "stream",
          "name": "stdout",
          "text": [
            "Looking in indexes: https://pypi.org/simple, https://us-python.pkg.dev/colab-wheels/public/simple/\n",
            "Requirement already satisfied: bert_score in /usr/local/lib/python3.10/dist-packages (0.3.13)\n",
            "Requirement already satisfied: torch>=1.0.0 in /usr/local/lib/python3.10/dist-packages (from bert_score) (2.0.0+cu118)\n",
            "Requirement already satisfied: pandas>=1.0.1 in /usr/local/lib/python3.10/dist-packages (from bert_score) (1.5.3)\n",
            "Requirement already satisfied: transformers>=3.0.0 in /usr/local/lib/python3.10/dist-packages (from bert_score) (4.29.1)\n",
            "Requirement already satisfied: numpy in /usr/local/lib/python3.10/dist-packages (from bert_score) (1.22.4)\n",
            "Requirement already satisfied: requests in /usr/local/lib/python3.10/dist-packages (from bert_score) (2.27.1)\n",
            "Requirement already satisfied: tqdm>=4.31.1 in /usr/local/lib/python3.10/dist-packages (from bert_score) (4.65.0)\n",
            "Requirement already satisfied: matplotlib in /usr/local/lib/python3.10/dist-packages (from bert_score) (3.7.1)\n",
            "Requirement already satisfied: packaging>=20.9 in /usr/local/lib/python3.10/dist-packages (from bert_score) (23.1)\n",
            "Requirement already satisfied: python-dateutil>=2.8.1 in /usr/local/lib/python3.10/dist-packages (from pandas>=1.0.1->bert_score) (2.8.2)\n",
            "Requirement already satisfied: pytz>=2020.1 in /usr/local/lib/python3.10/dist-packages (from pandas>=1.0.1->bert_score) (2022.7.1)\n",
            "Requirement already satisfied: filelock in /usr/local/lib/python3.10/dist-packages (from torch>=1.0.0->bert_score) (3.12.0)\n",
            "Requirement already satisfied: typing-extensions in /usr/local/lib/python3.10/dist-packages (from torch>=1.0.0->bert_score) (4.5.0)\n",
            "Requirement already satisfied: sympy in /usr/local/lib/python3.10/dist-packages (from torch>=1.0.0->bert_score) (1.11.1)\n",
            "Requirement already satisfied: networkx in /usr/local/lib/python3.10/dist-packages (from torch>=1.0.0->bert_score) (3.1)\n",
            "Requirement already satisfied: jinja2 in /usr/local/lib/python3.10/dist-packages (from torch>=1.0.0->bert_score) (3.1.2)\n",
            "Requirement already satisfied: triton==2.0.0 in /usr/local/lib/python3.10/dist-packages (from torch>=1.0.0->bert_score) (2.0.0)\n",
            "Requirement already satisfied: cmake in /usr/local/lib/python3.10/dist-packages (from triton==2.0.0->torch>=1.0.0->bert_score) (3.25.2)\n",
            "Requirement already satisfied: lit in /usr/local/lib/python3.10/dist-packages (from triton==2.0.0->torch>=1.0.0->bert_score) (16.0.3)\n",
            "Requirement already satisfied: huggingface-hub<1.0,>=0.14.1 in /usr/local/lib/python3.10/dist-packages (from transformers>=3.0.0->bert_score) (0.14.1)\n",
            "Requirement already satisfied: pyyaml>=5.1 in /usr/local/lib/python3.10/dist-packages (from transformers>=3.0.0->bert_score) (6.0)\n",
            "Requirement already satisfied: regex!=2019.12.17 in /usr/local/lib/python3.10/dist-packages (from transformers>=3.0.0->bert_score) (2022.10.31)\n",
            "Requirement already satisfied: tokenizers!=0.11.3,<0.14,>=0.11.1 in /usr/local/lib/python3.10/dist-packages (from transformers>=3.0.0->bert_score) (0.13.3)\n",
            "Requirement already satisfied: contourpy>=1.0.1 in /usr/local/lib/python3.10/dist-packages (from matplotlib->bert_score) (1.0.7)\n",
            "Requirement already satisfied: cycler>=0.10 in /usr/local/lib/python3.10/dist-packages (from matplotlib->bert_score) (0.11.0)\n",
            "Requirement already satisfied: fonttools>=4.22.0 in /usr/local/lib/python3.10/dist-packages (from matplotlib->bert_score) (4.39.3)\n",
            "Requirement already satisfied: kiwisolver>=1.0.1 in /usr/local/lib/python3.10/dist-packages (from matplotlib->bert_score) (1.4.4)\n",
            "Requirement already satisfied: pillow>=6.2.0 in /usr/local/lib/python3.10/dist-packages (from matplotlib->bert_score) (8.4.0)\n",
            "Requirement already satisfied: pyparsing>=2.3.1 in /usr/local/lib/python3.10/dist-packages (from matplotlib->bert_score) (3.0.9)\n",
            "Requirement already satisfied: urllib3<1.27,>=1.21.1 in /usr/local/lib/python3.10/dist-packages (from requests->bert_score) (1.26.15)\n",
            "Requirement already satisfied: certifi>=2017.4.17 in /usr/local/lib/python3.10/dist-packages (from requests->bert_score) (2022.12.7)\n",
            "Requirement already satisfied: charset-normalizer~=2.0.0 in /usr/local/lib/python3.10/dist-packages (from requests->bert_score) (2.0.12)\n",
            "Requirement already satisfied: idna<4,>=2.5 in /usr/local/lib/python3.10/dist-packages (from requests->bert_score) (3.4)\n",
            "Requirement already satisfied: fsspec in /usr/local/lib/python3.10/dist-packages (from huggingface-hub<1.0,>=0.14.1->transformers>=3.0.0->bert_score) (2023.4.0)\n",
            "Requirement already satisfied: six>=1.5 in /usr/local/lib/python3.10/dist-packages (from python-dateutil>=2.8.1->pandas>=1.0.1->bert_score) (1.16.0)\n",
            "Requirement already satisfied: MarkupSafe>=2.0 in /usr/local/lib/python3.10/dist-packages (from jinja2->torch>=1.0.0->bert_score) (2.1.2)\n",
            "Requirement already satisfied: mpmath>=0.19 in /usr/local/lib/python3.10/dist-packages (from sympy->torch>=1.0.0->bert_score) (1.3.0)\n",
            "BLEU SCORE: 0.1275661291329545\n"
          ]
        },
        {
          "output_type": "stream",
          "name": "stderr",
          "text": [
            "[nltk_data] Downloading package wordnet to /root/nltk_data...\n",
            "[nltk_data]   Package wordnet is already up-to-date!\n",
            "[nltk_data] Downloading package punkt to /root/nltk_data...\n",
            "[nltk_data]   Package punkt is already up-to-date!\n",
            "[nltk_data] Downloading package omw-1.4 to /root/nltk_data...\n",
            "[nltk_data]   Package omw-1.4 is already up-to-date!\n"
          ]
        },
        {
          "output_type": "stream",
          "name": "stdout",
          "text": [
            "METEOR SCORE: 0.3618447770722131\n",
            "BERT F1 Score:  0.8941883155528236\n"
          ]
        }
      ]
    },
    {
      "cell_type": "code",
      "source": [],
      "metadata": {
        "id": "8ZlqOTAaDLuF"
      },
      "execution_count": null,
      "outputs": []
    },
    {
      "cell_type": "code",
      "source": [
        "\n"
      ],
      "metadata": {
        "id": "nsYgEmDGCT-H"
      },
      "execution_count": 253,
      "outputs": []
    },
    {
      "cell_type": "code",
      "source": [],
      "metadata": {
        "id": "nWtWA6iUCU9z"
      },
      "execution_count": null,
      "outputs": []
    }
  ]
}